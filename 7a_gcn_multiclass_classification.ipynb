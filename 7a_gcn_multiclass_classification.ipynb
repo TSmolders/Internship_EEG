{
 "cells": [
  {
   "cell_type": "markdown",
   "metadata": {},
   "source": [
    "## AIM: store synchrony features in a single file suitable for training GCNs"
   ]
  },
  {
   "cell_type": "markdown",
   "metadata": {},
   "source": [
    "The synchrony features stored as .pkl files per subject will be stored in a single .pkl file for easy use for training the GCNs. This is done at this point in the pipeline, considering we will only select the subsampled participants after feature selection."
   ]
  },
  {
   "cell_type": "code",
   "execution_count": 1,
   "metadata": {},
   "outputs": [],
   "source": [
    "import pandas as pd\n",
    "import numpy as np"
   ]
  },
  {
   "cell_type": "code",
   "execution_count": 2,
   "metadata": {},
   "outputs": [],
   "source": [
    "import pickle\n",
    "def load_file(file):\n",
    "    with open(file, 'rb') as handle:\n",
    "        return pickle.load(handle)"
   ]
  },
  {
   "cell_type": "code",
   "execution_count": 4,
   "metadata": {},
   "outputs": [
    {
     "name": "stdout",
     "output_type": "stream",
     "text": [
      "['sub-87964717', 'sub-87965301', 'sub-87966337', 'sub-87966473', 'sub-87966517', 'sub-87966789', 'sub-87967057', 'sub-87967061', 'sub-87967325', 'sub-87967417', 'sub-87967509', 'sub-87967729', 'sub-87967773', 'sub-87967781', 'sub-87967869', 'sub-87967957', 'sub-87968045', 'sub-87968229', 'sub-87968405', 'sub-87968449', 'sub-87968541', 'sub-87968677', 'sub-87968765', 'sub-87968901', 'sub-87968945', 'sub-87969125', 'sub-87969349', 'sub-87969529', 'sub-87969573', 'sub-87969665', 'sub-87969805', 'sub-87969849', 'sub-87969937', 'sub-87969985', 'sub-87970297', 'sub-87970345', 'sub-87970389', 'sub-87970705', 'sub-87970881', 'sub-87970969', 'sub-87971021', 'sub-87971109', 'sub-87971197', 'sub-87971241', 'sub-87971373', 'sub-87974617', 'sub-87974621', 'sub-87974665', 'sub-87974709', 'sub-87974841', 'sub-87974973', 'sub-87976193', 'sub-87976369', 'sub-87976413', 'sub-87976457', 'sub-87976461', 'sub-87976505', 'sub-87976641', 'sub-87976773', 'sub-87976817', 'sub-87976953', 'sub-87977045', 'sub-87980197', 'sub-87980241', 'sub-87980329', 'sub-87980373', 'sub-87980417', 'sub-87980689', 'sub-87980869', 'sub-87980913', 'sub-87982225', 'sub-87982849', 'sub-88000313', 'sub-88002789', 'sub-88005849', 'sub-88005941', 'sub-88006297', 'sub-88011157', 'sub-88013761', 'sub-88015881', 'sub-88016105', 'sub-88017409', 'sub-88017633', 'sub-88017765', 'sub-88019033', 'sub-88019165', 'sub-88020017', 'sub-88020153', 'sub-88022001', 'sub-88022677', 'sub-88022765', 'sub-88023213', 'sub-88023529', 'sub-88024697', 'sub-88024789', 'sub-88024833', 'sub-88025281', 'sub-88025597', 'sub-88025641', 'sub-88025917', 'sub-88027577', 'sub-88028433', 'sub-88028661', 'sub-88029425', 'sub-88032665', 'sub-88033201', 'sub-88035229', 'sub-88035721', 'sub-88036037', 'sub-88036081', 'sub-88037801', 'sub-88038789', 'sub-88039057', 'sub-88040317', 'sub-88040853', 'sub-88041261', 'sub-88041305', 'sub-88041893', 'sub-88041941', 'sub-88042661', 'sub-88042837', 'sub-88043021', 'sub-88044093', 'sub-88044141', 'sub-88044233', 'sub-88044545', 'sub-88045713', 'sub-88045809', 'sub-88046349', 'sub-88046393', 'sub-88046797', 'sub-88047649', 'sub-88047789', 'sub-88048193', 'sub-88048413', 'sub-88048549', 'sub-88048729', 'sub-88049089', 'sub-88049585', 'sub-88049813', 'sub-88050081', 'sub-88051073', 'sub-88052057', 'sub-88052241', 'sub-88052509', 'sub-88052825', 'sub-88052957', 'sub-88053273', 'sub-88053361', 'sub-88053453', 'sub-88053497', 'sub-88053545', 'sub-88053677', 'sub-88053817', 'sub-88053997', 'sub-88054173', 'sub-88054225', 'sub-88054533', 'sub-88054937', 'sub-88055121', 'sub-88055301', 'sub-88056021', 'sub-88056557', 'sub-88056649', 'sub-88057277', 'sub-88057461', 'sub-88057681', 'sub-88057781', 'sub-88057869', 'sub-88058001', 'sub-88058317', 'sub-88058633', 'sub-88058897', 'sub-88059081', 'sub-88059397', 'sub-88059977', 'sub-88061149', 'sub-88061193', 'sub-88061325', 'sub-88062813', 'sub-88062905', 'sub-88062949', 'sub-88063577', 'sub-88063713', 'sub-88064253', 'sub-88064345', 'sub-88064521', 'sub-88064749', 'sub-88064837', 'sub-88065021', 'sub-88065153', 'sub-88065381', 'sub-88065921', 'sub-88066413', 'sub-88066457', 'sub-88066641', 'sub-88067357', 'sub-88067449', 'sub-88067493', 'sub-88067901', 'sub-88067945', 'sub-88068305', 'sub-88068797', 'sub-88068841', 'sub-88068981', 'sub-88069113', 'sub-88069605', 'sub-88069649', 'sub-88069793', 'sub-88071093', 'sub-88071677', 'sub-88073029', 'sub-88073249', 'sub-88073521', 'sub-88073745', 'sub-88073797', 'sub-88073885', 'sub-88074425', 'sub-88074917', 'sub-88075053', 'sub-88075593', 'sub-88075817', 'sub-88076181', 'sub-88076489', 'sub-88076717']\n",
      "225\n"
     ]
    }
   ],
   "source": [
    "# import stat & conn features without feature selection\n",
    "df_stat_conn_features = pd.read_pickle(r'D:\\Documents\\RU\\Master_Neurobiology\\Internship_jaar_2\\Project\\TD-BRAIN\\TD-BRAIN_extracted_features\\df_stat_conn_features.pkl')\n",
    "df_stat_conn_features = df_stat_conn_features.dropna(subset=['diagnosis'])\n",
    "\n",
    "# obtain participant IDs\n",
    "df_participants = df_stat_conn_features[df_stat_conn_features['epoch'] == 1]\n",
    "subject_ids = df_participants['ID'].tolist()\n",
    "print(subject_ids)\n",
    "print(len(subject_ids))"
   ]
  },
  {
   "cell_type": "code",
   "execution_count": 5,
   "metadata": {},
   "outputs": [
    {
     "name": "stdout",
     "output_type": "stream",
     "text": [
      "Progress: 661/224 files processed."
     ]
    }
   ],
   "source": [
    "# obtain synchrony features for each participant and store in list\n",
    "from joblib import Parallel, delayed # for parallel processing\n",
    "import os\n",
    "\n",
    "\n",
    "def process_file(file):\n",
    "    if '.pkl' in file: # filter pickle files\n",
    "        filepath = os.path.join(subdir, file) # path to eeg file\n",
    "\n",
    "        # load file\n",
    "        feature = load_file(filepath)\n",
    "        ID = file.split('_')[1]\n",
    "        if 'EC' in file:\n",
    "            subject_bands_syncro_matrix = np.zeros((12, 5, 9, 9))\n",
    "            for i, band in enumerate(feature['syncros_eeg']):\n",
    "                for epoch, matrix in enumerate(feature['syncros_eeg'][band]):\n",
    "                    subject_bands_syncro_matrix[epoch, i] = matrix\n",
    "            return ('EC_syncro', subject_bands_syncro_matrix, ID)\n",
    "\n",
    "        if 'EO' in file:\n",
    "            subject_bands_syncro_matrix = np.zeros((12, 5, 9, 9))\n",
    "            for i, band in enumerate(feature['syncros_eeg']):\n",
    "                for epoch, matrix in enumerate(feature['syncros_eeg'][band]):\n",
    "                    subject_bands_syncro_matrix[epoch, i] = matrix\n",
    "            return ('EO_syncro', subject_bands_syncro_matrix, ID)\n",
    "        \n",
    "feature_dir = r\"D:\\Documents\\RU\\Master_Neurobiology\\Internship_jaar_2\\Project\\TD-BRAIN\\TD-BRAIN_extracted_features\\connectivity_features\"\n",
    "\n",
    "sample_ids = subject_ids # list of participants to include\n",
    "count = 0\n",
    "total_files = 0\n",
    "for _, dirs, files in os.walk(feature_dir):\n",
    "    total_files += len([file for file in files if '.pkl' in file and 'EC' in file and any(sample_id in file for sample_id in sample_ids)]) # filter participants to include])\n",
    "\n",
    "subjects_ec_syncro_matrices = []\n",
    "subjects_eo_syncro_matrices = []\n",
    "subjects_ec_ids = []\n",
    "subjects_eo_ids = []\n",
    "\n",
    "for subdir, dirs, files in os.walk(feature_dir): # iterate through all files\n",
    "    results = Parallel(n_jobs=-1)(delayed(process_file)(file) for file in files if any(sample_id in file for sample_id in sample_ids)) # filter participants to include)\n",
    "    for result in results:\n",
    "        if result is not None:\n",
    "            if result[0] == 'EC_syncro':\n",
    "                subjects_ec_syncro_matrices.append(result[1])\n",
    "                subjects_ec_ids.append(result[2])\n",
    "            elif result[0] == 'EO_syncro':\n",
    "                subjects_eo_syncro_matrices.append(result[1])\n",
    "                subjects_eo_ids.append(result[2])\n",
    "\n",
    "    print(f'\\rProgress: {count}/{total_files} files processed.', end = '')\n",
    "    count += 1"
   ]
  },
  {
   "cell_type": "code",
   "execution_count": 6,
   "metadata": {},
   "outputs": [],
   "source": [
    "synchrony_feature_dict = {'EC_syncro' : subjects_ec_syncro_matrices, 'EO_syncro' : subjects_eo_syncro_matrices, 'EC_IDs' : subjects_ec_ids, 'EO_IDs' : subjects_eo_ids}\n",
    "with open(r'D:\\Documents\\RU\\Master_Neurobiology\\Internship_jaar_2\\Project\\TD-BRAIN\\TD-BRAIN_extracted_features\\synchrony_feature_dict.pkl', 'wb') as handle:\n",
    "    pickle.dump(synchrony_feature_dict, handle, protocol=pickle.HIGHEST_PROTOCOL)"
   ]
  }
 ],
 "metadata": {
  "kernelspec": {
   "display_name": "mne",
   "language": "python",
   "name": "python3"
  },
  "language_info": {
   "codemirror_mode": {
    "name": "ipython",
    "version": 3
   },
   "file_extension": ".py",
   "mimetype": "text/x-python",
   "name": "python",
   "nbconvert_exporter": "python",
   "pygments_lexer": "ipython3",
   "version": "3.11.7"
  }
 },
 "nbformat": 4,
 "nbformat_minor": 2
}
