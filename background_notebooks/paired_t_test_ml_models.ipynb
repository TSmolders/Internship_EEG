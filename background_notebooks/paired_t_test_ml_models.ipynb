{
 "cells": [
  {
   "cell_type": "markdown",
   "metadata": {},
   "source": [
    "#### compare F1-score distributions of baseline & extended standard ML models"
   ]
  },
  {
   "cell_type": "code",
   "execution_count": 7,
   "metadata": {},
   "outputs": [],
   "source": [
    "from scipy.stats import ttest_rel"
   ]
  },
  {
   "cell_type": "code",
   "execution_count": 8,
   "metadata": {},
   "outputs": [],
   "source": [
    "# had to insert this manually because t-tests were performed after running all code\n",
    "ratio_f1_scores = {\n",
    "    'baseline_SVM' : [0.26175223, 0.23213146, 0.22483193, 0.20023039, 0.24957504],\n",
    "    'baseline_RF' : [0.33002713, 0.33008437, 0.21584666, 0.21690673, 0.28994353],\n",
    "    'baseline_GBC' : [0.3150968,  0.31612608, 0.2151449,  0.21779565, 0.26421315],\n",
    "    'extended_SVM' : [0.20175346, 0.21660407, 0.17397969, 0.15018683, 0.16253967],\n",
    "    'extended_RF' : [0.37210017, 0.35662644, 0.28449258, 0.23838668, 0.25238926],\n",
    "    'extended_GBC' : [0.35756802, 0.33564071, 0.31075503, 0.22870956, 0.30807117],\n",
    "    'standard_GCN' : [0.24895137849759202],\n",
    "    'GL_wo_edge' : [0.25552316364708394],\n",
    "    'GL_w_edge' : [0.26088009079564783],\n",
    "}\n",
    "\n",
    "ec_f1_scores = {\n",
    "    'baseline_SVM' : [0.26799392, 0.28289344, 0.20875805, 0.27411337, 0.30310368],\n",
    "    'baseline_RF' : [0.3894122,  0.36765405, 0.34168394, 0.35075057, 0.35664429],\n",
    "    'baseline_GBC' : [0.40261872, 0.35873796, 0.32537353, 0.37315005, 0.38889539],\n",
    "    'extended_SVM' : [0.12152663, 0.06563467, 0.08199706, 0.09934066, 0.08892857],\n",
    "    'extended_RF' : [0.41393953, 0.45621647, 0.38517288, 0.38327205, 0.41867852],\n",
    "    'extended_GBC' : [0.46313711, 0.5193516,  0.36861747, 0.40039425, 0.44952021],\n",
    "    'standard_GCN' : [0.30269932233848323],\n",
    "    'GL_wo_edge' : [0.37391494502397177],\n",
    "    'GL_w_edge' : [0.3620914682035531],\n",
    "}\n",
    "\n",
    "eo_f1_scores = {\n",
    "    'baseline_SVM' : [0.38871635, 0.3708784,  0.26908511, 0.27943377, 0.32383937],\n",
    "    'baseline_RF' : [0.36136045, 0.42853737, 0.29483077, 0.27441349, 0.46709614],\n",
    "    'baseline_GBC' : [0.41311023, 0.42111301, 0.31530776, 0.30754339, 0.45706852],\n",
    "    'extended_SVM' : [0.17970884, 0.12733794, 0.08235029, 0.16327151, 0.15185886],\n",
    "    'extended_RF' : [0.41509595, 0.46847357, 0.32928299, 0.32949315, 0.42518196],\n",
    "    'extended_GBC' : [0.44315289, 0.43689269, 0.34628735, 0.33241512, 0.45339932],\n",
    "    'standard_GCN' : [0.3745288779243147],\n",
    "    'GL_wo_edge' : [0.3661067633385391],\n",
    "    'GL_w_edge' : [0.35169122252758933],\n",
    "}"
   ]
  },
  {
   "cell_type": "code",
   "execution_count": 12,
   "metadata": {},
   "outputs": [
    {
     "name": "stdout",
     "output_type": "stream",
     "text": [
      "\n",
      "\n",
      "T-tests for ec dataset:\n",
      "baseline_SVM vs extended_SVM on ec dataset: t-statistic = 9.788334045946707, p-value = 0.9996947498086127\n",
      "baseline_RF vs extended_RF on ec dataset: t-statistic = -4.38134581003515, p-value = 0.005931218369206322\n",
      "baseline_GBC vs extended_GBC on ec dataset: t-statistic = -3.0133437018160327, p-value = 0.01971021137427777\n",
      "\n",
      "\n",
      "T-tests for eo dataset:\n",
      "baseline_SVM vs extended_SVM on eo dataset: t-statistic = 8.78626490665929, p-value = 0.9995372991994128\n",
      "baseline_RF vs extended_RF on eo dataset: t-statistic = -1.5714121821883467, p-value = 0.09559184111769459\n",
      "baseline_GBC vs extended_GBC on eo dataset: t-statistic = -3.0567013971663686, p-value = 0.01888999502081506\n",
      "\n",
      "\n",
      "T-tests for ratio dataset:\n",
      "baseline_SVM vs extended_SVM on ratio dataset: t-statistic = 4.599758611106222, p-value = 0.9949836410472961\n",
      "baseline_RF vs extended_RF on ratio dataset: t-statistic = -1.3854035756908982, p-value = 0.11908752255375707\n",
      "baseline_GBC vs extended_GBC on ratio dataset: t-statistic = -2.8804634079324356, p-value = 0.02249606472264406\n"
     ]
    }
   ],
   "source": [
    "# perform t-tests for each baseline model against the corresponding extended model within each dataset\n",
    "for dataset in ['ec', 'eo', 'ratio']:\n",
    "    print('\\n')\n",
    "    print(f'T-tests for {dataset} dataset:')\n",
    "    for model_type in ['SVM', 'RF', 'GBC']:\n",
    "        baseline = f'baseline_{model_type}'\n",
    "        extended = f'extended_{model_type}'\n",
    "        t_stat, p_val = ttest_rel(\n",
    "            locals()[f'{dataset}_f1_scores'][baseline],\n",
    "            locals()[f'{dataset}_f1_scores'][extended],\n",
    "            alternative='less'\n",
    "        )\n",
    "        print(f'{baseline} vs {extended} on {dataset} dataset: t-statistic = {t_stat}, p-value = {p_val}')\n"
   ]
  }
 ],
 "metadata": {
  "kernelspec": {
   "display_name": "mne",
   "language": "python",
   "name": "python3"
  },
  "language_info": {
   "codemirror_mode": {
    "name": "ipython",
    "version": 3
   },
   "file_extension": ".py",
   "mimetype": "text/x-python",
   "name": "python",
   "nbconvert_exporter": "python",
   "pygments_lexer": "ipython3",
   "version": "3.11.7"
  }
 },
 "nbformat": 4,
 "nbformat_minor": 2
}
