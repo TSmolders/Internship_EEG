{
 "cells": [
  {
   "cell_type": "markdown",
   "metadata": {},
   "source": [
    "#### Current workflow:\n",
    "##### Preprocessing:\n",
    "###### EEG signal:\n",
    "1. Van Dijk's pipeline\n",
    "    - bipolar EOG computer and removed from EEG-signal\n",
    "    - BP filter [0.5-100] & notch filter [50]\n",
    "    - artifact detection\n",
    "    - bad channels repaired with Euclidian distance weighted avg if >66% artifacts in signal\n",
    "2. epoch data [9.95s]\n",
    "3. logratio baseline correction over entire epoch\n",
    "###### Participants data:\n",
    "1. diagnosis = formal, or else indication\n",
    "2. select top-5 diagnoses (?)\n",
    "##### Feature extraction:\n",
    "1. define frequencies of interest (5 steps per band), and channel groupings\n",
    "2. Multitaper TFR decomposition per epoch per band per channel group\n",
    "3. calculate std of TFR per epoch per band per channel group\n",
    "##### Classification:\n",
    "1. label encode diagnoses (?)\n",
    "2. Standardize numerical features\n",
    "3. mean impute missing numerical features\n",
    "4. median impute missing categorical features (?) --> mode\n",
    "5. Nested CV with Gridsearch and SVC(rbf)\n",
    "    - shuffle=False for cv (?) --> altijd voor training\n"
   ]
  },
  {
   "cell_type": "markdown",
   "metadata": {},
   "source": [
    "#### Next steps?:\n",
    "- different models\n",
    "    - RF?\n",
    "    - NNs?\n",
    "- different features\n",
    "    - PSD?\n",
    "    - Phase?\n",
    "    - Locally stationary processes (LSP) [article](https://asp-eurasipjournals.springeropen.com/articles/10.1186/s13634-020-00681-8) \n",
    "    - [mean, median, mode, std, skewness, kurtosis, max, min] [article](https://www.ncbi.nlm.nih.gov/pmc/articles/PMC5523521/#:~:text=The%2016%20dimension%20features%20are,correlation%2C%20energy%2C%20and%20homogeneity) --> min/max kan lijden tot overfitten\n",
    "    - Autoregressive modeling [article](https://www.frontiersin.org/articles/10.3389/frai.2022.1072801/full)\n",
    "    - Detrended fluctuation analysis [article](https://www.frontiersin.org/articles/10.3389/frai.2022.1072801/full)\n",
    "- feature selection / transformation for dim reduction?\n",
    "    - PCA?\n",
    "- one-vs-rest\n",
    "    - how to evaluate?\n",
    "- diagnosis selection\n",
    "    - filter out double diagnosis? label-encode?\n",
    "    - select top-k?\n",
    "- normative feature modeling? [article](https://www.ncbi.nlm.nih.gov/pmc/articles/PMC10662745/)\n",
    "    - or leave age out?\n",
    "- surf research cloud?\n",
    "\n",
    "\n",
    "- pytorch lightning checkpoint saving:\n",
    "    - val_loss vs val_f1?"
   ]
  },
  {
   "cell_type": "markdown",
   "metadata": {},
   "source": [
    "- cluster analysis:\n",
    "    - T-SNE\n",
    "    - UMAP\\\n",
    "- leeftijd laten voor wat het is\n",
    "- EC vs EO --> ratio EC/EO\n",
    "\n"
   ]
  }
 ],
 "metadata": {
  "language_info": {
   "name": "python"
  }
 },
 "nbformat": 4,
 "nbformat_minor": 2
}
