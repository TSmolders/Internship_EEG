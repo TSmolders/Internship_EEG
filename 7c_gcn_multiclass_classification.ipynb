{
 "cells": [
  {
   "cell_type": "markdown",
   "metadata": {},
   "source": [
    "## AIM: Final evaluation of Graph Convolutional Networks (GCNs) as multiclass classification models for predicting the psychiatric diagnosis based on EEG features"
   ]
  },
  {
   "cell_type": "markdown",
   "metadata": {},
   "source": [
    "Final evaluation of the top 3 models during tuning for each feature set condition [EC, EO, ratio] and each GCN [graphlambda wo edge_attr, graphlambda with edge_attr]"
   ]
  },
  {
   "cell_type": "code",
   "execution_count": 1,
   "metadata": {
    "execution": {
     "iopub.execute_input": "2024-05-06T10:49:30.101256Z",
     "iopub.status.busy": "2024-05-06T10:49:30.101051Z",
     "iopub.status.idle": "2024-05-06T10:49:43.131198Z",
     "shell.execute_reply": "2024-05-06T10:49:43.130463Z"
    }
   },
   "outputs": [],
   "source": [
    "import pandas as pd\n",
    "import numpy as np\n",
    "import seaborn as sns\n",
    "import matplotlib.pyplot as plt\n",
    "\n",
    "import optuna\n",
    "\n",
    "import lightning.pytorch as pl\n",
    "import torch\n",
    "import torch_geometric\n",
    "import torch.nn.functional as F\n",
    "from torch.nn import Sequential, Linear, ReLU, BatchNorm1d, Dropout, Dropout1d\n",
    "from torch_geometric.nn import  GCNConv, global_add_pool,GATConv,GINConv, GATv2Conv\n",
    "from torch_geometric.loader import DataLoader\n",
    "from torch_geometric.data import Data\n",
    "from torch_geometric.utils.convert import from_networkx, to_networkx\n",
    "import lightning.pytorch as pl\n",
    "from torchmetrics import F1Score, ConfusionMatrix\n",
    "from lightning.pytorch.tuner import Tuner\n",
    "from lightning.pytorch import Trainer, seed_everything\n",
    "from lightning.pytorch.callbacks import ModelCheckpoint, TQDMProgressBar, RichProgressBar\n",
    "from lightning.pytorch.callbacks.early_stopping import EarlyStopping\n",
    "\n",
    "from optuna.visualization.matplotlib import plot_contour\n",
    "from optuna.visualization.matplotlib import plot_edf\n",
    "from optuna.visualization.matplotlib import plot_intermediate_values\n",
    "from optuna.visualization.matplotlib import plot_optimization_history\n",
    "from optuna.visualization.matplotlib import plot_parallel_coordinate\n",
    "from optuna.visualization.matplotlib import plot_param_importances\n",
    "from optuna.visualization.matplotlib import plot_rank\n",
    "from optuna.visualization.matplotlib import plot_slice\n",
    "from optuna.visualization.matplotlib import plot_timeline"
   ]
  },
  {
   "cell_type": "markdown",
   "metadata": {},
   "source": [
    "### Load data & features"
   ]
  },
  {
   "cell_type": "code",
   "execution_count": 2,
   "metadata": {
    "execution": {
     "iopub.execute_input": "2024-05-06T10:49:43.134820Z",
     "iopub.status.busy": "2024-05-06T10:49:43.134462Z",
     "iopub.status.idle": "2024-05-06T10:49:43.138127Z",
     "shell.execute_reply": "2024-05-06T10:49:43.137602Z"
    }
   },
   "outputs": [],
   "source": [
    "import pickle\n",
    "def load_file(file):\n",
    "    with open(file, 'rb') as handle:\n",
    "        return pickle.load(handle)"
   ]
  },
  {
   "cell_type": "code",
   "execution_count": 3,
   "metadata": {
    "execution": {
     "iopub.execute_input": "2024-05-06T10:49:43.140954Z",
     "iopub.status.busy": "2024-05-06T10:49:43.140722Z",
     "iopub.status.idle": "2024-05-06T10:49:43.189610Z",
     "shell.execute_reply": "2024-05-06T10:49:43.189074Z"
    }
   },
   "outputs": [
    {
     "name": "stdout",
     "output_type": "stream",
     "text": [
      "(2700, 1218)\n"
     ]
    },
    {
     "data": {
      "text/html": [
       "<div>\n",
       "<style scoped>\n",
       "    .dataframe tbody tr th:only-of-type {\n",
       "        vertical-align: middle;\n",
       "    }\n",
       "\n",
       "    .dataframe tbody tr th {\n",
       "        vertical-align: top;\n",
       "    }\n",
       "\n",
       "    .dataframe thead th {\n",
       "        text-align: right;\n",
       "    }\n",
       "</style>\n",
       "<table border=\"1\" class=\"dataframe\">\n",
       "  <thead>\n",
       "    <tr style=\"text-align: right;\">\n",
       "      <th></th>\n",
       "      <th>ID</th>\n",
       "      <th>diagnosis</th>\n",
       "      <th>epoch</th>\n",
       "      <th>EO_l_frontal_delta_std</th>\n",
       "      <th>EO_l_frontal_delta_mean</th>\n",
       "      <th>EO_l_frontal_delta_median</th>\n",
       "      <th>EO_l_frontal_delta_skew</th>\n",
       "      <th>EO_l_frontal_delta_kurt</th>\n",
       "      <th>EO_l_frontal_theta_std</th>\n",
       "      <th>EO_l_frontal_theta_mean</th>\n",
       "      <th>...</th>\n",
       "      <th>ratio_gamma_m_central-r_central</th>\n",
       "      <th>ratio_gamma_m_central-l_posterior</th>\n",
       "      <th>ratio_gamma_m_central-m_posterior</th>\n",
       "      <th>ratio_gamma_m_central-r_posterior</th>\n",
       "      <th>ratio_gamma_r_central-l_posterior</th>\n",
       "      <th>ratio_gamma_r_central-m_posterior</th>\n",
       "      <th>ratio_gamma_r_central-r_posterior</th>\n",
       "      <th>ratio_gamma_l_posterior-m_posterior</th>\n",
       "      <th>ratio_gamma_l_posterior-r_posterior</th>\n",
       "      <th>ratio_gamma_m_posterior-r_posterior</th>\n",
       "    </tr>\n",
       "  </thead>\n",
       "  <tbody>\n",
       "    <tr>\n",
       "      <th>856</th>\n",
       "      <td>sub-87982849</td>\n",
       "      <td>1</td>\n",
       "      <td>5</td>\n",
       "      <td>0.064086</td>\n",
       "      <td>0.097026</td>\n",
       "      <td>0.097026</td>\n",
       "      <td>1.191023</td>\n",
       "      <td>1.380935</td>\n",
       "      <td>0.040608</td>\n",
       "      <td>0.069809</td>\n",
       "      <td>...</td>\n",
       "      <td>0.992538</td>\n",
       "      <td>0.940187</td>\n",
       "      <td>0.963240</td>\n",
       "      <td>0.921592</td>\n",
       "      <td>0.930346</td>\n",
       "      <td>0.955460</td>\n",
       "      <td>0.947460</td>\n",
       "      <td>0.969238</td>\n",
       "      <td>0.934661</td>\n",
       "      <td>0.938622</td>\n",
       "    </tr>\n",
       "    <tr>\n",
       "      <th>240</th>\n",
       "      <td>sub-87968541</td>\n",
       "      <td>4</td>\n",
       "      <td>1</td>\n",
       "      <td>0.089510</td>\n",
       "      <td>0.101121</td>\n",
       "      <td>0.101121</td>\n",
       "      <td>2.049815</td>\n",
       "      <td>5.338304</td>\n",
       "      <td>0.038491</td>\n",
       "      <td>0.056343</td>\n",
       "      <td>...</td>\n",
       "      <td>1.000681</td>\n",
       "      <td>0.987383</td>\n",
       "      <td>0.985054</td>\n",
       "      <td>0.996881</td>\n",
       "      <td>1.001662</td>\n",
       "      <td>1.001205</td>\n",
       "      <td>1.014341</td>\n",
       "      <td>0.991114</td>\n",
       "      <td>0.998108</td>\n",
       "      <td>0.999344</td>\n",
       "    </tr>\n",
       "    <tr>\n",
       "      <th>229</th>\n",
       "      <td>sub-87968449</td>\n",
       "      <td>4</td>\n",
       "      <td>2</td>\n",
       "      <td>0.043221</td>\n",
       "      <td>0.068566</td>\n",
       "      <td>0.068566</td>\n",
       "      <td>1.232245</td>\n",
       "      <td>1.463289</td>\n",
       "      <td>0.023603</td>\n",
       "      <td>0.049516</td>\n",
       "      <td>...</td>\n",
       "      <td>1.004218</td>\n",
       "      <td>1.046749</td>\n",
       "      <td>1.048204</td>\n",
       "      <td>1.062283</td>\n",
       "      <td>1.058253</td>\n",
       "      <td>1.050578</td>\n",
       "      <td>1.025129</td>\n",
       "      <td>1.044515</td>\n",
       "      <td>1.073899</td>\n",
       "      <td>1.049093</td>\n",
       "    </tr>\n",
       "  </tbody>\n",
       "</table>\n",
       "<p>3 rows × 1218 columns</p>\n",
       "</div>"
      ],
      "text/plain": [
       "               ID  diagnosis  epoch  EO_l_frontal_delta_std  \\\n",
       "856  sub-87982849          1      5                0.064086   \n",
       "240  sub-87968541          4      1                0.089510   \n",
       "229  sub-87968449          4      2                0.043221   \n",
       "\n",
       "     EO_l_frontal_delta_mean  EO_l_frontal_delta_median  \\\n",
       "856                 0.097026                   0.097026   \n",
       "240                 0.101121                   0.101121   \n",
       "229                 0.068566                   0.068566   \n",
       "\n",
       "     EO_l_frontal_delta_skew  EO_l_frontal_delta_kurt  EO_l_frontal_theta_std  \\\n",
       "856                 1.191023                 1.380935                0.040608   \n",
       "240                 2.049815                 5.338304                0.038491   \n",
       "229                 1.232245                 1.463289                0.023603   \n",
       "\n",
       "     EO_l_frontal_theta_mean  ...  ratio_gamma_m_central-r_central  \\\n",
       "856                 0.069809  ...                         0.992538   \n",
       "240                 0.056343  ...                         1.000681   \n",
       "229                 0.049516  ...                         1.004218   \n",
       "\n",
       "     ratio_gamma_m_central-l_posterior  ratio_gamma_m_central-m_posterior  \\\n",
       "856                           0.940187                           0.963240   \n",
       "240                           0.987383                           0.985054   \n",
       "229                           1.046749                           1.048204   \n",
       "\n",
       "     ratio_gamma_m_central-r_posterior  ratio_gamma_r_central-l_posterior  \\\n",
       "856                           0.921592                           0.930346   \n",
       "240                           0.996881                           1.001662   \n",
       "229                           1.062283                           1.058253   \n",
       "\n",
       "     ratio_gamma_r_central-m_posterior  ratio_gamma_r_central-r_posterior  \\\n",
       "856                           0.955460                           0.947460   \n",
       "240                           1.001205                           1.014341   \n",
       "229                           1.050578                           1.025129   \n",
       "\n",
       "     ratio_gamma_l_posterior-m_posterior  ratio_gamma_l_posterior-r_posterior  \\\n",
       "856                             0.969238                             0.934661   \n",
       "240                             0.991114                             0.998108   \n",
       "229                             1.044515                             1.073899   \n",
       "\n",
       "     ratio_gamma_m_posterior-r_posterior  \n",
       "856                             0.938622  \n",
       "240                             0.999344  \n",
       "229                             1.049093  \n",
       "\n",
       "[3 rows x 1218 columns]"
      ]
     },
     "execution_count": 3,
     "metadata": {},
     "output_type": "execute_result"
    }
   ],
   "source": [
    "# import stat & conn features without feature selection\n",
    "df_stat_conn_features = pd.read_pickle(r'D:\\Documents\\RU\\Master_Neurobiology\\Internship_jaar_2\\Project\\TD-BRAIN\\TD-BRAIN_extracted_features\\df_stat_conn_features.pkl')\n",
    "df_stat_conn_features = df_stat_conn_features.dropna(subset=['diagnosis'])\n",
    "\n",
    "# label encode diagnosis\n",
    "from sklearn.preprocessing import LabelEncoder\n",
    "le = LabelEncoder()\n",
    "le.fit(df_stat_conn_features['diagnosis'])\n",
    "df_stat_conn_features['diagnosis'] = le.transform(df_stat_conn_features['diagnosis'])\n",
    "\n",
    "print(df_stat_conn_features.shape)\n",
    "df_stat_conn_features.sample(3)"
   ]
  },
  {
   "cell_type": "code",
   "execution_count": 4,
   "metadata": {},
   "outputs": [
    {
     "name": "stdout",
     "output_type": "stream",
     "text": [
      "(2700, 408)\n",
      "(2700, 408)\n",
      "(2700, 408)\n"
     ]
    }
   ],
   "source": [
    "# create 3 feature sets [EC, EO, ratio] with column ['ID', 'age', 'gender', 'diagnosis', 'epoch']\n",
    "df_stat_conn_features_ec = df_stat_conn_features[df_stat_conn_features.columns[~(df_stat_conn_features.columns.str.startswith('EO') | df_stat_conn_features.columns.str.startswith('ratio'))]]\n",
    "df_stat_conn_features_eo = df_stat_conn_features[df_stat_conn_features.columns[~(df_stat_conn_features.columns.str.startswith('EC') | df_stat_conn_features.columns.str.startswith('ratio'))]]\n",
    "df_stat_conn_features_ratio = df_stat_conn_features[df_stat_conn_features.columns[~(df_stat_conn_features.columns.str.startswith('EC') | df_stat_conn_features.columns.str.startswith('EO'))]]\n",
    "print(df_stat_conn_features_ratio.shape)\n",
    "print(df_stat_conn_features_ec.shape)\n",
    "print(df_stat_conn_features_eo.shape)"
   ]
  },
  {
   "cell_type": "code",
   "execution_count": 5,
   "metadata": {
    "execution": {
     "iopub.execute_input": "2024-05-06T10:49:43.228315Z",
     "iopub.status.busy": "2024-05-06T10:49:43.228129Z",
     "iopub.status.idle": "2024-05-06T10:49:43.450808Z",
     "shell.execute_reply": "2024-05-06T10:49:43.450204Z"
    }
   },
   "outputs": [
    {
     "name": "stdout",
     "output_type": "stream",
     "text": [
      "224 225\n",
      "224 225\n",
      "(12, 5, 9, 9)\n",
      "sub-87964717\n"
     ]
    }
   ],
   "source": [
    "synchrony_feature_dict = load_file(r'D:\\Documents\\RU\\Master_Neurobiology\\Internship_jaar_2\\Project\\TD-BRAIN\\TD-BRAIN_extracted_features\\synchrony_feature_dict.pkl')\n",
    "subjects_ec_syncro_matrices = synchrony_feature_dict['EC_syncro']\n",
    "subjects_eo_syncro_matrices = synchrony_feature_dict['EO_syncro']\n",
    "subjects_ec_ids = synchrony_feature_dict['EC_IDs']\n",
    "subjects_eo_ids = synchrony_feature_dict['EO_IDs']\n",
    "print(len(subjects_ec_syncro_matrices), len(subjects_eo_syncro_matrices))\n",
    "print(len(subjects_ec_ids), len(subjects_eo_ids))\n",
    "print(subjects_ec_syncro_matrices[0].shape)\n",
    "print(subjects_ec_ids[0])"
   ]
  },
  {
   "cell_type": "code",
   "execution_count": 6,
   "metadata": {},
   "outputs": [
    {
     "name": "stdout",
     "output_type": "stream",
     "text": [
      "224 224\n"
     ]
    },
    {
     "name": "stderr",
     "output_type": "stream",
     "text": [
      "C:\\Users\\tuur\\AppData\\Local\\Temp\\ipykernel_24084\\1473655494.py:18: RuntimeWarning: invalid value encountered in divide\n",
      "  ratio_matrix = subjects_ec_syncro_matrices[i] / ratio_subjects_eo_syncro_matrices[i]\n"
     ]
    }
   ],
   "source": [
    "# compute ratio [EC/EO] synchrony matrices\n",
    "\n",
    "# Convert the lists to sets\n",
    "subjects_ec_ids_set = set(subjects_ec_ids)\n",
    "subjects_eo_ids_set = set(subjects_eo_ids)\n",
    "\n",
    "# find the missing IDs to make sure ratio is computed within the same participant\n",
    "missing_ids = subjects_eo_ids_set - subjects_ec_ids_set\n",
    "missing_ids_indices = [subjects_eo_ids.index(id) for id in missing_ids]\n",
    "\n",
    "# remove missing IDs from EO\n",
    "ratio_subjects_eo_syncro_matrices = [matrix for i, matrix in enumerate(subjects_eo_syncro_matrices) if i not in missing_ids_indices]\n",
    "assert len(ratio_subjects_eo_syncro_matrices) == len(subjects_ec_syncro_matrices)\n",
    "\n",
    "# compute ratio\n",
    "subjects_ratio_syncro_matrices = []\n",
    "for i in range(len(subjects_ec_syncro_matrices)):\n",
    "    ratio_matrix = subjects_ec_syncro_matrices[i] / ratio_subjects_eo_syncro_matrices[i]\n",
    "    subjects_ratio_syncro_matrices.append(ratio_matrix)\n",
    "subjects_ratio_ids = subjects_ec_ids\n",
    "print(len(subjects_ratio_syncro_matrices), len(subjects_ratio_ids))"
   ]
  },
  {
   "cell_type": "code",
   "execution_count": 7,
   "metadata": {
    "execution": {
     "iopub.execute_input": "2024-05-06T10:49:43.459229Z",
     "iopub.status.busy": "2024-05-06T10:49:43.459047Z",
     "iopub.status.idle": "2024-05-06T10:50:27.366727Z",
     "shell.execute_reply": "2024-05-06T10:50:27.365069Z"
    }
   },
   "outputs": [],
   "source": [
    "# define function to store features in PyTorch Geometric Data objects\n",
    "import networkx as nx\n",
    "from joblib import Parallel, delayed # for parallel processing\n",
    "from tqdm import tqdm\n",
    "def process_subject(syncros, subject_id, df_features):\n",
    "    graph_dataset = []\n",
    "    y_list = []\n",
    "\n",
    "    # obtain statistical features for subject\n",
    "    subject_stat_features = df_features[df_features['ID'] == subject_id]\n",
    "    stat_columns = ['epoch', 'mean', 'median', 'std', 'skew', 'kurt'] # select statistical features\n",
    "    pattern = '|'.join(stat_columns)  # create a pattern string\n",
    "    subject_stat_features = subject_stat_features[subject_stat_features.columns[subject_stat_features.columns.str.contains(pattern)]]\n",
    "    \n",
    "    for epoch, syncro_matrices in enumerate(syncros):\n",
    "        num_edges = int((syncro_matrices.shape[1] * (syncro_matrices.shape[2] - 1)) / 2)\n",
    "        bands = syncro_matrices.shape[0]\n",
    "        edge_attrs = np.zeros((num_edges, bands)) # create empty array to store edge weights for each frequency band\n",
    "\n",
    "        for i, syncro_matrix in enumerate(syncro_matrices):\n",
    "            # print(f'{syncro_matrix.shape = }')\n",
    "            syncro_graph = nx.from_numpy_array(syncro_matrix)\n",
    "            # print(f'{syncro_graph = }')\n",
    "            edge_list = nx.to_pandas_edgelist(syncro_graph)\n",
    "            edge_list = edge_list.dropna(axis=0)\n",
    "            # print(f'{edge_list = }')\n",
    "            edge_index = edge_list.iloc[:,0:2].values.T # shape (2, num_edges), edge_index stays the same for all bands right?\n",
    "            # print(f'{edge_index = }')\n",
    "            edge_attr = edge_list.iloc[:,2].values#.reshape(-1,1)\n",
    "            edge_attrs[:,i] = edge_attr\n",
    "\n",
    "        y = df_stat_conn_features_ec[df_stat_conn_features_ec['ID'] == subject_id]['diagnosis'].values[0]\n",
    "        \n",
    "        # store statistical features for subject\n",
    "        ch_groups = ['l_frontal', 'm_frontal', 'r_frontal', 'l_central', 'm_central', 'r_central', 'l_posterior', 'm_posterior', 'r_posterior']\n",
    "        bands = ['delta', 'theta', 'alpha', 'beta', 'gamma']\n",
    "        x = np.zeros((len(ch_groups), len(bands) * (len(stat_columns)-1))) # -1 because of epochs column in stat_columns\n",
    "        # print(x.shape)\n",
    "        for num, ch_group in enumerate(ch_groups):\n",
    "            x[num] = subject_stat_features[subject_stat_features['epoch'] == (epoch + 1)][subject_stat_features.columns[subject_stat_features.columns.str.contains(ch_group)]].values[0]\n",
    "            \n",
    "\n",
    "        data = Data(x=torch.tensor(x, dtype=torch.float),                     # Node features [num_nodes, num_node_features]\n",
    "                    edge_index=torch.tensor(edge_index, dtype=torch.long),    # Adjacency matrix [2, num_edges]\n",
    "                    edge_attr=torch.tensor(edge_attrs,dtype=torch.float),  # Edge features [num_edges, num_edge_features]\n",
    "                    y=torch.tensor([y], dtype=torch.long))                    # Target/Label (it should be a list) --> torch.long for classification, torch.float for regression\n",
    "        graph_dataset.append(data)\n",
    "        y_list.append(y)\n",
    "\n",
    "    return graph_dataset, y_list"
   ]
  },
  {
   "cell_type": "code",
   "execution_count": 8,
   "metadata": {},
   "outputs": [
    {
     "name": "stderr",
     "output_type": "stream",
     "text": [
      "100%|██████████| 224/224 [00:24<00:00,  9.11it/s]\n"
     ]
    },
    {
     "name": "stdout",
     "output_type": "stream",
     "text": [
      "ec_graph_dataset[0].x.shape = torch.Size([9, 25]), stat features [num_nodes, num_node_features]\n",
      "ec_graph_dataset[0].edge_attr.shape = torch.Size([36, 5]), [num_edges, n_bands]\n",
      "ec_graph_dataset[0].edge_index.shape = torch.Size([2, 36]), [2, num_edges]\n",
      "len(ec_graph_dataset) = 2688, subjects: 224, epochs: 12\n",
      "ec_graph_dataset[0] = Data(x=[9, 25], edge_index=[2, 36], edge_attr=[36, 5], y=[1])\n"
     ]
    }
   ],
   "source": [
    "# retrieve and store data for EC features\n",
    "# subjects__ec/eo_syncro_matrices : A list of lists, every list is a subject, every element in that list is an array of shape [n_epochs, n_bands, n_channels, n_channels]\n",
    "\n",
    "results = Parallel(n_jobs=-1)(delayed(process_subject)(syncros, subject_id, df_stat_conn_features_ec) for syncros, subject_id in tqdm(zip(subjects_ec_syncro_matrices, subjects_ec_ids), total=len(subjects_ec_syncro_matrices)))\n",
    "\n",
    "ec_graph_dataset = []\n",
    "ec_y_list = []\n",
    "for result in results:\n",
    "    ec_graph_dataset.extend(result[0])\n",
    "    ec_y_list.extend(result[1])\n",
    "    \n",
    "assert len(ec_graph_dataset) == len(ec_y_list)\n",
    "\n",
    "print(f'{ec_graph_dataset[0].x.shape = }, stat features [num_nodes, num_node_features]')\n",
    "print(f'{ec_graph_dataset[0].edge_attr.shape = }, [num_edges, n_bands]')\n",
    "print(f'{ec_graph_dataset[0].edge_index.shape = }, [2, num_edges]')\n",
    "print(f'{len(ec_graph_dataset) = }, subjects: {len(subjects_ec_syncro_matrices)}, epochs: {len(subjects_ec_syncro_matrices[0])}')\n",
    "print(f'{ec_graph_dataset[0] = }')"
   ]
  },
  {
   "cell_type": "code",
   "execution_count": 9,
   "metadata": {},
   "outputs": [
    {
     "name": "stderr",
     "output_type": "stream",
     "text": [
      "100%|██████████| 225/225 [00:06<00:00, 32.93it/s]\n"
     ]
    },
    {
     "name": "stdout",
     "output_type": "stream",
     "text": [
      "eo_graph_dataset[0].x.shape = torch.Size([9, 25]), stat features [num_nodes, num_node_features]\n",
      "eo_graph_dataset[0].edge_attr.shape = torch.Size([36, 5]), [num_edges, n_bands]\n",
      "eo_graph_dataset[0].edge_index.shape = torch.Size([2, 36]), [2, num_edges]\n",
      "len(eo_graph_dataset) = 2700, subjects: 225, epochs: 12\n",
      "eo_graph_dataset[0] = Data(x=[9, 25], edge_index=[2, 36], edge_attr=[36, 5], y=[1])\n"
     ]
    }
   ],
   "source": [
    "# retrieve and store data for EO features\n",
    "# subjects__ec/eo_syncro_matrices : A list of lists, every list is a subject, every element in that list is an array of shape [n_epochs, n_bands, n_channels, n_channels]\n",
    "\n",
    "results = Parallel(n_jobs=-1)(delayed(process_subject)(syncros, subject_id, df_stat_conn_features_eo) for syncros, subject_id in tqdm(zip(subjects_eo_syncro_matrices, subjects_eo_ids), total=len(subjects_eo_syncro_matrices)))\n",
    "\n",
    "eo_graph_dataset = []\n",
    "eo_y_list = []\n",
    "for result in results:\n",
    "    eo_graph_dataset.extend(result[0])\n",
    "    eo_y_list.extend(result[1])\n",
    "    \n",
    "assert len(eo_graph_dataset) == len(eo_y_list)\n",
    "\n",
    "print(f'{eo_graph_dataset[0].x.shape = }, stat features [num_nodes, num_node_features]')\n",
    "print(f'{eo_graph_dataset[0].edge_attr.shape = }, [num_edges, n_bands]')\n",
    "print(f'{eo_graph_dataset[0].edge_index.shape = }, [2, num_edges]')\n",
    "print(f'{len(eo_graph_dataset) = }, subjects: {len(subjects_eo_syncro_matrices)}, epochs: {len(subjects_eo_syncro_matrices[0])}')\n",
    "print(f'{eo_graph_dataset[0] = }')"
   ]
  },
  {
   "cell_type": "code",
   "execution_count": 10,
   "metadata": {},
   "outputs": [
    {
     "name": "stderr",
     "output_type": "stream",
     "text": [
      "100%|██████████| 224/224 [00:07<00:00, 31.18it/s]\n"
     ]
    },
    {
     "name": "stdout",
     "output_type": "stream",
     "text": [
      "ratio_graph_dataset[0].x.shape = torch.Size([9, 25]), stat features [num_nodes, num_node_features]\n",
      "ratio_graph_dataset[0].edge_attr.shape = torch.Size([36, 5]), [num_edges, n_bands]\n",
      "ratio_graph_dataset[0].edge_index.shape = torch.Size([2, 36]), [2, num_edges]\n",
      "len(ratio_graph_dataset) = 2688, subjects: 224, epochs: 12\n",
      "ratio_graph_dataset[0] = Data(x=[9, 25], edge_index=[2, 36], edge_attr=[36, 5], y=[1])\n"
     ]
    }
   ],
   "source": [
    "# retrieve and store data for EO features\n",
    "# subjects__ec/eo_syncro_matrices : A list of lists, every list is a subject, every element in that list is an array of shape [n_epochs, n_bands, n_channels, n_channels]\n",
    "\n",
    "results = Parallel(n_jobs=-1)(delayed(process_subject)(syncros, subject_id, df_stat_conn_features_ratio) for syncros, subject_id in tqdm(zip(subjects_ratio_syncro_matrices, subjects_ratio_ids), total=len(subjects_ratio_syncro_matrices)))\n",
    "\n",
    "# process_subject(subjects_ratio_syncro_matrices[0], subjects_ratio_ids[0])\n",
    "\n",
    "ratio_graph_dataset = []\n",
    "ratio_y_list = []\n",
    "for result in results:\n",
    "    ratio_graph_dataset.extend(result[0])\n",
    "    ratio_y_list.extend(result[1])\n",
    "    \n",
    "assert len(ratio_graph_dataset) == len(ratio_y_list)\n",
    "\n",
    "print(f'{ratio_graph_dataset[0].x.shape = }, stat features [num_nodes, num_node_features]')\n",
    "print(f'{ratio_graph_dataset[0].edge_attr.shape = }, [num_edges, n_bands]')\n",
    "print(f'{ratio_graph_dataset[0].edge_index.shape = }, [2, num_edges]')\n",
    "print(f'{len(ratio_graph_dataset) = }, subjects: {len(subjects_ratio_syncro_matrices)}, epochs: {len(subjects_ratio_syncro_matrices[0])}')\n",
    "print(f'{ratio_graph_dataset[0] = }')"
   ]
  },
  {
   "cell_type": "code",
   "execution_count": 11,
   "metadata": {
    "execution": {
     "iopub.execute_input": "2024-05-06T10:50:27.369940Z",
     "iopub.status.busy": "2024-05-06T10:50:27.369699Z",
     "iopub.status.idle": "2024-05-06T10:50:27.375606Z",
     "shell.execute_reply": "2024-05-06T10:50:27.374760Z"
    }
   },
   "outputs": [],
   "source": [
    "# load the indices of the validation sets from the ML models\n",
    "data_split_indices = load_file('data_split_indices.pkl')"
   ]
  },
  {
   "cell_type": "markdown",
   "metadata": {},
   "source": [
    "# GCN models:"
   ]
  },
  {
   "cell_type": "markdown",
   "metadata": {},
   "source": [
    "### Model: graphLambda without edge_attr"
   ]
  },
  {
   "cell_type": "code",
   "execution_count": 12,
   "metadata": {
    "execution": {
     "iopub.execute_input": "2024-05-06T10:50:27.420149Z",
     "iopub.status.busy": "2024-05-06T10:50:27.419968Z",
     "iopub.status.idle": "2024-05-06T10:50:27.670217Z",
     "shell.execute_reply": "2024-05-06T10:50:27.668925Z"
    }
   },
   "outputs": [],
   "source": [
    "import lightning.pytorch as pl\n",
    "from torchmetrics import F1Score, ConfusionMatrix\n",
    "import seaborn as sns\n",
    "import matplotlib.pyplot as plt\n",
    "import torch\n",
    "import torch_geometric\n",
    "from torch.nn import Sequential, Linear, ReLU, BatchNorm1d, Dropout, Dropout1d, ModuleList\n",
    "import torch.nn.functional as F\n",
    "from torch_geometric.nn import  GCNConv, global_add_pool, GATConv, GINConv\n",
    "\n",
    "\n",
    "n_features = 25 # [Delta, Theta, Alpha, Beta, Gamma] * [mean, median, std, skew, kurt]\n",
    "num_classes = 5 # healthy, ADHD, MDD, OCD, SMC\n",
    "\n",
    "class graphLambda_wo_edge_attr(pl.LightningModule):\n",
    "    def __init__(self, learning_rate, optimizer_name, fc_layers, dropout):\n",
    "        super(graphLambda_wo_edge_attr, self).__init__()\n",
    "        self.learning_rate = learning_rate\n",
    "        self.optimizer_name = optimizer_name\n",
    "\n",
    "        #GCN-representation\n",
    "        self.conv1 = GCNConv(n_features, 256, cached=False )\n",
    "        self.bn01 = BatchNorm1d(256)\n",
    "        self.conv2 = GCNConv(256, 128, cached=False )\n",
    "        self.bn02 = BatchNorm1d(128)\n",
    "        self.conv3 = GCNConv(128, 128, cached=False)\n",
    "        self.bn03 = BatchNorm1d(128)\n",
    "        #GAT-representation\n",
    "        self.gat1 = GATConv(n_features, 256, heads=3)\n",
    "        self.bn11 = BatchNorm1d(256*3)\n",
    "        self.gat2 = GATConv(256*3, 128, heads=3)\n",
    "        self.bn12 = BatchNorm1d(128*3)\n",
    "        self.gat3 = GATConv(128*3, 128, heads=3)\n",
    "        self.bn13 = BatchNorm1d(128*3)\n",
    "        #GIN-representation\n",
    "        fc_gin1=Sequential(Linear(n_features, 256), ReLU(), Linear(256, 256))\n",
    "        self.gin1 = GINConv(fc_gin1)\n",
    "        self.bn21 = BatchNorm1d(256)\n",
    "        fc_gin2=Sequential(Linear(256, 128), ReLU(), Linear(128, 128))\n",
    "        self.gin2 = GINConv(fc_gin2)\n",
    "        self.bn22 = BatchNorm1d(128)\n",
    "        fc_gin3=Sequential(Linear(128, 64), ReLU(), Linear(64, 64))\n",
    "        self.gin3 = GINConv(fc_gin3)\n",
    "        self.bn23 = BatchNorm1d(64)\n",
    "        # Fully connected layers for concatinating outputs (varied depending on fc_layers)\n",
    "        self.fcs = ModuleList()\n",
    "        self.dropouts = ModuleList()\n",
    "        input_size = 128*4 + 64 # Input size for the first layer\n",
    "        output_size = num_classes # Output size for the last layer\n",
    "        sizes = np.linspace(input_size, output_size, fc_layers + 1, dtype=int) # Calculate the size for each layer\n",
    "        for i in range(fc_layers): # Create the layers\n",
    "            self.fcs.append(Linear(sizes[i], sizes[i + 1]))\n",
    "            self.dropouts.append(Dropout(p=dropout))\n",
    "\n",
    "        # add metrics\n",
    "        self.train_f1 = F1Score(task='multiclass', num_classes=num_classes, average='macro')\n",
    "        self.val_f1 = F1Score(task='multiclass', num_classes=num_classes, average='macro')\n",
    "        self.val_cm = ConfusionMatrix(task = 'binary', num_classes=num_classes, threshold=0.05)\n",
    "        self.validation_step_yhats = []\n",
    "        self.validation_step_ys = []\n",
    "        \n",
    "    def forward(self, data):\n",
    "        x, edge_index = data.x, data.edge_index\n",
    "        y=x\n",
    "        z=x\n",
    "        #GCN-representation\n",
    "        x = F.relu(self.conv1(x, edge_index))\n",
    "        x = self.bn01(x)\n",
    "        x = F.relu(self.conv2(x, edge_index))\n",
    "        x = self.bn02(x)\n",
    "        x = F.relu(self.conv3(x, edge_index))\n",
    "        x = self.bn03(x)\n",
    "        x = global_add_pool(x, data.batch)\n",
    "        #GAT-representation\n",
    "        y = F.relu(self.gat1(y, edge_index))\n",
    "        y = self.bn11(y)\n",
    "        y = F.relu(self.gat2(y, edge_index))\n",
    "        y = self.bn12(y)\n",
    "        y = F.relu(self.gat3(y, edge_index))\n",
    "        y = self.bn13(y)\n",
    "        y = global_add_pool(y, data.batch)\n",
    "        #GIN-representation\n",
    "        z = F.relu(self.gin1(z, edge_index))\n",
    "        z = self.bn21(z)\n",
    "        z = F.relu(self.gin2(z, edge_index))\n",
    "        z = self.bn22(z)\n",
    "        z = F.relu(self.gin3(z, edge_index))\n",
    "        z = self.bn23(z)\n",
    "        z = global_add_pool(z, data.batch)\n",
    "        #Concatinating_representations\n",
    "        cr=torch.cat((x,y,z),1)\n",
    "        for fc, dropout in zip(self.fcs, self.dropouts):\n",
    "            cr = F.relu(fc(cr))\n",
    "            cr = dropout(cr)\n",
    "        #cr = F.relu(cr).view(-1)\n",
    "        cr = F.log_softmax(cr, dim=1) # Activation function for classification\n",
    "        return cr  \n",
    "    \n",
    "    def configure_optimizers(self):\n",
    "        if self.optimizer_name == 'Adam':\n",
    "            optimizer = torch.optim.Adam(self.parameters(), lr=self.learning_rate)\n",
    "        elif self.optimizer_name == 'RMSprop':\n",
    "            optimizer = torch.optim.RMSprop(self.parameters(), lr=self.learning_rate)\n",
    "        elif self.optimizer_name == 'SGD':\n",
    "            optimizer = torch.optim.SGD(self.parameters(), lr=self.learning_rate)\n",
    "        else:\n",
    "            raise ValueError(f'Unsupported optimizer: {self.optimizer_name}')\n",
    "        return optimizer\n",
    "    \n",
    "    def training_step(self, train_batch, batch_idx):\n",
    "        x, y = train_batch.x, train_batch.y\n",
    "        output = self.forward(train_batch)\n",
    "        output = output.to(torch.float)\n",
    "        y = y.to(torch.long)\n",
    "        loss = F.nll_loss(output, y)\n",
    "        y_hat = output.argmax(dim=1)\n",
    "        self.log('train_loss', loss, on_epoch=True, prog_bar=True)\n",
    "        self.log('train_f1', self.train_f1(y, y_hat), on_epoch=True, prog_bar=True)\n",
    "        return loss\n",
    "    \n",
    "    def validation_step(self, val_batch, batch_idx):\n",
    "        x, y = val_batch.x, val_batch.y\n",
    "        output = self.forward(val_batch)\n",
    "        output = output.to(torch.float)\n",
    "        y = y.to(torch.long)\n",
    "        loss = F.nll_loss(output, y)\n",
    "        y_hat = output.argmax(dim=1)\n",
    "        self.log('val_loss', loss, on_epoch=True, prog_bar=True)\n",
    "        self.log('val_f1', self.val_f1(y, y_hat), on_epoch=True, prog_bar=True)\n",
    "        self.validation_step_yhats.append(y_hat)\n",
    "        self.validation_step_ys.append(y)\n",
    "        return loss\n",
    "    \n",
    "    def test_step(self, test_batch, batch_idx):\n",
    "        x, y = test_batch.x, test_batch.y\n",
    "        output = self.forward(test_batch)\n",
    "        output = output.to(torch.float)\n",
    "        y = y.to(torch.long)\n",
    "        loss = F.nll_loss(output, y)\n",
    "        y_hat = output.argmax(dim=1)\n",
    "        self.log('test_loss', loss, on_epoch=True, prog_bar=True)\n",
    "        self.log('test_f1', self.val_f1(y, y_hat), on_epoch=True, prog_bar=True)\n",
    "        return loss\n",
    "    \n",
    "    # def on_train_epoch_end(self, training_step_outputs):\n",
    "    #     # compute metrics\n",
    "    #     train_f1 = self.train_f1.compute()\n",
    "    #     # log metrics\n",
    "    #     self.log(\"epoch_train_f1\", train_f1)\n",
    "    #     # reset all metrics\n",
    "    #     self.train_f1.reset()\n",
    "    #     print(f\"\\nf1: {train_f1:.4}\")\n",
    "\n",
    "    # def on_validation_epoch_end(self):\n",
    "    #     # plot confusion matrix\n",
    "    #     y_hat = torch.cat(self.validation_step_yhats)\n",
    "    #     y = torch.cat(self.validation_step_ys)\n",
    "    #     confusion_matrix = self.val_cm(y_hat, y.int())\n",
    "\n",
    "    #     confusion_matrix_computed = confusion_matrix.detach().cpu().numpy().astype(int)\n",
    "\n",
    "    #     df_cm = pd.DataFrame(confusion_matrix_computed)\n",
    "    #     plt.figure(figsize = (10,7))\n",
    "    #     fig_ = sns.heatmap(df_cm, annot=True, cmap='Spectral').get_figure()\n",
    "    #     plt.close(fig_)\n",
    "    #     self.loggers[0].experiment.add_figure(\"Confusion matrix\", fig_, self.current_epoch)\n",
    "\n",
    "    #     self.validation_step_yhats.clear() # free memory\n",
    "    #     self.validation_step_ys.clear()\n",
    "    \n",
    "    def predict_step(self, batch):\n",
    "        x, y = batch.x, batch.y\n",
    "        output = self.forward(batch)\n",
    "        loss = F.nll_loss(output, y)\n",
    "        y_hat = output.argmax(dim=1)\n",
    "        return y_hat"
   ]
  },
  {
   "cell_type": "markdown",
   "metadata": {},
   "source": [
    "### Model: graphLambda with edge_attr"
   ]
  },
  {
   "cell_type": "code",
   "execution_count": 13,
   "metadata": {},
   "outputs": [],
   "source": [
    "#Model\n",
    "import lightning.pytorch as pl\n",
    "from torchmetrics import F1Score, ConfusionMatrix\n",
    "import seaborn as sns\n",
    "import matplotlib.pyplot as plt\n",
    "import torch\n",
    "import torch_geometric\n",
    "from torch.nn import Sequential, Linear, ReLU, BatchNorm1d, Dropout, Dropout1d, ModuleList\n",
    "import torch.nn.functional as F\n",
    "from torch_geometric.nn import  GCNConv, global_add_pool, GATConv, GINConv, GATv2Conv\n",
    "\n",
    "\n",
    "n_features = 25 # [Delta, Theta, Alpha, Beta, Gamma] * [mean, median, std, skew, kurt]\n",
    "num_classes = 5 # healthy, ADHD, MDD, OCD, SMC\n",
    "n_edge_attrs = 5 # [Delta, Theta, Alpha, Beta, Gamma]\n",
    "\n",
    "class graphLambda_w_edge_attr(pl.LightningModule):\n",
    "    def __init__(self, learning_rate, optimizer_name, fc_layers, dropout):\n",
    "        super(graphLambda_w_edge_attr, self).__init__()\n",
    "        self.learning_rate = learning_rate\n",
    "        self.optimizer_name = optimizer_name\n",
    "\n",
    "        #GCN-representation\n",
    "        self.conv1 = GCNConv(n_features, 256, cached=False )\n",
    "        self.bn01 = BatchNorm1d(256)\n",
    "        self.conv2 = GCNConv(256, 128, cached=False )\n",
    "        self.bn02 = BatchNorm1d(128)\n",
    "        self.conv3 = GCNConv(128, 128, cached=False)\n",
    "        self.bn03 = BatchNorm1d(128)\n",
    "        #GAT-representation\n",
    "        self.gat1 = GATv2Conv(n_features, 256, heads=3, edge_dim=n_edge_attrs)\n",
    "        self.bn11 = BatchNorm1d(256*3)\n",
    "        self.gat2 = GATv2Conv(256*3, 128, heads=3, edge_dim=n_edge_attrs)\n",
    "        self.bn12 = BatchNorm1d(128*3)\n",
    "        self.gat3 = GATv2Conv(128*3, 128, heads=3, edge_dim=n_edge_attrs)\n",
    "        self.bn13 = BatchNorm1d(128*3)\n",
    "        #GIN-representation\n",
    "        fc_gin1=Sequential(Linear(n_features, 256), ReLU(), Linear(256, 256))\n",
    "        self.gin1 = GINConv(fc_gin1)\n",
    "        self.bn21 = BatchNorm1d(256)\n",
    "        fc_gin2=Sequential(Linear(256, 128), ReLU(), Linear(128, 128))\n",
    "        self.gin2 = GINConv(fc_gin2)\n",
    "        self.bn22 = BatchNorm1d(128)\n",
    "        fc_gin3=Sequential(Linear(128, 64), ReLU(), Linear(64, 64))\n",
    "        self.gin3 = GINConv(fc_gin3)\n",
    "        self.bn23 = BatchNorm1d(64)\n",
    "        # Fully connected layers for concatinating outputs (varied depending on fc_layers)\n",
    "        self.fcs = ModuleList()\n",
    "        self.dropouts = ModuleList()\n",
    "        input_size = 128*4 + 64 # Input size for the first layer\n",
    "        output_size = num_classes # Output size for the last layer\n",
    "        sizes = np.linspace(input_size, output_size, fc_layers + 1, dtype=int) # Calculate the size for each layer\n",
    "        for i in range(fc_layers): # Create the layers\n",
    "            self.fcs.append(Linear(sizes[i], sizes[i + 1]))\n",
    "            self.dropouts.append(Dropout(p=dropout))\n",
    "\n",
    "        # add metrics\n",
    "        self.train_f1 = F1Score(task='multiclass', num_classes=num_classes, average='macro')\n",
    "        self.val_f1 = F1Score(task='multiclass', num_classes=num_classes, average='macro')\n",
    "        self.val_cm = ConfusionMatrix(task = 'binary', num_classes=num_classes, threshold=0.05)\n",
    "        self.validation_step_yhats = []\n",
    "        self.validation_step_ys = []\n",
    "        \n",
    "    def forward(self, data):\n",
    "        x, edge_index, edge_attr = data.x, data.edge_index, data.edge_attr\n",
    "        y=x\n",
    "        z=x\n",
    "        #GCN-representation\n",
    "        x = F.relu(self.conv1(x, edge_index))\n",
    "        x = self.bn01(x)\n",
    "        x = F.relu(self.conv2(x, edge_index))\n",
    "        x = self.bn02(x)\n",
    "        x = F.relu(self.conv3(x, edge_index))\n",
    "        x = self.bn03(x)\n",
    "        x = global_add_pool(x, data.batch)\n",
    "        #GAT-representation\n",
    "        y = F.relu(self.gat1(y, edge_index, edge_attr))\n",
    "        y = self.bn11(y)\n",
    "        y = F.relu(self.gat2(y, edge_index, edge_attr))\n",
    "        y = self.bn12(y)\n",
    "        y = F.relu(self.gat3(y, edge_index, edge_attr))\n",
    "        y = self.bn13(y)\n",
    "        y = global_add_pool(y, data.batch)\n",
    "        #GIN-representation\n",
    "        z = F.relu(self.gin1(z, edge_index))\n",
    "        z = self.bn21(z)\n",
    "        z = F.relu(self.gin2(z, edge_index))\n",
    "        z = self.bn22(z)\n",
    "        z = F.relu(self.gin3(z, edge_index))\n",
    "        z = self.bn23(z)\n",
    "        z = global_add_pool(z, data.batch)\n",
    "        #Concatinating_representations\n",
    "        cr=torch.cat((x,y,z),1)\n",
    "        for fc, dropout in zip(self.fcs, self.dropouts):\n",
    "            cr = F.relu(fc(cr))\n",
    "            cr = dropout(cr)\n",
    "        #cr = F.relu(cr).view(-1)\n",
    "        cr = F.log_softmax(cr, dim=1) # Activation function for classification\n",
    "        return cr  \n",
    "    \n",
    "    def configure_optimizers(self):\n",
    "        if self.optimizer_name == 'Adam':\n",
    "            optimizer = torch.optim.Adam(self.parameters(), lr=self.learning_rate)\n",
    "        elif self.optimizer_name == 'RMSprop':\n",
    "            optimizer = torch.optim.RMSprop(self.parameters(), lr=self.learning_rate)\n",
    "        elif self.optimizer_name == 'SGD':\n",
    "            optimizer = torch.optim.SGD(self.parameters(), lr=self.learning_rate)\n",
    "        else:\n",
    "            raise ValueError(f'Unsupported optimizer: {self.optimizer_name}')\n",
    "        return optimizer\n",
    "    \n",
    "    def training_step(self, train_batch, batch_idx):\n",
    "        x, y = train_batch.x, train_batch.y\n",
    "        output = self.forward(train_batch)\n",
    "        output = output.to(torch.float)\n",
    "        y = y.to(torch.long)\n",
    "        loss = F.nll_loss(output, y)\n",
    "        y_hat = output.argmax(dim=1)\n",
    "        self.log('train_loss', loss, on_epoch=True, prog_bar=True)\n",
    "        self.log('train_f1', self.train_f1(y, y_hat), on_epoch=True, prog_bar=True)\n",
    "        return loss\n",
    "    \n",
    "    def validation_step(self, val_batch, batch_idx):\n",
    "        x, y = val_batch.x, val_batch.y\n",
    "        output = self.forward(val_batch)\n",
    "        output = output.to(torch.float)\n",
    "        y = y.to(torch.long)\n",
    "        loss = F.nll_loss(output, y)\n",
    "        y_hat = output.argmax(dim=1)\n",
    "        self.log('val_loss', loss, on_epoch=True, prog_bar=True)\n",
    "        self.log('val_f1', self.val_f1(y, y_hat), on_epoch=True, prog_bar=True)\n",
    "        self.validation_step_yhats.append(y_hat)\n",
    "        self.validation_step_ys.append(y)\n",
    "        return loss\n",
    "    \n",
    "    def test_step(self, test_batch, batch_idx):\n",
    "        x, y = test_batch.x, test_batch.y\n",
    "        output = self.forward(test_batch)\n",
    "        output = output.to(torch.float)\n",
    "        y = y.to(torch.long)\n",
    "        loss = F.nll_loss(output, y)\n",
    "        y_hat = output.argmax(dim=1)\n",
    "        self.log('test_loss', loss, on_epoch=True, prog_bar=True)\n",
    "        self.log('test_f1', self.val_f1(y, y_hat), on_epoch=True, prog_bar=True)\n",
    "        return loss\n",
    "    \n",
    "    # def on_train_epoch_end(self, training_step_outputs):\n",
    "    #     # compute metrics\n",
    "    #     train_f1 = self.train_f1.compute()\n",
    "    #     # log metrics\n",
    "    #     self.log(\"epoch_train_f1\", train_f1)\n",
    "    #     # reset all metrics\n",
    "    #     self.train_f1.reset()\n",
    "    #     print(f\"\\nf1: {train_f1:.4}\")\n",
    "\n",
    "    # def on_validation_epoch_end(self):\n",
    "    #     # plot confusion matrix\n",
    "    #     y_hat = torch.cat(self.validation_step_yhats)\n",
    "    #     y = torch.cat(self.validation_step_ys)\n",
    "    #     confusion_matrix = self.val_cm(y_hat, y.int())\n",
    "\n",
    "    #     confusion_matrix_computed = confusion_matrix.detach().cpu().numpy().astype(int)\n",
    "\n",
    "    #     df_cm = pd.DataFrame(confusion_matrix_computed)\n",
    "    #     plt.figure(figsize = (10,7))\n",
    "    #     fig_ = sns.heatmap(df_cm, annot=True, cmap='Spectral').get_figure()\n",
    "    #     plt.close(fig_)\n",
    "    #     self.loggers[0].experiment.add_figure(\"Confusion matrix\", fig_, self.current_epoch)\n",
    "\n",
    "    #     self.validation_step_yhats.clear() # free memory\n",
    "    #     self.validation_step_ys.clear()\n",
    "    \n",
    "    def predict_step(self, batch):\n",
    "        x, y = batch.x, batch.y\n",
    "        output = self.forward(batch)\n",
    "        loss = F.nll_loss(output, y)\n",
    "        y_hat = output.argmax(dim=1)\n",
    "        return y_hat"
   ]
  },
  {
   "cell_type": "markdown",
   "metadata": {},
   "source": [
    "# 1. EC feature set"
   ]
  },
  {
   "cell_type": "code",
   "execution_count": 14,
   "metadata": {
    "execution": {
     "iopub.execute_input": "2024-05-06T10:50:27.378043Z",
     "iopub.status.busy": "2024-05-06T10:50:27.377818Z",
     "iopub.status.idle": "2024-05-06T10:50:27.417082Z",
     "shell.execute_reply": "2024-05-06T10:50:27.416458Z"
    }
   },
   "outputs": [
    {
     "name": "stdout",
     "output_type": "stream",
     "text": [
      "len(ec_graph_dataset) = 2688\n",
      "len(baseline_rest_idxs) = 2148, len(baseline_val_idxs) = 540, total: 2688\n",
      "len(X_traintest) = 2148, len(X_val) = 540\n",
      "len(train_idxs) = 1716, len(test_idxs) = 432, total: 2148\n"
     ]
    }
   ],
   "source": [
    "from sklearn.model_selection import StratifiedGroupKFold\n",
    "\n",
    "baseline_rest_idxs = data_split_indices['EC'][0]\n",
    "baseline_val_idxs = data_split_indices['EC'][1]\n",
    "\n",
    "# first splitting validation data using the first split from the baseline RF model\n",
    "groups = [elem for elem in subjects_ec_ids for i in range(12)] # times 12 for each epoch\n",
    "\n",
    "print(f'{len(ec_graph_dataset) = }')\n",
    "print(f'{len(baseline_rest_idxs) = }, {len(baseline_val_idxs) = }, total: {len(baseline_rest_idxs)+len(baseline_val_idxs)}')\n",
    "\n",
    "X_traintest = [ec_graph_dataset[i] for i in baseline_rest_idxs] \n",
    "X_val = [ec_graph_dataset[i] for i in baseline_val_idxs]\n",
    "Y_traintest =[ec_y_list[i] for i in baseline_rest_idxs]\n",
    "Y_val = [ec_y_list[i] for i in baseline_val_idxs]\n",
    "groups_traintest = [groups[i] for i in baseline_rest_idxs]\n",
    "groups_val = [groups[i] for i in baseline_val_idxs]\n",
    "\n",
    "# now splitting the test and training data with seperate StratifiedGroupKFold\n",
    "desired_test_ratio = 0.20\n",
    "n_splits = int(1 / desired_test_ratio) # for some reason (?), n_splits also determines the proportion between train & test indices\n",
    "sgkf = StratifiedGroupKFold(n_splits=n_splits, shuffle=False)  # should shuffle be true?\n",
    "\n",
    "train_idxs, test_idxs = sgkf.split(X_traintest, Y_traintest, groups_traintest).__next__() # just take the first split\n",
    "print(f'{len(X_traintest) = }, {len(X_val) = }')\n",
    "print(f'{len(train_idxs) = }, {len(test_idxs) = }, total: {len(train_idxs)+len(test_idxs)}')\n",
    "\n",
    "X_train = [X_traintest[i] for i in train_idxs] # X also includes y values, because they are stored in the Data object\n",
    "X_test = [X_traintest[i] for i in test_idxs]\n",
    "Y_train =[Y_traintest[i] for i in train_idxs]\n",
    "Y_test = [Y_traintest[i] for i in test_idxs]"
   ]
  },
  {
   "cell_type": "code",
   "execution_count": 15,
   "metadata": {},
   "outputs": [
    {
     "data": {
      "image/png": "[encoded data removed]",
      "text/plain": [
       "<Figure size 1200x600 with 2 Axes>"
      ]
     },
     "metadata": {},
     "output_type": "display_data"
    }
   ],
   "source": [
    "# standardize statistical node features\n",
    "from sklearn.preprocessing import StandardScaler\n",
    "\n",
    "# Concatenate all x values before scaling for the first feature, as a sanity check for standardization\n",
    "x_before = np.concatenate([data.x.numpy()[:, 0] for data in X_train + X_val + X_test])\n",
    "\n",
    "scaler = StandardScaler()\n",
    "scaler.fit(np.vstack([data.x.numpy() for data in X_train + X_val])) # fit on training and validation data\n",
    "\n",
    "\n",
    "# Transform the x values of the data in X_train\n",
    "for data in X_train:\n",
    "    data.x = torch.from_numpy(scaler.transform(data.x.numpy()))\n",
    "\n",
    "# Transform the x values of the data in X_val\n",
    "for data in X_val:\n",
    "    data.x = torch.from_numpy(scaler.transform(data.x.numpy()))\n",
    "\n",
    "# Transform the x values of the data in X_test\n",
    "for data in X_test:\n",
    "    data.x = torch.from_numpy(scaler.transform(data.x.numpy()))\n",
    "\n",
    "# Concatenate all x values after scaling for the first feature, as a sanity check for standardization\n",
    "x_after = np.concatenate([data.x.numpy()[:, 0] for data in X_train + X_val + X_test])\n",
    "\n",
    "# Plot the distribution of the first x feature before and after scaling as a sanity check\n",
    "plt.figure(figsize=(12, 6))\n",
    "\n",
    "plt.subplot(1, 2, 1)\n",
    "plt.hist(x_before, bins=30, color='b', alpha=0.5)\n",
    "plt.title('Before Scaling')\n",
    "\n",
    "plt.subplot(1, 2, 2)\n",
    "plt.hist(x_after, bins=30, color='r', alpha=0.5)\n",
    "plt.title('After Scaling')\n",
    "\n",
    "plt.show()"
   ]
  },
  {
   "cell_type": "markdown",
   "metadata": {},
   "source": [
    "### Model: graphLambda without edge_attr"
   ]
  },
  {
   "cell_type": "code",
   "execution_count": 16,
   "metadata": {},
   "outputs": [
    {
     "data": {
      "text/html": [
       "<div>\n",
       "<style scoped>\n",
       "    .dataframe tbody tr th:only-of-type {\n",
       "        vertical-align: middle;\n",
       "    }\n",
       "\n",
       "    .dataframe tbody tr th {\n",
       "        vertical-align: top;\n",
       "    }\n",
       "\n",
       "    .dataframe thead th {\n",
       "        text-align: right;\n",
       "    }\n",
       "</style>\n",
       "<table border=\"1\" class=\"dataframe\">\n",
       "  <thead>\n",
       "    <tr style=\"text-align: right;\">\n",
       "      <th></th>\n",
       "      <th>number</th>\n",
       "      <th>value</th>\n",
       "      <th>datetime_start</th>\n",
       "      <th>datetime_complete</th>\n",
       "      <th>duration</th>\n",
       "      <th>params_batch_size</th>\n",
       "      <th>params_dropout</th>\n",
       "      <th>params_fc_layers</th>\n",
       "      <th>params_learning_rate</th>\n",
       "      <th>params_optimizer</th>\n",
       "      <th>state</th>\n",
       "    </tr>\n",
       "  </thead>\n",
       "  <tbody>\n",
       "    <tr>\n",
       "      <th>11</th>\n",
       "      <td>11</td>\n",
       "      <td>0.335900</td>\n",
       "      <td>2024-06-04 15:38:47.394650</td>\n",
       "      <td>2024-06-04 15:43:21.113679</td>\n",
       "      <td>0 days 00:04:33.719029</td>\n",
       "      <td>510</td>\n",
       "      <td>0.306507</td>\n",
       "      <td>7</td>\n",
       "      <td>0.000130</td>\n",
       "      <td>Adam</td>\n",
       "      <td>COMPLETE</td>\n",
       "    </tr>\n",
       "    <tr>\n",
       "      <th>25</th>\n",
       "      <td>25</td>\n",
       "      <td>0.322751</td>\n",
       "      <td>2024-06-04 16:30:33.520746</td>\n",
       "      <td>2024-06-04 16:35:35.997939</td>\n",
       "      <td>0 days 00:05:02.477193</td>\n",
       "      <td>680</td>\n",
       "      <td>0.233819</td>\n",
       "      <td>1</td>\n",
       "      <td>0.000010</td>\n",
       "      <td>Adam</td>\n",
       "      <td>COMPLETE</td>\n",
       "    </tr>\n",
       "    <tr>\n",
       "      <th>53</th>\n",
       "      <td>53</td>\n",
       "      <td>0.320175</td>\n",
       "      <td>2024-06-04 18:39:52.920316</td>\n",
       "      <td>2024-06-04 18:45:00.390837</td>\n",
       "      <td>0 days 00:05:07.470521</td>\n",
       "      <td>680</td>\n",
       "      <td>0.273573</td>\n",
       "      <td>2</td>\n",
       "      <td>0.000016</td>\n",
       "      <td>Adam</td>\n",
       "      <td>COMPLETE</td>\n",
       "    </tr>\n",
       "  </tbody>\n",
       "</table>\n",
       "</div>"
      ],
      "text/plain": [
       "    number     value             datetime_start          datetime_complete  \\\n",
       "11      11  0.335900 2024-06-04 15:38:47.394650 2024-06-04 15:43:21.113679   \n",
       "25      25  0.322751 2024-06-04 16:30:33.520746 2024-06-04 16:35:35.997939   \n",
       "53      53  0.320175 2024-06-04 18:39:52.920316 2024-06-04 18:45:00.390837   \n",
       "\n",
       "                 duration  params_batch_size  params_dropout  \\\n",
       "11 0 days 00:04:33.719029                510        0.306507   \n",
       "25 0 days 00:05:02.477193                680        0.233819   \n",
       "53 0 days 00:05:07.470521                680        0.273573   \n",
       "\n",
       "    params_fc_layers  params_learning_rate params_optimizer     state  \n",
       "11                 7              0.000130             Adam  COMPLETE  \n",
       "25                 1              0.000010             Adam  COMPLETE  \n",
       "53                 2              0.000016             Adam  COMPLETE  "
      ]
     },
     "execution_count": 16,
     "metadata": {},
     "output_type": "execute_result"
    }
   ],
   "source": [
    "# import best trials from tuning\n",
    "df_trials_wo_edge_attrs = pd.read_pickle('tuning_results\\ec_results_wo_edge_attrs_trials.pkl')\n",
    "df_trials_wo_edge_attrs = df_trials_wo_edge_attrs.sort_values('value', ascending=False).head(3)\n",
    "df_trials_wo_edge_attrs"
   ]
  },
  {
   "cell_type": "code",
   "execution_count": 17,
   "metadata": {},
   "outputs": [
    {
     "name": "stderr",
     "output_type": "stream",
     "text": [
      "c:\\Users\\tuur\\anaconda3\\envs\\mne\\Lib\\site-packages\\lightning\\pytorch\\loops\\fit_loop.py:298: The number of training batches (3) is smaller than the logging interval Trainer(log_every_n_steps=10). Set a lower value for log_every_n_steps if you want to see logs for the training epoch.\n"
     ]
    },
    {
     "name": "stdout",
     "output_type": "stream",
     "text": [
      "\n",
      "Final evaluation #1 trial:\n"
     ]
    },
    {
     "data": {
      "text/html": [
       "<pre style=\"white-space:pre;overflow-x:auto;line-height:normal;font-family:Menlo,'DejaVu Sans Mono',consolas,'Courier New',monospace\">┏━━━━━━━━━━━━━━━━━━━━━━━━━━━┳━━━━━━━━━━━━━━━━━━━━━━━━━━━┓\n",
       "┃<span style=\"font-weight: bold\">      Validate metric      </span>┃<span style=\"font-weight: bold\">       DataLoader 0        </span>┃\n",
       "┡━━━━━━━━━━━━━━━━━━━━━━━━━━━╇━━━━━━━━━━━━━━━━━━━━━━━━━━━┩\n",
       "│<span style=\"color: #008080; text-decoration-color: #008080\">          val_f1           </span>│<span style=\"color: #800080; text-decoration-color: #800080\">    0.3232390880584717     </span>│\n",
       "│<span style=\"color: #008080; text-decoration-color: #008080\">         val_loss          </span>│<span style=\"color: #800080; text-decoration-color: #800080\">     5.422239303588867     </span>│\n",
       "└───────────────────────────┴───────────────────────────┘\n",
       "</pre>\n"
      ],
      "text/plain": [
       "┏━━━━━━━━━━━━━━━━━━━━━━━━━━━┳━━━━━━━━━━━━━━━━━━━━━━━━━━━┓\n",
       "┃\u001b[1m \u001b[0m\u001b[1m     Validate metric     \u001b[0m\u001b[1m \u001b[0m┃\u001b[1m \u001b[0m\u001b[1m      DataLoader 0       \u001b[0m\u001b[1m \u001b[0m┃\n",
       "┡━━━━━━━━━━━━━━━━━━━━━━━━━━━╇━━━━━━━━━━━━━━━━━━━━━━━━━━━┩\n",
       "│\u001b[36m \u001b[0m\u001b[36m         val_f1          \u001b[0m\u001b[36m \u001b[0m│\u001b[35m \u001b[0m\u001b[35m   0.3232390880584717    \u001b[0m\u001b[35m \u001b[0m│\n",
       "│\u001b[36m \u001b[0m\u001b[36m        val_loss         \u001b[0m\u001b[36m \u001b[0m│\u001b[35m \u001b[0m\u001b[35m    5.422239303588867    \u001b[0m\u001b[35m \u001b[0m│\n",
       "└───────────────────────────┴───────────────────────────┘\n"
      ]
     },
     "metadata": {},
     "output_type": "display_data"
    },
    {
     "name": "stdout",
     "output_type": "stream",
     "text": [
      "classification report:\n",
      "               precision    recall  f1-score   support\n",
      "\n",
      "        ADHD       0.40      0.37      0.38       108\n",
      "     HEALTHY       0.35      0.42      0.38       108\n",
      "         MDD       0.31      0.29      0.30       108\n",
      "         OCD       0.23      0.23      0.23       108\n",
      "         SMC       0.33      0.31      0.32       108\n",
      "\n",
      "    accuracy                           0.32       540\n",
      "   macro avg       0.32      0.32      0.32       540\n",
      "weighted avg       0.32      0.32      0.32       540\n",
      "\n"
     ]
    },
    {
     "name": "stderr",
     "output_type": "stream",
     "text": [
      "c:\\Users\\tuur\\anaconda3\\envs\\mne\\Lib\\site-packages\\lightning\\pytorch\\loops\\fit_loop.py:298: The number of training batches (2) is smaller than the logging interval Trainer(log_every_n_steps=10). Set a lower value for log_every_n_steps if you want to see logs for the training epoch.\n"
     ]
    },
    {
     "name": "stdout",
     "output_type": "stream",
     "text": [
      "\n",
      "Final evaluation #2 trial:\n"
     ]
    },
    {
     "data": {
      "text/html": [
       "<pre style=\"white-space:pre;overflow-x:auto;line-height:normal;font-family:Menlo,'DejaVu Sans Mono',consolas,'Courier New',monospace\">┏━━━━━━━━━━━━━━━━━━━━━━━━━━━┳━━━━━━━━━━━━━━━━━━━━━━━━━━━┓\n",
       "┃<span style=\"font-weight: bold\">      Validate metric      </span>┃<span style=\"font-weight: bold\">       DataLoader 0        </span>┃\n",
       "┡━━━━━━━━━━━━━━━━━━━━━━━━━━━╇━━━━━━━━━━━━━━━━━━━━━━━━━━━┩\n",
       "│<span style=\"color: #008080; text-decoration-color: #008080\">          val_f1           </span>│<span style=\"color: #800080; text-decoration-color: #800080\">    0.3124884366989136     </span>│\n",
       "│<span style=\"color: #008080; text-decoration-color: #008080\">         val_loss          </span>│<span style=\"color: #800080; text-decoration-color: #800080\">     2.309211015701294     </span>│\n",
       "└───────────────────────────┴───────────────────────────┘\n",
       "</pre>\n"
      ],
      "text/plain": [
       "┏━━━━━━━━━━━━━━━━━━━━━━━━━━━┳━━━━━━━━━━━━━━━━━━━━━━━━━━━┓\n",
       "┃\u001b[1m \u001b[0m\u001b[1m     Validate metric     \u001b[0m\u001b[1m \u001b[0m┃\u001b[1m \u001b[0m\u001b[1m      DataLoader 0       \u001b[0m\u001b[1m \u001b[0m┃\n",
       "┡━━━━━━━━━━━━━━━━━━━━━━━━━━━╇━━━━━━━━━━━━━━━━━━━━━━━━━━━┩\n",
       "│\u001b[36m \u001b[0m\u001b[36m         val_f1          \u001b[0m\u001b[36m \u001b[0m│\u001b[35m \u001b[0m\u001b[35m   0.3124884366989136    \u001b[0m\u001b[35m \u001b[0m│\n",
       "│\u001b[36m \u001b[0m\u001b[36m        val_loss         \u001b[0m\u001b[36m \u001b[0m│\u001b[35m \u001b[0m\u001b[35m    2.309211015701294    \u001b[0m\u001b[35m \u001b[0m│\n",
       "└───────────────────────────┴───────────────────────────┘\n"
      ]
     },
     "metadata": {},
     "output_type": "display_data"
    },
    {
     "name": "stdout",
     "output_type": "stream",
     "text": [
      "classification report:\n",
      "               precision    recall  f1-score   support\n",
      "\n",
      "        ADHD       0.41      0.43      0.42       108\n",
      "     HEALTHY       0.35      0.37      0.36       108\n",
      "         MDD       0.33      0.31      0.32       108\n",
      "         OCD       0.23      0.23      0.23       108\n",
      "         SMC       0.24      0.23      0.23       108\n",
      "\n",
      "    accuracy                           0.31       540\n",
      "   macro avg       0.31      0.31      0.31       540\n",
      "weighted avg       0.31      0.31      0.31       540\n",
      "\n"
     ]
    },
    {
     "name": "stderr",
     "output_type": "stream",
     "text": [
      "c:\\Users\\tuur\\anaconda3\\envs\\mne\\Lib\\site-packages\\lightning\\pytorch\\loops\\fit_loop.py:298: The number of training batches (2) is smaller than the logging interval Trainer(log_every_n_steps=10). Set a lower value for log_every_n_steps if you want to see logs for the training epoch.\n"
     ]
    },
    {
     "name": "stdout",
     "output_type": "stream",
     "text": [
      "\n",
      "Final evaluation #3 trial:\n"
     ]
    },
    {
     "data": {
      "text/html": [
       "<pre style=\"white-space:pre;overflow-x:auto;line-height:normal;font-family:Menlo,'DejaVu Sans Mono',consolas,'Courier New',monospace\">┏━━━━━━━━━━━━━━━━━━━━━━━━━━━┳━━━━━━━━━━━━━━━━━━━━━━━━━━━┓\n",
       "┃<span style=\"font-weight: bold\">      Validate metric      </span>┃<span style=\"font-weight: bold\">       DataLoader 0        </span>┃\n",
       "┡━━━━━━━━━━━━━━━━━━━━━━━━━━━╇━━━━━━━━━━━━━━━━━━━━━━━━━━━┩\n",
       "│<span style=\"color: #008080; text-decoration-color: #008080\">          val_f1           </span>│<span style=\"color: #800080; text-decoration-color: #800080\">     0.317320317029953     </span>│\n",
       "│<span style=\"color: #008080; text-decoration-color: #008080\">         val_loss          </span>│<span style=\"color: #800080; text-decoration-color: #800080\">     2.590172290802002     </span>│\n",
       "└───────────────────────────┴───────────────────────────┘\n",
       "</pre>\n"
      ],
      "text/plain": [
       "┏━━━━━━━━━━━━━━━━━━━━━━━━━━━┳━━━━━━━━━━━━━━━━━━━━━━━━━━━┓\n",
       "┃\u001b[1m \u001b[0m\u001b[1m     Validate metric     \u001b[0m\u001b[1m \u001b[0m┃\u001b[1m \u001b[0m\u001b[1m      DataLoader 0       \u001b[0m\u001b[1m \u001b[0m┃\n",
       "┡━━━━━━━━━━━━━━━━━━━━━━━━━━━╇━━━━━━━━━━━━━━━━━━━━━━━━━━━┩\n",
       "│\u001b[36m \u001b[0m\u001b[36m         val_f1          \u001b[0m\u001b[36m \u001b[0m│\u001b[35m \u001b[0m\u001b[35m    0.317320317029953    \u001b[0m\u001b[35m \u001b[0m│\n",
       "│\u001b[36m \u001b[0m\u001b[36m        val_loss         \u001b[0m\u001b[36m \u001b[0m│\u001b[35m \u001b[0m\u001b[35m    2.590172290802002    \u001b[0m\u001b[35m \u001b[0m│\n",
       "└───────────────────────────┴───────────────────────────┘\n"
      ]
     },
     "metadata": {},
     "output_type": "display_data"
    },
    {
     "name": "stdout",
     "output_type": "stream",
     "text": [
      "classification report:\n",
      "               precision    recall  f1-score   support\n",
      "\n",
      "        ADHD       0.35      0.39      0.37       108\n",
      "     HEALTHY       0.38      0.44      0.41       108\n",
      "         MDD       0.33      0.29      0.31       108\n",
      "         OCD       0.25      0.27      0.26       108\n",
      "         SMC       0.27      0.22      0.24       108\n",
      "\n",
      "    accuracy                           0.32       540\n",
      "   macro avg       0.32      0.32      0.32       540\n",
      "weighted avg       0.32      0.32      0.32       540\n",
      "\n",
      "Mean f1-score 3 best trials: 0.3177\n",
      "STD f1-score 3 best trials: 0.0044\n"
     ]
    },
    {
     "data": {
      "image/png": "[encoded data removed]",
      "text/plain": [
       "<Figure size 2400x1600 with 3 Axes>"
      ]
     },
     "metadata": {},
     "output_type": "display_data"
    }
   ],
   "source": [
    "from lightning.pytorch.tuner import Tuner\n",
    "from lightning.pytorch import Trainer\n",
    "from lightning.pytorch.callbacks import ModelCheckpoint, TQDMProgressBar, RichProgressBar, ModelSummary\n",
    "from lightning.pytorch.callbacks.early_stopping import EarlyStopping\n",
    "import logging\n",
    "import warnings\n",
    "warnings.filterwarnings(\"ignore\", \".*Consider increasing the value of the `num_workers` argument*\")\n",
    "warnings.filterwarnings(\"ignore\", \"Trying to infer the `batch_size` from an ambiguous collection.*\")\n",
    "torch.set_float32_matmul_precision('high')\n",
    "logging.getLogger(\"lightning.pytorch.utilities.rank_zero\").setLevel(logging.WARNING)\n",
    "logging.getLogger(\"lightning.pytorch.accelerators.cuda\").setLevel(logging.WARNING)\n",
    "\n",
    "# create subplots for confusion matrices\n",
    "fig, ax = plt.subplots(1, 3, figsize=(24, 16))\n",
    "\n",
    "# list for storing f1-scores:\n",
    "f1_scores = []\n",
    "\n",
    "# iterate over the 3 best trials during tuning\n",
    "for num, trial in enumerate(df_trials_wo_edge_attrs.iterrows()):\n",
    "    # retrieve the hyperparameters\n",
    "    learning_rate = trial[1]['params_learning_rate']\n",
    "    optimizer_name = trial[1]['params_optimizer']\n",
    "    fc_layers = trial[1]['params_fc_layers']\n",
    "    dropout = trial[1]['params_dropout']\n",
    "    batch_size = trial[1]['params_batch_size']\n",
    "\n",
    "    # use best parameters from optuna\n",
    "    model = graphLambda_wo_edge_attr(learning_rate=learning_rate, optimizer_name=optimizer_name, fc_layers=fc_layers, dropout=dropout)\n",
    "    n_epochs = batch_size * 4\n",
    "\n",
    "    # Define the data loaders\n",
    "    train_loader = DataLoader(X_train, batch_size=batch_size, shuffle=True,\n",
    "                                drop_last=True) # , num_workers=0, persistent_workers=True\n",
    "    val_loader = DataLoader(X_val, batch_size=len(X_val), shuffle=False,\n",
    "                                drop_last=True) # , num_workers=0, persistent_workers=True\n",
    "\n",
    "\n",
    "    checkpoint_callback = ModelCheckpoint(monitor='val_f1',\n",
    "                                        mode='max',\n",
    "                                        save_top_k=5,\n",
    "                                        filename='{epoch}-{train_loss:.2f}-{train_f1:.2f}-{val_loss:.2f}-{val_f1:.2f}',\n",
    "                                        )\n",
    "\n",
    "\n",
    "    trainer = Trainer(callbacks=[checkpoint_callback, ModelSummary(max_depth=0)],\n",
    "                    accelerator='gpu',\n",
    "                    max_epochs=n_epochs,\n",
    "                    enable_progress_bar=False,\n",
    "                    check_val_every_n_epoch=10,\n",
    "                    log_every_n_steps=10,\n",
    "                    deterministic=False,\n",
    "                    )\n",
    "\n",
    "    trainer.fit(model, train_loader, val_loader)\n",
    "\n",
    "    print()\n",
    "    print(f'Final evaluation #{num+1} trial:')\n",
    "    # get evaluation of best model checkpoint\n",
    "    trainer.validate(model, val_loader, ckpt_path='best')\n",
    "\n",
    "    # compute confusion matrix and classification report with sklearn of best model checkpoint\n",
    "    from sklearn.metrics import f1_score, classification_report, confusion_matrix, ConfusionMatrixDisplay\n",
    "    y_pred = trainer.predict(model, val_loader, ckpt_path='best')\n",
    "    y_pred = np.concatenate(y_pred).flatten()\n",
    "    y = Y_val\n",
    "\n",
    "    class_labels = le.inverse_transform(sorted(np.unique(y)))\n",
    "    print('classification report:\\n', classification_report(y, y_pred, target_names=class_labels))\n",
    "    f1_scores.append(f1_score(y, y_pred, average=\"macro\"))\n",
    "\n",
    "    # plot confusion matrix\n",
    "    conf_matrix = confusion_matrix(y, y_pred)\n",
    "    ConfusionMatrixDisplay(conf_matrix, display_labels = class_labels).plot(cmap = 'Blues', values_format = 'd', colorbar=False, ax=ax[num])\n",
    "    ax[num].set_title(f'Confusion matrix {num+1}, f1: {f1_score(y, y_pred, average=\"macro\"):.4f}')\n",
    "print(f'Mean f1-score 3 best trials: {np.mean(f1_scores):.4f}')\n",
    "print(f'STD f1-score 3 best trials: {np.std(f1_scores):.4f}')"
   ]
  },
  {
   "cell_type": "markdown",
   "metadata": {},
   "source": [
    "### Model: graphLambda with edge_attr"
   ]
  },
  {
   "cell_type": "code",
   "execution_count": 18,
   "metadata": {},
   "outputs": [
    {
     "data": {
      "text/html": [
       "<div>\n",
       "<style scoped>\n",
       "    .dataframe tbody tr th:only-of-type {\n",
       "        vertical-align: middle;\n",
       "    }\n",
       "\n",
       "    .dataframe tbody tr th {\n",
       "        vertical-align: top;\n",
       "    }\n",
       "\n",
       "    .dataframe thead th {\n",
       "        text-align: right;\n",
       "    }\n",
       "</style>\n",
       "<table border=\"1\" class=\"dataframe\">\n",
       "  <thead>\n",
       "    <tr style=\"text-align: right;\">\n",
       "      <th></th>\n",
       "      <th>number</th>\n",
       "      <th>value</th>\n",
       "      <th>datetime_start</th>\n",
       "      <th>datetime_complete</th>\n",
       "      <th>duration</th>\n",
       "      <th>params_batch_size</th>\n",
       "      <th>params_dropout</th>\n",
       "      <th>params_fc_layers</th>\n",
       "      <th>params_learning_rate</th>\n",
       "      <th>params_optimizer</th>\n",
       "      <th>state</th>\n",
       "    </tr>\n",
       "  </thead>\n",
       "  <tbody>\n",
       "    <tr>\n",
       "      <th>24</th>\n",
       "      <td>24</td>\n",
       "      <td>0.351992</td>\n",
       "      <td>2024-06-05 00:00:58.384045</td>\n",
       "      <td>2024-06-05 00:04:00.951588</td>\n",
       "      <td>0 days 00:03:02.567543</td>\n",
       "      <td>170</td>\n",
       "      <td>0.299775</td>\n",
       "      <td>6</td>\n",
       "      <td>0.001454</td>\n",
       "      <td>Adam</td>\n",
       "      <td>COMPLETE</td>\n",
       "    </tr>\n",
       "    <tr>\n",
       "      <th>75</th>\n",
       "      <td>75</td>\n",
       "      <td>0.341787</td>\n",
       "      <td>2024-06-05 03:09:29.278275</td>\n",
       "      <td>2024-06-05 03:15:45.543977</td>\n",
       "      <td>0 days 00:06:16.265702</td>\n",
       "      <td>680</td>\n",
       "      <td>0.442808</td>\n",
       "      <td>7</td>\n",
       "      <td>0.000966</td>\n",
       "      <td>Adam</td>\n",
       "      <td>COMPLETE</td>\n",
       "    </tr>\n",
       "    <tr>\n",
       "      <th>26</th>\n",
       "      <td>26</td>\n",
       "      <td>0.337003</td>\n",
       "      <td>2024-06-05 00:04:28.299002</td>\n",
       "      <td>2024-06-05 00:07:26.898730</td>\n",
       "      <td>0 days 00:02:58.599728</td>\n",
       "      <td>170</td>\n",
       "      <td>0.007451</td>\n",
       "      <td>6</td>\n",
       "      <td>0.001398</td>\n",
       "      <td>Adam</td>\n",
       "      <td>COMPLETE</td>\n",
       "    </tr>\n",
       "  </tbody>\n",
       "</table>\n",
       "</div>"
      ],
      "text/plain": [
       "    number     value             datetime_start          datetime_complete  \\\n",
       "24      24  0.351992 2024-06-05 00:00:58.384045 2024-06-05 00:04:00.951588   \n",
       "75      75  0.341787 2024-06-05 03:09:29.278275 2024-06-05 03:15:45.543977   \n",
       "26      26  0.337003 2024-06-05 00:04:28.299002 2024-06-05 00:07:26.898730   \n",
       "\n",
       "                 duration  params_batch_size  params_dropout  \\\n",
       "24 0 days 00:03:02.567543                170        0.299775   \n",
       "75 0 days 00:06:16.265702                680        0.442808   \n",
       "26 0 days 00:02:58.599728                170        0.007451   \n",
       "\n",
       "    params_fc_layers  params_learning_rate params_optimizer     state  \n",
       "24                 6              0.001454             Adam  COMPLETE  \n",
       "75                 7              0.000966             Adam  COMPLETE  \n",
       "26                 6              0.001398             Adam  COMPLETE  "
      ]
     },
     "execution_count": 18,
     "metadata": {},
     "output_type": "execute_result"
    }
   ],
   "source": [
    "# import best trials from tuning\n",
    "df_trials_w_edge_attrs = pd.read_pickle('tuning_results\\ec_results_w_edge_attrs_trials.pkl')\n",
    "df_trials_w_edge_attrs = df_trials_w_edge_attrs.sort_values('value', ascending=False).head(3)\n",
    "df_trials_w_edge_attrs"
   ]
  },
  {
   "cell_type": "code",
   "execution_count": 19,
   "metadata": {},
   "outputs": [
    {
     "name": "stdout",
     "output_type": "stream",
     "text": [
      "\n",
      "Final evaluation #1 trial:\n"
     ]
    },
    {
     "data": {
      "text/html": [
       "<pre style=\"white-space:pre;overflow-x:auto;line-height:normal;font-family:Menlo,'DejaVu Sans Mono',consolas,'Courier New',monospace\">┏━━━━━━━━━━━━━━━━━━━━━━━━━━━┳━━━━━━━━━━━━━━━━━━━━━━━━━━━┓\n",
       "┃<span style=\"font-weight: bold\">      Validate metric      </span>┃<span style=\"font-weight: bold\">       DataLoader 0        </span>┃\n",
       "┡━━━━━━━━━━━━━━━━━━━━━━━━━━━╇━━━━━━━━━━━━━━━━━━━━━━━━━━━┩\n",
       "│<span style=\"color: #008080; text-decoration-color: #008080\">          val_f1           </span>│<span style=\"color: #800080; text-decoration-color: #800080\">    0.14827871322631836    </span>│\n",
       "│<span style=\"color: #008080; text-decoration-color: #008080\">         val_loss          </span>│<span style=\"color: #800080; text-decoration-color: #800080\">    1.7486146688461304     </span>│\n",
       "└───────────────────────────┴───────────────────────────┘\n",
       "</pre>\n"
      ],
      "text/plain": [
       "┏━━━━━━━━━━━━━━━━━━━━━━━━━━━┳━━━━━━━━━━━━━━━━━━━━━━━━━━━┓\n",
       "┃\u001b[1m \u001b[0m\u001b[1m     Validate metric     \u001b[0m\u001b[1m \u001b[0m┃\u001b[1m \u001b[0m\u001b[1m      DataLoader 0       \u001b[0m\u001b[1m \u001b[0m┃\n",
       "┡━━━━━━━━━━━━━━━━━━━━━━━━━━━╇━━━━━━━━━━━━━━━━━━━━━━━━━━━┩\n",
       "│\u001b[36m \u001b[0m\u001b[36m         val_f1          \u001b[0m\u001b[36m \u001b[0m│\u001b[35m \u001b[0m\u001b[35m   0.14827871322631836   \u001b[0m\u001b[35m \u001b[0m│\n",
       "│\u001b[36m \u001b[0m\u001b[36m        val_loss         \u001b[0m\u001b[36m \u001b[0m│\u001b[35m \u001b[0m\u001b[35m   1.7486146688461304    \u001b[0m\u001b[35m \u001b[0m│\n",
       "└───────────────────────────┴───────────────────────────┘\n"
      ]
     },
     "metadata": {},
     "output_type": "display_data"
    },
    {
     "name": "stderr",
     "output_type": "stream",
     "text": [
      "c:\\Users\\tuur\\anaconda3\\envs\\mne\\Lib\\site-packages\\sklearn\\metrics\\_classification.py:1509: UndefinedMetricWarning: Precision is ill-defined and being set to 0.0 in labels with no predicted samples. Use `zero_division` parameter to control this behavior.\n",
      "  _warn_prf(average, modifier, f\"{metric.capitalize()} is\", len(result))\n",
      "c:\\Users\\tuur\\anaconda3\\envs\\mne\\Lib\\site-packages\\sklearn\\metrics\\_classification.py:1509: UndefinedMetricWarning: Precision is ill-defined and being set to 0.0 in labels with no predicted samples. Use `zero_division` parameter to control this behavior.\n",
      "  _warn_prf(average, modifier, f\"{metric.capitalize()} is\", len(result))\n",
      "c:\\Users\\tuur\\anaconda3\\envs\\mne\\Lib\\site-packages\\sklearn\\metrics\\_classification.py:1509: UndefinedMetricWarning: Precision is ill-defined and being set to 0.0 in labels with no predicted samples. Use `zero_division` parameter to control this behavior.\n",
      "  _warn_prf(average, modifier, f\"{metric.capitalize()} is\", len(result))\n"
     ]
    },
    {
     "name": "stdout",
     "output_type": "stream",
     "text": [
      "classification report:\n",
      "               precision    recall  f1-score   support\n",
      "\n",
      "        ADHD       0.22      0.86      0.35       108\n",
      "     HEALTHY       0.00      0.00      0.00       108\n",
      "         MDD       0.00      0.00      0.00       108\n",
      "         OCD       0.00      0.00      0.00       108\n",
      "         SMC       0.38      0.41      0.39       108\n",
      "\n",
      "    accuracy                           0.25       540\n",
      "   macro avg       0.12      0.25      0.15       540\n",
      "weighted avg       0.12      0.25      0.15       540\n",
      "\n"
     ]
    },
    {
     "name": "stderr",
     "output_type": "stream",
     "text": [
      "c:\\Users\\tuur\\anaconda3\\envs\\mne\\Lib\\site-packages\\lightning\\pytorch\\loops\\fit_loop.py:298: The number of training batches (2) is smaller than the logging interval Trainer(log_every_n_steps=10). Set a lower value for log_every_n_steps if you want to see logs for the training epoch.\n"
     ]
    },
    {
     "name": "stdout",
     "output_type": "stream",
     "text": [
      "\n",
      "Final evaluation #2 trial:\n"
     ]
    },
    {
     "data": {
      "text/html": [
       "<pre style=\"white-space:pre;overflow-x:auto;line-height:normal;font-family:Menlo,'DejaVu Sans Mono',consolas,'Courier New',monospace\">┏━━━━━━━━━━━━━━━━━━━━━━━━━━━┳━━━━━━━━━━━━━━━━━━━━━━━━━━━┓\n",
       "┃<span style=\"font-weight: bold\">      Validate metric      </span>┃<span style=\"font-weight: bold\">       DataLoader 0        </span>┃\n",
       "┡━━━━━━━━━━━━━━━━━━━━━━━━━━━╇━━━━━━━━━━━━━━━━━━━━━━━━━━━┩\n",
       "│<span style=\"color: #008080; text-decoration-color: #008080\">          val_f1           </span>│<span style=\"color: #800080; text-decoration-color: #800080\">    0.29906678199768066    </span>│\n",
       "│<span style=\"color: #008080; text-decoration-color: #008080\">         val_loss          </span>│<span style=\"color: #800080; text-decoration-color: #800080\">     5.993618965148926     </span>│\n",
       "└───────────────────────────┴───────────────────────────┘\n",
       "</pre>\n"
      ],
      "text/plain": [
       "┏━━━━━━━━━━━━━━━━━━━━━━━━━━━┳━━━━━━━━━━━━━━━━━━━━━━━━━━━┓\n",
       "┃\u001b[1m \u001b[0m\u001b[1m     Validate metric     \u001b[0m\u001b[1m \u001b[0m┃\u001b[1m \u001b[0m\u001b[1m      DataLoader 0       \u001b[0m\u001b[1m \u001b[0m┃\n",
       "┡━━━━━━━━━━━━━━━━━━━━━━━━━━━╇━━━━━━━━━━━━━━━━━━━━━━━━━━━┩\n",
       "│\u001b[36m \u001b[0m\u001b[36m         val_f1          \u001b[0m\u001b[36m \u001b[0m│\u001b[35m \u001b[0m\u001b[35m   0.29906678199768066   \u001b[0m\u001b[35m \u001b[0m│\n",
       "│\u001b[36m \u001b[0m\u001b[36m        val_loss         \u001b[0m\u001b[36m \u001b[0m│\u001b[35m \u001b[0m\u001b[35m    5.993618965148926    \u001b[0m\u001b[35m \u001b[0m│\n",
       "└───────────────────────────┴───────────────────────────┘\n"
      ]
     },
     "metadata": {},
     "output_type": "display_data"
    },
    {
     "name": "stderr",
     "output_type": "stream",
     "text": [
      "c:\\Users\\tuur\\anaconda3\\envs\\mne\\Lib\\site-packages\\sklearn\\metrics\\_classification.py:1509: UndefinedMetricWarning: Precision is ill-defined and being set to 0.0 in labels with no predicted samples. Use `zero_division` parameter to control this behavior.\n",
      "  _warn_prf(average, modifier, f\"{metric.capitalize()} is\", len(result))\n",
      "c:\\Users\\tuur\\anaconda3\\envs\\mne\\Lib\\site-packages\\sklearn\\metrics\\_classification.py:1509: UndefinedMetricWarning: Precision is ill-defined and being set to 0.0 in labels with no predicted samples. Use `zero_division` parameter to control this behavior.\n",
      "  _warn_prf(average, modifier, f\"{metric.capitalize()} is\", len(result))\n",
      "c:\\Users\\tuur\\anaconda3\\envs\\mne\\Lib\\site-packages\\sklearn\\metrics\\_classification.py:1509: UndefinedMetricWarning: Precision is ill-defined and being set to 0.0 in labels with no predicted samples. Use `zero_division` parameter to control this behavior.\n",
      "  _warn_prf(average, modifier, f\"{metric.capitalize()} is\", len(result))\n"
     ]
    },
    {
     "name": "stdout",
     "output_type": "stream",
     "text": [
      "classification report:\n",
      "               precision    recall  f1-score   support\n",
      "\n",
      "        ADHD       0.30      0.63      0.41       108\n",
      "     HEALTHY       0.39      0.41      0.40       108\n",
      "         MDD       0.00      0.00      0.00       108\n",
      "         OCD       0.34      0.31      0.32       108\n",
      "         SMC       0.37      0.36      0.37       108\n",
      "\n",
      "    accuracy                           0.34       540\n",
      "   macro avg       0.28      0.34      0.30       540\n",
      "weighted avg       0.28      0.34      0.30       540\n",
      "\n",
      "\n",
      "Final evaluation #3 trial:\n"
     ]
    },
    {
     "data": {
      "text/html": [
       "<pre style=\"white-space:pre;overflow-x:auto;line-height:normal;font-family:Menlo,'DejaVu Sans Mono',consolas,'Courier New',monospace\">┏━━━━━━━━━━━━━━━━━━━━━━━━━━━┳━━━━━━━━━━━━━━━━━━━━━━━━━━━┓\n",
       "┃<span style=\"font-weight: bold\">      Validate metric      </span>┃<span style=\"font-weight: bold\">       DataLoader 0        </span>┃\n",
       "┡━━━━━━━━━━━━━━━━━━━━━━━━━━━╇━━━━━━━━━━━━━━━━━━━━━━━━━━━┩\n",
       "│<span style=\"color: #008080; text-decoration-color: #008080\">          val_f1           </span>│<span style=\"color: #800080; text-decoration-color: #800080\">    0.33903050422668457    </span>│\n",
       "│<span style=\"color: #008080; text-decoration-color: #008080\">         val_loss          </span>│<span style=\"color: #800080; text-decoration-color: #800080\">    4.7935895919799805     </span>│\n",
       "└───────────────────────────┴───────────────────────────┘\n",
       "</pre>\n"
      ],
      "text/plain": [
       "┏━━━━━━━━━━━━━━━━━━━━━━━━━━━┳━━━━━━━━━━━━━━━━━━━━━━━━━━━┓\n",
       "┃\u001b[1m \u001b[0m\u001b[1m     Validate metric     \u001b[0m\u001b[1m \u001b[0m┃\u001b[1m \u001b[0m\u001b[1m      DataLoader 0       \u001b[0m\u001b[1m \u001b[0m┃\n",
       "┡━━━━━━━━━━━━━━━━━━━━━━━━━━━╇━━━━━━━━━━━━━━━━━━━━━━━━━━━┩\n",
       "│\u001b[36m \u001b[0m\u001b[36m         val_f1          \u001b[0m\u001b[36m \u001b[0m│\u001b[35m \u001b[0m\u001b[35m   0.33903050422668457   \u001b[0m\u001b[35m \u001b[0m│\n",
       "│\u001b[36m \u001b[0m\u001b[36m        val_loss         \u001b[0m\u001b[36m \u001b[0m│\u001b[35m \u001b[0m\u001b[35m   4.7935895919799805    \u001b[0m\u001b[35m \u001b[0m│\n",
       "└───────────────────────────┴───────────────────────────┘\n"
      ]
     },
     "metadata": {},
     "output_type": "display_data"
    },
    {
     "name": "stdout",
     "output_type": "stream",
     "text": [
      "classification report:\n",
      "               precision    recall  f1-score   support\n",
      "\n",
      "        ADHD       0.43      0.44      0.44       108\n",
      "     HEALTHY       0.38      0.41      0.39       108\n",
      "         MDD       0.29      0.31      0.30       108\n",
      "         OCD       0.25      0.22      0.24       108\n",
      "         SMC       0.34      0.32      0.33       108\n",
      "\n",
      "    accuracy                           0.34       540\n",
      "   macro avg       0.34      0.34      0.34       540\n",
      "weighted avg       0.34      0.34      0.34       540\n",
      "\n",
      "Mean f1-score 3 best trials: 0.2621\n",
      "STD f1-score 3 best trials: 0.0821\n"
     ]
    },
    {
     "data": {
      "image/png": "[encoded data removed]",
      "text/plain": [
       "<Figure size 2400x1600 with 3 Axes>"
      ]
     },
     "metadata": {},
     "output_type": "display_data"
    }
   ],
   "source": [
    "from lightning.pytorch.tuner import Tuner\n",
    "from lightning.pytorch import Trainer, seed_everything\n",
    "from lightning.pytorch.callbacks import ModelCheckpoint, TQDMProgressBar, RichProgressBar, ModelSummary\n",
    "from lightning.pytorch.callbacks.early_stopping import EarlyStopping\n",
    "import logging\n",
    "import warnings\n",
    "warnings.filterwarnings(\"ignore\", \".*Consider increasing the value of the `num_workers` argument*\")\n",
    "warnings.filterwarnings(\"ignore\", \"Trying to infer the `batch_size` from an ambiguous collection.*\")\n",
    "torch.set_float32_matmul_precision('high')\n",
    "logging.getLogger(\"lightning.pytorch.utilities.rank_zero\").setLevel(logging.WARNING)\n",
    "logging.getLogger(\"lightning.pytorch.accelerators.cuda\").setLevel(logging.WARNING)\n",
    "\n",
    "# create subplots for confusion matrices\n",
    "fig, ax = plt.subplots(1, 3, figsize=(24, 16))\n",
    "\n",
    "# list for storing f1-scores:\n",
    "f1_scores = []\n",
    "\n",
    "# iterate over the 3 best trials during tuning\n",
    "for num, trial in enumerate(df_trials_w_edge_attrs.iterrows()):\n",
    "    # retrieve the hyperparameters\n",
    "    learning_rate = trial[1]['params_learning_rate']\n",
    "    optimizer_name = trial[1]['params_optimizer']\n",
    "    fc_layers = trial[1]['params_fc_layers']\n",
    "    dropout = trial[1]['params_dropout']\n",
    "    batch_size = trial[1]['params_batch_size']\n",
    "    n_epochs = batch_size * 4\n",
    "    # use best parameters from optuna\n",
    "    model = graphLambda_wo_edge_attr(learning_rate=learning_rate, optimizer_name=optimizer_name, fc_layers=fc_layers, dropout=dropout)\n",
    "\n",
    "    # Define the data loaders\n",
    "    train_loader = DataLoader(X_train, batch_size=batch_size, shuffle=True,\n",
    "                                drop_last=True) # , num_workers=0, persistent_workers=True\n",
    "    val_loader = DataLoader(X_val, batch_size=len(X_val), shuffle=False,\n",
    "                                drop_last=True) # , num_workers=0, persistent_workers=True\n",
    "\n",
    "\n",
    "    checkpoint_callback = ModelCheckpoint(monitor='val_f1',\n",
    "                                        mode='max',\n",
    "                                        save_top_k=5,\n",
    "                                        filename='{epoch}-{train_loss:.2f}-{train_f1:.2f}-{val_loss:.2f}-{val_f1:.2f}',\n",
    "                                        )\n",
    "\n",
    "\n",
    "    trainer = Trainer(callbacks=[checkpoint_callback, ModelSummary(max_depth=0)],\n",
    "                    accelerator='gpu',\n",
    "                    max_epochs=n_epochs,\n",
    "                    enable_progress_bar=False,\n",
    "                    check_val_every_n_epoch=10,\n",
    "                    log_every_n_steps=10,\n",
    "                    deterministic=False,\n",
    "                    )\n",
    "\n",
    "    trainer.fit(model, train_loader, val_loader)\n",
    "\n",
    "    print()\n",
    "    print(f'Final evaluation #{num+1} trial:')\n",
    "    # get evaluation of best model checkpoint\n",
    "    trainer.validate(model, val_loader, ckpt_path='best')\n",
    "\n",
    "    # compute confusion matrix and classification report with sklearn of best model checkpoint\n",
    "    from sklearn.metrics import f1_score, classification_report, confusion_matrix, ConfusionMatrixDisplay\n",
    "    y_pred = trainer.predict(model, val_loader, ckpt_path='best')\n",
    "    y_pred = np.concatenate(y_pred).flatten()\n",
    "    y = Y_val\n",
    "\n",
    "    class_labels = le.inverse_transform(sorted(np.unique(y)))\n",
    "    print('classification report:\\n', classification_report(y, y_pred, target_names=class_labels))\n",
    "    f1_scores.append(f1_score(y, y_pred, average=\"macro\"))\n",
    "\n",
    "    # plot confusion matrix\n",
    "    conf_matrix = confusion_matrix(y, y_pred)\n",
    "    ConfusionMatrixDisplay(conf_matrix, display_labels = class_labels).plot(cmap = 'Blues', values_format = 'd', colorbar=False, ax=ax[num])\n",
    "    ax[num].set_title(f'Confusion matrix {num+1}, f1: {f1_score(y, y_pred, average=\"macro\"):.4f}')\n",
    "print(f'Mean f1-score 3 best trials: {np.mean(f1_scores):.4f}')\n",
    "print(f'STD f1-score 3 best trials: {np.std(f1_scores):.4f}')"
   ]
  },
  {
   "cell_type": "markdown",
   "metadata": {},
   "source": [
    "# 2. EO feature set"
   ]
  },
  {
   "cell_type": "code",
   "execution_count": 59,
   "metadata": {},
   "outputs": [
    {
     "name": "stdout",
     "output_type": "stream",
     "text": [
      "len(eo_graph_dataset) = 2700\n",
      "len(baseline_rest_idxs) = 2160, len(baseline_val_idxs) = 540, total: 2700\n",
      "len(X_traintest) = 2160, len(X_val) = 540\n",
      "len(train_idxs) = 1716, len(test_idxs) = 444, total: 2160\n"
     ]
    }
   ],
   "source": [
    "from sklearn.model_selection import StratifiedGroupKFold\n",
    "\n",
    "baseline_rest_idxs = data_split_indices['EO'][0]\n",
    "baseline_val_idxs = data_split_indices['EO'][1]\n",
    "\n",
    "# first splitting validation data using the first split from the baseline RF model\n",
    "groups = [elem for elem in subjects_eo_ids for i in range(12)] # times 12 for each epoch\n",
    "\n",
    "print(f'{len(eo_graph_dataset) = }')\n",
    "print(f'{len(baseline_rest_idxs) = }, {len(baseline_val_idxs) = }, total: {len(baseline_rest_idxs)+len(baseline_val_idxs)}')\n",
    "\n",
    "X_traintest = [eo_graph_dataset[i] for i in baseline_rest_idxs] \n",
    "X_val = [eo_graph_dataset[i] for i in baseline_val_idxs]\n",
    "Y_traintest =[eo_y_list[i] for i in baseline_rest_idxs]\n",
    "Y_val = [eo_y_list[i] for i in baseline_val_idxs]\n",
    "groups_traintest = [groups[i] for i in baseline_rest_idxs]\n",
    "groups_val = [groups[i] for i in baseline_val_idxs]\n",
    "\n",
    "# now splitting the test and training data with seperate StratifiedGroupKFold\n",
    "desired_test_ratio = 0.20\n",
    "n_splits = int(1 / desired_test_ratio) # for some reason (?), n_splits also determines the proportion between train & test indices\n",
    "sgkf = StratifiedGroupKFold(n_splits=n_splits, shuffle=False)  # should shuffle be true?\n",
    "\n",
    "train_idxs, test_idxs = sgkf.split(X_traintest, Y_traintest, groups_traintest).__next__() # just take the first split\n",
    "print(f'{len(X_traintest) = }, {len(X_val) = }')\n",
    "print(f'{len(train_idxs) = }, {len(test_idxs) = }, total: {len(train_idxs)+len(test_idxs)}')\n",
    "\n",
    "X_train = [X_traintest[i] for i in train_idxs] # X also includes y values, because they are stored in the Data object\n",
    "X_test = [X_traintest[i] for i in test_idxs]\n",
    "Y_train =[Y_traintest[i] for i in train_idxs]\n",
    "Y_test = [Y_traintest[i] for i in test_idxs]"
   ]
  },
  {
   "cell_type": "code",
   "execution_count": null,
   "metadata": {},
   "outputs": [
    {
     "data": {
      "image/png": "[encoded data removed]",
      "text/plain": [
       "<Figure size 1200x600 with 2 Axes>"
      ]
     },
     "metadata": {},
     "output_type": "display_data"
    }
   ],
   "source": [
    "# standardize statistical node features\n",
    "from sklearn.preprocessing import StandardScaler\n",
    "\n",
    "# Concatenate all x values before scaling for the first feature, as a sanity check for standardization\n",
    "x_before = np.concatenate([data.x.numpy()[:, 0] for data in X_train + X_val + X_test])\n",
    "\n",
    "scaler = StandardScaler()\n",
    "scaler.fit(np.vstack([data.x.numpy() for data in X_train + X_val])) # fit on training and validation data\n",
    "\n",
    "\n",
    "# Transform the x values of the data in X_train\n",
    "for data in X_train:\n",
    "    data.x = torch.from_numpy(scaler.transform(data.x.numpy()))\n",
    "\n",
    "# Transform the x values of the data in X_val\n",
    "for data in X_val:\n",
    "    data.x = torch.from_numpy(scaler.transform(data.x.numpy()))\n",
    "\n",
    "# Transform the x values of the data in X_test\n",
    "for data in X_test:\n",
    "    data.x = torch.from_numpy(scaler.transform(data.x.numpy()))\n",
    "\n",
    "# Concatenate all x values after scaling for the first feature, as a sanity check for standardization\n",
    "x_after = np.concatenate([data.x.numpy()[:, 0] for data in X_train + X_val + X_test])\n",
    "\n",
    "# Plot the distribution of the first x feature before and after scaling as a sanity check\n",
    "plt.figure(figsize=(12, 6))\n",
    "\n",
    "plt.subplot(1, 2, 1)\n",
    "plt.hist(x_before, bins=30, color='b', alpha=0.5)\n",
    "plt.title('Before Scaling')\n",
    "\n",
    "plt.subplot(1, 2, 2)\n",
    "plt.hist(x_after, bins=30, color='r', alpha=0.5)\n",
    "plt.title('After Scaling')\n",
    "\n",
    "plt.show()"
   ]
  },
  {
   "cell_type": "markdown",
   "metadata": {},
   "source": [
    "### Model: graphLambda without edge_attr"
   ]
  },
  {
   "cell_type": "code",
   "execution_count": 60,
   "metadata": {},
   "outputs": [
    {
     "data": {
      "text/html": [
       "<div>\n",
       "<style scoped>\n",
       "    .dataframe tbody tr th:only-of-type {\n",
       "        vertical-align: middle;\n",
       "    }\n",
       "\n",
       "    .dataframe tbody tr th {\n",
       "        vertical-align: top;\n",
       "    }\n",
       "\n",
       "    .dataframe thead th {\n",
       "        text-align: right;\n",
       "    }\n",
       "</style>\n",
       "<table border=\"1\" class=\"dataframe\">\n",
       "  <thead>\n",
       "    <tr style=\"text-align: right;\">\n",
       "      <th></th>\n",
       "      <th>number</th>\n",
       "      <th>value</th>\n",
       "      <th>datetime_start</th>\n",
       "      <th>datetime_complete</th>\n",
       "      <th>duration</th>\n",
       "      <th>params_batch_size</th>\n",
       "      <th>params_dropout</th>\n",
       "      <th>params_fc_layers</th>\n",
       "      <th>params_learning_rate</th>\n",
       "      <th>params_optimizer</th>\n",
       "      <th>state</th>\n",
       "    </tr>\n",
       "  </thead>\n",
       "  <tbody>\n",
       "    <tr>\n",
       "      <th>43</th>\n",
       "      <td>43</td>\n",
       "      <td>0.286299</td>\n",
       "      <td>2024-05-23 00:55:16.878320</td>\n",
       "      <td>2024-05-23 00:57:10.948110</td>\n",
       "      <td>0 days 00:01:54.069790</td>\n",
       "      <td>850</td>\n",
       "      <td>0.047770</td>\n",
       "      <td>4</td>\n",
       "      <td>0.001176</td>\n",
       "      <td>SGD</td>\n",
       "      <td>COMPLETE</td>\n",
       "    </tr>\n",
       "    <tr>\n",
       "      <th>89</th>\n",
       "      <td>89</td>\n",
       "      <td>0.286241</td>\n",
       "      <td>2024-05-23 02:42:52.596669</td>\n",
       "      <td>2024-05-23 02:44:55.679856</td>\n",
       "      <td>0 days 00:02:03.083187</td>\n",
       "      <td>510</td>\n",
       "      <td>0.075062</td>\n",
       "      <td>4</td>\n",
       "      <td>0.001842</td>\n",
       "      <td>SGD</td>\n",
       "      <td>COMPLETE</td>\n",
       "    </tr>\n",
       "    <tr>\n",
       "      <th>12</th>\n",
       "      <td>12</td>\n",
       "      <td>0.272355</td>\n",
       "      <td>2024-05-22 23:40:39.686177</td>\n",
       "      <td>2024-05-22 23:42:44.129774</td>\n",
       "      <td>0 days 00:02:04.443597</td>\n",
       "      <td>510</td>\n",
       "      <td>0.226099</td>\n",
       "      <td>3</td>\n",
       "      <td>0.003481</td>\n",
       "      <td>SGD</td>\n",
       "      <td>COMPLETE</td>\n",
       "    </tr>\n",
       "  </tbody>\n",
       "</table>\n",
       "</div>"
      ],
      "text/plain": [
       "    number     value             datetime_start          datetime_complete  \\\n",
       "43      43  0.286299 2024-05-23 00:55:16.878320 2024-05-23 00:57:10.948110   \n",
       "89      89  0.286241 2024-05-23 02:42:52.596669 2024-05-23 02:44:55.679856   \n",
       "12      12  0.272355 2024-05-22 23:40:39.686177 2024-05-22 23:42:44.129774   \n",
       "\n",
       "                 duration  params_batch_size  params_dropout  \\\n",
       "43 0 days 00:01:54.069790                850        0.047770   \n",
       "89 0 days 00:02:03.083187                510        0.075062   \n",
       "12 0 days 00:02:04.443597                510        0.226099   \n",
       "\n",
       "    params_fc_layers  params_learning_rate params_optimizer     state  \n",
       "43                 4              0.001176              SGD  COMPLETE  \n",
       "89                 4              0.001842              SGD  COMPLETE  \n",
       "12                 3              0.003481              SGD  COMPLETE  "
      ]
     },
     "execution_count": 60,
     "metadata": {},
     "output_type": "execute_result"
    }
   ],
   "source": [
    "# import best trials from tuning\n",
    "df_trials_wo_edge_attrs = pd.read_pickle('tuning_results\\eo_results_wo_edge_attrs_trials.pkl')\n",
    "df_trials_wo_edge_attrs = df_trials_wo_edge_attrs.sort_values('value', ascending=False).head(3)\n",
    "df_trials_wo_edge_attrs"
   ]
  },
  {
   "cell_type": "code",
   "execution_count": 61,
   "metadata": {},
   "outputs": [
    {
     "name": "stderr",
     "output_type": "stream",
     "text": [
      "c:\\Users\\tuur\\anaconda3\\envs\\mne\\Lib\\site-packages\\lightning\\pytorch\\loops\\fit_loop.py:298: The number of training batches (2) is smaller than the logging interval Trainer(log_every_n_steps=10). Set a lower value for log_every_n_steps if you want to see logs for the training epoch.\n"
     ]
    },
    {
     "name": "stdout",
     "output_type": "stream",
     "text": [
      "\n",
      "Final evaluation #1 trial:\n"
     ]
    },
    {
     "data": {
      "text/html": [
       "<pre style=\"white-space:pre;overflow-x:auto;line-height:normal;font-family:Menlo,'DejaVu Sans Mono',consolas,'Courier New',monospace\">┏━━━━━━━━━━━━━━━━━━━━━━━━━━━┳━━━━━━━━━━━━━━━━━━━━━━━━━━━┓\n",
       "┃<span style=\"font-weight: bold\">      Validate metric      </span>┃<span style=\"font-weight: bold\">       DataLoader 0        </span>┃\n",
       "┡━━━━━━━━━━━━━━━━━━━━━━━━━━━╇━━━━━━━━━━━━━━━━━━━━━━━━━━━┩\n",
       "│<span style=\"color: #008080; text-decoration-color: #008080\">          val_f1           </span>│<span style=\"color: #800080; text-decoration-color: #800080\">    0.2588820457458496     </span>│\n",
       "│<span style=\"color: #008080; text-decoration-color: #008080\">         val_loss          </span>│<span style=\"color: #800080; text-decoration-color: #800080\">    1.6198196411132812     </span>│\n",
       "└───────────────────────────┴───────────────────────────┘\n",
       "</pre>\n"
      ],
      "text/plain": [
       "┏━━━━━━━━━━━━━━━━━━━━━━━━━━━┳━━━━━━━━━━━━━━━━━━━━━━━━━━━┓\n",
       "┃\u001b[1m \u001b[0m\u001b[1m     Validate metric     \u001b[0m\u001b[1m \u001b[0m┃\u001b[1m \u001b[0m\u001b[1m      DataLoader 0       \u001b[0m\u001b[1m \u001b[0m┃\n",
       "┡━━━━━━━━━━━━━━━━━━━━━━━━━━━╇━━━━━━━━━━━━━━━━━━━━━━━━━━━┩\n",
       "│\u001b[36m \u001b[0m\u001b[36m         val_f1          \u001b[0m\u001b[36m \u001b[0m│\u001b[35m \u001b[0m\u001b[35m   0.2588820457458496    \u001b[0m\u001b[35m \u001b[0m│\n",
       "│\u001b[36m \u001b[0m\u001b[36m        val_loss         \u001b[0m\u001b[36m \u001b[0m│\u001b[35m \u001b[0m\u001b[35m   1.6198196411132812    \u001b[0m\u001b[35m \u001b[0m│\n",
       "└───────────────────────────┴───────────────────────────┘\n"
      ]
     },
     "metadata": {},
     "output_type": "display_data"
    },
    {
     "name": "stdout",
     "output_type": "stream",
     "text": [
      "classification report:\n",
      "               precision    recall  f1-score   support\n",
      "\n",
      "        ADHD       0.39      0.33      0.36       108\n",
      "     HEALTHY       0.24      0.29      0.26       108\n",
      "         MDD       0.24      0.19      0.21       108\n",
      "         OCD       0.21      0.19      0.20       108\n",
      "         SMC       0.24      0.30      0.26       108\n",
      "\n",
      "    accuracy                           0.26       540\n",
      "   macro avg       0.26      0.26      0.26       540\n",
      "weighted avg       0.26      0.26      0.26       540\n",
      "\n"
     ]
    },
    {
     "name": "stderr",
     "output_type": "stream",
     "text": [
      "c:\\Users\\tuur\\anaconda3\\envs\\mne\\Lib\\site-packages\\lightning\\pytorch\\loops\\fit_loop.py:298: The number of training batches (3) is smaller than the logging interval Trainer(log_every_n_steps=10). Set a lower value for log_every_n_steps if you want to see logs for the training epoch.\n"
     ]
    },
    {
     "name": "stdout",
     "output_type": "stream",
     "text": [
      "\n",
      "Final evaluation #2 trial:\n"
     ]
    },
    {
     "data": {
      "text/html": [
       "<pre style=\"white-space:pre;overflow-x:auto;line-height:normal;font-family:Menlo,'DejaVu Sans Mono',consolas,'Courier New',monospace\">┏━━━━━━━━━━━━━━━━━━━━━━━━━━━┳━━━━━━━━━━━━━━━━━━━━━━━━━━━┓\n",
       "┃<span style=\"font-weight: bold\">      Validate metric      </span>┃<span style=\"font-weight: bold\">       DataLoader 0        </span>┃\n",
       "┡━━━━━━━━━━━━━━━━━━━━━━━━━━━╇━━━━━━━━━━━━━━━━━━━━━━━━━━━┩\n",
       "│<span style=\"color: #008080; text-decoration-color: #008080\">          val_f1           </span>│<span style=\"color: #800080; text-decoration-color: #800080\">    0.25706374645233154    </span>│\n",
       "│<span style=\"color: #008080; text-decoration-color: #008080\">         val_loss          </span>│<span style=\"color: #800080; text-decoration-color: #800080\">     1.870085597038269     </span>│\n",
       "└───────────────────────────┴───────────────────────────┘\n",
       "</pre>\n"
      ],
      "text/plain": [
       "┏━━━━━━━━━━━━━━━━━━━━━━━━━━━┳━━━━━━━━━━━━━━━━━━━━━━━━━━━┓\n",
       "┃\u001b[1m \u001b[0m\u001b[1m     Validate metric     \u001b[0m\u001b[1m \u001b[0m┃\u001b[1m \u001b[0m\u001b[1m      DataLoader 0       \u001b[0m\u001b[1m \u001b[0m┃\n",
       "┡━━━━━━━━━━━━━━━━━━━━━━━━━━━╇━━━━━━━━━━━━━━━━━━━━━━━━━━━┩\n",
       "│\u001b[36m \u001b[0m\u001b[36m         val_f1          \u001b[0m\u001b[36m \u001b[0m│\u001b[35m \u001b[0m\u001b[35m   0.25706374645233154   \u001b[0m\u001b[35m \u001b[0m│\n",
       "│\u001b[36m \u001b[0m\u001b[36m        val_loss         \u001b[0m\u001b[36m \u001b[0m│\u001b[35m \u001b[0m\u001b[35m    1.870085597038269    \u001b[0m\u001b[35m \u001b[0m│\n",
       "└───────────────────────────┴───────────────────────────┘\n"
      ]
     },
     "metadata": {},
     "output_type": "display_data"
    },
    {
     "name": "stdout",
     "output_type": "stream",
     "text": [
      "classification report:\n",
      "               precision    recall  f1-score   support\n",
      "\n",
      "        ADHD       0.36      0.36      0.36       108\n",
      "     HEALTHY       0.25      0.25      0.25       108\n",
      "         MDD       0.25      0.27      0.26       108\n",
      "         OCD       0.16      0.13      0.14       108\n",
      "         SMC       0.26      0.29      0.27       108\n",
      "\n",
      "    accuracy                           0.26       540\n",
      "   macro avg       0.26      0.26      0.26       540\n",
      "weighted avg       0.26      0.26      0.26       540\n",
      "\n"
     ]
    },
    {
     "name": "stderr",
     "output_type": "stream",
     "text": [
      "c:\\Users\\tuur\\anaconda3\\envs\\mne\\Lib\\site-packages\\lightning\\pytorch\\loops\\fit_loop.py:298: The number of training batches (3) is smaller than the logging interval Trainer(log_every_n_steps=10). Set a lower value for log_every_n_steps if you want to see logs for the training epoch.\n"
     ]
    },
    {
     "name": "stdout",
     "output_type": "stream",
     "text": [
      "\n",
      "Final evaluation #3 trial:\n"
     ]
    },
    {
     "data": {
      "text/html": [
       "<pre style=\"white-space:pre;overflow-x:auto;line-height:normal;font-family:Menlo,'DejaVu Sans Mono',consolas,'Courier New',monospace\">┏━━━━━━━━━━━━━━━━━━━━━━━━━━━┳━━━━━━━━━━━━━━━━━━━━━━━━━━━┓\n",
       "┃<span style=\"font-weight: bold\">      Validate metric      </span>┃<span style=\"font-weight: bold\">       DataLoader 0        </span>┃\n",
       "┡━━━━━━━━━━━━━━━━━━━━━━━━━━━╇━━━━━━━━━━━━━━━━━━━━━━━━━━━┩\n",
       "│<span style=\"color: #008080; text-decoration-color: #008080\">          val_f1           </span>│<span style=\"color: #800080; text-decoration-color: #800080\">    0.2513366937637329     </span>│\n",
       "│<span style=\"color: #008080; text-decoration-color: #008080\">         val_loss          </span>│<span style=\"color: #800080; text-decoration-color: #800080\">    1.7245261669158936     </span>│\n",
       "└───────────────────────────┴───────────────────────────┘\n",
       "</pre>\n"
      ],
      "text/plain": [
       "┏━━━━━━━━━━━━━━━━━━━━━━━━━━━┳━━━━━━━━━━━━━━━━━━━━━━━━━━━┓\n",
       "┃\u001b[1m \u001b[0m\u001b[1m     Validate metric     \u001b[0m\u001b[1m \u001b[0m┃\u001b[1m \u001b[0m\u001b[1m      DataLoader 0       \u001b[0m\u001b[1m \u001b[0m┃\n",
       "┡━━━━━━━━━━━━━━━━━━━━━━━━━━━╇━━━━━━━━━━━━━━━━━━━━━━━━━━━┩\n",
       "│\u001b[36m \u001b[0m\u001b[36m         val_f1          \u001b[0m\u001b[36m \u001b[0m│\u001b[35m \u001b[0m\u001b[35m   0.2513366937637329    \u001b[0m\u001b[35m \u001b[0m│\n",
       "│\u001b[36m \u001b[0m\u001b[36m        val_loss         \u001b[0m\u001b[36m \u001b[0m│\u001b[35m \u001b[0m\u001b[35m   1.7245261669158936    \u001b[0m\u001b[35m \u001b[0m│\n",
       "└───────────────────────────┴───────────────────────────┘\n"
      ]
     },
     "metadata": {},
     "output_type": "display_data"
    },
    {
     "name": "stdout",
     "output_type": "stream",
     "text": [
      "classification report:\n",
      "               precision    recall  f1-score   support\n",
      "\n",
      "        ADHD       0.36      0.42      0.39       108\n",
      "     HEALTHY       0.28      0.31      0.29       108\n",
      "         MDD       0.22      0.16      0.18       108\n",
      "         OCD       0.15      0.15      0.15       108\n",
      "         SMC       0.25      0.25      0.25       108\n",
      "\n",
      "    accuracy                           0.26       540\n",
      "   macro avg       0.25      0.26      0.25       540\n",
      "weighted avg       0.25      0.26      0.25       540\n",
      "\n",
      "Mean f1-score 3 best trials: 0.2558\n",
      "STD f1-score 3 best trials: 0.0032\n"
     ]
    },
    {
     "data": {
      "image/png": "[encoded data removed]",
      "text/plain": [
       "<Figure size 2400x1600 with 3 Axes>"
      ]
     },
     "metadata": {},
     "output_type": "display_data"
    }
   ],
   "source": [
    "from lightning.pytorch.tuner import Tuner\n",
    "from lightning.pytorch import Trainer, seed_everything\n",
    "from lightning.pytorch.callbacks import ModelCheckpoint, TQDMProgressBar, RichProgressBar, ModelSummary\n",
    "from lightning.pytorch.callbacks.early_stopping import EarlyStopping\n",
    "import logging\n",
    "import warnings\n",
    "warnings.filterwarnings(\"ignore\", \".*Consider increasing the value of the `num_workers` argument*\")\n",
    "warnings.filterwarnings(\"ignore\", \"Trying to infer the `batch_size` from an ambiguous collection.*\")\n",
    "torch.set_float32_matmul_precision('high')\n",
    "logging.getLogger(\"lightning.pytorch.utilities.rank_zero\").setLevel(logging.WARNING)\n",
    "logging.getLogger(\"lightning.pytorch.accelerators.cuda\").setLevel(logging.WARNING)\n",
    "\n",
    "# create subplots for confusion matrices\n",
    "fig, ax = plt.subplots(1, 3, figsize=(24, 16))\n",
    "\n",
    "# list for storing f1-scores:\n",
    "f1_scores = []\n",
    "\n",
    "# iterate over the 3 best trials during tuning\n",
    "for num, trial in enumerate(df_trials_wo_edge_attrs.iterrows()):\n",
    "    # retrieve the hyperparameters\n",
    "    learning_rate = trial[1]['params_learning_rate']\n",
    "    optimizer_name = trial[1]['params_optimizer']\n",
    "    fc_layers = trial[1]['params_fc_layers']\n",
    "    dropout = trial[1]['params_dropout']\n",
    "    batch_size = trial[1]['params_batch_size']\n",
    "\n",
    "    # use best parameters from optuna\n",
    "    model = graphLambda_wo_edge_attr(learning_rate=learning_rate, optimizer_name=optimizer_name, fc_layers=fc_layers, dropout=dropout)\n",
    "\n",
    "    # Define the data loaders\n",
    "    train_loader = DataLoader(X_train, batch_size=batch_size, shuffle=True,\n",
    "                                drop_last=True) # , num_workers=0, persistent_workers=True\n",
    "    val_loader = DataLoader(X_val, batch_size=len(X_val), shuffle=False,\n",
    "                                drop_last=True) # , num_workers=0, persistent_workers=True\n",
    "\n",
    "\n",
    "    checkpoint_callback = ModelCheckpoint(monitor='val_f1',\n",
    "                                        mode='max',\n",
    "                                        save_top_k=5,\n",
    "                                        filename='{epoch}-{train_loss:.2f}-{train_f1:.2f}-{val_loss:.2f}-{val_f1:.2f}',\n",
    "                                        )\n",
    "\n",
    "\n",
    "    trainer = Trainer(callbacks=[checkpoint_callback, ModelSummary(max_depth=0)],\n",
    "                    accelerator='gpu',\n",
    "                    max_epochs=800,\n",
    "                    enable_progress_bar=False,\n",
    "                    check_val_every_n_epoch=10,\n",
    "                    log_every_n_steps=10,\n",
    "                    deterministic=True,\n",
    "                    )\n",
    "\n",
    "    trainer.fit(model, train_loader, val_loader)\n",
    "\n",
    "    print()\n",
    "    print(f'Final evaluation #{num+1} trial:')\n",
    "    # get evaluation of best model checkpoint\n",
    "    trainer.validate(model, val_loader, ckpt_path='best')\n",
    "\n",
    "    # compute confusion matrix and classification report with sklearn of best model checkpoint\n",
    "    from sklearn.metrics import f1_score, classification_report, confusion_matrix, ConfusionMatrixDisplay\n",
    "    y_pred = trainer.predict(model, val_loader, ckpt_path='best')\n",
    "    y_pred = np.concatenate(y_pred).flatten()\n",
    "    y = Y_val\n",
    "\n",
    "    class_labels = le.inverse_transform(sorted(np.unique(y)))\n",
    "    print('classification report:\\n', classification_report(y, y_pred, target_names=class_labels))\n",
    "    f1_scores.append(f1_score(y, y_pred, average=\"macro\"))\n",
    "\n",
    "    # plot confusion matrix\n",
    "    conf_matrix = confusion_matrix(y, y_pred)\n",
    "    ConfusionMatrixDisplay(conf_matrix, display_labels = class_labels).plot(cmap = 'Blues', values_format = 'd', colorbar=False, ax=ax[num])\n",
    "    ax[num].set_title(f'Confusion matrix {num+1}, f1: {f1_score(y, y_pred, average=\"macro\"):.4f}')\n",
    "print(f'Mean f1-score 3 best trials: {np.mean(f1_scores):.4f}')\n",
    "print(f'STD f1-score 3 best trials: {np.std(f1_scores):.4f}')"
   ]
  },
  {
   "cell_type": "markdown",
   "metadata": {},
   "source": [
    "### Model: graphLambda with edge_attr"
   ]
  },
  {
   "cell_type": "code",
   "execution_count": 47,
   "metadata": {},
   "outputs": [
    {
     "data": {
      "text/html": [
       "<div>\n",
       "<style scoped>\n",
       "    .dataframe tbody tr th:only-of-type {\n",
       "        vertical-align: middle;\n",
       "    }\n",
       "\n",
       "    .dataframe tbody tr th {\n",
       "        vertical-align: top;\n",
       "    }\n",
       "\n",
       "    .dataframe thead th {\n",
       "        text-align: right;\n",
       "    }\n",
       "</style>\n",
       "<table border=\"1\" class=\"dataframe\">\n",
       "  <thead>\n",
       "    <tr style=\"text-align: right;\">\n",
       "      <th></th>\n",
       "      <th>number</th>\n",
       "      <th>value</th>\n",
       "      <th>datetime_start</th>\n",
       "      <th>datetime_complete</th>\n",
       "      <th>duration</th>\n",
       "      <th>params_batch_size</th>\n",
       "      <th>params_dropout</th>\n",
       "      <th>params_fc_layers</th>\n",
       "      <th>params_learning_rate</th>\n",
       "      <th>params_optimizer</th>\n",
       "      <th>state</th>\n",
       "    </tr>\n",
       "  </thead>\n",
       "  <tbody>\n",
       "    <tr>\n",
       "      <th>28</th>\n",
       "      <td>28</td>\n",
       "      <td>0.275476</td>\n",
       "      <td>2024-05-23 03:52:30.546909</td>\n",
       "      <td>2024-05-23 03:54:48.723853</td>\n",
       "      <td>0 days 00:02:18.176944</td>\n",
       "      <td>510</td>\n",
       "      <td>0.375902</td>\n",
       "      <td>1</td>\n",
       "      <td>0.000034</td>\n",
       "      <td>Adam</td>\n",
       "      <td>COMPLETE</td>\n",
       "    </tr>\n",
       "    <tr>\n",
       "      <th>52</th>\n",
       "      <td>52</td>\n",
       "      <td>0.270958</td>\n",
       "      <td>2024-05-23 04:45:43.618073</td>\n",
       "      <td>2024-05-23 04:50:13.613341</td>\n",
       "      <td>0 days 00:04:29.995268</td>\n",
       "      <td>170</td>\n",
       "      <td>0.103188</td>\n",
       "      <td>1</td>\n",
       "      <td>0.000021</td>\n",
       "      <td>Adam</td>\n",
       "      <td>COMPLETE</td>\n",
       "    </tr>\n",
       "    <tr>\n",
       "      <th>53</th>\n",
       "      <td>53</td>\n",
       "      <td>0.269600</td>\n",
       "      <td>2024-05-23 04:50:13.617418</td>\n",
       "      <td>2024-05-23 04:54:37.908675</td>\n",
       "      <td>0 days 00:04:24.291257</td>\n",
       "      <td>170</td>\n",
       "      <td>0.001434</td>\n",
       "      <td>1</td>\n",
       "      <td>0.000024</td>\n",
       "      <td>Adam</td>\n",
       "      <td>COMPLETE</td>\n",
       "    </tr>\n",
       "  </tbody>\n",
       "</table>\n",
       "</div>"
      ],
      "text/plain": [
       "    number     value             datetime_start          datetime_complete  \\\n",
       "28      28  0.275476 2024-05-23 03:52:30.546909 2024-05-23 03:54:48.723853   \n",
       "52      52  0.270958 2024-05-23 04:45:43.618073 2024-05-23 04:50:13.613341   \n",
       "53      53  0.269600 2024-05-23 04:50:13.617418 2024-05-23 04:54:37.908675   \n",
       "\n",
       "                 duration  params_batch_size  params_dropout  \\\n",
       "28 0 days 00:02:18.176944                510        0.375902   \n",
       "52 0 days 00:04:29.995268                170        0.103188   \n",
       "53 0 days 00:04:24.291257                170        0.001434   \n",
       "\n",
       "    params_fc_layers  params_learning_rate params_optimizer     state  \n",
       "28                 1              0.000034             Adam  COMPLETE  \n",
       "52                 1              0.000021             Adam  COMPLETE  \n",
       "53                 1              0.000024             Adam  COMPLETE  "
      ]
     },
     "execution_count": 47,
     "metadata": {},
     "output_type": "execute_result"
    }
   ],
   "source": [
    "# import best trials from tuning\n",
    "eo_df_trials_w_edge_attrs = pd.read_pickle('tuning_results\\ec_results_w_edge_attrs_trials.pkl') # MISTAKE WAS MADE IN TUNING CODE, EO W EDGE ATTRS SAVED TO EC RESULTS\n",
    "eo_df_trials_w_edge_attrs = eo_df_trials_w_edge_attrs.sort_values('value', ascending=False).head(3)\n",
    "eo_df_trials_w_edge_attrs"
   ]
  },
  {
   "cell_type": "code",
   "execution_count": 48,
   "metadata": {},
   "outputs": [
    {
     "name": "stderr",
     "output_type": "stream",
     "text": [
      "c:\\Users\\tuur\\anaconda3\\envs\\mne\\Lib\\site-packages\\lightning\\pytorch\\loops\\fit_loop.py:298: The number of training batches (3) is smaller than the logging interval Trainer(log_every_n_steps=10). Set a lower value for log_every_n_steps if you want to see logs for the training epoch.\n"
     ]
    },
    {
     "name": "stdout",
     "output_type": "stream",
     "text": [
      "\n",
      "Final evaluation #1 trial:\n"
     ]
    },
    {
     "data": {
      "text/html": [
       "<pre style=\"white-space:pre;overflow-x:auto;line-height:normal;font-family:Menlo,'DejaVu Sans Mono',consolas,'Courier New',monospace\">┏━━━━━━━━━━━━━━━━━━━━━━━━━━━┳━━━━━━━━━━━━━━━━━━━━━━━━━━━┓\n",
       "┃<span style=\"font-weight: bold\">      Validate metric      </span>┃<span style=\"font-weight: bold\">       DataLoader 0        </span>┃\n",
       "┡━━━━━━━━━━━━━━━━━━━━━━━━━━━╇━━━━━━━━━━━━━━━━━━━━━━━━━━━┩\n",
       "│<span style=\"color: #008080; text-decoration-color: #008080\">          val_f1           </span>│<span style=\"color: #800080; text-decoration-color: #800080\">    0.24547383189201355    </span>│\n",
       "│<span style=\"color: #008080; text-decoration-color: #008080\">         val_loss          </span>│<span style=\"color: #800080; text-decoration-color: #800080\">    2.2787857055664062     </span>│\n",
       "└───────────────────────────┴───────────────────────────┘\n",
       "</pre>\n"
      ],
      "text/plain": [
       "┏━━━━━━━━━━━━━━━━━━━━━━━━━━━┳━━━━━━━━━━━━━━━━━━━━━━━━━━━┓\n",
       "┃\u001b[1m \u001b[0m\u001b[1m     Validate metric     \u001b[0m\u001b[1m \u001b[0m┃\u001b[1m \u001b[0m\u001b[1m      DataLoader 0       \u001b[0m\u001b[1m \u001b[0m┃\n",
       "┡━━━━━━━━━━━━━━━━━━━━━━━━━━━╇━━━━━━━━━━━━━━━━━━━━━━━━━━━┩\n",
       "│\u001b[36m \u001b[0m\u001b[36m         val_f1          \u001b[0m\u001b[36m \u001b[0m│\u001b[35m \u001b[0m\u001b[35m   0.24547383189201355   \u001b[0m\u001b[35m \u001b[0m│\n",
       "│\u001b[36m \u001b[0m\u001b[36m        val_loss         \u001b[0m\u001b[36m \u001b[0m│\u001b[35m \u001b[0m\u001b[35m   2.2787857055664062    \u001b[0m\u001b[35m \u001b[0m│\n",
       "└───────────────────────────┴───────────────────────────┘\n"
      ]
     },
     "metadata": {},
     "output_type": "display_data"
    },
    {
     "name": "stdout",
     "output_type": "stream",
     "text": [
      "classification report:\n",
      "               precision    recall  f1-score   support\n",
      "\n",
      "        ADHD       0.27      0.31      0.29       108\n",
      "     HEALTHY       0.28      0.30      0.29       108\n",
      "         MDD       0.24      0.19      0.21       108\n",
      "         OCD       0.21      0.18      0.19       108\n",
      "         SMC       0.23      0.28      0.25       108\n",
      "\n",
      "    accuracy                           0.25       540\n",
      "   macro avg       0.25      0.25      0.25       540\n",
      "weighted avg       0.25      0.25      0.25       540\n",
      "\n",
      "\n",
      "Final evaluation #2 trial:\n"
     ]
    },
    {
     "data": {
      "text/html": [
       "<pre style=\"white-space:pre;overflow-x:auto;line-height:normal;font-family:Menlo,'DejaVu Sans Mono',consolas,'Courier New',monospace\">┏━━━━━━━━━━━━━━━━━━━━━━━━━━━┳━━━━━━━━━━━━━━━━━━━━━━━━━━━┓\n",
       "┃<span style=\"font-weight: bold\">      Validate metric      </span>┃<span style=\"font-weight: bold\">       DataLoader 0        </span>┃\n",
       "┡━━━━━━━━━━━━━━━━━━━━━━━━━━━╇━━━━━━━━━━━━━━━━━━━━━━━━━━━┩\n",
       "│<span style=\"color: #008080; text-decoration-color: #008080\">          val_f1           </span>│<span style=\"color: #800080; text-decoration-color: #800080\">    0.2736840844154358     </span>│\n",
       "│<span style=\"color: #008080; text-decoration-color: #008080\">         val_loss          </span>│<span style=\"color: #800080; text-decoration-color: #800080\">    2.7051494121551514     </span>│\n",
       "└───────────────────────────┴───────────────────────────┘\n",
       "</pre>\n"
      ],
      "text/plain": [
       "┏━━━━━━━━━━━━━━━━━━━━━━━━━━━┳━━━━━━━━━━━━━━━━━━━━━━━━━━━┓\n",
       "┃\u001b[1m \u001b[0m\u001b[1m     Validate metric     \u001b[0m\u001b[1m \u001b[0m┃\u001b[1m \u001b[0m\u001b[1m      DataLoader 0       \u001b[0m\u001b[1m \u001b[0m┃\n",
       "┡━━━━━━━━━━━━━━━━━━━━━━━━━━━╇━━━━━━━━━━━━━━━━━━━━━━━━━━━┩\n",
       "│\u001b[36m \u001b[0m\u001b[36m         val_f1          \u001b[0m\u001b[36m \u001b[0m│\u001b[35m \u001b[0m\u001b[35m   0.2736840844154358    \u001b[0m\u001b[35m \u001b[0m│\n",
       "│\u001b[36m \u001b[0m\u001b[36m        val_loss         \u001b[0m\u001b[36m \u001b[0m│\u001b[35m \u001b[0m\u001b[35m   2.7051494121551514    \u001b[0m\u001b[35m \u001b[0m│\n",
       "└───────────────────────────┴───────────────────────────┘\n"
      ]
     },
     "metadata": {},
     "output_type": "display_data"
    },
    {
     "name": "stdout",
     "output_type": "stream",
     "text": [
      "classification report:\n",
      "               precision    recall  f1-score   support\n",
      "\n",
      "        ADHD       0.36      0.44      0.40       108\n",
      "     HEALTHY       0.25      0.26      0.26       108\n",
      "         MDD       0.24      0.22      0.23       108\n",
      "         OCD       0.20      0.18      0.19       108\n",
      "         SMC       0.30      0.29      0.30       108\n",
      "\n",
      "    accuracy                           0.28       540\n",
      "   macro avg       0.27      0.28      0.27       540\n",
      "weighted avg       0.27      0.28      0.27       540\n",
      "\n",
      "\n",
      "Final evaluation #3 trial:\n"
     ]
    },
    {
     "data": {
      "text/html": [
       "<pre style=\"white-space:pre;overflow-x:auto;line-height:normal;font-family:Menlo,'DejaVu Sans Mono',consolas,'Courier New',monospace\">┏━━━━━━━━━━━━━━━━━━━━━━━━━━━┳━━━━━━━━━━━━━━━━━━━━━━━━━━━┓\n",
       "┃<span style=\"font-weight: bold\">      Validate metric      </span>┃<span style=\"font-weight: bold\">       DataLoader 0        </span>┃\n",
       "┡━━━━━━━━━━━━━━━━━━━━━━━━━━━╇━━━━━━━━━━━━━━━━━━━━━━━━━━━┩\n",
       "│<span style=\"color: #008080; text-decoration-color: #008080\">          val_f1           </span>│<span style=\"color: #800080; text-decoration-color: #800080\">    0.27794498205184937    </span>│\n",
       "│<span style=\"color: #008080; text-decoration-color: #008080\">         val_loss          </span>│<span style=\"color: #800080; text-decoration-color: #800080\">    3.2989468574523926     </span>│\n",
       "└───────────────────────────┴───────────────────────────┘\n",
       "</pre>\n"
      ],
      "text/plain": [
       "┏━━━━━━━━━━━━━━━━━━━━━━━━━━━┳━━━━━━━━━━━━━━━━━━━━━━━━━━━┓\n",
       "┃\u001b[1m \u001b[0m\u001b[1m     Validate metric     \u001b[0m\u001b[1m \u001b[0m┃\u001b[1m \u001b[0m\u001b[1m      DataLoader 0       \u001b[0m\u001b[1m \u001b[0m┃\n",
       "┡━━━━━━━━━━━━━━━━━━━━━━━━━━━╇━━━━━━━━━━━━━━━━━━━━━━━━━━━┩\n",
       "│\u001b[36m \u001b[0m\u001b[36m         val_f1          \u001b[0m\u001b[36m \u001b[0m│\u001b[35m \u001b[0m\u001b[35m   0.27794498205184937   \u001b[0m\u001b[35m \u001b[0m│\n",
       "│\u001b[36m \u001b[0m\u001b[36m        val_loss         \u001b[0m\u001b[36m \u001b[0m│\u001b[35m \u001b[0m\u001b[35m   3.2989468574523926    \u001b[0m\u001b[35m \u001b[0m│\n",
       "└───────────────────────────┴───────────────────────────┘\n"
      ]
     },
     "metadata": {},
     "output_type": "display_data"
    },
    {
     "name": "stdout",
     "output_type": "stream",
     "text": [
      "classification report:\n",
      "               precision    recall  f1-score   support\n",
      "\n",
      "        ADHD       0.36      0.44      0.40       108\n",
      "     HEALTHY       0.29      0.22      0.25       108\n",
      "         MDD       0.25      0.27      0.26       108\n",
      "         OCD       0.23      0.22      0.23       108\n",
      "         SMC       0.25      0.25      0.25       108\n",
      "\n",
      "    accuracy                           0.28       540\n",
      "   macro avg       0.28      0.28      0.28       540\n",
      "weighted avg       0.28      0.28      0.28       540\n",
      "\n",
      "Mean f1-score 3 best trials: 0.2657\n",
      "STD f1-score 3 best trials: 0.0144\n"
     ]
    },
    {
     "data": {
      "image/png": "[encoded data removed]",
      "text/plain": [
       "<Figure size 2400x1600 with 3 Axes>"
      ]
     },
     "metadata": {},
     "output_type": "display_data"
    }
   ],
   "source": [
    "from lightning.pytorch.tuner import Tuner\n",
    "from lightning.pytorch import Trainer, seed_everything\n",
    "from lightning.pytorch.callbacks import ModelCheckpoint, TQDMProgressBar, RichProgressBar, ModelSummary\n",
    "from lightning.pytorch.callbacks.early_stopping import EarlyStopping\n",
    "import logging\n",
    "import warnings\n",
    "warnings.filterwarnings(\"ignore\", \".*Consider increasing the value of the `num_workers` argument*\")\n",
    "warnings.filterwarnings(\"ignore\", \"Trying to infer the `batch_size` from an ambiguous collection.*\")\n",
    "torch.set_float32_matmul_precision('high')\n",
    "logging.getLogger(\"lightning.pytorch.utilities.rank_zero\").setLevel(logging.WARNING)\n",
    "logging.getLogger(\"lightning.pytorch.accelerators.cuda\").setLevel(logging.WARNING)\n",
    "\n",
    "# create subplots for confusion matrices\n",
    "fig, ax = plt.subplots(1, 3, figsize=(24, 16))\n",
    "\n",
    "# list for storing f1-scores:\n",
    "f1_scores = []\n",
    "\n",
    "# iterate over the 3 best trials during tuning\n",
    "for num, trial in enumerate(eo_df_trials_w_edge_attrs.iterrows()):\n",
    "    # retrieve the hyperparameters\n",
    "    learning_rate = trial[1]['params_learning_rate']\n",
    "    optimizer_name = trial[1]['params_optimizer']\n",
    "    fc_layers = trial[1]['params_fc_layers']\n",
    "    dropout = trial[1]['params_dropout']\n",
    "    batch_size = trial[1]['params_batch_size']\n",
    "\n",
    "    # use best parameters from optuna\n",
    "    model = graphLambda_wo_edge_attr(learning_rate=learning_rate, optimizer_name=optimizer_name, fc_layers=fc_layers, dropout=dropout)\n",
    "\n",
    "    # Define the data loaders\n",
    "    train_loader = DataLoader(X_train, batch_size=batch_size, shuffle=True,\n",
    "                                drop_last=True) # , num_workers=0, persistent_workers=True\n",
    "    val_loader = DataLoader(X_val, batch_size=len(X_val), shuffle=False,\n",
    "                                drop_last=True) # , num_workers=0, persistent_workers=True\n",
    "\n",
    "\n",
    "    checkpoint_callback = ModelCheckpoint(monitor='val_f1',\n",
    "                                        mode='max',\n",
    "                                        save_top_k=5,\n",
    "                                        filename='{epoch}-{train_loss:.2f}-{train_f1:.2f}-{val_loss:.2f}-{val_f1:.2f}',\n",
    "                                        )\n",
    "\n",
    "\n",
    "    trainer = Trainer(callbacks=[checkpoint_callback, ModelSummary(max_depth=0)],\n",
    "                    accelerator='gpu',\n",
    "                    max_epochs=800,\n",
    "                    enable_progress_bar=False,\n",
    "                    check_val_every_n_epoch=10,\n",
    "                    log_every_n_steps=10,\n",
    "                    deterministic=True,\n",
    "                    )\n",
    "\n",
    "    trainer.fit(model, train_loader, val_loader)\n",
    "\n",
    "    print()\n",
    "    print(f'Final evaluation #{num+1} trial:')\n",
    "    # get evaluation of best model checkpoint\n",
    "    trainer.validate(model, val_loader, ckpt_path='best')\n",
    "\n",
    "    # compute confusion matrix and classification report with sklearn of best model checkpoint\n",
    "    from sklearn.metrics import f1_score, classification_report, confusion_matrix, ConfusionMatrixDisplay\n",
    "    y_pred = trainer.predict(model, val_loader, ckpt_path='best')\n",
    "    y_pred = np.concatenate(y_pred).flatten()\n",
    "    y = Y_val\n",
    "\n",
    "    class_labels = le.inverse_transform(sorted(np.unique(y)))\n",
    "    print('classification report:\\n', classification_report(y, y_pred, target_names=class_labels))\n",
    "    f1_scores.append(f1_score(y, y_pred, average=\"macro\"))\n",
    "\n",
    "    # plot confusion matrix\n",
    "    conf_matrix = confusion_matrix(y, y_pred)\n",
    "    ConfusionMatrixDisplay(conf_matrix, display_labels = class_labels).plot(cmap = 'Blues', values_format = 'd', colorbar=False, ax=ax[num])\n",
    "    ax[num].set_title(f'Confusion matrix {num+1}, f1: {f1_score(y, y_pred, average=\"macro\"):.4f}')\n",
    "print(f'Mean f1-score 3 best trials: {np.mean(f1_scores):.4f}')\n",
    "print(f'STD f1-score 3 best trials: {np.std(f1_scores):.4f}')"
   ]
  },
  {
   "cell_type": "markdown",
   "metadata": {},
   "source": [
    "# 3. ratio feature set"
   ]
  },
  {
   "cell_type": "code",
   "execution_count": 49,
   "metadata": {},
   "outputs": [
    {
     "name": "stdout",
     "output_type": "stream",
     "text": [
      "len(ratio_graph_dataset) = 2688\n",
      "len(baseline_rest_idxs) = 2148, len(baseline_val_idxs) = 540, total: 2688\n",
      "len(X_traintest) = 2148, len(X_val) = 540\n",
      "len(train_idxs) = 1716, len(test_idxs) = 432, total: 2148\n"
     ]
    }
   ],
   "source": [
    "from sklearn.model_selection import StratifiedGroupKFold\n",
    "\n",
    "baseline_rest_idxs = data_split_indices['ratio'][0]\n",
    "baseline_val_idxs = data_split_indices['ratio'][1]\n",
    "\n",
    "# first splitting validation data using the first split from the baseline RF model\n",
    "groups = [elem for elem in subjects_ratio_ids for i in range(12)] # times 12 for each epoch\n",
    "\n",
    "print(f'{len(ratio_graph_dataset) = }')\n",
    "print(f'{len(baseline_rest_idxs) = }, {len(baseline_val_idxs) = }, total: {len(baseline_rest_idxs)+len(baseline_val_idxs)}')\n",
    "\n",
    "X_traintest = [ratio_graph_dataset[i] for i in baseline_rest_idxs] \n",
    "X_val = [ratio_graph_dataset[i] for i in baseline_val_idxs]\n",
    "Y_traintest =[ratio_y_list[i] for i in baseline_rest_idxs]\n",
    "Y_val = [ratio_y_list[i] for i in baseline_val_idxs]\n",
    "groups_traintest = [groups[i] for i in baseline_rest_idxs]\n",
    "groups_val = [groups[i] for i in baseline_val_idxs]\n",
    "\n",
    "# now splitting the test and training data with seperate StratifiedGroupKFold\n",
    "desired_test_ratio = 0.20\n",
    "n_splits = int(1 / desired_test_ratio) # for some reason (?), n_splits also determines the proportion between train & test indices\n",
    "sgkf = StratifiedGroupKFold(n_splits=n_splits, shuffle=False)  # should shuffle be true?\n",
    "\n",
    "train_idxs, test_idxs = sgkf.split(X_traintest, Y_traintest, groups_traintest).__next__() # just take the first split\n",
    "print(f'{len(X_traintest) = }, {len(X_val) = }')\n",
    "print(f'{len(train_idxs) = }, {len(test_idxs) = }, total: {len(train_idxs)+len(test_idxs)}')\n",
    "\n",
    "X_train = [X_traintest[i] for i in train_idxs] # X also includes y values, because they are stored in the Data object\n",
    "X_test = [X_traintest[i] for i in test_idxs]\n",
    "Y_train =[Y_traintest[i] for i in train_idxs]\n",
    "Y_test = [Y_traintest[i] for i in test_idxs]"
   ]
  },
  {
   "cell_type": "code",
   "execution_count": null,
   "metadata": {},
   "outputs": [
    {
     "data": {
      "image/png": "[encoded data removed]",
      "text/plain": [
       "<Figure size 1200x600 with 2 Axes>"
      ]
     },
     "metadata": {},
     "output_type": "display_data"
    }
   ],
   "source": [
    "# standardize statistical node features\n",
    "from sklearn.preprocessing import StandardScaler\n",
    "\n",
    "# Concatenate all x values before scaling for the first feature, as a sanity check for standardization\n",
    "x_before = np.concatenate([data.x.numpy()[:, 0] for data in X_train + X_val + X_test])\n",
    "\n",
    "scaler = StandardScaler()\n",
    "scaler.fit(np.vstack([data.x.numpy() for data in X_train + X_val])) # fit on training and validation data\n",
    "\n",
    "\n",
    "# Transform the x values of the data in X_train\n",
    "for data in X_train:\n",
    "    data.x = torch.from_numpy(scaler.transform(data.x.numpy()))\n",
    "\n",
    "# Transform the x values of the data in X_val\n",
    "for data in X_val:\n",
    "    data.x = torch.from_numpy(scaler.transform(data.x.numpy()))\n",
    "\n",
    "# Transform the x values of the data in X_test\n",
    "for data in X_test:\n",
    "    data.x = torch.from_numpy(scaler.transform(data.x.numpy()))\n",
    "\n",
    "# Concatenate all x values after scaling for the first feature, as a sanity check for standardization\n",
    "x_after = np.concatenate([data.x.numpy()[:, 0] for data in X_train + X_val + X_test])\n",
    "\n",
    "# Plot the distribution of the first x feature before and after scaling as a sanity check\n",
    "plt.figure(figsize=(12, 6))\n",
    "\n",
    "plt.subplot(1, 2, 1)\n",
    "plt.hist(x_before, bins=30, color='b', alpha=0.5)\n",
    "plt.title('Before Scaling')\n",
    "\n",
    "plt.subplot(1, 2, 2)\n",
    "plt.hist(x_after, bins=30, color='r', alpha=0.5)\n",
    "plt.title('After Scaling')\n",
    "\n",
    "plt.show()"
   ]
  },
  {
   "cell_type": "markdown",
   "metadata": {},
   "source": [
    "### Model: graphLambda without edge_attr"
   ]
  },
  {
   "cell_type": "code",
   "execution_count": 50,
   "metadata": {},
   "outputs": [
    {
     "data": {
      "text/html": [
       "<div>\n",
       "<style scoped>\n",
       "    .dataframe tbody tr th:only-of-type {\n",
       "        vertical-align: middle;\n",
       "    }\n",
       "\n",
       "    .dataframe tbody tr th {\n",
       "        vertical-align: top;\n",
       "    }\n",
       "\n",
       "    .dataframe thead th {\n",
       "        text-align: right;\n",
       "    }\n",
       "</style>\n",
       "<table border=\"1\" class=\"dataframe\">\n",
       "  <thead>\n",
       "    <tr style=\"text-align: right;\">\n",
       "      <th></th>\n",
       "      <th>number</th>\n",
       "      <th>value</th>\n",
       "      <th>datetime_start</th>\n",
       "      <th>datetime_complete</th>\n",
       "      <th>duration</th>\n",
       "      <th>params_batch_size</th>\n",
       "      <th>params_dropout</th>\n",
       "      <th>params_fc_layers</th>\n",
       "      <th>params_learning_rate</th>\n",
       "      <th>params_optimizer</th>\n",
       "      <th>state</th>\n",
       "    </tr>\n",
       "  </thead>\n",
       "  <tbody>\n",
       "    <tr>\n",
       "      <th>72</th>\n",
       "      <td>72</td>\n",
       "      <td>0.240774</td>\n",
       "      <td>2024-05-23 08:58:24.526077</td>\n",
       "      <td>2024-05-23 09:00:02.129110</td>\n",
       "      <td>0 days 00:01:37.603033</td>\n",
       "      <td>680</td>\n",
       "      <td>0.280274</td>\n",
       "      <td>1</td>\n",
       "      <td>0.000114</td>\n",
       "      <td>RMSprop</td>\n",
       "      <td>COMPLETE</td>\n",
       "    </tr>\n",
       "    <tr>\n",
       "      <th>29</th>\n",
       "      <td>29</td>\n",
       "      <td>0.238696</td>\n",
       "      <td>2024-05-23 07:54:47.183915</td>\n",
       "      <td>2024-05-23 07:56:29.416631</td>\n",
       "      <td>0 days 00:01:42.232716</td>\n",
       "      <td>680</td>\n",
       "      <td>0.335566</td>\n",
       "      <td>1</td>\n",
       "      <td>0.000086</td>\n",
       "      <td>RMSprop</td>\n",
       "      <td>COMPLETE</td>\n",
       "    </tr>\n",
       "    <tr>\n",
       "      <th>81</th>\n",
       "      <td>81</td>\n",
       "      <td>0.234047</td>\n",
       "      <td>2024-05-23 09:17:30.668911</td>\n",
       "      <td>2024-05-23 09:19:08.698280</td>\n",
       "      <td>0 days 00:01:38.029369</td>\n",
       "      <td>680</td>\n",
       "      <td>0.376363</td>\n",
       "      <td>1</td>\n",
       "      <td>0.000064</td>\n",
       "      <td>RMSprop</td>\n",
       "      <td>COMPLETE</td>\n",
       "    </tr>\n",
       "  </tbody>\n",
       "</table>\n",
       "</div>"
      ],
      "text/plain": [
       "    number     value             datetime_start          datetime_complete  \\\n",
       "72      72  0.240774 2024-05-23 08:58:24.526077 2024-05-23 09:00:02.129110   \n",
       "29      29  0.238696 2024-05-23 07:54:47.183915 2024-05-23 07:56:29.416631   \n",
       "81      81  0.234047 2024-05-23 09:17:30.668911 2024-05-23 09:19:08.698280   \n",
       "\n",
       "                 duration  params_batch_size  params_dropout  \\\n",
       "72 0 days 00:01:37.603033                680        0.280274   \n",
       "29 0 days 00:01:42.232716                680        0.335566   \n",
       "81 0 days 00:01:38.029369                680        0.376363   \n",
       "\n",
       "    params_fc_layers  params_learning_rate params_optimizer     state  \n",
       "72                 1              0.000114          RMSprop  COMPLETE  \n",
       "29                 1              0.000086          RMSprop  COMPLETE  \n",
       "81                 1              0.000064          RMSprop  COMPLETE  "
      ]
     },
     "execution_count": 50,
     "metadata": {},
     "output_type": "execute_result"
    }
   ],
   "source": [
    "# import best trials from tuning\n",
    "ratio_df_trials_wo_edge_attrs = pd.read_pickle(r'tuning_results\\ratio_results_wo_edge_attrs_trials.pkl') # MISTAKE WAS MADE IN TUNING CODE, ratio wo EDGE ATTRS SAVED TO EC RESULTS\n",
    "ratio_df_trials_wo_edge_attrs = ratio_df_trials_wo_edge_attrs.sort_values('value', ascending=False).head(3)\n",
    "ratio_df_trials_wo_edge_attrs"
   ]
  },
  {
   "cell_type": "code",
   "execution_count": 51,
   "metadata": {},
   "outputs": [
    {
     "name": "stderr",
     "output_type": "stream",
     "text": [
      "c:\\Users\\tuur\\anaconda3\\envs\\mne\\Lib\\site-packages\\lightning\\pytorch\\loops\\fit_loop.py:298: The number of training batches (2) is smaller than the logging interval Trainer(log_every_n_steps=10). Set a lower value for log_every_n_steps if you want to see logs for the training epoch.\n"
     ]
    },
    {
     "name": "stdout",
     "output_type": "stream",
     "text": [
      "\n",
      "Final evaluation #1 trial:\n"
     ]
    },
    {
     "data": {
      "text/html": [
       "<pre style=\"white-space:pre;overflow-x:auto;line-height:normal;font-family:Menlo,'DejaVu Sans Mono',consolas,'Courier New',monospace\">┏━━━━━━━━━━━━━━━━━━━━━━━━━━━┳━━━━━━━━━━━━━━━━━━━━━━━━━━━┓\n",
       "┃<span style=\"font-weight: bold\">      Validate metric      </span>┃<span style=\"font-weight: bold\">       DataLoader 0        </span>┃\n",
       "┡━━━━━━━━━━━━━━━━━━━━━━━━━━━╇━━━━━━━━━━━━━━━━━━━━━━━━━━━┩\n",
       "│<span style=\"color: #008080; text-decoration-color: #008080\">          val_f1           </span>│<span style=\"color: #800080; text-decoration-color: #800080\">    0.2663179337978363     </span>│\n",
       "│<span style=\"color: #008080; text-decoration-color: #008080\">         val_loss          </span>│<span style=\"color: #800080; text-decoration-color: #800080\">     1.708125114440918     </span>│\n",
       "└───────────────────────────┴───────────────────────────┘\n",
       "</pre>\n"
      ],
      "text/plain": [
       "┏━━━━━━━━━━━━━━━━━━━━━━━━━━━┳━━━━━━━━━━━━━━━━━━━━━━━━━━━┓\n",
       "┃\u001b[1m \u001b[0m\u001b[1m     Validate metric     \u001b[0m\u001b[1m \u001b[0m┃\u001b[1m \u001b[0m\u001b[1m      DataLoader 0       \u001b[0m\u001b[1m \u001b[0m┃\n",
       "┡━━━━━━━━━━━━━━━━━━━━━━━━━━━╇━━━━━━━━━━━━━━━━━━━━━━━━━━━┩\n",
       "│\u001b[36m \u001b[0m\u001b[36m         val_f1          \u001b[0m\u001b[36m \u001b[0m│\u001b[35m \u001b[0m\u001b[35m   0.2663179337978363    \u001b[0m\u001b[35m \u001b[0m│\n",
       "│\u001b[36m \u001b[0m\u001b[36m        val_loss         \u001b[0m\u001b[36m \u001b[0m│\u001b[35m \u001b[0m\u001b[35m    1.708125114440918    \u001b[0m\u001b[35m \u001b[0m│\n",
       "└───────────────────────────┴───────────────────────────┘\n"
      ]
     },
     "metadata": {},
     "output_type": "display_data"
    },
    {
     "name": "stdout",
     "output_type": "stream",
     "text": [
      "classification report:\n",
      "               precision    recall  f1-score   support\n",
      "\n",
      "        ADHD       0.32      0.33      0.33       108\n",
      "     HEALTHY       0.29      0.26      0.27       108\n",
      "         MDD       0.18      0.13      0.15       108\n",
      "         OCD       0.26      0.25      0.25       108\n",
      "         SMC       0.28      0.39      0.33       108\n",
      "\n",
      "    accuracy                           0.27       540\n",
      "   macro avg       0.27      0.27      0.27       540\n",
      "weighted avg       0.27      0.27      0.27       540\n",
      "\n"
     ]
    },
    {
     "name": "stderr",
     "output_type": "stream",
     "text": [
      "c:\\Users\\tuur\\anaconda3\\envs\\mne\\Lib\\site-packages\\lightning\\pytorch\\loops\\fit_loop.py:298: The number of training batches (2) is smaller than the logging interval Trainer(log_every_n_steps=10). Set a lower value for log_every_n_steps if you want to see logs for the training epoch.\n"
     ]
    },
    {
     "name": "stdout",
     "output_type": "stream",
     "text": [
      "\n",
      "Final evaluation #2 trial:\n"
     ]
    },
    {
     "data": {
      "text/html": [
       "<pre style=\"white-space:pre;overflow-x:auto;line-height:normal;font-family:Menlo,'DejaVu Sans Mono',consolas,'Courier New',monospace\">┏━━━━━━━━━━━━━━━━━━━━━━━━━━━┳━━━━━━━━━━━━━━━━━━━━━━━━━━━┓\n",
       "┃<span style=\"font-weight: bold\">      Validate metric      </span>┃<span style=\"font-weight: bold\">       DataLoader 0        </span>┃\n",
       "┡━━━━━━━━━━━━━━━━━━━━━━━━━━━╇━━━━━━━━━━━━━━━━━━━━━━━━━━━┩\n",
       "│<span style=\"color: #008080; text-decoration-color: #008080\">          val_f1           </span>│<span style=\"color: #800080; text-decoration-color: #800080\">    0.22466084361076355    </span>│\n",
       "│<span style=\"color: #008080; text-decoration-color: #008080\">         val_loss          </span>│<span style=\"color: #800080; text-decoration-color: #800080\">    1.7846603393554688     </span>│\n",
       "└───────────────────────────┴───────────────────────────┘\n",
       "</pre>\n"
      ],
      "text/plain": [
       "┏━━━━━━━━━━━━━━━━━━━━━━━━━━━┳━━━━━━━━━━━━━━━━━━━━━━━━━━━┓\n",
       "┃\u001b[1m \u001b[0m\u001b[1m     Validate metric     \u001b[0m\u001b[1m \u001b[0m┃\u001b[1m \u001b[0m\u001b[1m      DataLoader 0       \u001b[0m\u001b[1m \u001b[0m┃\n",
       "┡━━━━━━━━━━━━━━━━━━━━━━━━━━━╇━━━━━━━━━━━━━━━━━━━━━━━━━━━┩\n",
       "│\u001b[36m \u001b[0m\u001b[36m         val_f1          \u001b[0m\u001b[36m \u001b[0m│\u001b[35m \u001b[0m\u001b[35m   0.22466084361076355   \u001b[0m\u001b[35m \u001b[0m│\n",
       "│\u001b[36m \u001b[0m\u001b[36m        val_loss         \u001b[0m\u001b[36m \u001b[0m│\u001b[35m \u001b[0m\u001b[35m   1.7846603393554688    \u001b[0m\u001b[35m \u001b[0m│\n",
       "└───────────────────────────┴───────────────────────────┘\n"
      ]
     },
     "metadata": {},
     "output_type": "display_data"
    },
    {
     "name": "stdout",
     "output_type": "stream",
     "text": [
      "classification report:\n",
      "               precision    recall  f1-score   support\n",
      "\n",
      "        ADHD       0.19      0.27      0.22       108\n",
      "     HEALTHY       0.25      0.25      0.25       108\n",
      "         MDD       0.18      0.13      0.15       108\n",
      "         OCD       0.23      0.22      0.23       108\n",
      "         SMC       0.30      0.26      0.28       108\n",
      "\n",
      "    accuracy                           0.23       540\n",
      "   macro avg       0.23      0.23      0.22       540\n",
      "weighted avg       0.23      0.23      0.22       540\n",
      "\n"
     ]
    },
    {
     "name": "stderr",
     "output_type": "stream",
     "text": [
      "c:\\Users\\tuur\\anaconda3\\envs\\mne\\Lib\\site-packages\\lightning\\pytorch\\loops\\fit_loop.py:298: The number of training batches (2) is smaller than the logging interval Trainer(log_every_n_steps=10). Set a lower value for log_every_n_steps if you want to see logs for the training epoch.\n"
     ]
    },
    {
     "name": "stdout",
     "output_type": "stream",
     "text": [
      "\n",
      "Final evaluation #3 trial:\n"
     ]
    },
    {
     "data": {
      "text/html": [
       "<pre style=\"white-space:pre;overflow-x:auto;line-height:normal;font-family:Menlo,'DejaVu Sans Mono',consolas,'Courier New',monospace\">┏━━━━━━━━━━━━━━━━━━━━━━━━━━━┳━━━━━━━━━━━━━━━━━━━━━━━━━━━┓\n",
       "┃<span style=\"font-weight: bold\">      Validate metric      </span>┃<span style=\"font-weight: bold\">       DataLoader 0        </span>┃\n",
       "┡━━━━━━━━━━━━━━━━━━━━━━━━━━━╇━━━━━━━━━━━━━━━━━━━━━━━━━━━┩\n",
       "│<span style=\"color: #008080; text-decoration-color: #008080\">          val_f1           </span>│<span style=\"color: #800080; text-decoration-color: #800080\">    0.2157697230577469     </span>│\n",
       "│<span style=\"color: #008080; text-decoration-color: #008080\">         val_loss          </span>│<span style=\"color: #800080; text-decoration-color: #800080\">    1.9262303113937378     </span>│\n",
       "└───────────────────────────┴───────────────────────────┘\n",
       "</pre>\n"
      ],
      "text/plain": [
       "┏━━━━━━━━━━━━━━━━━━━━━━━━━━━┳━━━━━━━━━━━━━━━━━━━━━━━━━━━┓\n",
       "┃\u001b[1m \u001b[0m\u001b[1m     Validate metric     \u001b[0m\u001b[1m \u001b[0m┃\u001b[1m \u001b[0m\u001b[1m      DataLoader 0       \u001b[0m\u001b[1m \u001b[0m┃\n",
       "┡━━━━━━━━━━━━━━━━━━━━━━━━━━━╇━━━━━━━━━━━━━━━━━━━━━━━━━━━┩\n",
       "│\u001b[36m \u001b[0m\u001b[36m         val_f1          \u001b[0m\u001b[36m \u001b[0m│\u001b[35m \u001b[0m\u001b[35m   0.2157697230577469    \u001b[0m\u001b[35m \u001b[0m│\n",
       "│\u001b[36m \u001b[0m\u001b[36m        val_loss         \u001b[0m\u001b[36m \u001b[0m│\u001b[35m \u001b[0m\u001b[35m   1.9262303113937378    \u001b[0m\u001b[35m \u001b[0m│\n",
       "└───────────────────────────┴───────────────────────────┘\n"
      ]
     },
     "metadata": {},
     "output_type": "display_data"
    },
    {
     "name": "stdout",
     "output_type": "stream",
     "text": [
      "classification report:\n",
      "               precision    recall  f1-score   support\n",
      "\n",
      "        ADHD       0.23      0.31      0.26       108\n",
      "     HEALTHY       0.31      0.14      0.19       108\n",
      "         MDD       0.24      0.26      0.25       108\n",
      "         OCD       0.21      0.31      0.25       108\n",
      "         SMC       0.16      0.10      0.12       108\n",
      "\n",
      "    accuracy                           0.22       540\n",
      "   macro avg       0.23      0.22      0.22       540\n",
      "weighted avg       0.23      0.22      0.22       540\n",
      "\n",
      "Mean f1-score 3 best trials: 0.2356\n",
      "STD f1-score 3 best trials: 0.0220\n"
     ]
    },
    {
     "data": {
      "image/png": "[encoded data removed]",
      "text/plain": [
       "<Figure size 2400x1600 with 3 Axes>"
      ]
     },
     "metadata": {},
     "output_type": "display_data"
    }
   ],
   "source": [
    "from lightning.pytorch.tuner import Tuner\n",
    "from lightning.pytorch import Trainer, seed_everything\n",
    "from lightning.pytorch.callbacks import ModelCheckpoint, TQDMProgressBar, RichProgressBar, ModelSummary\n",
    "from lightning.pytorch.callbacks.early_stopping import EarlyStopping\n",
    "import logging\n",
    "import warnings\n",
    "warnings.filterwarnings(\"ignore\", \".*Consider increasing the value of the `num_workers` argument*\")\n",
    "warnings.filterwarnings(\"ignore\", \"Trying to infer the `batch_size` from an ambiguous collection.*\")\n",
    "torch.set_float32_matmul_precision('high')\n",
    "logging.getLogger(\"lightning.pytorch.utilities.rank_zero\").setLevel(logging.WARNING)\n",
    "logging.getLogger(\"lightning.pytorch.accelerators.cuda\").setLevel(logging.WARNING)\n",
    "\n",
    "# create subplots for confusion matrices\n",
    "fig, ax = plt.subplots(1, 3, figsize=(24, 16))\n",
    "\n",
    "# list for storing f1-scores:\n",
    "f1_scores = []\n",
    "\n",
    "# iterate over the 3 best trials during tuning\n",
    "for num, trial in enumerate(ratio_df_trials_wo_edge_attrs.iterrows()):\n",
    "    # retrieve the hyperparameters\n",
    "    learning_rate = trial[1]['params_learning_rate']\n",
    "    optimizer_name = trial[1]['params_optimizer']\n",
    "    fc_layers = trial[1]['params_fc_layers']\n",
    "    dropout = trial[1]['params_dropout']\n",
    "    batch_size = trial[1]['params_batch_size']\n",
    "\n",
    "    # use best parameters from optuna\n",
    "    model = graphLambda_wo_edge_attr(learning_rate=learning_rate, optimizer_name=optimizer_name, fc_layers=fc_layers, dropout=dropout)\n",
    "\n",
    "    # Define the data loaders\n",
    "    train_loader = DataLoader(X_train, batch_size=batch_size, shuffle=True,\n",
    "                                drop_last=True) # , num_workers=0, persistent_workers=True\n",
    "    val_loader = DataLoader(X_val, batch_size=len(X_val), shuffle=False,\n",
    "                                drop_last=True) # , num_workers=0, persistent_workers=True\n",
    "\n",
    "\n",
    "    checkpoint_callback = ModelCheckpoint(monitor='val_f1',\n",
    "                                        mode='max',\n",
    "                                        save_top_k=5,\n",
    "                                        filename='{epoch}-{train_loss:.2f}-{train_f1:.2f}-{val_loss:.2f}-{val_f1:.2f}',\n",
    "                                        )\n",
    "\n",
    "\n",
    "    trainer = Trainer(callbacks=[checkpoint_callback, ModelSummary(max_depth=0)],\n",
    "                    accelerator='gpu',\n",
    "                    max_epochs=800,\n",
    "                    enable_progress_bar=False,\n",
    "                    check_val_every_n_epoch=10,\n",
    "                    log_every_n_steps=10,\n",
    "                    deterministic=True,\n",
    "                    )\n",
    "\n",
    "    trainer.fit(model, train_loader, val_loader)\n",
    "\n",
    "    print()\n",
    "    print(f'Final evaluation #{num+1} trial:')\n",
    "    # get evaluation of best model checkpoint\n",
    "    trainer.validate(model, val_loader, ckpt_path='best')\n",
    "\n",
    "    # compute confusion matrix and classification report with sklearn of best model checkpoint\n",
    "    from sklearn.metrics import f1_score, classification_report, confusion_matrix, ConfusionMatrixDisplay\n",
    "    y_pred = trainer.predict(model, val_loader, ckpt_path='best')\n",
    "    y_pred = np.concatenate(y_pred).flatten()\n",
    "    y = Y_val\n",
    "\n",
    "    class_labels = le.inverse_transform(sorted(np.unique(y)))\n",
    "    print('classification report:\\n', classification_report(y, y_pred, target_names=class_labels))\n",
    "    f1_scores.append(f1_score(y, y_pred, average=\"macro\"))\n",
    "\n",
    "    # plot confusion matrix\n",
    "    conf_matrix = confusion_matrix(y, y_pred)\n",
    "    ConfusionMatrixDisplay(conf_matrix, display_labels = class_labels).plot(cmap = 'Blues', values_format = 'd', colorbar=False, ax=ax[num])\n",
    "    ax[num].set_title(f'Confusion matrix {num+1}, f1: {f1_score(y, y_pred, average=\"macro\"):.4f}')\n",
    "print(f'Mean f1-score 3 best trials: {np.mean(f1_scores):.4f}')\n",
    "print(f'STD f1-score 3 best trials: {np.std(f1_scores):.4f}')"
   ]
  },
  {
   "cell_type": "markdown",
   "metadata": {},
   "source": [
    "### Model: graphLambda with edge_attr"
   ]
  },
  {
   "cell_type": "code",
   "execution_count": 52,
   "metadata": {},
   "outputs": [
    {
     "data": {
      "text/html": [
       "<div>\n",
       "<style scoped>\n",
       "    .dataframe tbody tr th:only-of-type {\n",
       "        vertical-align: middle;\n",
       "    }\n",
       "\n",
       "    .dataframe tbody tr th {\n",
       "        vertical-align: top;\n",
       "    }\n",
       "\n",
       "    .dataframe thead th {\n",
       "        text-align: right;\n",
       "    }\n",
       "</style>\n",
       "<table border=\"1\" class=\"dataframe\">\n",
       "  <thead>\n",
       "    <tr style=\"text-align: right;\">\n",
       "      <th></th>\n",
       "      <th>number</th>\n",
       "      <th>value</th>\n",
       "      <th>datetime_start</th>\n",
       "      <th>datetime_complete</th>\n",
       "      <th>duration</th>\n",
       "      <th>params_batch_size</th>\n",
       "      <th>params_dropout</th>\n",
       "      <th>params_fc_layers</th>\n",
       "      <th>params_learning_rate</th>\n",
       "      <th>params_optimizer</th>\n",
       "      <th>state</th>\n",
       "    </tr>\n",
       "  </thead>\n",
       "  <tbody>\n",
       "    <tr>\n",
       "      <th>0</th>\n",
       "      <td>0</td>\n",
       "      <td>0.258204</td>\n",
       "      <td>2024-05-23 09:45:40.969310</td>\n",
       "      <td>2024-05-23 09:47:44.991378</td>\n",
       "      <td>0 days 00:02:04.022068</td>\n",
       "      <td>680</td>\n",
       "      <td>0.162482</td>\n",
       "      <td>4</td>\n",
       "      <td>0.000014</td>\n",
       "      <td>RMSprop</td>\n",
       "      <td>COMPLETE</td>\n",
       "    </tr>\n",
       "    <tr>\n",
       "      <th>72</th>\n",
       "      <td>72</td>\n",
       "      <td>0.249684</td>\n",
       "      <td>2024-05-23 11:31:47.268871</td>\n",
       "      <td>2024-05-23 11:33:46.436115</td>\n",
       "      <td>0 days 00:01:59.167244</td>\n",
       "      <td>680</td>\n",
       "      <td>0.083139</td>\n",
       "      <td>4</td>\n",
       "      <td>0.000035</td>\n",
       "      <td>RMSprop</td>\n",
       "      <td>COMPLETE</td>\n",
       "    </tr>\n",
       "    <tr>\n",
       "      <th>77</th>\n",
       "      <td>77</td>\n",
       "      <td>0.241889</td>\n",
       "      <td>2024-05-23 11:40:32.816729</td>\n",
       "      <td>2024-05-23 11:42:45.138489</td>\n",
       "      <td>0 days 00:02:12.321760</td>\n",
       "      <td>850</td>\n",
       "      <td>0.076252</td>\n",
       "      <td>1</td>\n",
       "      <td>0.000025</td>\n",
       "      <td>Adam</td>\n",
       "      <td>COMPLETE</td>\n",
       "    </tr>\n",
       "  </tbody>\n",
       "</table>\n",
       "</div>"
      ],
      "text/plain": [
       "    number     value             datetime_start          datetime_complete  \\\n",
       "0        0  0.258204 2024-05-23 09:45:40.969310 2024-05-23 09:47:44.991378   \n",
       "72      72  0.249684 2024-05-23 11:31:47.268871 2024-05-23 11:33:46.436115   \n",
       "77      77  0.241889 2024-05-23 11:40:32.816729 2024-05-23 11:42:45.138489   \n",
       "\n",
       "                 duration  params_batch_size  params_dropout  \\\n",
       "0  0 days 00:02:04.022068                680        0.162482   \n",
       "72 0 days 00:01:59.167244                680        0.083139   \n",
       "77 0 days 00:02:12.321760                850        0.076252   \n",
       "\n",
       "    params_fc_layers  params_learning_rate params_optimizer     state  \n",
       "0                  4              0.000014          RMSprop  COMPLETE  \n",
       "72                 4              0.000035          RMSprop  COMPLETE  \n",
       "77                 1              0.000025             Adam  COMPLETE  "
      ]
     },
     "execution_count": 52,
     "metadata": {},
     "output_type": "execute_result"
    }
   ],
   "source": [
    "# import best trials from tuning\n",
    "ratio_df_trials_w_edge_attrs = pd.read_pickle(r'tuning_results\\ratio_results_w_edge_attrs_trials.pkl') # MISTAKE WAS MADE IN TUNING CODE, RATIO W EDGE ATTRS SAVED TO EC RESULTS\n",
    "ratio_df_trials_w_edge_attrs = ratio_df_trials_w_edge_attrs.sort_values('value', ascending=False).head(3)\n",
    "ratio_df_trials_w_edge_attrs"
   ]
  },
  {
   "cell_type": "code",
   "execution_count": 53,
   "metadata": {},
   "outputs": [
    {
     "name": "stderr",
     "output_type": "stream",
     "text": [
      "c:\\Users\\tuur\\anaconda3\\envs\\mne\\Lib\\site-packages\\lightning\\pytorch\\loops\\fit_loop.py:298: The number of training batches (2) is smaller than the logging interval Trainer(log_every_n_steps=10). Set a lower value for log_every_n_steps if you want to see logs for the training epoch.\n"
     ]
    },
    {
     "name": "stdout",
     "output_type": "stream",
     "text": [
      "\n",
      "Final evaluation #1 trial:\n"
     ]
    },
    {
     "data": {
      "text/html": [
       "<pre style=\"white-space:pre;overflow-x:auto;line-height:normal;font-family:Menlo,'DejaVu Sans Mono',consolas,'Courier New',monospace\">┏━━━━━━━━━━━━━━━━━━━━━━━━━━━┳━━━━━━━━━━━━━━━━━━━━━━━━━━━┓\n",
       "┃<span style=\"font-weight: bold\">      Validate metric      </span>┃<span style=\"font-weight: bold\">       DataLoader 0        </span>┃\n",
       "┡━━━━━━━━━━━━━━━━━━━━━━━━━━━╇━━━━━━━━━━━━━━━━━━━━━━━━━━━┩\n",
       "│<span style=\"color: #008080; text-decoration-color: #008080\">          val_f1           </span>│<span style=\"color: #800080; text-decoration-color: #800080\">    0.19732417166233063    </span>│\n",
       "│<span style=\"color: #008080; text-decoration-color: #008080\">         val_loss          </span>│<span style=\"color: #800080; text-decoration-color: #800080\">    1.6305593252182007     </span>│\n",
       "└───────────────────────────┴───────────────────────────┘\n",
       "</pre>\n"
      ],
      "text/plain": [
       "┏━━━━━━━━━━━━━━━━━━━━━━━━━━━┳━━━━━━━━━━━━━━━━━━━━━━━━━━━┓\n",
       "┃\u001b[1m \u001b[0m\u001b[1m     Validate metric     \u001b[0m\u001b[1m \u001b[0m┃\u001b[1m \u001b[0m\u001b[1m      DataLoader 0       \u001b[0m\u001b[1m \u001b[0m┃\n",
       "┡━━━━━━━━━━━━━━━━━━━━━━━━━━━╇━━━━━━━━━━━━━━━━━━━━━━━━━━━┩\n",
       "│\u001b[36m \u001b[0m\u001b[36m         val_f1          \u001b[0m\u001b[36m \u001b[0m│\u001b[35m \u001b[0m\u001b[35m   0.19732417166233063   \u001b[0m\u001b[35m \u001b[0m│\n",
       "│\u001b[36m \u001b[0m\u001b[36m        val_loss         \u001b[0m\u001b[36m \u001b[0m│\u001b[35m \u001b[0m\u001b[35m   1.6305593252182007    \u001b[0m\u001b[35m \u001b[0m│\n",
       "└───────────────────────────┴───────────────────────────┘\n"
      ]
     },
     "metadata": {},
     "output_type": "display_data"
    },
    {
     "name": "stdout",
     "output_type": "stream",
     "text": [
      "classification report:\n",
      "               precision    recall  f1-score   support\n",
      "\n",
      "        ADHD       0.18      0.08      0.11       108\n",
      "     HEALTHY       0.24      0.33      0.28       108\n",
      "         MDD       0.15      0.08      0.11       108\n",
      "         OCD       0.30      0.21      0.25       108\n",
      "         SMC       0.19      0.34      0.24       108\n",
      "\n",
      "    accuracy                           0.21       540\n",
      "   macro avg       0.21      0.21      0.20       540\n",
      "weighted avg       0.21      0.21      0.20       540\n",
      "\n"
     ]
    },
    {
     "name": "stderr",
     "output_type": "stream",
     "text": [
      "c:\\Users\\tuur\\anaconda3\\envs\\mne\\Lib\\site-packages\\lightning\\pytorch\\loops\\fit_loop.py:298: The number of training batches (2) is smaller than the logging interval Trainer(log_every_n_steps=10). Set a lower value for log_every_n_steps if you want to see logs for the training epoch.\n"
     ]
    },
    {
     "name": "stdout",
     "output_type": "stream",
     "text": [
      "\n",
      "Final evaluation #2 trial:\n"
     ]
    },
    {
     "data": {
      "text/html": [
       "<pre style=\"white-space:pre;overflow-x:auto;line-height:normal;font-family:Menlo,'DejaVu Sans Mono',consolas,'Courier New',monospace\">┏━━━━━━━━━━━━━━━━━━━━━━━━━━━┳━━━━━━━━━━━━━━━━━━━━━━━━━━━┓\n",
       "┃<span style=\"font-weight: bold\">      Validate metric      </span>┃<span style=\"font-weight: bold\">       DataLoader 0        </span>┃\n",
       "┡━━━━━━━━━━━━━━━━━━━━━━━━━━━╇━━━━━━━━━━━━━━━━━━━━━━━━━━━┩\n",
       "│<span style=\"color: #008080; text-decoration-color: #008080\">          val_f1           </span>│<span style=\"color: #800080; text-decoration-color: #800080\">    0.2238829880952835     </span>│\n",
       "│<span style=\"color: #008080; text-decoration-color: #008080\">         val_loss          </span>│<span style=\"color: #800080; text-decoration-color: #800080\">    2.3928375244140625     </span>│\n",
       "└───────────────────────────┴───────────────────────────┘\n",
       "</pre>\n"
      ],
      "text/plain": [
       "┏━━━━━━━━━━━━━━━━━━━━━━━━━━━┳━━━━━━━━━━━━━━━━━━━━━━━━━━━┓\n",
       "┃\u001b[1m \u001b[0m\u001b[1m     Validate metric     \u001b[0m\u001b[1m \u001b[0m┃\u001b[1m \u001b[0m\u001b[1m      DataLoader 0       \u001b[0m\u001b[1m \u001b[0m┃\n",
       "┡━━━━━━━━━━━━━━━━━━━━━━━━━━━╇━━━━━━━━━━━━━━━━━━━━━━━━━━━┩\n",
       "│\u001b[36m \u001b[0m\u001b[36m         val_f1          \u001b[0m\u001b[36m \u001b[0m│\u001b[35m \u001b[0m\u001b[35m   0.2238829880952835    \u001b[0m\u001b[35m \u001b[0m│\n",
       "│\u001b[36m \u001b[0m\u001b[36m        val_loss         \u001b[0m\u001b[36m \u001b[0m│\u001b[35m \u001b[0m\u001b[35m   2.3928375244140625    \u001b[0m\u001b[35m \u001b[0m│\n",
       "└───────────────────────────┴───────────────────────────┘\n"
      ]
     },
     "metadata": {},
     "output_type": "display_data"
    },
    {
     "name": "stdout",
     "output_type": "stream",
     "text": [
      "classification report:\n",
      "               precision    recall  f1-score   support\n",
      "\n",
      "        ADHD       0.26      0.19      0.22       108\n",
      "     HEALTHY       0.22      0.26      0.24       108\n",
      "         MDD       0.24      0.31      0.27       108\n",
      "         OCD       0.18      0.21      0.20       108\n",
      "         SMC       0.25      0.17      0.20       108\n",
      "\n",
      "    accuracy                           0.23       540\n",
      "   macro avg       0.23      0.23      0.22       540\n",
      "weighted avg       0.23      0.23      0.22       540\n",
      "\n"
     ]
    },
    {
     "name": "stderr",
     "output_type": "stream",
     "text": [
      "c:\\Users\\tuur\\anaconda3\\envs\\mne\\Lib\\site-packages\\lightning\\pytorch\\loops\\fit_loop.py:298: The number of training batches (2) is smaller than the logging interval Trainer(log_every_n_steps=10). Set a lower value for log_every_n_steps if you want to see logs for the training epoch.\n"
     ]
    },
    {
     "name": "stdout",
     "output_type": "stream",
     "text": [
      "\n",
      "Final evaluation #3 trial:\n"
     ]
    },
    {
     "data": {
      "text/html": [
       "<pre style=\"white-space:pre;overflow-x:auto;line-height:normal;font-family:Menlo,'DejaVu Sans Mono',consolas,'Courier New',monospace\">┏━━━━━━━━━━━━━━━━━━━━━━━━━━━┳━━━━━━━━━━━━━━━━━━━━━━━━━━━┓\n",
       "┃<span style=\"font-weight: bold\">      Validate metric      </span>┃<span style=\"font-weight: bold\">       DataLoader 0        </span>┃\n",
       "┡━━━━━━━━━━━━━━━━━━━━━━━━━━━╇━━━━━━━━━━━━━━━━━━━━━━━━━━━┩\n",
       "│<span style=\"color: #008080; text-decoration-color: #008080\">          val_f1           </span>│<span style=\"color: #800080; text-decoration-color: #800080\">    0.22667163610458374    </span>│\n",
       "│<span style=\"color: #008080; text-decoration-color: #008080\">         val_loss          </span>│<span style=\"color: #800080; text-decoration-color: #800080\">    1.9344408512115479     </span>│\n",
       "└───────────────────────────┴───────────────────────────┘\n",
       "</pre>\n"
      ],
      "text/plain": [
       "┏━━━━━━━━━━━━━━━━━━━━━━━━━━━┳━━━━━━━━━━━━━━━━━━━━━━━━━━━┓\n",
       "┃\u001b[1m \u001b[0m\u001b[1m     Validate metric     \u001b[0m\u001b[1m \u001b[0m┃\u001b[1m \u001b[0m\u001b[1m      DataLoader 0       \u001b[0m\u001b[1m \u001b[0m┃\n",
       "┡━━━━━━━━━━━━━━━━━━━━━━━━━━━╇━━━━━━━━━━━━━━━━━━━━━━━━━━━┩\n",
       "│\u001b[36m \u001b[0m\u001b[36m         val_f1          \u001b[0m\u001b[36m \u001b[0m│\u001b[35m \u001b[0m\u001b[35m   0.22667163610458374   \u001b[0m\u001b[35m \u001b[0m│\n",
       "│\u001b[36m \u001b[0m\u001b[36m        val_loss         \u001b[0m\u001b[36m \u001b[0m│\u001b[35m \u001b[0m\u001b[35m   1.9344408512115479    \u001b[0m\u001b[35m \u001b[0m│\n",
       "└───────────────────────────┴───────────────────────────┘\n"
      ]
     },
     "metadata": {},
     "output_type": "display_data"
    },
    {
     "name": "stdout",
     "output_type": "stream",
     "text": [
      "classification report:\n",
      "               precision    recall  f1-score   support\n",
      "\n",
      "        ADHD       0.28      0.21      0.24       108\n",
      "     HEALTHY       0.26      0.29      0.27       108\n",
      "         MDD       0.28      0.18      0.22       108\n",
      "         OCD       0.18      0.30      0.23       108\n",
      "         SMC       0.19      0.17      0.18       108\n",
      "\n",
      "    accuracy                           0.23       540\n",
      "   macro avg       0.24      0.23      0.23       540\n",
      "weighted avg       0.24      0.23      0.23       540\n",
      "\n",
      "Mean f1-score 3 best trials: 0.2160\n",
      "STD f1-score 3 best trials: 0.0132\n"
     ]
    },
    {
     "data": {
      "image/png": "[encoded data removed]",
      "text/plain": [
       "<Figure size 2400x1600 with 3 Axes>"
      ]
     },
     "metadata": {},
     "output_type": "display_data"
    }
   ],
   "source": [
    "from lightning.pytorch.tuner import Tuner\n",
    "from lightning.pytorch import Trainer, seed_everything\n",
    "from lightning.pytorch.callbacks import ModelCheckpoint, TQDMProgressBar, RichProgressBar, ModelSummary\n",
    "from lightning.pytorch.callbacks.early_stopping import EarlyStopping\n",
    "import logging\n",
    "import warnings\n",
    "warnings.filterwarnings(\"ignore\", \".*Consider increasing the value of the `num_workers` argument*\")\n",
    "warnings.filterwarnings(\"ignore\", \"Trying to infer the `batch_size` from an ambiguous collection.*\")\n",
    "torch.set_float32_matmul_precision('high')\n",
    "logging.getLogger(\"lightning.pytorch.utilities.rank_zero\").setLevel(logging.WARNING)\n",
    "logging.getLogger(\"lightning.pytorch.accelerators.cuda\").setLevel(logging.WARNING)\n",
    "\n",
    "# create subplots for confusion matrices\n",
    "fig, ax = plt.subplots(1, 3, figsize=(24, 16))\n",
    "\n",
    "# list for storing f1-scores:\n",
    "f1_scores = []\n",
    "\n",
    "# iterate over the 3 best trials during tuning\n",
    "for num, trial in enumerate(ratio_df_trials_w_edge_attrs.iterrows()):\n",
    "    # retrieve the hyperparameters\n",
    "    learning_rate = trial[1]['params_learning_rate']\n",
    "    optimizer_name = trial[1]['params_optimizer']\n",
    "    fc_layers = trial[1]['params_fc_layers']\n",
    "    dropout = trial[1]['params_dropout']\n",
    "    batch_size = trial[1]['params_batch_size']\n",
    "\n",
    "    # use best parameters from optuna\n",
    "    model = graphLambda_wo_edge_attr(learning_rate=learning_rate, optimizer_name=optimizer_name, fc_layers=fc_layers, dropout=dropout)\n",
    "\n",
    "    # Define the data loaders\n",
    "    train_loader = DataLoader(X_train, batch_size=batch_size, shuffle=True,\n",
    "                                drop_last=True) # , num_workers=0, persistent_workers=True\n",
    "    val_loader = DataLoader(X_val, batch_size=len(X_val), shuffle=False,\n",
    "                                drop_last=True) # , num_workers=0, persistent_workers=True\n",
    "\n",
    "\n",
    "    checkpoint_callback = ModelCheckpoint(monitor='val_f1',\n",
    "                                        mode='max',\n",
    "                                        save_top_k=5,\n",
    "                                        filename='{epoch}-{train_loss:.2f}-{train_f1:.2f}-{val_loss:.2f}-{val_f1:.2f}',\n",
    "                                        )\n",
    "\n",
    "\n",
    "    trainer = Trainer(callbacks=[checkpoint_callback, ModelSummary(max_depth=0)],\n",
    "                    accelerator='gpu',\n",
    "                    max_epochs=800,\n",
    "                    enable_progress_bar=False,\n",
    "                    check_val_every_n_epoch=10,\n",
    "                    log_every_n_steps=10,\n",
    "                    deterministic=True,\n",
    "                    )\n",
    "\n",
    "    trainer.fit(model, train_loader, val_loader)\n",
    "\n",
    "    print()\n",
    "    print(f'Final evaluation #{num+1} trial:')\n",
    "    # get evaluation of best model checkpoint\n",
    "    trainer.validate(model, val_loader, ckpt_path='best')\n",
    "\n",
    "    # compute confusion matrix and classification report with sklearn of best model checkpoint\n",
    "    from sklearn.metrics import f1_score, classification_report, confusion_matrix, ConfusionMatrixDisplay\n",
    "    y_pred = trainer.predict(model, val_loader, ckpt_path='best')\n",
    "    y_pred = np.concatenate(y_pred).flatten()\n",
    "    y = Y_val\n",
    "\n",
    "    class_labels = le.inverse_transform(sorted(np.unique(y)))\n",
    "    print('classification report:\\n', classification_report(y, y_pred, target_names=class_labels))\n",
    "    f1_scores.append(f1_score(y, y_pred, average=\"macro\"))\n",
    "\n",
    "    # plot confusion matrix\n",
    "    conf_matrix = confusion_matrix(y, y_pred)\n",
    "    ConfusionMatrixDisplay(conf_matrix, display_labels = class_labels).plot(cmap = 'Blues', values_format = 'd', colorbar=False, ax=ax[num])\n",
    "    ax[num].set_title(f'Confusion matrix {num+1}, f1: {f1_score(y, y_pred, average=\"macro\"):.4f}')\n",
    "print(f'Mean f1-score 3 best trials: {np.mean(f1_scores):.4f}')\n",
    "print(f'STD f1-score 3 best trials: {np.std(f1_scores):.4f}')"
   ]
  }
 ],
 "metadata": {
  "kernelspec": {
   "display_name": "mne",
   "language": "python",
   "name": "python3"
  },
  "language_info": {
   "codemirror_mode": {
    "name": "ipython",
    "version": 3
   },
   "file_extension": ".py",
   "mimetype": "text/x-python",
   "name": "python",
   "nbconvert_exporter": "python",
   "pygments_lexer": "ipython3",
   "version": "3.11.7"
  }
 },
 "nbformat": 4,
 "nbformat_minor": 4
}
