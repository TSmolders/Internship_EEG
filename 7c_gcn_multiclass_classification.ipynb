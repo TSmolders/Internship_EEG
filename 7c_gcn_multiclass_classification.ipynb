{
 "cells": [
  {
   "cell_type": "markdown",
   "metadata": {},
   "source": [
    "## AIM: Final evaluation of Graph Convolutional Networks (GCNs) as multiclass classification models for predicting the psychiatric diagnosis based on EEG features"
   ]
  },
  {
   "cell_type": "markdown",
   "metadata": {},
   "source": [
    "Final evaluation of the top 3 models during tuning for each feature set condition [EC, EO, ratio] and each GCN [graphlambda wo edge_attr, graphlambda with edge_attr]"
   ]
  },
  {
   "cell_type": "code",
   "execution_count": 1,
   "metadata": {
    "execution": {
     "iopub.execute_input": "2024-06-19T12:23:07.681348Z",
     "iopub.status.busy": "2024-06-19T12:23:07.681145Z",
     "iopub.status.idle": "2024-06-19T12:23:11.500045Z",
     "shell.execute_reply": "2024-06-19T12:23:11.499412Z"
    }
   },
   "outputs": [],
   "source": [
    "import pandas as pd\n",
    "import numpy as np\n",
    "import seaborn as sns\n",
    "import matplotlib.pyplot as plt\n",
    "\n",
    "import optuna\n",
    "\n",
    "import lightning.pytorch as pl\n",
    "import torch\n",
    "import torch_geometric\n",
    "import torch.nn.functional as F\n",
    "from torch.nn import Sequential, Linear, ReLU, BatchNorm1d, Dropout, Dropout1d\n",
    "from torch_geometric.nn import  GCNConv, global_add_pool,GATConv,GINConv, GATv2Conv\n",
    "from torch_geometric.loader import DataLoader\n",
    "from torch_geometric.data import Data\n",
    "from torch_geometric.utils.convert import from_networkx, to_networkx\n",
    "import lightning.pytorch as pl\n",
    "from torchmetrics import F1Score, ConfusionMatrix\n",
    "from lightning.pytorch.tuner import Tuner\n",
    "from lightning.pytorch import Trainer, seed_everything\n",
    "from lightning.pytorch.callbacks import ModelCheckpoint, TQDMProgressBar, RichProgressBar\n",
    "from lightning.pytorch.callbacks.early_stopping import EarlyStopping\n",
    "\n",
    "from optuna.visualization.matplotlib import plot_contour\n",
    "from optuna.visualization.matplotlib import plot_edf\n",
    "from optuna.visualization.matplotlib import plot_intermediate_values\n",
    "from optuna.visualization.matplotlib import plot_optimization_history\n",
    "from optuna.visualization.matplotlib import plot_parallel_coordinate\n",
    "from optuna.visualization.matplotlib import plot_param_importances\n",
    "from optuna.visualization.matplotlib import plot_rank\n",
    "from optuna.visualization.matplotlib import plot_slice\n",
    "from optuna.visualization.matplotlib import plot_timeline"
   ]
  },
  {
   "cell_type": "markdown",
   "metadata": {},
   "source": [
    "### Load data & features"
   ]
  },
  {
   "cell_type": "code",
   "execution_count": 2,
   "metadata": {
    "execution": {
     "iopub.execute_input": "2024-06-19T12:23:11.504157Z",
     "iopub.status.busy": "2024-06-19T12:23:11.503793Z",
     "iopub.status.idle": "2024-06-19T12:23:11.506948Z",
     "shell.execute_reply": "2024-06-19T12:23:11.506536Z"
    }
   },
   "outputs": [],
   "source": [
    "import pickle\n",
    "def load_file(file):\n",
    "    with open(file, 'rb') as handle:\n",
    "        return pickle.load(handle)"
   ]
  },
  {
   "cell_type": "code",
   "execution_count": 3,
   "metadata": {
    "execution": {
     "iopub.execute_input": "2024-06-19T12:23:11.509482Z",
     "iopub.status.busy": "2024-06-19T12:23:11.508941Z",
     "iopub.status.idle": "2024-06-19T12:23:11.582396Z",
     "shell.execute_reply": "2024-06-19T12:23:11.581801Z"
    }
   },
   "outputs": [
    {
     "name": "stdout",
     "output_type": "stream",
     "text": [
      "(2700, 1218)\n"
     ]
    },
    {
     "data": {
      "text/html": [
       "<div>\n",
       "<style scoped>\n",
       "    .dataframe tbody tr th:only-of-type {\n",
       "        vertical-align: middle;\n",
       "    }\n",
       "\n",
       "    .dataframe tbody tr th {\n",
       "        vertical-align: top;\n",
       "    }\n",
       "\n",
       "    .dataframe thead th {\n",
       "        text-align: right;\n",
       "    }\n",
       "</style>\n",
       "<table border=\"1\" class=\"dataframe\">\n",
       "  <thead>\n",
       "    <tr style=\"text-align: right;\">\n",
       "      <th></th>\n",
       "      <th>ID</th>\n",
       "      <th>diagnosis</th>\n",
       "      <th>epoch</th>\n",
       "      <th>EO_l_frontal_delta_std</th>\n",
       "      <th>EO_l_frontal_delta_mean</th>\n",
       "      <th>EO_l_frontal_delta_median</th>\n",
       "      <th>EO_l_frontal_delta_skew</th>\n",
       "      <th>EO_l_frontal_delta_kurt</th>\n",
       "      <th>EO_l_frontal_theta_std</th>\n",
       "      <th>EO_l_frontal_theta_mean</th>\n",
       "      <th>...</th>\n",
       "      <th>ratio_gamma_m_central-r_central</th>\n",
       "      <th>ratio_gamma_m_central-l_posterior</th>\n",
       "      <th>ratio_gamma_m_central-m_posterior</th>\n",
       "      <th>ratio_gamma_m_central-r_posterior</th>\n",
       "      <th>ratio_gamma_r_central-l_posterior</th>\n",
       "      <th>ratio_gamma_r_central-m_posterior</th>\n",
       "      <th>ratio_gamma_r_central-r_posterior</th>\n",
       "      <th>ratio_gamma_l_posterior-m_posterior</th>\n",
       "      <th>ratio_gamma_l_posterior-r_posterior</th>\n",
       "      <th>ratio_gamma_m_posterior-r_posterior</th>\n",
       "    </tr>\n",
       "  </thead>\n",
       "  <tbody>\n",
       "    <tr>\n",
       "      <th>1737</th>\n",
       "      <td>sub-88052509</td>\n",
       "      <td>2</td>\n",
       "      <td>10</td>\n",
       "      <td>0.053237</td>\n",
       "      <td>0.065453</td>\n",
       "      <td>0.065453</td>\n",
       "      <td>2.534351</td>\n",
       "      <td>9.997455</td>\n",
       "      <td>0.028451</td>\n",
       "      <td>0.054338</td>\n",
       "      <td>...</td>\n",
       "      <td>1.067130</td>\n",
       "      <td>1.076634</td>\n",
       "      <td>1.078584</td>\n",
       "      <td>1.078456</td>\n",
       "      <td>1.059590</td>\n",
       "      <td>1.051807</td>\n",
       "      <td>1.066035</td>\n",
       "      <td>1.062227</td>\n",
       "      <td>1.029411</td>\n",
       "      <td>1.048801</td>\n",
       "    </tr>\n",
       "    <tr>\n",
       "      <th>943</th>\n",
       "      <td>sub-88013761</td>\n",
       "      <td>3</td>\n",
       "      <td>8</td>\n",
       "      <td>0.060509</td>\n",
       "      <td>0.102759</td>\n",
       "      <td>0.102759</td>\n",
       "      <td>0.910149</td>\n",
       "      <td>0.635000</td>\n",
       "      <td>0.030389</td>\n",
       "      <td>0.066733</td>\n",
       "      <td>...</td>\n",
       "      <td>1.103269</td>\n",
       "      <td>1.172810</td>\n",
       "      <td>1.149466</td>\n",
       "      <td>1.175168</td>\n",
       "      <td>1.147443</td>\n",
       "      <td>1.121113</td>\n",
       "      <td>1.117935</td>\n",
       "      <td>1.107527</td>\n",
       "      <td>1.138708</td>\n",
       "      <td>1.113077</td>\n",
       "    </tr>\n",
       "    <tr>\n",
       "      <th>538</th>\n",
       "      <td>sub-87971373</td>\n",
       "      <td>4</td>\n",
       "      <td>11</td>\n",
       "      <td>0.039405</td>\n",
       "      <td>0.055867</td>\n",
       "      <td>0.055867</td>\n",
       "      <td>1.418195</td>\n",
       "      <td>2.083690</td>\n",
       "      <td>0.023069</td>\n",
       "      <td>0.043020</td>\n",
       "      <td>...</td>\n",
       "      <td>0.970596</td>\n",
       "      <td>0.941745</td>\n",
       "      <td>0.946986</td>\n",
       "      <td>0.935640</td>\n",
       "      <td>0.949121</td>\n",
       "      <td>0.968508</td>\n",
       "      <td>0.976074</td>\n",
       "      <td>0.958984</td>\n",
       "      <td>0.948935</td>\n",
       "      <td>0.981514</td>\n",
       "    </tr>\n",
       "  </tbody>\n",
       "</table>\n",
       "<p>3 rows × 1218 columns</p>\n",
       "</div>"
      ],
      "text/plain": [
       "                ID  diagnosis  epoch  EO_l_frontal_delta_std  \\\n",
       "1737  sub-88052509          2     10                0.053237   \n",
       "943   sub-88013761          3      8                0.060509   \n",
       "538   sub-87971373          4     11                0.039405   \n",
       "\n",
       "      EO_l_frontal_delta_mean  EO_l_frontal_delta_median  \\\n",
       "1737                 0.065453                   0.065453   \n",
       "943                  0.102759                   0.102759   \n",
       "538                  0.055867                   0.055867   \n",
       "\n",
       "      EO_l_frontal_delta_skew  EO_l_frontal_delta_kurt  \\\n",
       "1737                 2.534351                 9.997455   \n",
       "943                  0.910149                 0.635000   \n",
       "538                  1.418195                 2.083690   \n",
       "\n",
       "      EO_l_frontal_theta_std  EO_l_frontal_theta_mean  ...  \\\n",
       "1737                0.028451                 0.054338  ...   \n",
       "943                 0.030389                 0.066733  ...   \n",
       "538                 0.023069                 0.043020  ...   \n",
       "\n",
       "      ratio_gamma_m_central-r_central  ratio_gamma_m_central-l_posterior  \\\n",
       "1737                         1.067130                           1.076634   \n",
       "943                          1.103269                           1.172810   \n",
       "538                          0.970596                           0.941745   \n",
       "\n",
       "      ratio_gamma_m_central-m_posterior  ratio_gamma_m_central-r_posterior  \\\n",
       "1737                           1.078584                           1.078456   \n",
       "943                            1.149466                           1.175168   \n",
       "538                            0.946986                           0.935640   \n",
       "\n",
       "      ratio_gamma_r_central-l_posterior  ratio_gamma_r_central-m_posterior  \\\n",
       "1737                           1.059590                           1.051807   \n",
       "943                            1.147443                           1.121113   \n",
       "538                            0.949121                           0.968508   \n",
       "\n",
       "      ratio_gamma_r_central-r_posterior  ratio_gamma_l_posterior-m_posterior  \\\n",
       "1737                           1.066035                             1.062227   \n",
       "943                            1.117935                             1.107527   \n",
       "538                            0.976074                             0.958984   \n",
       "\n",
       "      ratio_gamma_l_posterior-r_posterior  ratio_gamma_m_posterior-r_posterior  \n",
       "1737                             1.029411                             1.048801  \n",
       "943                              1.138708                             1.113077  \n",
       "538                              0.948935                             0.981514  \n",
       "\n",
       "[3 rows x 1218 columns]"
      ]
     },
     "execution_count": 3,
     "metadata": {},
     "output_type": "execute_result"
    }
   ],
   "source": [
    "# import stat & conn features without feature selection\n",
    "df_stat_conn_features = pd.read_pickle('df_stat_conn_features.pkl')\n",
    "df_stat_conn_features = df_stat_conn_features.dropna(subset=['diagnosis'])\n",
    "\n",
    "# label encode diagnosis\n",
    "from sklearn.preprocessing import LabelEncoder\n",
    "le = LabelEncoder()\n",
    "le.fit(df_stat_conn_features['diagnosis'])\n",
    "df_stat_conn_features['diagnosis'] = le.transform(df_stat_conn_features['diagnosis'])\n",
    "\n",
    "print(df_stat_conn_features.shape)\n",
    "df_stat_conn_features.sample(3)"
   ]
  },
  {
   "cell_type": "code",
   "execution_count": 4,
   "metadata": {
    "execution": {
     "iopub.execute_input": "2024-06-19T12:23:11.615073Z",
     "iopub.status.busy": "2024-06-19T12:23:11.614639Z",
     "iopub.status.idle": "2024-06-19T12:23:11.633243Z",
     "shell.execute_reply": "2024-06-19T12:23:11.632700Z"
    }
   },
   "outputs": [
    {
     "name": "stdout",
     "output_type": "stream",
     "text": [
      "(2700, 408)\n",
      "(2700, 408)\n",
      "(2700, 408)\n"
     ]
    }
   ],
   "source": [
    "# create 3 feature sets [EC, EO, ratio] with column ['ID', 'age', 'gender', 'diagnosis', 'epoch']\n",
    "df_stat_conn_features_ec = df_stat_conn_features[df_stat_conn_features.columns[~(df_stat_conn_features.columns.str.startswith('EO') | df_stat_conn_features.columns.str.startswith('ratio'))]]\n",
    "df_stat_conn_features_eo = df_stat_conn_features[df_stat_conn_features.columns[~(df_stat_conn_features.columns.str.startswith('EC') | df_stat_conn_features.columns.str.startswith('ratio'))]]\n",
    "df_stat_conn_features_ratio = df_stat_conn_features[df_stat_conn_features.columns[~(df_stat_conn_features.columns.str.startswith('EC') | df_stat_conn_features.columns.str.startswith('EO'))]]\n",
    "print(df_stat_conn_features_ratio.shape)\n",
    "print(df_stat_conn_features_ec.shape)\n",
    "print(df_stat_conn_features_eo.shape)"
   ]
  },
  {
   "cell_type": "code",
   "execution_count": 5,
   "metadata": {
    "execution": {
     "iopub.execute_input": "2024-06-19T12:23:11.635799Z",
     "iopub.status.busy": "2024-06-19T12:23:11.635591Z",
     "iopub.status.idle": "2024-06-19T12:23:11.654244Z",
     "shell.execute_reply": "2024-06-19T12:23:11.653670Z"
    }
   },
   "outputs": [
    {
     "name": "stdout",
     "output_type": "stream",
     "text": [
      "224 225\n",
      "224 225\n",
      "(12, 5, 9, 9)\n",
      "sub-87964717\n"
     ]
    }
   ],
   "source": [
    "synchrony_feature_dict = load_file('synchrony_feature_dict.pkl')\n",
    "subjects_ec_syncro_matrices = synchrony_feature_dict['EC_syncro']\n",
    "subjects_eo_syncro_matrices = synchrony_feature_dict['EO_syncro']\n",
    "subjects_ec_ids = synchrony_feature_dict['EC_IDs']\n",
    "subjects_eo_ids = synchrony_feature_dict['EO_IDs']\n",
    "print(len(subjects_ec_syncro_matrices), len(subjects_eo_syncro_matrices))\n",
    "print(len(subjects_ec_ids), len(subjects_eo_ids))\n",
    "print(subjects_ec_syncro_matrices[0].shape)\n",
    "print(subjects_ec_ids[0])"
   ]
  },
  {
   "cell_type": "code",
   "execution_count": 6,
   "metadata": {
    "execution": {
     "iopub.execute_input": "2024-06-19T12:23:11.656975Z",
     "iopub.status.busy": "2024-06-19T12:23:11.656766Z",
     "iopub.status.idle": "2024-06-19T12:23:11.667396Z",
     "shell.execute_reply": "2024-06-19T12:23:11.666827Z"
    }
   },
   "outputs": [
    {
     "name": "stdout",
     "output_type": "stream",
     "text": [
      "224 224\n"
     ]
    },
    {
     "name": "stderr",
     "output_type": "stream",
     "text": [
      "/tmp/ipykernel_75463/1473655494.py:18: RuntimeWarning: invalid value encountered in divide\n",
      "  ratio_matrix = subjects_ec_syncro_matrices[i] / ratio_subjects_eo_syncro_matrices[i]\n"
     ]
    }
   ],
   "source": [
    "# compute ratio [EC/EO] synchrony matrices\n",
    "\n",
    "# Convert the lists to sets\n",
    "subjects_ec_ids_set = set(subjects_ec_ids)\n",
    "subjects_eo_ids_set = set(subjects_eo_ids)\n",
    "\n",
    "# find the missing IDs to make sure ratio is computed within the same participant\n",
    "missing_ids = subjects_eo_ids_set - subjects_ec_ids_set\n",
    "missing_ids_indices = [subjects_eo_ids.index(id) for id in missing_ids]\n",
    "\n",
    "# remove missing IDs from EO\n",
    "ratio_subjects_eo_syncro_matrices = [matrix for i, matrix in enumerate(subjects_eo_syncro_matrices) if i not in missing_ids_indices]\n",
    "assert len(ratio_subjects_eo_syncro_matrices) == len(subjects_ec_syncro_matrices)\n",
    "\n",
    "# compute ratio\n",
    "subjects_ratio_syncro_matrices = []\n",
    "for i in range(len(subjects_ec_syncro_matrices)):\n",
    "    ratio_matrix = subjects_ec_syncro_matrices[i] / ratio_subjects_eo_syncro_matrices[i]\n",
    "    subjects_ratio_syncro_matrices.append(ratio_matrix)\n",
    "subjects_ratio_ids = subjects_ec_ids\n",
    "print(len(subjects_ratio_syncro_matrices), len(subjects_ratio_ids))"
   ]
  },
  {
   "cell_type": "code",
   "execution_count": 7,
   "metadata": {
    "execution": {
     "iopub.execute_input": "2024-06-19T12:23:11.670179Z",
     "iopub.status.busy": "2024-06-19T12:23:11.669697Z",
     "iopub.status.idle": "2024-06-19T12:23:11.725202Z",
     "shell.execute_reply": "2024-06-19T12:23:11.724649Z"
    }
   },
   "outputs": [],
   "source": [
    "# define function to store features in PyTorch Geometric Data objects\n",
    "import networkx as nx\n",
    "from joblib import Parallel, delayed # for parallel processing\n",
    "from tqdm import tqdm\n",
    "def process_subject(syncros, subject_id, df_features):\n",
    "    graph_dataset = []\n",
    "    y_list = []\n",
    "\n",
    "    # obtain statistical features for subject\n",
    "    subject_stat_features = df_features[df_features['ID'] == subject_id]\n",
    "    stat_columns = ['epoch', 'mean', 'median', 'std', 'skew', 'kurt'] # select statistical features\n",
    "    pattern = '|'.join(stat_columns)  # create a pattern string\n",
    "    subject_stat_features = subject_stat_features[subject_stat_features.columns[subject_stat_features.columns.str.contains(pattern)]]\n",
    "    \n",
    "    for epoch, syncro_matrices in enumerate(syncros):\n",
    "        num_edges = int((syncro_matrices.shape[1] * (syncro_matrices.shape[2] - 1)) / 2)\n",
    "        bands = syncro_matrices.shape[0]\n",
    "        edge_attrs = np.zeros((num_edges, bands)) # create empty array to store edge weights for each frequency band\n",
    "\n",
    "        for i, syncro_matrix in enumerate(syncro_matrices):\n",
    "            # print(f'{syncro_matrix.shape = }')\n",
    "            syncro_graph = nx.from_numpy_array(syncro_matrix)\n",
    "            # print(f'{syncro_graph = }')\n",
    "            edge_list = nx.to_pandas_edgelist(syncro_graph)\n",
    "            edge_list = edge_list.dropna(axis=0)\n",
    "            # print(f'{edge_list = }')\n",
    "            edge_index = edge_list.iloc[:,0:2].values.T # shape (2, num_edges), edge_index stays the same for all bands right?\n",
    "            # print(f'{edge_index = }')\n",
    "            edge_attr = edge_list.iloc[:,2].values#.reshape(-1,1)\n",
    "            edge_attrs[:,i] = edge_attr\n",
    "\n",
    "        y = df_stat_conn_features_ec[df_stat_conn_features_ec['ID'] == subject_id]['diagnosis'].values[0]\n",
    "        \n",
    "        # store statistical features for subject\n",
    "        ch_groups = ['l_frontal', 'm_frontal', 'r_frontal', 'l_central', 'm_central', 'r_central', 'l_posterior', 'm_posterior', 'r_posterior']\n",
    "        bands = ['delta', 'theta', 'alpha', 'beta', 'gamma']\n",
    "        x = np.zeros((len(ch_groups), len(bands) * (len(stat_columns)-1))) # -1 because of epochs column in stat_columns\n",
    "        # print(x.shape)\n",
    "        for num, ch_group in enumerate(ch_groups):\n",
    "            x[num] = subject_stat_features[subject_stat_features['epoch'] == (epoch + 1)][subject_stat_features.columns[subject_stat_features.columns.str.contains(ch_group)]].values[0]\n",
    "            \n",
    "\n",
    "        data = Data(x=torch.tensor(x, dtype=torch.float),                     # Node features [num_nodes, num_node_features]\n",
    "                    edge_index=torch.tensor(edge_index, dtype=torch.long),    # Adjacency matrix [2, num_edges]\n",
    "                    edge_attr=torch.tensor(edge_attrs,dtype=torch.float),  # Edge features [num_edges, num_edge_features]\n",
    "                    y=torch.tensor([y], dtype=torch.long))                    # Target/Label (it should be a list) --> torch.long for classification, torch.float for regression\n",
    "        graph_dataset.append(data)\n",
    "        y_list.append(y)\n",
    "\n",
    "    return graph_dataset, y_list"
   ]
  },
  {
   "cell_type": "code",
   "execution_count": 8,
   "metadata": {
    "execution": {
     "iopub.execute_input": "2024-06-19T12:23:11.727779Z",
     "iopub.status.busy": "2024-06-19T12:23:11.727578Z",
     "iopub.status.idle": "2024-06-19T12:24:04.272011Z",
     "shell.execute_reply": "2024-06-19T12:24:04.271184Z"
    }
   },
   "outputs": [
    {
     "name": "stderr",
     "output_type": "stream",
     "text": [
      "100%|███████████████████████████████████████████████████████████████████████████████████████████████████████████████████████████████████████████████████████| 224/224 [00:50<00:00,  4.43it/s]\n"
     ]
    },
    {
     "name": "stdout",
     "output_type": "stream",
     "text": [
      "ec_graph_dataset[0].x.shape = torch.Size([9, 25]), stat features [num_nodes, num_node_features]\n",
      "ec_graph_dataset[0].edge_attr.shape = torch.Size([36, 5]), [num_edges, n_bands]\n",
      "ec_graph_dataset[0].edge_index.shape = torch.Size([2, 36]), [2, num_edges]\n",
      "len(ec_graph_dataset) = 2688, subjects: 224, epochs: 12\n",
      "ec_graph_dataset[0] = Data(x=[9, 25], edge_index=[2, 36], edge_attr=[36, 5], y=[1])\n"
     ]
    }
   ],
   "source": [
    "# retrieve and store data for EC features\n",
    "# subjects__ec/eo_syncro_matrices : A list of lists, every list is a subject, every element in that list is an array of shape [n_epochs, n_bands, n_channels, n_channels]\n",
    "\n",
    "results = Parallel(n_jobs=-1)(delayed(process_subject)(syncros, subject_id, df_stat_conn_features_ec) for syncros, subject_id in tqdm(zip(subjects_ec_syncro_matrices, subjects_ec_ids), total=len(subjects_ec_syncro_matrices)))\n",
    "\n",
    "ec_graph_dataset = []\n",
    "ec_y_list = []\n",
    "for result in results:\n",
    "    ec_graph_dataset.extend(result[0])\n",
    "    ec_y_list.extend(result[1])\n",
    "    \n",
    "assert len(ec_graph_dataset) == len(ec_y_list)\n",
    "\n",
    "print(f'{ec_graph_dataset[0].x.shape = }, stat features [num_nodes, num_node_features]')\n",
    "print(f'{ec_graph_dataset[0].edge_attr.shape = }, [num_edges, n_bands]')\n",
    "print(f'{ec_graph_dataset[0].edge_index.shape = }, [2, num_edges]')\n",
    "print(f'{len(ec_graph_dataset) = }, subjects: {len(subjects_ec_syncro_matrices)}, epochs: {len(subjects_ec_syncro_matrices[0])}')\n",
    "print(f'{ec_graph_dataset[0] = }')"
   ]
  },
  {
   "cell_type": "code",
   "execution_count": 9,
   "metadata": {
    "execution": {
     "iopub.execute_input": "2024-06-19T12:24:04.274611Z",
     "iopub.status.busy": "2024-06-19T12:24:04.274367Z",
     "iopub.status.idle": "2024-06-19T12:24:30.768430Z",
     "shell.execute_reply": "2024-06-19T12:24:30.767855Z"
    }
   },
   "outputs": [
    {
     "name": "stderr",
     "output_type": "stream",
     "text": [
      "100%|███████████████████████████████████████████████████████████████████████████████████████████████████████████████████████████████████████████████████████| 225/225 [00:24<00:00,  9.21it/s]\n"
     ]
    },
    {
     "name": "stdout",
     "output_type": "stream",
     "text": [
      "eo_graph_dataset[0].x.shape = torch.Size([9, 25]), stat features [num_nodes, num_node_features]\n",
      "eo_graph_dataset[0].edge_attr.shape = torch.Size([36, 5]), [num_edges, n_bands]\n",
      "eo_graph_dataset[0].edge_index.shape = torch.Size([2, 36]), [2, num_edges]\n",
      "len(eo_graph_dataset) = 2700, subjects: 225, epochs: 12\n",
      "eo_graph_dataset[0] = Data(x=[9, 25], edge_index=[2, 36], edge_attr=[36, 5], y=[1])\n"
     ]
    }
   ],
   "source": [
    "# retrieve and store data for EO features\n",
    "# subjects__ec/eo_syncro_matrices : A list of lists, every list is a subject, every element in that list is an array of shape [n_epochs, n_bands, n_channels, n_channels]\n",
    "\n",
    "results = Parallel(n_jobs=-1)(delayed(process_subject)(syncros, subject_id, df_stat_conn_features_eo) for syncros, subject_id in tqdm(zip(subjects_eo_syncro_matrices, subjects_eo_ids), total=len(subjects_eo_syncro_matrices)))\n",
    "\n",
    "eo_graph_dataset = []\n",
    "eo_y_list = []\n",
    "for result in results:\n",
    "    eo_graph_dataset.extend(result[0])\n",
    "    eo_y_list.extend(result[1])\n",
    "    \n",
    "assert len(eo_graph_dataset) == len(eo_y_list)\n",
    "\n",
    "print(f'{eo_graph_dataset[0].x.shape = }, stat features [num_nodes, num_node_features]')\n",
    "print(f'{eo_graph_dataset[0].edge_attr.shape = }, [num_edges, n_bands]')\n",
    "print(f'{eo_graph_dataset[0].edge_index.shape = }, [2, num_edges]')\n",
    "print(f'{len(eo_graph_dataset) = }, subjects: {len(subjects_eo_syncro_matrices)}, epochs: {len(subjects_eo_syncro_matrices[0])}')\n",
    "print(f'{eo_graph_dataset[0] = }')"
   ]
  },
  {
   "cell_type": "code",
   "execution_count": 10,
   "metadata": {
    "execution": {
     "iopub.execute_input": "2024-06-19T12:24:30.770912Z",
     "iopub.status.busy": "2024-06-19T12:24:30.770696Z",
     "iopub.status.idle": "2024-06-19T12:24:58.853078Z",
     "shell.execute_reply": "2024-06-19T12:24:58.852485Z"
    }
   },
   "outputs": [
    {
     "name": "stderr",
     "output_type": "stream",
     "text": [
      "100%|███████████████████████████████████████████████████████████████████████████████████████████████████████████████████████████████████████████████████████| 224/224 [00:25<00:00,  8.64it/s]\n"
     ]
    },
    {
     "name": "stdout",
     "output_type": "stream",
     "text": [
      "ratio_graph_dataset[0].x.shape = torch.Size([9, 25]), stat features [num_nodes, num_node_features]\n",
      "ratio_graph_dataset[0].edge_attr.shape = torch.Size([36, 5]), [num_edges, n_bands]\n",
      "ratio_graph_dataset[0].edge_index.shape = torch.Size([2, 36]), [2, num_edges]\n",
      "len(ratio_graph_dataset) = 2688, subjects: 224, epochs: 12\n",
      "ratio_graph_dataset[0] = Data(x=[9, 25], edge_index=[2, 36], edge_attr=[36, 5], y=[1])\n"
     ]
    }
   ],
   "source": [
    "# retrieve and store data for EO features\n",
    "# subjects__ec/eo_syncro_matrices : A list of lists, every list is a subject, every element in that list is an array of shape [n_epochs, n_bands, n_channels, n_channels]\n",
    "\n",
    "results = Parallel(n_jobs=-1)(delayed(process_subject)(syncros, subject_id, df_stat_conn_features_ratio) for syncros, subject_id in tqdm(zip(subjects_ratio_syncro_matrices, subjects_ratio_ids), total=len(subjects_ratio_syncro_matrices)))\n",
    "\n",
    "# process_subject(subjects_ratio_syncro_matrices[0], subjects_ratio_ids[0])\n",
    "\n",
    "ratio_graph_dataset = []\n",
    "ratio_y_list = []\n",
    "for result in results:\n",
    "    ratio_graph_dataset.extend(result[0])\n",
    "    ratio_y_list.extend(result[1])\n",
    "    \n",
    "assert len(ratio_graph_dataset) == len(ratio_y_list)\n",
    "\n",
    "print(f'{ratio_graph_dataset[0].x.shape = }, stat features [num_nodes, num_node_features]')\n",
    "print(f'{ratio_graph_dataset[0].edge_attr.shape = }, [num_edges, n_bands]')\n",
    "print(f'{ratio_graph_dataset[0].edge_index.shape = }, [2, num_edges]')\n",
    "print(f'{len(ratio_graph_dataset) = }, subjects: {len(subjects_ratio_syncro_matrices)}, epochs: {len(subjects_ratio_syncro_matrices[0])}')\n",
    "print(f'{ratio_graph_dataset[0] = }')"
   ]
  },
  {
   "cell_type": "code",
   "execution_count": 11,
   "metadata": {
    "execution": {
     "iopub.execute_input": "2024-06-19T12:24:58.855509Z",
     "iopub.status.busy": "2024-06-19T12:24:58.855296Z",
     "iopub.status.idle": "2024-06-19T12:24:58.858250Z",
     "shell.execute_reply": "2024-06-19T12:24:58.857702Z"
    }
   },
   "outputs": [],
   "source": [
    "# load the indices of the validation sets from the ML models\n",
    "data_split_indices = load_file('data_split_indices.pkl')"
   ]
  },
  {
   "cell_type": "markdown",
   "metadata": {},
   "source": [
    "# GCN models:"
   ]
  },
  {
   "cell_type": "markdown",
   "metadata": {},
   "source": [
    "### GCNConv with log_softmax activation function and NLLLoss"
   ]
  },
  {
   "cell_type": "code",
   "execution_count": 12,
   "metadata": {
    "execution": {
     "iopub.execute_input": "2024-06-19T12:24:58.860730Z",
     "iopub.status.busy": "2024-06-19T12:24:58.860534Z",
     "iopub.status.idle": "2024-06-19T12:24:58.873722Z",
     "shell.execute_reply": "2024-06-19T12:24:58.873218Z"
    }
   },
   "outputs": [],
   "source": [
    "#Model\n",
    "import lightning.pytorch as pl\n",
    "from torchmetrics import F1Score, ConfusionMatrix\n",
    "from torch.nn import Dropout1d\n",
    "import seaborn as sns\n",
    "import matplotlib.pyplot as plt\n",
    "\n",
    "n_features = 25 # [Delta, Theta, Alpha, Beta, Gamma] * [mean, median, std, skew, kurt]\n",
    "param = 64\n",
    "num_classes = 5 # healthy, ADHD, MDD, OCD, SMC\n",
    "\n",
    "class GCN(pl.LightningModule):\n",
    "    def __init__(self, learning_rate, optimizer_name, dropout):\n",
    "        super(GCN, self).__init__()\n",
    "        self.learning_rate = learning_rate\n",
    "        self.optimizer_name = optimizer_name\n",
    "\n",
    "        self.conv1 = GCNConv(n_features, param, cached=False) # if you defined cache=True, the shape of batch must be same!\n",
    "        self.bn1 = BatchNorm1d(param)\n",
    "        self.do1 = Dropout1d(p=dropout)\n",
    "        self.conv2 = GCNConv(param, param, cached=False)\n",
    "        self.bn2 = BatchNorm1d(param)\n",
    "        self.do2 = Dropout1d(p=dropout)\n",
    "        self.fc1 = Linear(param, param)\n",
    "        self.bn3 = BatchNorm1d(param)\n",
    "        self.do3 = Dropout1d(p=dropout)\n",
    "        self.fc2 = Linear(param, 8)\n",
    "        self.fc3 = Linear(8, num_classes)\n",
    "\n",
    "        # add metrics\n",
    "        self.train_f1 = F1Score(task='multiclass', num_classes=num_classes, average='macro')\n",
    "        self.val_f1 = F1Score(task='multiclass', num_classes=num_classes, average='macro')\n",
    "        self.val_cm = ConfusionMatrix(task = 'binary', num_classes=num_classes, threshold=0.05)\n",
    "        self.validation_step_yhats = []\n",
    "        self.validation_step_ys = []\n",
    "\n",
    "    def forward(self, data):\n",
    "        x, edge_index = data.x, data.edge_index\n",
    "        x = F.relu(self.conv1(x, edge_index))\n",
    "        x = self.bn1(x)\n",
    "        x = self.do1(x)\n",
    "        x = F.relu(self.conv2(x, edge_index))\n",
    "        x = self.bn2(x)\n",
    "        x = self.do2(x)\n",
    "        x = global_add_pool(x, data.batch)\n",
    "        x = F.relu(self.fc1(x))\n",
    "        x = self.bn3(x)\n",
    "        x = self.do3(x)\n",
    "        x = F.relu(self.fc2(x))\n",
    "        #x = F.dropout(x, p=0.2, training=self.training)\n",
    "        x = torch.flatten(x, start_dim=1)\n",
    "        x = self.fc3(x)\n",
    "        x = F.log_softmax(x, dim=1) # Activation function for classification\n",
    "        return x\n",
    "    \n",
    "    def configure_optimizers(self):\n",
    "        if self.optimizer_name == 'Adam':\n",
    "            optimizer = torch.optim.Adam(self.parameters(), lr=self.learning_rate)\n",
    "        elif self.optimizer_name == 'RMSprop':\n",
    "            optimizer = torch.optim.RMSprop(self.parameters(), lr=self.learning_rate)\n",
    "        elif self.optimizer_name == 'SGD':\n",
    "            optimizer = torch.optim.SGD(self.parameters(), lr=self.learning_rate)\n",
    "        else:\n",
    "            raise ValueError(f'Unsupported optimizer: {self.optimizer_name}')\n",
    "        return optimizer\n",
    "    \n",
    "    def training_step(self, train_batch, batch_idx):\n",
    "            x, y = train_batch.x, train_batch.y\n",
    "            output = self.forward(train_batch)\n",
    "            loss = F.nll_loss(output, y)\n",
    "            y_hat = output.argmax(dim=1)\n",
    "            self.log('train_loss', loss, on_epoch=True, prog_bar=True)\n",
    "            self.log('train_f1', self.train_f1(y, y_hat), on_epoch=True, prog_bar=True)\n",
    "            return loss\n",
    "    \n",
    "    def validation_step(self, val_batch, batch_idx):\n",
    "        x, y = val_batch.x, val_batch.y\n",
    "        output = self.forward(val_batch)\n",
    "        loss = F.nll_loss(output, y)\n",
    "        y_hat = output.argmax(dim=1)\n",
    "        self.log('val_loss', loss, on_epoch=True, prog_bar=True)\n",
    "        self.log('val_f1', self.val_f1(y, y_hat), on_epoch=True, prog_bar=True)\n",
    "        self.validation_step_yhats.append(y_hat)\n",
    "        self.validation_step_ys.append(y)\n",
    "        return loss\n",
    "    \n",
    "    def test_step(self, test_batch, batch_idx):\n",
    "        x, y = test_batch.x, test_batch.y\n",
    "        output = self.forward(test_batch)\n",
    "        loss = F.nll_loss(output, y)\n",
    "        y_hat = output.argmax(dim=1)\n",
    "        self.log('test_loss', loss, on_epoch=True, prog_bar=True)\n",
    "        self.log('test_f1', self.val_f1(y, y_hat), on_epoch=True, prog_bar=True)\n",
    "        return loss\n",
    "\n",
    "    # def on_train_epoch_end(self, training_step_outputs):\n",
    "    #     # compute metrics\n",
    "    #     train_f1 = self.train_f1.compute()\n",
    "    #     # log metrics\n",
    "    #     self.log(\"epoch_train_f1\", train_f1)\n",
    "    #     # reset all metrics\n",
    "    #     self.train_f1.reset()\n",
    "    #     print(f\"\\nf1: {train_f1:.4}\")\n",
    "\n",
    "    # def on_validation_epoch_end(self):\n",
    "    #     # plot confusion matrix\n",
    "    #     y_hat = torch.cat(self.validation_step_yhats)\n",
    "    #     y = torch.cat(self.validation_step_ys)\n",
    "    #     confusion_matrix = self.val_cm(y_hat, y.int())\n",
    "\n",
    "    #     confusion_matrix_computed = confusion_matrix.detach().cpu().numpy().astype(int)\n",
    "\n",
    "    #     df_cm = pd.DataFrame(confusion_matrix_computed)\n",
    "    #     plt.figure(figsize = (10,7))\n",
    "    #     fig_ = sns.heatmap(df_cm, annot=True, cmap='Spectral').get_figure()\n",
    "    #     plt.close(fig_)\n",
    "    #     self.loggers[0].experiment.add_figure(\"Confusion matrix\", fig_, self.current_epoch)\n",
    "\n",
    "    #     self.validation_step_yhats.clear() # free memory\n",
    "    #     self.validation_step_ys.clear()\n",
    "    \n",
    "    def predict_step(self, batch):\n",
    "        x, y = batch.x, batch.y\n",
    "        output = self.forward(batch)\n",
    "        y_hat = output.argmax(dim=1)\n",
    "        return y_hat\n",
    "\n",
    "\n",
    "    # def backward(self, trainer, loss, optimizer, optimizer_idx):\n",
    "    #     loss.backward()\n",
    "    \n",
    "    # def optimizer_step(self, epoch, batch_idx, optimizer, optimizer_idx):\n",
    "    #     optimizer.step()\n",
    "    #     optimizer.zero_grad()"
   ]
  },
  {
   "cell_type": "markdown",
   "metadata": {},
   "source": [
    "### Model: graphLambda without edge_attr"
   ]
  },
  {
   "cell_type": "code",
   "execution_count": 13,
   "metadata": {
    "execution": {
     "iopub.execute_input": "2024-06-19T12:24:58.876379Z",
     "iopub.status.busy": "2024-06-19T12:24:58.876173Z",
     "iopub.status.idle": "2024-06-19T12:24:58.892694Z",
     "shell.execute_reply": "2024-06-19T12:24:58.892174Z"
    }
   },
   "outputs": [],
   "source": [
    "import lightning.pytorch as pl\n",
    "from torchmetrics import F1Score, ConfusionMatrix\n",
    "import seaborn as sns\n",
    "import matplotlib.pyplot as plt\n",
    "import torch\n",
    "import torch_geometric\n",
    "from torch.nn import Sequential, Linear, ReLU, BatchNorm1d, Dropout, Dropout1d, ModuleList\n",
    "import torch.nn.functional as F\n",
    "from torch_geometric.nn import  GCNConv, global_add_pool, GATConv, GINConv\n",
    "\n",
    "\n",
    "n_features = 25 # [Delta, Theta, Alpha, Beta, Gamma] * [mean, median, std, skew, kurt]\n",
    "num_classes = 5 # healthy, ADHD, MDD, OCD, SMC\n",
    "\n",
    "class graphLambda_wo_edge_attr(pl.LightningModule):\n",
    "    def __init__(self, learning_rate, optimizer_name, fc_layers, dropout):\n",
    "        super(graphLambda_wo_edge_attr, self).__init__()\n",
    "        self.learning_rate = learning_rate\n",
    "        self.optimizer_name = optimizer_name\n",
    "\n",
    "        #GCN-representation\n",
    "        self.conv1 = GCNConv(n_features, 256, cached=False )\n",
    "        self.bn01 = BatchNorm1d(256)\n",
    "        self.conv2 = GCNConv(256, 128, cached=False )\n",
    "        self.bn02 = BatchNorm1d(128)\n",
    "        self.conv3 = GCNConv(128, 128, cached=False)\n",
    "        self.bn03 = BatchNorm1d(128)\n",
    "        #GAT-representation\n",
    "        self.gat1 = GATConv(n_features, 256, heads=3)\n",
    "        self.bn11 = BatchNorm1d(256*3)\n",
    "        self.gat2 = GATConv(256*3, 128, heads=3)\n",
    "        self.bn12 = BatchNorm1d(128*3)\n",
    "        self.gat3 = GATConv(128*3, 128, heads=3)\n",
    "        self.bn13 = BatchNorm1d(128*3)\n",
    "        #GIN-representation\n",
    "        fc_gin1=Sequential(Linear(n_features, 256), ReLU(), Linear(256, 256))\n",
    "        self.gin1 = GINConv(fc_gin1)\n",
    "        self.bn21 = BatchNorm1d(256)\n",
    "        fc_gin2=Sequential(Linear(256, 128), ReLU(), Linear(128, 128))\n",
    "        self.gin2 = GINConv(fc_gin2)\n",
    "        self.bn22 = BatchNorm1d(128)\n",
    "        fc_gin3=Sequential(Linear(128, 64), ReLU(), Linear(64, 64))\n",
    "        self.gin3 = GINConv(fc_gin3)\n",
    "        self.bn23 = BatchNorm1d(64)\n",
    "        # Fully connected layers for concatinating outputs (varied depending on fc_layers)\n",
    "        self.fcs = ModuleList()\n",
    "        self.dropouts = ModuleList()\n",
    "        input_size = 128*4 + 64 # Input size for the first layer\n",
    "        output_size = num_classes # Output size for the last layer\n",
    "        sizes = np.linspace(input_size, output_size, fc_layers + 1, dtype=int) # Calculate the size for each layer\n",
    "        for i in range(fc_layers): # Create the layers\n",
    "            self.fcs.append(Linear(sizes[i], sizes[i + 1]))\n",
    "            self.dropouts.append(Dropout(p=dropout))\n",
    "\n",
    "        # add metrics\n",
    "        self.train_f1 = F1Score(task='multiclass', num_classes=num_classes, average='macro')\n",
    "        self.val_f1 = F1Score(task='multiclass', num_classes=num_classes, average='macro')\n",
    "        self.val_cm = ConfusionMatrix(task = 'binary', num_classes=num_classes, threshold=0.05)\n",
    "        self.validation_step_yhats = []\n",
    "        self.validation_step_ys = []\n",
    "        \n",
    "    def forward(self, data):\n",
    "        x, edge_index = data.x, data.edge_index\n",
    "        y=x\n",
    "        z=x\n",
    "        #GCN-representation\n",
    "        x = F.relu(self.conv1(x, edge_index))\n",
    "        x = self.bn01(x)\n",
    "        x = F.relu(self.conv2(x, edge_index))\n",
    "        x = self.bn02(x)\n",
    "        x = F.relu(self.conv3(x, edge_index))\n",
    "        x = self.bn03(x)\n",
    "        x = global_add_pool(x, data.batch)\n",
    "        #GAT-representation\n",
    "        y = F.relu(self.gat1(y, edge_index))\n",
    "        y = self.bn11(y)\n",
    "        y = F.relu(self.gat2(y, edge_index))\n",
    "        y = self.bn12(y)\n",
    "        y = F.relu(self.gat3(y, edge_index))\n",
    "        y = self.bn13(y)\n",
    "        y = global_add_pool(y, data.batch)\n",
    "        #GIN-representation\n",
    "        z = F.relu(self.gin1(z, edge_index))\n",
    "        z = self.bn21(z)\n",
    "        z = F.relu(self.gin2(z, edge_index))\n",
    "        z = self.bn22(z)\n",
    "        z = F.relu(self.gin3(z, edge_index))\n",
    "        z = self.bn23(z)\n",
    "        z = global_add_pool(z, data.batch)\n",
    "        #Concatinating_representations\n",
    "        cr=torch.cat((x,y,z),1)\n",
    "        for fc, dropout in zip(self.fcs, self.dropouts):\n",
    "            cr = F.relu(fc(cr))\n",
    "            cr = dropout(cr)\n",
    "        #cr = F.relu(cr).view(-1)\n",
    "        cr = F.log_softmax(cr, dim=1) # Activation function for classification\n",
    "        return cr  \n",
    "    \n",
    "    def configure_optimizers(self):\n",
    "        if self.optimizer_name == 'Adam':\n",
    "            optimizer = torch.optim.Adam(self.parameters(), lr=self.learning_rate)\n",
    "        elif self.optimizer_name == 'RMSprop':\n",
    "            optimizer = torch.optim.RMSprop(self.parameters(), lr=self.learning_rate)\n",
    "        elif self.optimizer_name == 'SGD':\n",
    "            optimizer = torch.optim.SGD(self.parameters(), lr=self.learning_rate)\n",
    "        else:\n",
    "            raise ValueError(f'Unsupported optimizer: {self.optimizer_name}')\n",
    "        return optimizer\n",
    "    \n",
    "    def training_step(self, train_batch, batch_idx):\n",
    "        x, y = train_batch.x, train_batch.y\n",
    "        output = self.forward(train_batch)\n",
    "        output = output.to(torch.float)\n",
    "        y = y.to(torch.long)\n",
    "        loss = F.nll_loss(output, y)\n",
    "        y_hat = output.argmax(dim=1)\n",
    "        self.log('train_loss', loss, on_epoch=True, prog_bar=True)\n",
    "        self.log('train_f1', self.train_f1(y, y_hat), on_epoch=True, prog_bar=True)\n",
    "        return loss\n",
    "    \n",
    "    def validation_step(self, val_batch, batch_idx):\n",
    "        x, y = val_batch.x, val_batch.y\n",
    "        output = self.forward(val_batch)\n",
    "        output = output.to(torch.float)\n",
    "        y = y.to(torch.long)\n",
    "        loss = F.nll_loss(output, y)\n",
    "        y_hat = output.argmax(dim=1)\n",
    "        self.log('val_loss', loss, on_epoch=True, prog_bar=True)\n",
    "        self.log('val_f1', self.val_f1(y, y_hat), on_epoch=True, prog_bar=True)\n",
    "        self.validation_step_yhats.append(y_hat)\n",
    "        self.validation_step_ys.append(y)\n",
    "        return loss\n",
    "    \n",
    "    def test_step(self, test_batch, batch_idx):\n",
    "        x, y = test_batch.x, test_batch.y\n",
    "        output = self.forward(test_batch)\n",
    "        output = output.to(torch.float)\n",
    "        y = y.to(torch.long)\n",
    "        loss = F.nll_loss(output, y)\n",
    "        y_hat = output.argmax(dim=1)\n",
    "        self.log('test_loss', loss, on_epoch=True, prog_bar=True)\n",
    "        self.log('test_f1', self.val_f1(y, y_hat), on_epoch=True, prog_bar=True)\n",
    "        return loss\n",
    "    \n",
    "    # def on_train_epoch_end(self, training_step_outputs):\n",
    "    #     # compute metrics\n",
    "    #     train_f1 = self.train_f1.compute()\n",
    "    #     # log metrics\n",
    "    #     self.log(\"epoch_train_f1\", train_f1)\n",
    "    #     # reset all metrics\n",
    "    #     self.train_f1.reset()\n",
    "    #     print(f\"\\nf1: {train_f1:.4}\")\n",
    "\n",
    "    # def on_validation_epoch_end(self):\n",
    "    #     # plot confusion matrix\n",
    "    #     y_hat = torch.cat(self.validation_step_yhats)\n",
    "    #     y = torch.cat(self.validation_step_ys)\n",
    "    #     confusion_matrix = self.val_cm(y_hat, y.int())\n",
    "\n",
    "    #     confusion_matrix_computed = confusion_matrix.detach().cpu().numpy().astype(int)\n",
    "\n",
    "    #     df_cm = pd.DataFrame(confusion_matrix_computed)\n",
    "    #     plt.figure(figsize = (10,7))\n",
    "    #     fig_ = sns.heatmap(df_cm, annot=True, cmap='Spectral').get_figure()\n",
    "    #     plt.close(fig_)\n",
    "    #     self.loggers[0].experiment.add_figure(\"Confusion matrix\", fig_, self.current_epoch)\n",
    "\n",
    "    #     self.validation_step_yhats.clear() # free memory\n",
    "    #     self.validation_step_ys.clear()\n",
    "    \n",
    "    def predict_step(self, batch):\n",
    "        x, y = batch.x, batch.y\n",
    "        output = self.forward(batch)\n",
    "        loss = F.nll_loss(output, y)\n",
    "        y_hat = output.argmax(dim=1)\n",
    "        return y_hat"
   ]
  },
  {
   "cell_type": "markdown",
   "metadata": {},
   "source": [
    "### Model: graphLambda with edge_attr"
   ]
  },
  {
   "cell_type": "code",
   "execution_count": 14,
   "metadata": {
    "execution": {
     "iopub.execute_input": "2024-06-19T12:24:58.895225Z",
     "iopub.status.busy": "2024-06-19T12:24:58.895039Z",
     "iopub.status.idle": "2024-06-19T12:24:58.912309Z",
     "shell.execute_reply": "2024-06-19T12:24:58.911337Z"
    }
   },
   "outputs": [],
   "source": [
    "#Model\n",
    "import lightning.pytorch as pl\n",
    "from torchmetrics import F1Score, ConfusionMatrix\n",
    "import seaborn as sns\n",
    "import matplotlib.pyplot as plt\n",
    "import torch\n",
    "import torch_geometric\n",
    "from torch.nn import Sequential, Linear, ReLU, BatchNorm1d, Dropout, Dropout1d, ModuleList\n",
    "import torch.nn.functional as F\n",
    "from torch_geometric.nn import  GCNConv, global_add_pool, GATConv, GINConv, GATv2Conv\n",
    "\n",
    "\n",
    "n_features = 25 # [Delta, Theta, Alpha, Beta, Gamma] * [mean, median, std, skew, kurt]\n",
    "num_classes = 5 # healthy, ADHD, MDD, OCD, SMC\n",
    "n_edge_attrs = 5 # [Delta, Theta, Alpha, Beta, Gamma]\n",
    "\n",
    "class graphLambda_w_edge_attr(pl.LightningModule):\n",
    "    def __init__(self, learning_rate, optimizer_name, fc_layers, dropout):\n",
    "        super(graphLambda_w_edge_attr, self).__init__()\n",
    "        self.learning_rate = learning_rate\n",
    "        self.optimizer_name = optimizer_name\n",
    "\n",
    "        #GCN-representation\n",
    "        self.conv1 = GCNConv(n_features, 256, cached=False )\n",
    "        self.bn01 = BatchNorm1d(256)\n",
    "        self.conv2 = GCNConv(256, 128, cached=False )\n",
    "        self.bn02 = BatchNorm1d(128)\n",
    "        self.conv3 = GCNConv(128, 128, cached=False)\n",
    "        self.bn03 = BatchNorm1d(128)\n",
    "        #GAT-representation\n",
    "        self.gat1 = GATv2Conv(n_features, 256, heads=3, edge_dim=n_edge_attrs)\n",
    "        self.bn11 = BatchNorm1d(256*3)\n",
    "        self.gat2 = GATv2Conv(256*3, 128, heads=3, edge_dim=n_edge_attrs)\n",
    "        self.bn12 = BatchNorm1d(128*3)\n",
    "        self.gat3 = GATv2Conv(128*3, 128, heads=3, edge_dim=n_edge_attrs)\n",
    "        self.bn13 = BatchNorm1d(128*3)\n",
    "        #GIN-representation\n",
    "        fc_gin1=Sequential(Linear(n_features, 256), ReLU(), Linear(256, 256))\n",
    "        self.gin1 = GINConv(fc_gin1)\n",
    "        self.bn21 = BatchNorm1d(256)\n",
    "        fc_gin2=Sequential(Linear(256, 128), ReLU(), Linear(128, 128))\n",
    "        self.gin2 = GINConv(fc_gin2)\n",
    "        self.bn22 = BatchNorm1d(128)\n",
    "        fc_gin3=Sequential(Linear(128, 64), ReLU(), Linear(64, 64))\n",
    "        self.gin3 = GINConv(fc_gin3)\n",
    "        self.bn23 = BatchNorm1d(64)\n",
    "        # Fully connected layers for concatinating outputs (varied depending on fc_layers)\n",
    "        self.fcs = ModuleList()\n",
    "        self.dropouts = ModuleList()\n",
    "        input_size = 128*4 + 64 # Input size for the first layer\n",
    "        output_size = num_classes # Output size for the last layer\n",
    "        sizes = np.linspace(input_size, output_size, fc_layers + 1, dtype=int) # Calculate the size for each layer\n",
    "        for i in range(fc_layers): # Create the layers\n",
    "            self.fcs.append(Linear(sizes[i], sizes[i + 1]))\n",
    "            self.dropouts.append(Dropout(p=dropout))\n",
    "\n",
    "        # add metrics\n",
    "        self.train_f1 = F1Score(task='multiclass', num_classes=num_classes, average='macro')\n",
    "        self.val_f1 = F1Score(task='multiclass', num_classes=num_classes, average='macro')\n",
    "        self.val_cm = ConfusionMatrix(task = 'binary', num_classes=num_classes, threshold=0.05)\n",
    "        self.validation_step_yhats = []\n",
    "        self.validation_step_ys = []\n",
    "        \n",
    "    def forward(self, data):\n",
    "        x, edge_index, edge_attr = data.x, data.edge_index, data.edge_attr\n",
    "        y=x\n",
    "        z=x\n",
    "        #GCN-representation\n",
    "        x = F.relu(self.conv1(x, edge_index))\n",
    "        x = self.bn01(x)\n",
    "        x = F.relu(self.conv2(x, edge_index))\n",
    "        x = self.bn02(x)\n",
    "        x = F.relu(self.conv3(x, edge_index))\n",
    "        x = self.bn03(x)\n",
    "        x = global_add_pool(x, data.batch)\n",
    "        #GAT-representation\n",
    "        y = F.relu(self.gat1(y, edge_index, edge_attr))\n",
    "        y = self.bn11(y)\n",
    "        y = F.relu(self.gat2(y, edge_index, edge_attr))\n",
    "        y = self.bn12(y)\n",
    "        y = F.relu(self.gat3(y, edge_index, edge_attr))\n",
    "        y = self.bn13(y)\n",
    "        y = global_add_pool(y, data.batch)\n",
    "        #GIN-representation\n",
    "        z = F.relu(self.gin1(z, edge_index))\n",
    "        z = self.bn21(z)\n",
    "        z = F.relu(self.gin2(z, edge_index))\n",
    "        z = self.bn22(z)\n",
    "        z = F.relu(self.gin3(z, edge_index))\n",
    "        z = self.bn23(z)\n",
    "        z = global_add_pool(z, data.batch)\n",
    "        #Concatinating_representations\n",
    "        cr=torch.cat((x,y,z),1)\n",
    "        for fc, dropout in zip(self.fcs, self.dropouts):\n",
    "            cr = F.relu(fc(cr))\n",
    "            cr = dropout(cr)\n",
    "        #cr = F.relu(cr).view(-1)\n",
    "        cr = F.log_softmax(cr, dim=1) # Activation function for classification\n",
    "        return cr  \n",
    "    \n",
    "    def configure_optimizers(self):\n",
    "        if self.optimizer_name == 'Adam':\n",
    "            optimizer = torch.optim.Adam(self.parameters(), lr=self.learning_rate)\n",
    "        elif self.optimizer_name == 'RMSprop':\n",
    "            optimizer = torch.optim.RMSprop(self.parameters(), lr=self.learning_rate)\n",
    "        elif self.optimizer_name == 'SGD':\n",
    "            optimizer = torch.optim.SGD(self.parameters(), lr=self.learning_rate)\n",
    "        else:\n",
    "            raise ValueError(f'Unsupported optimizer: {self.optimizer_name}')\n",
    "        return optimizer\n",
    "    \n",
    "    def training_step(self, train_batch, batch_idx):\n",
    "        x, y = train_batch.x, train_batch.y\n",
    "        output = self.forward(train_batch)\n",
    "        output = output.to(torch.float)\n",
    "        y = y.to(torch.long)\n",
    "        loss = F.nll_loss(output, y)\n",
    "        y_hat = output.argmax(dim=1)\n",
    "        self.log('train_loss', loss, on_epoch=True, prog_bar=True)\n",
    "        self.log('train_f1', self.train_f1(y, y_hat), on_epoch=True, prog_bar=True)\n",
    "        return loss\n",
    "    \n",
    "    def validation_step(self, val_batch, batch_idx):\n",
    "        x, y = val_batch.x, val_batch.y\n",
    "        output = self.forward(val_batch)\n",
    "        output = output.to(torch.float)\n",
    "        y = y.to(torch.long)\n",
    "        loss = F.nll_loss(output, y)\n",
    "        y_hat = output.argmax(dim=1)\n",
    "        self.log('val_loss', loss, on_epoch=True, prog_bar=True)\n",
    "        self.log('val_f1', self.val_f1(y, y_hat), on_epoch=True, prog_bar=True)\n",
    "        self.validation_step_yhats.append(y_hat)\n",
    "        self.validation_step_ys.append(y)\n",
    "        return loss\n",
    "    \n",
    "    def test_step(self, test_batch, batch_idx):\n",
    "        x, y = test_batch.x, test_batch.y\n",
    "        output = self.forward(test_batch)\n",
    "        output = output.to(torch.float)\n",
    "        y = y.to(torch.long)\n",
    "        loss = F.nll_loss(output, y)\n",
    "        y_hat = output.argmax(dim=1)\n",
    "        self.log('test_loss', loss, on_epoch=True, prog_bar=True)\n",
    "        self.log('test_f1', self.val_f1(y, y_hat), on_epoch=True, prog_bar=True)\n",
    "        return loss\n",
    "    \n",
    "    # def on_train_epoch_end(self, training_step_outputs):\n",
    "    #     # compute metrics\n",
    "    #     train_f1 = self.train_f1.compute()\n",
    "    #     # log metrics\n",
    "    #     self.log(\"epoch_train_f1\", train_f1)\n",
    "    #     # reset all metrics\n",
    "    #     self.train_f1.reset()\n",
    "    #     print(f\"\\nf1: {train_f1:.4}\")\n",
    "\n",
    "    # def on_validation_epoch_end(self):\n",
    "    #     # plot confusion matrix\n",
    "    #     y_hat = torch.cat(self.validation_step_yhats)\n",
    "    #     y = torch.cat(self.validation_step_ys)\n",
    "    #     confusion_matrix = self.val_cm(y_hat, y.int())\n",
    "\n",
    "    #     confusion_matrix_computed = confusion_matrix.detach().cpu().numpy().astype(int)\n",
    "\n",
    "    #     df_cm = pd.DataFrame(confusion_matrix_computed)\n",
    "    #     plt.figure(figsize = (10,7))\n",
    "    #     fig_ = sns.heatmap(df_cm, annot=True, cmap='Spectral').get_figure()\n",
    "    #     plt.close(fig_)\n",
    "    #     self.loggers[0].experiment.add_figure(\"Confusion matrix\", fig_, self.current_epoch)\n",
    "\n",
    "    #     self.validation_step_yhats.clear() # free memory\n",
    "    #     self.validation_step_ys.clear()\n",
    "    \n",
    "    def predict_step(self, batch):\n",
    "        x, y = batch.x, batch.y\n",
    "        output = self.forward(batch)\n",
    "        loss = F.nll_loss(output, y)\n",
    "        y_hat = output.argmax(dim=1)\n",
    "        return y_hat"
   ]
  },
  {
   "cell_type": "markdown",
   "metadata": {},
   "source": [
    "# 1. EC feature set"
   ]
  },
  {
   "cell_type": "code",
   "execution_count": 15,
   "metadata": {
    "execution": {
     "iopub.execute_input": "2024-06-19T12:24:58.914704Z",
     "iopub.status.busy": "2024-06-19T12:24:58.914515Z",
     "iopub.status.idle": "2024-06-19T12:24:58.971475Z",
     "shell.execute_reply": "2024-06-19T12:24:58.970967Z"
    }
   },
   "outputs": [
    {
     "name": "stdout",
     "output_type": "stream",
     "text": [
      "len(ec_graph_dataset) = 2688\n",
      "len(baseline_rest_idxs) = 2148, len(baseline_val_idxs) = 540, total: 2688\n",
      "len(X_traintest) = 2148, len(X_val) = 540\n",
      "len(train_idxs) = 1716, len(test_idxs) = 432, total: 2148\n"
     ]
    }
   ],
   "source": [
    "from sklearn.model_selection import StratifiedGroupKFold\n",
    "\n",
    "baseline_rest_idxs = data_split_indices['EC'][0]\n",
    "baseline_val_idxs = data_split_indices['EC'][1]\n",
    "\n",
    "# first splitting validation data using the first split from the baseline RF model\n",
    "groups = [elem for elem in subjects_ec_ids for i in range(12)] # times 12 for each epoch\n",
    "\n",
    "print(f'{len(ec_graph_dataset) = }')\n",
    "print(f'{len(baseline_rest_idxs) = }, {len(baseline_val_idxs) = }, total: {len(baseline_rest_idxs)+len(baseline_val_idxs)}')\n",
    "\n",
    "X_traintest = [ec_graph_dataset[i] for i in baseline_rest_idxs] \n",
    "X_val = [ec_graph_dataset[i] for i in baseline_val_idxs]\n",
    "Y_traintest =[ec_y_list[i] for i in baseline_rest_idxs]\n",
    "Y_val = [ec_y_list[i] for i in baseline_val_idxs]\n",
    "groups_traintest = [groups[i] for i in baseline_rest_idxs]\n",
    "groups_val = [groups[i] for i in baseline_val_idxs]\n",
    "\n",
    "# now splitting the test and training data with seperate StratifiedGroupKFold\n",
    "desired_test_ratio = 0.20\n",
    "n_splits = int(1 / desired_test_ratio) # for some reason (?), n_splits also determines the proportion between train & test indices\n",
    "sgkf = StratifiedGroupKFold(n_splits=n_splits, shuffle=False)  # should shuffle be true?\n",
    "\n",
    "train_idxs, test_idxs = sgkf.split(X_traintest, Y_traintest, groups_traintest).__next__() # just take the first split\n",
    "print(f'{len(X_traintest) = }, {len(X_val) = }')\n",
    "print(f'{len(train_idxs) = }, {len(test_idxs) = }, total: {len(train_idxs)+len(test_idxs)}')\n",
    "\n",
    "X_train = [X_traintest[i] for i in train_idxs] # X also includes y values, because they are stored in the Data object\n",
    "X_test = [X_traintest[i] for i in test_idxs]\n",
    "Y_train =[Y_traintest[i] for i in train_idxs]\n",
    "Y_test = [Y_traintest[i] for i in test_idxs]"
   ]
  },
  {
   "cell_type": "code",
   "execution_count": 16,
   "metadata": {
    "execution": {
     "iopub.execute_input": "2024-06-19T12:24:58.973539Z",
     "iopub.status.busy": "2024-06-19T12:24:58.973353Z",
     "iopub.status.idle": "2024-06-19T12:24:59.483580Z",
     "shell.execute_reply": "2024-06-19T12:24:59.483031Z"
    }
   },
   "outputs": [
    {
     "data": {
      "image/png": "[encoded data removed]",
      "text/plain": [
       "<Figure size 1200x600 with 2 Axes>"
      ]
     },
     "metadata": {},
     "output_type": "display_data"
    }
   ],
   "source": [
    "# standardize statistical node features\n",
    "from sklearn.preprocessing import StandardScaler\n",
    "\n",
    "# Concatenate all x values before scaling for the first feature, as a sanity check for standardization\n",
    "x_before = np.concatenate([data.x.numpy()[:, 0] for data in X_train + X_val + X_test])\n",
    "\n",
    "scaler = StandardScaler()\n",
    "scaler.fit(np.vstack([data.x.numpy() for data in X_train + X_val])) # fit on training and validation data\n",
    "\n",
    "\n",
    "# Transform the x values of the data in X_train\n",
    "for data in X_train:\n",
    "    data.x = torch.from_numpy(scaler.transform(data.x.numpy()))\n",
    "\n",
    "# Transform the x values of the data in X_val\n",
    "for data in X_val:\n",
    "    data.x = torch.from_numpy(scaler.transform(data.x.numpy()))\n",
    "\n",
    "# Transform the x values of the data in X_test\n",
    "for data in X_test:\n",
    "    data.x = torch.from_numpy(scaler.transform(data.x.numpy()))\n",
    "\n",
    "# Concatenate all x values after scaling for the first feature, as a sanity check for standardization\n",
    "x_after = np.concatenate([data.x.numpy()[:, 0] for data in X_train + X_val + X_test])\n",
    "\n",
    "# Plot the distribution of the first x feature before and after scaling as a sanity check\n",
    "plt.figure(figsize=(12, 6))\n",
    "\n",
    "plt.subplot(1, 2, 1)\n",
    "plt.hist(x_before, bins=30, color='b', alpha=0.5)\n",
    "plt.title('Before Scaling')\n",
    "\n",
    "plt.subplot(1, 2, 2)\n",
    "plt.hist(x_after, bins=30, color='r', alpha=0.5)\n",
    "plt.title('After Scaling')\n",
    "\n",
    "plt.show()"
   ]
  },
  {
   "cell_type": "markdown",
   "metadata": {},
   "source": [
    "### Model: standard GCN"
   ]
  },
  {
   "cell_type": "code",
   "execution_count": 17,
   "metadata": {
    "execution": {
     "iopub.execute_input": "2024-06-19T12:24:59.486302Z",
     "iopub.status.busy": "2024-06-19T12:24:59.486052Z",
     "iopub.status.idle": "2024-06-19T12:24:59.496984Z",
     "shell.execute_reply": "2024-06-19T12:24:59.496483Z"
    }
   },
   "outputs": [
    {
     "data": {
      "text/html": [
       "<div>\n",
       "<style scoped>\n",
       "    .dataframe tbody tr th:only-of-type {\n",
       "        vertical-align: middle;\n",
       "    }\n",
       "\n",
       "    .dataframe tbody tr th {\n",
       "        vertical-align: top;\n",
       "    }\n",
       "\n",
       "    .dataframe thead th {\n",
       "        text-align: right;\n",
       "    }\n",
       "</style>\n",
       "<table border=\"1\" class=\"dataframe\">\n",
       "  <thead>\n",
       "    <tr style=\"text-align: right;\">\n",
       "      <th></th>\n",
       "      <th>number</th>\n",
       "      <th>value</th>\n",
       "      <th>datetime_start</th>\n",
       "      <th>datetime_complete</th>\n",
       "      <th>duration</th>\n",
       "      <th>params_batch_size</th>\n",
       "      <th>params_dropout</th>\n",
       "      <th>params_learning_rate</th>\n",
       "      <th>params_optimizer</th>\n",
       "      <th>state</th>\n",
       "    </tr>\n",
       "  </thead>\n",
       "  <tbody>\n",
       "    <tr>\n",
       "      <th>79</th>\n",
       "      <td>79</td>\n",
       "      <td>0.392857</td>\n",
       "      <td>2024-06-07 12:26:48.545208</td>\n",
       "      <td>2024-06-07 12:29:07.886934</td>\n",
       "      <td>0 days 00:02:19.341726</td>\n",
       "      <td>340</td>\n",
       "      <td>0.573550</td>\n",
       "      <td>0.000174</td>\n",
       "      <td>SGD</td>\n",
       "      <td>COMPLETE</td>\n",
       "    </tr>\n",
       "    <tr>\n",
       "      <th>87</th>\n",
       "      <td>87</td>\n",
       "      <td>0.384011</td>\n",
       "      <td>2024-06-07 12:35:53.199383</td>\n",
       "      <td>2024-06-07 12:37:25.539905</td>\n",
       "      <td>0 days 00:01:32.340522</td>\n",
       "      <td>170</td>\n",
       "      <td>0.681318</td>\n",
       "      <td>0.000031</td>\n",
       "      <td>RMSprop</td>\n",
       "      <td>COMPLETE</td>\n",
       "    </tr>\n",
       "    <tr>\n",
       "      <th>19</th>\n",
       "      <td>19</td>\n",
       "      <td>0.364141</td>\n",
       "      <td>2024-06-07 10:07:20.736797</td>\n",
       "      <td>2024-06-07 10:09:41.538453</td>\n",
       "      <td>0 days 00:02:20.801656</td>\n",
       "      <td>340</td>\n",
       "      <td>0.731514</td>\n",
       "      <td>0.000011</td>\n",
       "      <td>RMSprop</td>\n",
       "      <td>COMPLETE</td>\n",
       "    </tr>\n",
       "  </tbody>\n",
       "</table>\n",
       "</div>"
      ],
      "text/plain": [
       "    number     value             datetime_start          datetime_complete  \\\n",
       "79      79  0.392857 2024-06-07 12:26:48.545208 2024-06-07 12:29:07.886934   \n",
       "87      87  0.384011 2024-06-07 12:35:53.199383 2024-06-07 12:37:25.539905   \n",
       "19      19  0.364141 2024-06-07 10:07:20.736797 2024-06-07 10:09:41.538453   \n",
       "\n",
       "                 duration  params_batch_size  params_dropout  \\\n",
       "79 0 days 00:02:19.341726                340        0.573550   \n",
       "87 0 days 00:01:32.340522                170        0.681318   \n",
       "19 0 days 00:02:20.801656                340        0.731514   \n",
       "\n",
       "    params_learning_rate params_optimizer     state  \n",
       "79              0.000174              SGD  COMPLETE  \n",
       "87              0.000031          RMSprop  COMPLETE  \n",
       "19              0.000011          RMSprop  COMPLETE  "
      ]
     },
     "execution_count": 17,
     "metadata": {},
     "output_type": "execute_result"
    }
   ],
   "source": [
    "# import best trials from tuning\n",
    "df_trials_wo_edge_attrs = pd.read_pickle('ec_results_stand_GCN_trials.pkl')\n",
    "df_trials_wo_edge_attrs = df_trials_wo_edge_attrs.sort_values('value', ascending=False).head(3)\n",
    "df_trials_wo_edge_attrs"
   ]
  },
  {
   "cell_type": "code",
   "execution_count": 18,
   "metadata": {
    "execution": {
     "iopub.execute_input": "2024-06-19T12:24:59.499362Z",
     "iopub.status.busy": "2024-06-19T12:24:59.499168Z",
     "iopub.status.idle": "2024-06-19T12:29:42.278587Z",
     "shell.execute_reply": "2024-06-19T12:29:42.277978Z"
    }
   },
   "outputs": [
    {
     "name": "stderr",
     "output_type": "stream",
     "text": [
      "/home/tsmolders/.conda/envs/py3117/lib/python3.11/site-packages/lightning/pytorch/trainer/connectors/logger_connector/logger_connector.py:75: Starting from v1.9.0, `tensorboardX` has been removed as a dependency of the `lightning.pytorch` package, due to potential conflicts with other packages in the ML ecosystem. For this reason, `logger=True` will use `CSVLogger` as the default logger, unless the `tensorboard` or `tensorboardX` packages are found. Please `pip install lightning[extra]` or one of them to enable TensorBoard support by default\n",
      "Missing logger folder: /home/tsmolders/lightning_logs\n",
      "/home/tsmolders/.conda/envs/py3117/lib/python3.11/site-packages/lightning/pytorch/loops/fit_loop.py:298: The number of training batches (5) is smaller than the logging interval Trainer(log_every_n_steps=10). Set a lower value for log_every_n_steps if you want to see logs for the training epoch.\n"
     ]
    },
    {
     "name": "stdout",
     "output_type": "stream",
     "text": [
      "\n",
      "Final evaluation #1 trial:\n"
     ]
    },
    {
     "data": {
      "text/html": [
       "<pre style=\"white-space:pre;overflow-x:auto;line-height:normal;font-family:Menlo,'DejaVu Sans Mono',consolas,'Courier New',monospace\">┏━━━━━━━━━━━━━━━━━━━━━━━━━━━┳━━━━━━━━━━━━━━━━━━━━━━━━━━━┓\n",
       "┃<span style=\"font-weight: bold\">      Validate metric      </span>┃<span style=\"font-weight: bold\">       DataLoader 0        </span>┃\n",
       "┡━━━━━━━━━━━━━━━━━━━━━━━━━━━╇━━━━━━━━━━━━━━━━━━━━━━━━━━━┩\n",
       "│<span style=\"color: #008080; text-decoration-color: #008080\">          val_f1           </span>│<span style=\"color: #800080; text-decoration-color: #800080\">     0.160330668091774     </span>│\n",
       "│<span style=\"color: #008080; text-decoration-color: #008080\">         val_loss          </span>│<span style=\"color: #800080; text-decoration-color: #800080\">    1.6116458177566528     </span>│\n",
       "└───────────────────────────┴───────────────────────────┘\n",
       "</pre>\n"
      ],
      "text/plain": [
       "┏━━━━━━━━━━━━━━━━━━━━━━━━━━━┳━━━━━━━━━━━━━━━━━━━━━━━━━━━┓\n",
       "┃\u001b[1m \u001b[0m\u001b[1m     Validate metric     \u001b[0m\u001b[1m \u001b[0m┃\u001b[1m \u001b[0m\u001b[1m      DataLoader 0       \u001b[0m\u001b[1m \u001b[0m┃\n",
       "┡━━━━━━━━━━━━━━━━━━━━━━━━━━━╇━━━━━━━━━━━━━━━━━━━━━━━━━━━┩\n",
       "│\u001b[36m \u001b[0m\u001b[36m         val_f1          \u001b[0m\u001b[36m \u001b[0m│\u001b[35m \u001b[0m\u001b[35m    0.160330668091774    \u001b[0m\u001b[35m \u001b[0m│\n",
       "│\u001b[36m \u001b[0m\u001b[36m        val_loss         \u001b[0m\u001b[36m \u001b[0m│\u001b[35m \u001b[0m\u001b[35m   1.6116458177566528    \u001b[0m\u001b[35m \u001b[0m│\n",
       "└───────────────────────────┴───────────────────────────┘\n"
      ]
     },
     "metadata": {},
     "output_type": "display_data"
    },
    {
     "name": "stdout",
     "output_type": "stream",
     "text": [
      "classification report:\n",
      "               precision    recall  f1-score   support\n",
      "\n",
      "        ADHD       0.80      0.07      0.14       108\n",
      "     HEALTHY       0.22      0.90      0.35       108\n",
      "         MDD       0.27      0.10      0.15       108\n",
      "         OCD       0.22      0.04      0.06       108\n",
      "         SMC       0.24      0.06      0.10       108\n",
      "\n",
      "    accuracy                           0.24       540\n",
      "   macro avg       0.35      0.24      0.16       540\n",
      "weighted avg       0.35      0.24      0.16       540\n",
      "\n",
      "\n",
      "Final evaluation #2 trial:\n"
     ]
    },
    {
     "data": {
      "text/html": [
       "<pre style=\"white-space:pre;overflow-x:auto;line-height:normal;font-family:Menlo,'DejaVu Sans Mono',consolas,'Courier New',monospace\">┏━━━━━━━━━━━━━━━━━━━━━━━━━━━┳━━━━━━━━━━━━━━━━━━━━━━━━━━━┓\n",
       "┃<span style=\"font-weight: bold\">      Validate metric      </span>┃<span style=\"font-weight: bold\">       DataLoader 0        </span>┃\n",
       "┡━━━━━━━━━━━━━━━━━━━━━━━━━━━╇━━━━━━━━━━━━━━━━━━━━━━━━━━━┩\n",
       "│<span style=\"color: #008080; text-decoration-color: #008080\">          val_f1           </span>│<span style=\"color: #800080; text-decoration-color: #800080\">    0.3009684085845947     </span>│\n",
       "│<span style=\"color: #008080; text-decoration-color: #008080\">         val_loss          </span>│<span style=\"color: #800080; text-decoration-color: #800080\">    1.5614264011383057     </span>│\n",
       "└───────────────────────────┴───────────────────────────┘\n",
       "</pre>\n"
      ],
      "text/plain": [
       "┏━━━━━━━━━━━━━━━━━━━━━━━━━━━┳━━━━━━━━━━━━━━━━━━━━━━━━━━━┓\n",
       "┃\u001b[1m \u001b[0m\u001b[1m     Validate metric     \u001b[0m\u001b[1m \u001b[0m┃\u001b[1m \u001b[0m\u001b[1m      DataLoader 0       \u001b[0m\u001b[1m \u001b[0m┃\n",
       "┡━━━━━━━━━━━━━━━━━━━━━━━━━━━╇━━━━━━━━━━━━━━━━━━━━━━━━━━━┩\n",
       "│\u001b[36m \u001b[0m\u001b[36m         val_f1          \u001b[0m\u001b[36m \u001b[0m│\u001b[35m \u001b[0m\u001b[35m   0.3009684085845947    \u001b[0m\u001b[35m \u001b[0m│\n",
       "│\u001b[36m \u001b[0m\u001b[36m        val_loss         \u001b[0m\u001b[36m \u001b[0m│\u001b[35m \u001b[0m\u001b[35m   1.5614264011383057    \u001b[0m\u001b[35m \u001b[0m│\n",
       "└───────────────────────────┴───────────────────────────┘\n"
      ]
     },
     "metadata": {},
     "output_type": "display_data"
    },
    {
     "name": "stdout",
     "output_type": "stream",
     "text": [
      "classification report:\n",
      "               precision    recall  f1-score   support\n",
      "\n",
      "        ADHD       0.50      0.37      0.43       108\n",
      "     HEALTHY       0.32      0.49      0.38       108\n",
      "         MDD       0.26      0.26      0.26       108\n",
      "         OCD       0.19      0.21      0.20       108\n",
      "         SMC       0.32      0.19      0.24       108\n",
      "\n",
      "    accuracy                           0.30       540\n",
      "   macro avg       0.32      0.30      0.30       540\n",
      "weighted avg       0.32      0.30      0.30       540\n",
      "\n"
     ]
    },
    {
     "name": "stderr",
     "output_type": "stream",
     "text": [
      "/home/tsmolders/.conda/envs/py3117/lib/python3.11/site-packages/lightning/pytorch/loops/fit_loop.py:298: The number of training batches (5) is smaller than the logging interval Trainer(log_every_n_steps=10). Set a lower value for log_every_n_steps if you want to see logs for the training epoch.\n"
     ]
    },
    {
     "name": "stdout",
     "output_type": "stream",
     "text": [
      "\n",
      "Final evaluation #3 trial:\n"
     ]
    },
    {
     "data": {
      "text/html": [
       "<pre style=\"white-space:pre;overflow-x:auto;line-height:normal;font-family:Menlo,'DejaVu Sans Mono',consolas,'Courier New',monospace\">┏━━━━━━━━━━━━━━━━━━━━━━━━━━━┳━━━━━━━━━━━━━━━━━━━━━━━━━━━┓\n",
       "┃<span style=\"font-weight: bold\">      Validate metric      </span>┃<span style=\"font-weight: bold\">       DataLoader 0        </span>┃\n",
       "┡━━━━━━━━━━━━━━━━━━━━━━━━━━━╇━━━━━━━━━━━━━━━━━━━━━━━━━━━┩\n",
       "│<span style=\"color: #008080; text-decoration-color: #008080\">          val_f1           </span>│<span style=\"color: #800080; text-decoration-color: #800080\">    0.13712966442108154    </span>│\n",
       "│<span style=\"color: #008080; text-decoration-color: #008080\">         val_loss          </span>│<span style=\"color: #800080; text-decoration-color: #800080\">    1.5789718627929688     </span>│\n",
       "└───────────────────────────┴───────────────────────────┘\n",
       "</pre>\n"
      ],
      "text/plain": [
       "┏━━━━━━━━━━━━━━━━━━━━━━━━━━━┳━━━━━━━━━━━━━━━━━━━━━━━━━━━┓\n",
       "┃\u001b[1m \u001b[0m\u001b[1m     Validate metric     \u001b[0m\u001b[1m \u001b[0m┃\u001b[1m \u001b[0m\u001b[1m      DataLoader 0       \u001b[0m\u001b[1m \u001b[0m┃\n",
       "┡━━━━━━━━━━━━━━━━━━━━━━━━━━━╇━━━━━━━━━━━━━━━━━━━━━━━━━━━┩\n",
       "│\u001b[36m \u001b[0m\u001b[36m         val_f1          \u001b[0m\u001b[36m \u001b[0m│\u001b[35m \u001b[0m\u001b[35m   0.13712966442108154   \u001b[0m\u001b[35m \u001b[0m│\n",
       "│\u001b[36m \u001b[0m\u001b[36m        val_loss         \u001b[0m\u001b[36m \u001b[0m│\u001b[35m \u001b[0m\u001b[35m   1.5789718627929688    \u001b[0m\u001b[35m \u001b[0m│\n",
       "└───────────────────────────┴───────────────────────────┘\n"
      ]
     },
     "metadata": {},
     "output_type": "display_data"
    },
    {
     "name": "stdout",
     "output_type": "stream",
     "text": [
      "classification report:\n",
      "               precision    recall  f1-score   support\n",
      "\n",
      "        ADHD       0.21      0.91      0.35       108\n",
      "     HEALTHY       0.42      0.13      0.20       108\n",
      "         MDD       0.67      0.02      0.04       108\n",
      "         OCD       0.00      0.00      0.00       108\n",
      "         SMC       0.19      0.07      0.11       108\n",
      "\n",
      "    accuracy                           0.23       540\n",
      "   macro avg       0.30      0.23      0.14       540\n",
      "weighted avg       0.30      0.23      0.14       540\n",
      "\n",
      "Mean f1-score 3 best trials: 0.1995\n",
      "STD f1-score 3 best trials: 0.0724\n"
     ]
    },
    {
     "data": {
      "image/png": "[encoded data removed]",
      "text/plain": [
       "<Figure size 2400x1600 with 3 Axes>"
      ]
     },
     "metadata": {},
     "output_type": "display_data"
    }
   ],
   "source": [
    "from lightning.pytorch.tuner import Tuner\n",
    "from lightning.pytorch import Trainer\n",
    "from lightning.pytorch.callbacks import ModelCheckpoint, TQDMProgressBar, RichProgressBar, ModelSummary\n",
    "from lightning.pytorch.callbacks.early_stopping import EarlyStopping\n",
    "import logging\n",
    "import warnings\n",
    "warnings.filterwarnings(\"ignore\", \".*Consider increasing the value of the `num_workers` argument*\")\n",
    "warnings.filterwarnings(\"ignore\", \"Trying to infer the `batch_size` from an ambiguous collection.*\")\n",
    "torch.set_float32_matmul_precision('high')\n",
    "logging.getLogger(\"lightning.pytorch.utilities.rank_zero\").setLevel(logging.WARNING)\n",
    "logging.getLogger(\"lightning.pytorch.accelerators.cuda\").setLevel(logging.WARNING)\n",
    "\n",
    "# create subplots for confusion matrices\n",
    "fig, ax = plt.subplots(1, 3, figsize=(24, 16))\n",
    "\n",
    "# list for storing f1-scores:\n",
    "f1_scores = []\n",
    "\n",
    "# iterate over the 3 best trials during tuning\n",
    "for num, trial in enumerate(df_trials_wo_edge_attrs.iterrows()):\n",
    "    # retrieve the hyperparameters\n",
    "    learning_rate = trial[1]['params_learning_rate']\n",
    "    optimizer_name = trial[1]['params_optimizer']\n",
    "    dropout = trial[1]['params_dropout']\n",
    "    batch_size = trial[1]['params_batch_size']\n",
    "\n",
    "    # use best parameters from optuna\n",
    "    model = GCN(learning_rate=learning_rate, optimizer_name=optimizer_name, dropout=dropout)\n",
    "    n_epochs = batch_size * 4\n",
    "\n",
    "    # Define the data loaders\n",
    "    train_loader = DataLoader(X_train, batch_size=batch_size, shuffle=True,\n",
    "                                drop_last=True) # , num_workers=0, persistent_workers=True\n",
    "    val_loader = DataLoader(X_val, batch_size=len(X_val), shuffle=False,\n",
    "                                drop_last=True) # , num_workers=0, persistent_workers=True\n",
    "\n",
    "\n",
    "    checkpoint_callback = ModelCheckpoint(monitor='val_f1',\n",
    "                                        mode='max',\n",
    "                                        save_top_k=5,\n",
    "                                        filename='{epoch}-{train_loss:.2f}-{train_f1:.2f}-{val_loss:.2f}-{val_f1:.2f}',\n",
    "                                        )\n",
    "\n",
    "\n",
    "    trainer = Trainer(callbacks=[checkpoint_callback, ModelSummary(max_depth=0)],\n",
    "                    accelerator='gpu',\n",
    "                    max_epochs=n_epochs,\n",
    "                    enable_progress_bar=False,\n",
    "                    check_val_every_n_epoch=10,\n",
    "                    log_every_n_steps=10,\n",
    "                    deterministic=False,\n",
    "                    )\n",
    "\n",
    "    trainer.fit(model, train_loader, val_loader)\n",
    "\n",
    "    print()\n",
    "    print(f'Final evaluation #{num+1} trial:')\n",
    "    # get evaluation of best model checkpoint\n",
    "    trainer.validate(model, val_loader, ckpt_path='best')\n",
    "\n",
    "    # compute confusion matrix and classification report with sklearn of best model checkpoint\n",
    "    from sklearn.metrics import f1_score, classification_report, confusion_matrix, ConfusionMatrixDisplay\n",
    "    y_pred = trainer.predict(model, val_loader, ckpt_path='best')\n",
    "    y_pred = np.concatenate(y_pred).flatten()\n",
    "    y = Y_val\n",
    "\n",
    "    class_labels = le.inverse_transform(sorted(np.unique(y)))\n",
    "    print('classification report:\\n', classification_report(y, y_pred, target_names=class_labels))\n",
    "    f1_scores.append(f1_score(y, y_pred, average=\"macro\"))\n",
    "\n",
    "    # plot confusion matrix\n",
    "    conf_matrix = confusion_matrix(y, y_pred)\n",
    "    ConfusionMatrixDisplay(conf_matrix, display_labels = class_labels).plot(cmap = 'Blues', values_format = 'd', colorbar=False, ax=ax[num])\n",
    "    ax[num].set_title(f'Confusion matrix {num+1}, f1: {f1_score(y, y_pred, average=\"macro\"):.4f}')\n",
    "print(f'Mean f1-score 3 best trials: {np.mean(f1_scores):.4f}')\n",
    "print(f'STD f1-score 3 best trials: {np.std(f1_scores):.4f}')"
   ]
  },
  {
   "cell_type": "markdown",
   "metadata": {},
   "source": [
    "### Model: graphLambda without edge_attr"
   ]
  },
  {
   "cell_type": "code",
   "execution_count": 19,
   "metadata": {
    "execution": {
     "iopub.execute_input": "2024-06-19T12:29:42.281758Z",
     "iopub.status.busy": "2024-06-19T12:29:42.281539Z",
     "iopub.status.idle": "2024-06-19T12:29:42.293559Z",
     "shell.execute_reply": "2024-06-19T12:29:42.293029Z"
    }
   },
   "outputs": [
    {
     "data": {
      "text/html": [
       "<div>\n",
       "<style scoped>\n",
       "    .dataframe tbody tr th:only-of-type {\n",
       "        vertical-align: middle;\n",
       "    }\n",
       "\n",
       "    .dataframe tbody tr th {\n",
       "        vertical-align: top;\n",
       "    }\n",
       "\n",
       "    .dataframe thead th {\n",
       "        text-align: right;\n",
       "    }\n",
       "</style>\n",
       "<table border=\"1\" class=\"dataframe\">\n",
       "  <thead>\n",
       "    <tr style=\"text-align: right;\">\n",
       "      <th></th>\n",
       "      <th>number</th>\n",
       "      <th>value</th>\n",
       "      <th>datetime_start</th>\n",
       "      <th>datetime_complete</th>\n",
       "      <th>duration</th>\n",
       "      <th>params_batch_size</th>\n",
       "      <th>params_dropout</th>\n",
       "      <th>params_fc_layers</th>\n",
       "      <th>params_learning_rate</th>\n",
       "      <th>params_optimizer</th>\n",
       "      <th>state</th>\n",
       "    </tr>\n",
       "  </thead>\n",
       "  <tbody>\n",
       "    <tr>\n",
       "      <th>82</th>\n",
       "      <td>82</td>\n",
       "      <td>0.345166</td>\n",
       "      <td>2024-06-05 21:07:12.901957</td>\n",
       "      <td>2024-06-05 21:09:43.950813</td>\n",
       "      <td>0 days 00:02:31.048856</td>\n",
       "      <td>170</td>\n",
       "      <td>0.190497</td>\n",
       "      <td>4</td>\n",
       "      <td>0.000298</td>\n",
       "      <td>SGD</td>\n",
       "      <td>COMPLETE</td>\n",
       "    </tr>\n",
       "    <tr>\n",
       "      <th>54</th>\n",
       "      <td>54</td>\n",
       "      <td>0.337970</td>\n",
       "      <td>2024-06-05 19:30:13.494491</td>\n",
       "      <td>2024-06-05 19:35:21.262831</td>\n",
       "      <td>0 days 00:05:07.768340</td>\n",
       "      <td>680</td>\n",
       "      <td>0.191613</td>\n",
       "      <td>4</td>\n",
       "      <td>0.000621</td>\n",
       "      <td>SGD</td>\n",
       "      <td>COMPLETE</td>\n",
       "    </tr>\n",
       "    <tr>\n",
       "      <th>79</th>\n",
       "      <td>79</td>\n",
       "      <td>0.331626</td>\n",
       "      <td>2024-06-05 20:59:31.155617</td>\n",
       "      <td>2024-06-05 21:02:06.001262</td>\n",
       "      <td>0 days 00:02:34.845645</td>\n",
       "      <td>170</td>\n",
       "      <td>0.288744</td>\n",
       "      <td>4</td>\n",
       "      <td>0.000628</td>\n",
       "      <td>SGD</td>\n",
       "      <td>COMPLETE</td>\n",
       "    </tr>\n",
       "  </tbody>\n",
       "</table>\n",
       "</div>"
      ],
      "text/plain": [
       "    number     value             datetime_start          datetime_complete  \\\n",
       "82      82  0.345166 2024-06-05 21:07:12.901957 2024-06-05 21:09:43.950813   \n",
       "54      54  0.337970 2024-06-05 19:30:13.494491 2024-06-05 19:35:21.262831   \n",
       "79      79  0.331626 2024-06-05 20:59:31.155617 2024-06-05 21:02:06.001262   \n",
       "\n",
       "                 duration  params_batch_size  params_dropout  \\\n",
       "82 0 days 00:02:31.048856                170        0.190497   \n",
       "54 0 days 00:05:07.768340                680        0.191613   \n",
       "79 0 days 00:02:34.845645                170        0.288744   \n",
       "\n",
       "    params_fc_layers  params_learning_rate params_optimizer     state  \n",
       "82                 4              0.000298              SGD  COMPLETE  \n",
       "54                 4              0.000621              SGD  COMPLETE  \n",
       "79                 4              0.000628              SGD  COMPLETE  "
      ]
     },
     "execution_count": 19,
     "metadata": {},
     "output_type": "execute_result"
    }
   ],
   "source": [
    "# import best trials from tuning\n",
    "df_trials_wo_edge_attrs = pd.read_pickle('ec_results_wo_edge_attrs_trials.pkl')\n",
    "df_trials_wo_edge_attrs = df_trials_wo_edge_attrs.sort_values('value', ascending=False).head(3)\n",
    "df_trials_wo_edge_attrs"
   ]
  },
  {
   "cell_type": "code",
   "execution_count": 20,
   "metadata": {
    "execution": {
     "iopub.execute_input": "2024-06-19T12:29:42.295809Z",
     "iopub.status.busy": "2024-06-19T12:29:42.295608Z",
     "iopub.status.idle": "2024-06-19T12:37:53.540662Z",
     "shell.execute_reply": "2024-06-19T12:37:53.539679Z"
    }
   },
   "outputs": [
    {
     "name": "stdout",
     "output_type": "stream",
     "text": [
      "\n",
      "Final evaluation #1 trial:\n"
     ]
    },
    {
     "data": {
      "text/html": [
       "<pre style=\"white-space:pre;overflow-x:auto;line-height:normal;font-family:Menlo,'DejaVu Sans Mono',consolas,'Courier New',monospace\">┏━━━━━━━━━━━━━━━━━━━━━━━━━━━┳━━━━━━━━━━━━━━━━━━━━━━━━━━━┓\n",
       "┃<span style=\"font-weight: bold\">      Validate metric      </span>┃<span style=\"font-weight: bold\">       DataLoader 0        </span>┃\n",
       "┡━━━━━━━━━━━━━━━━━━━━━━━━━━━╇━━━━━━━━━━━━━━━━━━━━━━━━━━━┩\n",
       "│<span style=\"color: #008080; text-decoration-color: #008080\">          val_f1           </span>│<span style=\"color: #800080; text-decoration-color: #800080\">    0.32372456789016724    </span>│\n",
       "│<span style=\"color: #008080; text-decoration-color: #008080\">         val_loss          </span>│<span style=\"color: #800080; text-decoration-color: #800080\">    1.5758336782455444     </span>│\n",
       "└───────────────────────────┴───────────────────────────┘\n",
       "</pre>\n"
      ],
      "text/plain": [
       "┏━━━━━━━━━━━━━━━━━━━━━━━━━━━┳━━━━━━━━━━━━━━━━━━━━━━━━━━━┓\n",
       "┃\u001b[1m \u001b[0m\u001b[1m     Validate metric     \u001b[0m\u001b[1m \u001b[0m┃\u001b[1m \u001b[0m\u001b[1m      DataLoader 0       \u001b[0m\u001b[1m \u001b[0m┃\n",
       "┡━━━━━━━━━━━━━━━━━━━━━━━━━━━╇━━━━━━━━━━━━━━━━━━━━━━━━━━━┩\n",
       "│\u001b[36m \u001b[0m\u001b[36m         val_f1          \u001b[0m\u001b[36m \u001b[0m│\u001b[35m \u001b[0m\u001b[35m   0.32372456789016724   \u001b[0m\u001b[35m \u001b[0m│\n",
       "│\u001b[36m \u001b[0m\u001b[36m        val_loss         \u001b[0m\u001b[36m \u001b[0m│\u001b[35m \u001b[0m\u001b[35m   1.5758336782455444    \u001b[0m\u001b[35m \u001b[0m│\n",
       "└───────────────────────────┴───────────────────────────┘\n"
      ]
     },
     "metadata": {},
     "output_type": "display_data"
    },
    {
     "name": "stdout",
     "output_type": "stream",
     "text": [
      "classification report:\n",
      "               precision    recall  f1-score   support\n",
      "\n",
      "        ADHD       0.50      0.45      0.48       108\n",
      "     HEALTHY       0.39      0.57      0.47       108\n",
      "         MDD       0.29      0.19      0.23       108\n",
      "         OCD       0.18      0.20      0.19       108\n",
      "         SMC       0.27      0.23      0.25       108\n",
      "\n",
      "    accuracy                           0.33       540\n",
      "   macro avg       0.33      0.33      0.32       540\n",
      "weighted avg       0.33      0.33      0.32       540\n",
      "\n"
     ]
    },
    {
     "name": "stderr",
     "output_type": "stream",
     "text": [
      "/home/tsmolders/.conda/envs/py3117/lib/python3.11/site-packages/lightning/pytorch/loops/fit_loop.py:298: The number of training batches (2) is smaller than the logging interval Trainer(log_every_n_steps=10). Set a lower value for log_every_n_steps if you want to see logs for the training epoch.\n"
     ]
    },
    {
     "name": "stdout",
     "output_type": "stream",
     "text": [
      "\n",
      "Final evaluation #2 trial:\n"
     ]
    },
    {
     "data": {
      "text/html": [
       "<pre style=\"white-space:pre;overflow-x:auto;line-height:normal;font-family:Menlo,'DejaVu Sans Mono',consolas,'Courier New',monospace\">┏━━━━━━━━━━━━━━━━━━━━━━━━━━━┳━━━━━━━━━━━━━━━━━━━━━━━━━━━┓\n",
       "┃<span style=\"font-weight: bold\">      Validate metric      </span>┃<span style=\"font-weight: bold\">       DataLoader 0        </span>┃\n",
       "┡━━━━━━━━━━━━━━━━━━━━━━━━━━━╇━━━━━━━━━━━━━━━━━━━━━━━━━━━┩\n",
       "│<span style=\"color: #008080; text-decoration-color: #008080\">          val_f1           </span>│<span style=\"color: #800080; text-decoration-color: #800080\">    0.33260950446128845    </span>│\n",
       "│<span style=\"color: #008080; text-decoration-color: #008080\">         val_loss          </span>│<span style=\"color: #800080; text-decoration-color: #800080\">    1.5521228313446045     </span>│\n",
       "└───────────────────────────┴───────────────────────────┘\n",
       "</pre>\n"
      ],
      "text/plain": [
       "┏━━━━━━━━━━━━━━━━━━━━━━━━━━━┳━━━━━━━━━━━━━━━━━━━━━━━━━━━┓\n",
       "┃\u001b[1m \u001b[0m\u001b[1m     Validate metric     \u001b[0m\u001b[1m \u001b[0m┃\u001b[1m \u001b[0m\u001b[1m      DataLoader 0       \u001b[0m\u001b[1m \u001b[0m┃\n",
       "┡━━━━━━━━━━━━━━━━━━━━━━━━━━━╇━━━━━━━━━━━━━━━━━━━━━━━━━━━┩\n",
       "│\u001b[36m \u001b[0m\u001b[36m         val_f1          \u001b[0m\u001b[36m \u001b[0m│\u001b[35m \u001b[0m\u001b[35m   0.33260950446128845   \u001b[0m\u001b[35m \u001b[0m│\n",
       "│\u001b[36m \u001b[0m\u001b[36m        val_loss         \u001b[0m\u001b[36m \u001b[0m│\u001b[35m \u001b[0m\u001b[35m   1.5521228313446045    \u001b[0m\u001b[35m \u001b[0m│\n",
       "└───────────────────────────┴───────────────────────────┘\n"
      ]
     },
     "metadata": {},
     "output_type": "display_data"
    },
    {
     "name": "stdout",
     "output_type": "stream",
     "text": [
      "classification report:\n",
      "               precision    recall  f1-score   support\n",
      "\n",
      "        ADHD       0.47      0.49      0.48       108\n",
      "     HEALTHY       0.42      0.56      0.48       108\n",
      "         MDD       0.24      0.21      0.23       108\n",
      "         OCD       0.24      0.18      0.20       108\n",
      "         SMC       0.27      0.28      0.28       108\n",
      "\n",
      "    accuracy                           0.34       540\n",
      "   macro avg       0.33      0.34      0.33       540\n",
      "weighted avg       0.33      0.34      0.33       540\n",
      "\n",
      "\n",
      "Final evaluation #3 trial:\n"
     ]
    },
    {
     "data": {
      "text/html": [
       "<pre style=\"white-space:pre;overflow-x:auto;line-height:normal;font-family:Menlo,'DejaVu Sans Mono',consolas,'Courier New',monospace\">┏━━━━━━━━━━━━━━━━━━━━━━━━━━━┳━━━━━━━━━━━━━━━━━━━━━━━━━━━┓\n",
       "┃<span style=\"font-weight: bold\">      Validate metric      </span>┃<span style=\"font-weight: bold\">       DataLoader 0        </span>┃\n",
       "┡━━━━━━━━━━━━━━━━━━━━━━━━━━━╇━━━━━━━━━━━━━━━━━━━━━━━━━━━┩\n",
       "│<span style=\"color: #008080; text-decoration-color: #008080\">          val_f1           </span>│<span style=\"color: #800080; text-decoration-color: #800080\">    0.32008594274520874    </span>│\n",
       "│<span style=\"color: #008080; text-decoration-color: #008080\">         val_loss          </span>│<span style=\"color: #800080; text-decoration-color: #800080\">    1.5495470762252808     </span>│\n",
       "└───────────────────────────┴───────────────────────────┘\n",
       "</pre>\n"
      ],
      "text/plain": [
       "┏━━━━━━━━━━━━━━━━━━━━━━━━━━━┳━━━━━━━━━━━━━━━━━━━━━━━━━━━┓\n",
       "┃\u001b[1m \u001b[0m\u001b[1m     Validate metric     \u001b[0m\u001b[1m \u001b[0m┃\u001b[1m \u001b[0m\u001b[1m      DataLoader 0       \u001b[0m\u001b[1m \u001b[0m┃\n",
       "┡━━━━━━━━━━━━━━━━━━━━━━━━━━━╇━━━━━━━━━━━━━━━━━━━━━━━━━━━┩\n",
       "│\u001b[36m \u001b[0m\u001b[36m         val_f1          \u001b[0m\u001b[36m \u001b[0m│\u001b[35m \u001b[0m\u001b[35m   0.32008594274520874   \u001b[0m\u001b[35m \u001b[0m│\n",
       "│\u001b[36m \u001b[0m\u001b[36m        val_loss         \u001b[0m\u001b[36m \u001b[0m│\u001b[35m \u001b[0m\u001b[35m   1.5495470762252808    \u001b[0m\u001b[35m \u001b[0m│\n",
       "└───────────────────────────┴───────────────────────────┘\n"
      ]
     },
     "metadata": {},
     "output_type": "display_data"
    },
    {
     "name": "stdout",
     "output_type": "stream",
     "text": [
      "classification report:\n",
      "               precision    recall  f1-score   support\n",
      "\n",
      "        ADHD       0.42      0.44      0.43       108\n",
      "     HEALTHY       0.38      0.55      0.45       108\n",
      "         MDD       0.29      0.16      0.20       108\n",
      "         OCD       0.24      0.26      0.25       108\n",
      "         SMC       0.29      0.25      0.27       108\n",
      "\n",
      "    accuracy                           0.33       540\n",
      "   macro avg       0.32      0.33      0.32       540\n",
      "weighted avg       0.32      0.33      0.32       540\n",
      "\n",
      "Mean f1-score 3 best trials: 0.3255\n",
      "STD f1-score 3 best trials: 0.0053\n"
     ]
    },
    {
     "data": {
      "image/png": "[encoded data removed]",
      "text/plain": [
       "<Figure size 2400x1600 with 3 Axes>"
      ]
     },
     "metadata": {},
     "output_type": "display_data"
    }
   ],
   "source": [
    "from lightning.pytorch.tuner import Tuner\n",
    "from lightning.pytorch import Trainer\n",
    "from lightning.pytorch.callbacks import ModelCheckpoint, TQDMProgressBar, RichProgressBar, ModelSummary\n",
    "from lightning.pytorch.callbacks.early_stopping import EarlyStopping\n",
    "import logging\n",
    "import warnings\n",
    "warnings.filterwarnings(\"ignore\", \".*Consider increasing the value of the `num_workers` argument*\")\n",
    "warnings.filterwarnings(\"ignore\", \"Trying to infer the `batch_size` from an ambiguous collection.*\")\n",
    "torch.set_float32_matmul_precision('high')\n",
    "logging.getLogger(\"lightning.pytorch.utilities.rank_zero\").setLevel(logging.WARNING)\n",
    "logging.getLogger(\"lightning.pytorch.accelerators.cuda\").setLevel(logging.WARNING)\n",
    "\n",
    "# create subplots for confusion matrices\n",
    "fig, ax = plt.subplots(1, 3, figsize=(24, 16))\n",
    "\n",
    "# list for storing f1-scores:\n",
    "f1_scores = []\n",
    "\n",
    "# iterate over the 3 best trials during tuning\n",
    "for num, trial in enumerate(df_trials_wo_edge_attrs.iterrows()):\n",
    "    # retrieve the hyperparameters\n",
    "    learning_rate = trial[1]['params_learning_rate']\n",
    "    optimizer_name = trial[1]['params_optimizer']\n",
    "    fc_layers = trial[1]['params_fc_layers']\n",
    "    dropout = trial[1]['params_dropout']\n",
    "    batch_size = trial[1]['params_batch_size']\n",
    "\n",
    "    # use best parameters from optuna\n",
    "    model = graphLambda_wo_edge_attr(learning_rate=learning_rate, optimizer_name=optimizer_name, fc_layers=fc_layers, dropout=dropout)\n",
    "    n_epochs = batch_size * 4\n",
    "\n",
    "    # Define the data loaders\n",
    "    train_loader = DataLoader(X_train, batch_size=batch_size, shuffle=True,\n",
    "                                drop_last=True) # , num_workers=0, persistent_workers=True\n",
    "    val_loader = DataLoader(X_val, batch_size=len(X_val), shuffle=False,\n",
    "                                drop_last=True) # , num_workers=0, persistent_workers=True\n",
    "\n",
    "\n",
    "    checkpoint_callback = ModelCheckpoint(monitor='val_f1',\n",
    "                                        mode='max',\n",
    "                                        save_top_k=5,\n",
    "                                        filename='{epoch}-{train_loss:.2f}-{train_f1:.2f}-{val_loss:.2f}-{val_f1:.2f}',\n",
    "                                        )\n",
    "\n",
    "\n",
    "    trainer = Trainer(callbacks=[checkpoint_callback, ModelSummary(max_depth=0)],\n",
    "                    accelerator='gpu',\n",
    "                    max_epochs=n_epochs,\n",
    "                    enable_progress_bar=False,\n",
    "                    check_val_every_n_epoch=10,\n",
    "                    log_every_n_steps=10,\n",
    "                    deterministic=False,\n",
    "                    )\n",
    "\n",
    "    trainer.fit(model, train_loader, val_loader)\n",
    "\n",
    "    print()\n",
    "    print(f'Final evaluation #{num+1} trial:')\n",
    "    # get evaluation of best model checkpoint\n",
    "    trainer.validate(model, val_loader, ckpt_path='best')\n",
    "\n",
    "    # compute confusion matrix and classification report with sklearn of best model checkpoint\n",
    "    from sklearn.metrics import f1_score, classification_report, confusion_matrix, ConfusionMatrixDisplay\n",
    "    y_pred = trainer.predict(model, val_loader, ckpt_path='best')\n",
    "    y_pred = np.concatenate(y_pred).flatten()\n",
    "    y = Y_val\n",
    "\n",
    "    class_labels = le.inverse_transform(sorted(np.unique(y)))\n",
    "    print('classification report:\\n', classification_report(y, y_pred, target_names=class_labels))\n",
    "    f1_scores.append(f1_score(y, y_pred, average=\"macro\"))\n",
    "\n",
    "    # plot confusion matrix\n",
    "    conf_matrix = confusion_matrix(y, y_pred)\n",
    "    ConfusionMatrixDisplay(conf_matrix, display_labels = class_labels).plot(cmap = 'Blues', values_format = 'd', colorbar=False, ax=ax[num])\n",
    "    ax[num].set_title(f'Confusion matrix {num+1}, f1: {f1_score(y, y_pred, average=\"macro\"):.4f}')\n",
    "print(f'Mean f1-score 3 best trials: {np.mean(f1_scores):.4f}')\n",
    "print(f'STD f1-score 3 best trials: {np.std(f1_scores):.4f}')"
   ]
  },
  {
   "cell_type": "markdown",
   "metadata": {},
   "source": [
    "### Model: graphLambda with edge_attr"
   ]
  },
  {
   "cell_type": "code",
   "execution_count": 21,
   "metadata": {
    "execution": {
     "iopub.execute_input": "2024-06-19T12:37:53.544158Z",
     "iopub.status.busy": "2024-06-19T12:37:53.543903Z",
     "iopub.status.idle": "2024-06-19T12:37:53.559712Z",
     "shell.execute_reply": "2024-06-19T12:37:53.559037Z"
    }
   },
   "outputs": [
    {
     "data": {
      "text/html": [
       "<div>\n",
       "<style scoped>\n",
       "    .dataframe tbody tr th:only-of-type {\n",
       "        vertical-align: middle;\n",
       "    }\n",
       "\n",
       "    .dataframe tbody tr th {\n",
       "        vertical-align: top;\n",
       "    }\n",
       "\n",
       "    .dataframe thead th {\n",
       "        text-align: right;\n",
       "    }\n",
       "</style>\n",
       "<table border=\"1\" class=\"dataframe\">\n",
       "  <thead>\n",
       "    <tr style=\"text-align: right;\">\n",
       "      <th></th>\n",
       "      <th>number</th>\n",
       "      <th>value</th>\n",
       "      <th>datetime_start</th>\n",
       "      <th>datetime_complete</th>\n",
       "      <th>duration</th>\n",
       "      <th>params_batch_size</th>\n",
       "      <th>params_dropout</th>\n",
       "      <th>params_fc_layers</th>\n",
       "      <th>params_learning_rate</th>\n",
       "      <th>params_optimizer</th>\n",
       "      <th>state</th>\n",
       "    </tr>\n",
       "  </thead>\n",
       "  <tbody>\n",
       "    <tr>\n",
       "      <th>42</th>\n",
       "      <td>42</td>\n",
       "      <td>0.323928</td>\n",
       "      <td>2024-06-05 23:35:28.597791</td>\n",
       "      <td>2024-06-05 23:38:25.429004</td>\n",
       "      <td>0 days 00:02:56.831213</td>\n",
       "      <td>170</td>\n",
       "      <td>0.454023</td>\n",
       "      <td>3</td>\n",
       "      <td>0.000030</td>\n",
       "      <td>RMSprop</td>\n",
       "      <td>COMPLETE</td>\n",
       "    </tr>\n",
       "    <tr>\n",
       "      <th>53</th>\n",
       "      <td>53</td>\n",
       "      <td>0.317526</td>\n",
       "      <td>2024-06-06 00:08:02.403968</td>\n",
       "      <td>2024-06-06 00:10:58.330254</td>\n",
       "      <td>0 days 00:02:55.926286</td>\n",
       "      <td>170</td>\n",
       "      <td>0.438000</td>\n",
       "      <td>3</td>\n",
       "      <td>0.000121</td>\n",
       "      <td>RMSprop</td>\n",
       "      <td>COMPLETE</td>\n",
       "    </tr>\n",
       "    <tr>\n",
       "      <th>88</th>\n",
       "      <td>88</td>\n",
       "      <td>0.316224</td>\n",
       "      <td>2024-06-06 02:18:14.963006</td>\n",
       "      <td>2024-06-06 02:21:09.537934</td>\n",
       "      <td>0 days 00:02:54.574928</td>\n",
       "      <td>170</td>\n",
       "      <td>0.063977</td>\n",
       "      <td>3</td>\n",
       "      <td>0.001027</td>\n",
       "      <td>Adam</td>\n",
       "      <td>COMPLETE</td>\n",
       "    </tr>\n",
       "  </tbody>\n",
       "</table>\n",
       "</div>"
      ],
      "text/plain": [
       "    number     value             datetime_start          datetime_complete  \\\n",
       "42      42  0.323928 2024-06-05 23:35:28.597791 2024-06-05 23:38:25.429004   \n",
       "53      53  0.317526 2024-06-06 00:08:02.403968 2024-06-06 00:10:58.330254   \n",
       "88      88  0.316224 2024-06-06 02:18:14.963006 2024-06-06 02:21:09.537934   \n",
       "\n",
       "                 duration  params_batch_size  params_dropout  \\\n",
       "42 0 days 00:02:56.831213                170        0.454023   \n",
       "53 0 days 00:02:55.926286                170        0.438000   \n",
       "88 0 days 00:02:54.574928                170        0.063977   \n",
       "\n",
       "    params_fc_layers  params_learning_rate params_optimizer     state  \n",
       "42                 3              0.000030          RMSprop  COMPLETE  \n",
       "53                 3              0.000121          RMSprop  COMPLETE  \n",
       "88                 3              0.001027             Adam  COMPLETE  "
      ]
     },
     "execution_count": 21,
     "metadata": {},
     "output_type": "execute_result"
    }
   ],
   "source": [
    "# import best trials from tuning\n",
    "df_trials_w_edge_attrs = pd.read_pickle('ec_results_w_edge_attrs_trials.pkl')\n",
    "df_trials_w_edge_attrs = df_trials_w_edge_attrs.sort_values('value', ascending=False).head(3)\n",
    "df_trials_w_edge_attrs"
   ]
  },
  {
   "cell_type": "code",
   "execution_count": 22,
   "metadata": {
    "execution": {
     "iopub.execute_input": "2024-06-19T12:37:53.562497Z",
     "iopub.status.busy": "2024-06-19T12:37:53.562284Z",
     "iopub.status.idle": "2024-06-19T12:44:37.812469Z",
     "shell.execute_reply": "2024-06-19T12:44:37.811786Z"
    }
   },
   "outputs": [
    {
     "name": "stdout",
     "output_type": "stream",
     "text": [
      "\n",
      "Final evaluation #1 trial:\n"
     ]
    },
    {
     "data": {
      "text/html": [
       "<pre style=\"white-space:pre;overflow-x:auto;line-height:normal;font-family:Menlo,'DejaVu Sans Mono',consolas,'Courier New',monospace\">┏━━━━━━━━━━━━━━━━━━━━━━━━━━━┳━━━━━━━━━━━━━━━━━━━━━━━━━━━┓\n",
       "┃<span style=\"font-weight: bold\">      Validate metric      </span>┃<span style=\"font-weight: bold\">       DataLoader 0        </span>┃\n",
       "┡━━━━━━━━━━━━━━━━━━━━━━━━━━━╇━━━━━━━━━━━━━━━━━━━━━━━━━━━┩\n",
       "│<span style=\"color: #008080; text-decoration-color: #008080\">          val_f1           </span>│<span style=\"color: #800080; text-decoration-color: #800080\">    0.3343839943408966     </span>│\n",
       "│<span style=\"color: #008080; text-decoration-color: #008080\">         val_loss          </span>│<span style=\"color: #800080; text-decoration-color: #800080\">     3.084052801132202     </span>│\n",
       "└───────────────────────────┴───────────────────────────┘\n",
       "</pre>\n"
      ],
      "text/plain": [
       "┏━━━━━━━━━━━━━━━━━━━━━━━━━━━┳━━━━━━━━━━━━━━━━━━━━━━━━━━━┓\n",
       "┃\u001b[1m \u001b[0m\u001b[1m     Validate metric     \u001b[0m\u001b[1m \u001b[0m┃\u001b[1m \u001b[0m\u001b[1m      DataLoader 0       \u001b[0m\u001b[1m \u001b[0m┃\n",
       "┡━━━━━━━━━━━━━━━━━━━━━━━━━━━╇━━━━━━━━━━━━━━━━━━━━━━━━━━━┩\n",
       "│\u001b[36m \u001b[0m\u001b[36m         val_f1          \u001b[0m\u001b[36m \u001b[0m│\u001b[35m \u001b[0m\u001b[35m   0.3343839943408966    \u001b[0m\u001b[35m \u001b[0m│\n",
       "│\u001b[36m \u001b[0m\u001b[36m        val_loss         \u001b[0m\u001b[36m \u001b[0m│\u001b[35m \u001b[0m\u001b[35m    3.084052801132202    \u001b[0m\u001b[35m \u001b[0m│\n",
       "└───────────────────────────┴───────────────────────────┘\n"
      ]
     },
     "metadata": {},
     "output_type": "display_data"
    },
    {
     "name": "stdout",
     "output_type": "stream",
     "text": [
      "classification report:\n",
      "               precision    recall  f1-score   support\n",
      "\n",
      "        ADHD       0.35      0.44      0.39       108\n",
      "     HEALTHY       0.40      0.43      0.41       108\n",
      "         MDD       0.35      0.28      0.31       108\n",
      "         OCD       0.27      0.28      0.27       108\n",
      "         SMC       0.31      0.27      0.29       108\n",
      "\n",
      "    accuracy                           0.34       540\n",
      "   macro avg       0.34      0.34      0.33       540\n",
      "weighted avg       0.34      0.34      0.33       540\n",
      "\n",
      "\n",
      "Final evaluation #2 trial:\n"
     ]
    },
    {
     "data": {
      "text/html": [
       "<pre style=\"white-space:pre;overflow-x:auto;line-height:normal;font-family:Menlo,'DejaVu Sans Mono',consolas,'Courier New',monospace\">┏━━━━━━━━━━━━━━━━━━━━━━━━━━━┳━━━━━━━━━━━━━━━━━━━━━━━━━━━┓\n",
       "┃<span style=\"font-weight: bold\">      Validate metric      </span>┃<span style=\"font-weight: bold\">       DataLoader 0        </span>┃\n",
       "┡━━━━━━━━━━━━━━━━━━━━━━━━━━━╇━━━━━━━━━━━━━━━━━━━━━━━━━━━┩\n",
       "│<span style=\"color: #008080; text-decoration-color: #008080\">          val_f1           </span>│<span style=\"color: #800080; text-decoration-color: #800080\">    0.31898343563079834    </span>│\n",
       "│<span style=\"color: #008080; text-decoration-color: #008080\">         val_loss          </span>│<span style=\"color: #800080; text-decoration-color: #800080\">    3.2033932209014893     </span>│\n",
       "└───────────────────────────┴───────────────────────────┘\n",
       "</pre>\n"
      ],
      "text/plain": [
       "┏━━━━━━━━━━━━━━━━━━━━━━━━━━━┳━━━━━━━━━━━━━━━━━━━━━━━━━━━┓\n",
       "┃\u001b[1m \u001b[0m\u001b[1m     Validate metric     \u001b[0m\u001b[1m \u001b[0m┃\u001b[1m \u001b[0m\u001b[1m      DataLoader 0       \u001b[0m\u001b[1m \u001b[0m┃\n",
       "┡━━━━━━━━━━━━━━━━━━━━━━━━━━━╇━━━━━━━━━━━━━━━━━━━━━━━━━━━┩\n",
       "│\u001b[36m \u001b[0m\u001b[36m         val_f1          \u001b[0m\u001b[36m \u001b[0m│\u001b[35m \u001b[0m\u001b[35m   0.31898343563079834   \u001b[0m\u001b[35m \u001b[0m│\n",
       "│\u001b[36m \u001b[0m\u001b[36m        val_loss         \u001b[0m\u001b[36m \u001b[0m│\u001b[35m \u001b[0m\u001b[35m   3.2033932209014893    \u001b[0m\u001b[35m \u001b[0m│\n",
       "└───────────────────────────┴───────────────────────────┘\n"
      ]
     },
     "metadata": {},
     "output_type": "display_data"
    },
    {
     "name": "stdout",
     "output_type": "stream",
     "text": [
      "classification report:\n",
      "               precision    recall  f1-score   support\n",
      "\n",
      "        ADHD       0.35      0.32      0.33       108\n",
      "     HEALTHY       0.33      0.38      0.35       108\n",
      "         MDD       0.38      0.35      0.37       108\n",
      "         OCD       0.27      0.33      0.30       108\n",
      "         SMC       0.28      0.21      0.24       108\n",
      "\n",
      "    accuracy                           0.32       540\n",
      "   macro avg       0.32      0.32      0.32       540\n",
      "weighted avg       0.32      0.32      0.32       540\n",
      "\n",
      "\n",
      "Final evaluation #3 trial:\n"
     ]
    },
    {
     "data": {
      "text/html": [
       "<pre style=\"white-space:pre;overflow-x:auto;line-height:normal;font-family:Menlo,'DejaVu Sans Mono',consolas,'Courier New',monospace\">┏━━━━━━━━━━━━━━━━━━━━━━━━━━━┳━━━━━━━━━━━━━━━━━━━━━━━━━━━┓\n",
       "┃<span style=\"font-weight: bold\">      Validate metric      </span>┃<span style=\"font-weight: bold\">       DataLoader 0        </span>┃\n",
       "┡━━━━━━━━━━━━━━━━━━━━━━━━━━━╇━━━━━━━━━━━━━━━━━━━━━━━━━━━┩\n",
       "│<span style=\"color: #008080; text-decoration-color: #008080\">          val_f1           </span>│<span style=\"color: #800080; text-decoration-color: #800080\">     0.327131450176239     </span>│\n",
       "│<span style=\"color: #008080; text-decoration-color: #008080\">         val_loss          </span>│<span style=\"color: #800080; text-decoration-color: #800080\">    6.1163201332092285     </span>│\n",
       "└───────────────────────────┴───────────────────────────┘\n",
       "</pre>\n"
      ],
      "text/plain": [
       "┏━━━━━━━━━━━━━━━━━━━━━━━━━━━┳━━━━━━━━━━━━━━━━━━━━━━━━━━━┓\n",
       "┃\u001b[1m \u001b[0m\u001b[1m     Validate metric     \u001b[0m\u001b[1m \u001b[0m┃\u001b[1m \u001b[0m\u001b[1m      DataLoader 0       \u001b[0m\u001b[1m \u001b[0m┃\n",
       "┡━━━━━━━━━━━━━━━━━━━━━━━━━━━╇━━━━━━━━━━━━━━━━━━━━━━━━━━━┩\n",
       "│\u001b[36m \u001b[0m\u001b[36m         val_f1          \u001b[0m\u001b[36m \u001b[0m│\u001b[35m \u001b[0m\u001b[35m    0.327131450176239    \u001b[0m\u001b[35m \u001b[0m│\n",
       "│\u001b[36m \u001b[0m\u001b[36m        val_loss         \u001b[0m\u001b[36m \u001b[0m│\u001b[35m \u001b[0m\u001b[35m   6.1163201332092285    \u001b[0m\u001b[35m \u001b[0m│\n",
       "└───────────────────────────┴───────────────────────────┘\n"
      ]
     },
     "metadata": {},
     "output_type": "display_data"
    },
    {
     "name": "stdout",
     "output_type": "stream",
     "text": [
      "classification report:\n",
      "               precision    recall  f1-score   support\n",
      "\n",
      "        ADHD       0.35      0.42      0.38       108\n",
      "     HEALTHY       0.34      0.42      0.38       108\n",
      "         MDD       0.32      0.32      0.32       108\n",
      "         OCD       0.28      0.21      0.24       108\n",
      "         SMC       0.35      0.29      0.32       108\n",
      "\n",
      "    accuracy                           0.33       540\n",
      "   macro avg       0.33      0.33      0.33       540\n",
      "weighted avg       0.33      0.33      0.33       540\n",
      "\n",
      "Mean f1-score 3 best trials: 0.3268\n",
      "STD f1-score 3 best trials: 0.0063\n"
     ]
    },
    {
     "data": {
      "image/png": "[encoded data removed]",
      "text/plain": [
       "<Figure size 2400x1600 with 3 Axes>"
      ]
     },
     "metadata": {},
     "output_type": "display_data"
    }
   ],
   "source": [
    "from lightning.pytorch.tuner import Tuner\n",
    "from lightning.pytorch import Trainer, seed_everything\n",
    "from lightning.pytorch.callbacks import ModelCheckpoint, TQDMProgressBar, RichProgressBar, ModelSummary\n",
    "from lightning.pytorch.callbacks.early_stopping import EarlyStopping\n",
    "import logging\n",
    "import warnings\n",
    "warnings.filterwarnings(\"ignore\", \".*Consider increasing the value of the `num_workers` argument*\")\n",
    "warnings.filterwarnings(\"ignore\", \"Trying to infer the `batch_size` from an ambiguous collection.*\")\n",
    "torch.set_float32_matmul_precision('high')\n",
    "logging.getLogger(\"lightning.pytorch.utilities.rank_zero\").setLevel(logging.WARNING)\n",
    "logging.getLogger(\"lightning.pytorch.accelerators.cuda\").setLevel(logging.WARNING)\n",
    "\n",
    "# create subplots for confusion matrices\n",
    "fig, ax = plt.subplots(1, 3, figsize=(24, 16))\n",
    "\n",
    "# list for storing f1-scores:\n",
    "f1_scores = []\n",
    "\n",
    "# iterate over the 3 best trials during tuning\n",
    "for num, trial in enumerate(df_trials_w_edge_attrs.iterrows()):\n",
    "    # retrieve the hyperparameters\n",
    "    learning_rate = trial[1]['params_learning_rate']\n",
    "    optimizer_name = trial[1]['params_optimizer']\n",
    "    fc_layers = trial[1]['params_fc_layers']\n",
    "    dropout = trial[1]['params_dropout']\n",
    "    batch_size = trial[1]['params_batch_size']\n",
    "    n_epochs = batch_size * 4\n",
    "    # use best parameters from optuna\n",
    "    model = graphLambda_wo_edge_attr(learning_rate=learning_rate, optimizer_name=optimizer_name, fc_layers=fc_layers, dropout=dropout)\n",
    "\n",
    "    # Define the data loaders\n",
    "    train_loader = DataLoader(X_train, batch_size=batch_size, shuffle=True,\n",
    "                                drop_last=True) # , num_workers=0, persistent_workers=True\n",
    "    val_loader = DataLoader(X_val, batch_size=len(X_val), shuffle=False,\n",
    "                                drop_last=True) # , num_workers=0, persistent_workers=True\n",
    "\n",
    "\n",
    "    checkpoint_callback = ModelCheckpoint(monitor='val_f1',\n",
    "                                        mode='max',\n",
    "                                        save_top_k=5,\n",
    "                                        filename='{epoch}-{train_loss:.2f}-{train_f1:.2f}-{val_loss:.2f}-{val_f1:.2f}',\n",
    "                                        )\n",
    "\n",
    "\n",
    "    trainer = Trainer(callbacks=[checkpoint_callback, ModelSummary(max_depth=0)],\n",
    "                    accelerator='gpu',\n",
    "                    max_epochs=n_epochs,\n",
    "                    enable_progress_bar=False,\n",
    "                    check_val_every_n_epoch=10,\n",
    "                    log_every_n_steps=10,\n",
    "                    deterministic=False,\n",
    "                    )\n",
    "\n",
    "    trainer.fit(model, train_loader, val_loader)\n",
    "\n",
    "    print()\n",
    "    print(f'Final evaluation #{num+1} trial:')\n",
    "    # get evaluation of best model checkpoint\n",
    "    trainer.validate(model, val_loader, ckpt_path='best')\n",
    "\n",
    "    # compute confusion matrix and classification report with sklearn of best model checkpoint\n",
    "    from sklearn.metrics import f1_score, classification_report, confusion_matrix, ConfusionMatrixDisplay\n",
    "    y_pred = trainer.predict(model, val_loader, ckpt_path='best')\n",
    "    y_pred = np.concatenate(y_pred).flatten()\n",
    "    y = Y_val\n",
    "\n",
    "    class_labels = le.inverse_transform(sorted(np.unique(y)))\n",
    "    print('classification report:\\n', classification_report(y, y_pred, target_names=class_labels))\n",
    "    f1_scores.append(f1_score(y, y_pred, average=\"macro\"))\n",
    "\n",
    "    # plot confusion matrix\n",
    "    conf_matrix = confusion_matrix(y, y_pred)\n",
    "    ConfusionMatrixDisplay(conf_matrix, display_labels = class_labels).plot(cmap = 'Blues', values_format = 'd', colorbar=False, ax=ax[num])\n",
    "    ax[num].set_title(f'Confusion matrix {num+1}, f1: {f1_score(y, y_pred, average=\"macro\"):.4f}')\n",
    "print(f'Mean f1-score 3 best trials: {np.mean(f1_scores):.4f}')\n",
    "print(f'STD f1-score 3 best trials: {np.std(f1_scores):.4f}')"
   ]
  },
  {
   "cell_type": "markdown",
   "metadata": {},
   "source": [
    "# 2. EO feature set"
   ]
  },
  {
   "cell_type": "code",
   "execution_count": 23,
   "metadata": {
    "execution": {
     "iopub.execute_input": "2024-06-19T12:44:37.816092Z",
     "iopub.status.busy": "2024-06-19T12:44:37.815731Z",
     "iopub.status.idle": "2024-06-19T12:44:37.874098Z",
     "shell.execute_reply": "2024-06-19T12:44:37.873205Z"
    }
   },
   "outputs": [
    {
     "name": "stdout",
     "output_type": "stream",
     "text": [
      "len(eo_graph_dataset) = 2700\n",
      "len(baseline_rest_idxs) = 2160, len(baseline_val_idxs) = 540, total: 2700\n",
      "len(X_traintest) = 2160, len(X_val) = 540\n",
      "len(train_idxs) = 1716, len(test_idxs) = 444, total: 2160\n"
     ]
    }
   ],
   "source": [
    "from sklearn.model_selection import StratifiedGroupKFold\n",
    "\n",
    "baseline_rest_idxs = data_split_indices['EO'][0]\n",
    "baseline_val_idxs = data_split_indices['EO'][1]\n",
    "\n",
    "# first splitting validation data using the first split from the baseline RF model\n",
    "groups = [elem for elem in subjects_eo_ids for i in range(12)] # times 12 for each epoch\n",
    "\n",
    "print(f'{len(eo_graph_dataset) = }')\n",
    "print(f'{len(baseline_rest_idxs) = }, {len(baseline_val_idxs) = }, total: {len(baseline_rest_idxs)+len(baseline_val_idxs)}')\n",
    "\n",
    "X_traintest = [eo_graph_dataset[i] for i in baseline_rest_idxs] \n",
    "X_val = [eo_graph_dataset[i] for i in baseline_val_idxs]\n",
    "Y_traintest =[eo_y_list[i] for i in baseline_rest_idxs]\n",
    "Y_val = [eo_y_list[i] for i in baseline_val_idxs]\n",
    "groups_traintest = [groups[i] for i in baseline_rest_idxs]\n",
    "groups_val = [groups[i] for i in baseline_val_idxs]\n",
    "\n",
    "# now splitting the test and training data with seperate StratifiedGroupKFold\n",
    "desired_test_ratio = 0.20\n",
    "n_splits = int(1 / desired_test_ratio) # for some reason (?), n_splits also determines the proportion between train & test indices\n",
    "sgkf = StratifiedGroupKFold(n_splits=n_splits, shuffle=False)  # should shuffle be true?\n",
    "\n",
    "train_idxs, test_idxs = sgkf.split(X_traintest, Y_traintest, groups_traintest).__next__() # just take the first split\n",
    "print(f'{len(X_traintest) = }, {len(X_val) = }')\n",
    "print(f'{len(train_idxs) = }, {len(test_idxs) = }, total: {len(train_idxs)+len(test_idxs)}')\n",
    "\n",
    "X_train = [X_traintest[i] for i in train_idxs] # X also includes y values, because they are stored in the Data object\n",
    "X_test = [X_traintest[i] for i in test_idxs]\n",
    "Y_train =[Y_traintest[i] for i in train_idxs]\n",
    "Y_test = [Y_traintest[i] for i in test_idxs]"
   ]
  },
  {
   "cell_type": "code",
   "execution_count": 24,
   "metadata": {
    "execution": {
     "iopub.execute_input": "2024-06-19T12:44:37.877045Z",
     "iopub.status.busy": "2024-06-19T12:44:37.876718Z",
     "iopub.status.idle": "2024-06-19T12:44:38.409545Z",
     "shell.execute_reply": "2024-06-19T12:44:38.408995Z"
    }
   },
   "outputs": [
    {
     "data": {
      "image/png": "[encoded data removed]",
      "text/plain": [
       "<Figure size 1200x600 with 2 Axes>"
      ]
     },
     "metadata": {},
     "output_type": "display_data"
    }
   ],
   "source": [
    "# standardize statistical node features\n",
    "from sklearn.preprocessing import StandardScaler\n",
    "\n",
    "# Concatenate all x values before scaling for the first feature, as a sanity check for standardization\n",
    "x_before = np.concatenate([data.x.numpy()[:, 0] for data in X_train + X_val + X_test])\n",
    "\n",
    "scaler = StandardScaler()\n",
    "scaler.fit(np.vstack([data.x.numpy() for data in X_train + X_val])) # fit on training and validation data\n",
    "\n",
    "\n",
    "# Transform the x values of the data in X_train\n",
    "for data in X_train:\n",
    "    data.x = torch.from_numpy(scaler.transform(data.x.numpy()))\n",
    "\n",
    "# Transform the x values of the data in X_val\n",
    "for data in X_val:\n",
    "    data.x = torch.from_numpy(scaler.transform(data.x.numpy()))\n",
    "\n",
    "# Transform the x values of the data in X_test\n",
    "for data in X_test:\n",
    "    data.x = torch.from_numpy(scaler.transform(data.x.numpy()))\n",
    "\n",
    "# Concatenate all x values after scaling for the first feature, as a sanity check for standardization\n",
    "x_after = np.concatenate([data.x.numpy()[:, 0] for data in X_train + X_val + X_test])\n",
    "\n",
    "# Plot the distribution of the first x feature before and after scaling as a sanity check\n",
    "plt.figure(figsize=(12, 6))\n",
    "\n",
    "plt.subplot(1, 2, 1)\n",
    "plt.hist(x_before, bins=30, color='b', alpha=0.5)\n",
    "plt.title('Before Scaling')\n",
    "\n",
    "plt.subplot(1, 2, 2)\n",
    "plt.hist(x_after, bins=30, color='r', alpha=0.5)\n",
    "plt.title('After Scaling')\n",
    "\n",
    "plt.show()"
   ]
  },
  {
   "cell_type": "markdown",
   "metadata": {},
   "source": [
    "### Model: standard GCN"
   ]
  },
  {
   "cell_type": "code",
   "execution_count": 25,
   "metadata": {
    "execution": {
     "iopub.execute_input": "2024-06-19T12:44:38.412403Z",
     "iopub.status.busy": "2024-06-19T12:44:38.412079Z",
     "iopub.status.idle": "2024-06-19T12:44:38.424481Z",
     "shell.execute_reply": "2024-06-19T12:44:38.423447Z"
    }
   },
   "outputs": [
    {
     "data": {
      "text/html": [
       "<div>\n",
       "<style scoped>\n",
       "    .dataframe tbody tr th:only-of-type {\n",
       "        vertical-align: middle;\n",
       "    }\n",
       "\n",
       "    .dataframe tbody tr th {\n",
       "        vertical-align: top;\n",
       "    }\n",
       "\n",
       "    .dataframe thead th {\n",
       "        text-align: right;\n",
       "    }\n",
       "</style>\n",
       "<table border=\"1\" class=\"dataframe\">\n",
       "  <thead>\n",
       "    <tr style=\"text-align: right;\">\n",
       "      <th></th>\n",
       "      <th>number</th>\n",
       "      <th>value</th>\n",
       "      <th>datetime_start</th>\n",
       "      <th>datetime_complete</th>\n",
       "      <th>duration</th>\n",
       "      <th>params_batch_size</th>\n",
       "      <th>params_dropout</th>\n",
       "      <th>params_learning_rate</th>\n",
       "      <th>params_optimizer</th>\n",
       "      <th>state</th>\n",
       "    </tr>\n",
       "  </thead>\n",
       "  <tbody>\n",
       "    <tr>\n",
       "      <th>13</th>\n",
       "      <td>13</td>\n",
       "      <td>0.407611</td>\n",
       "      <td>2024-06-07 13:28:28.321332</td>\n",
       "      <td>2024-06-07 13:31:41.457425</td>\n",
       "      <td>0 days 00:03:13.136093</td>\n",
       "      <td>680</td>\n",
       "      <td>0.792274</td>\n",
       "      <td>0.000011</td>\n",
       "      <td>RMSprop</td>\n",
       "      <td>COMPLETE</td>\n",
       "    </tr>\n",
       "    <tr>\n",
       "      <th>3</th>\n",
       "      <td>3</td>\n",
       "      <td>0.343647</td>\n",
       "      <td>2024-06-07 13:02:54.523147</td>\n",
       "      <td>2024-06-07 13:07:35.532464</td>\n",
       "      <td>0 days 00:04:41.009317</td>\n",
       "      <td>850</td>\n",
       "      <td>0.598641</td>\n",
       "      <td>0.002912</td>\n",
       "      <td>SGD</td>\n",
       "      <td>COMPLETE</td>\n",
       "    </tr>\n",
       "    <tr>\n",
       "      <th>87</th>\n",
       "      <td>87</td>\n",
       "      <td>0.333333</td>\n",
       "      <td>2024-06-07 16:57:54.291928</td>\n",
       "      <td>2024-06-07 17:02:37.599671</td>\n",
       "      <td>0 days 00:04:43.307743</td>\n",
       "      <td>850</td>\n",
       "      <td>0.203535</td>\n",
       "      <td>0.086563</td>\n",
       "      <td>RMSprop</td>\n",
       "      <td>COMPLETE</td>\n",
       "    </tr>\n",
       "  </tbody>\n",
       "</table>\n",
       "</div>"
      ],
      "text/plain": [
       "    number     value             datetime_start          datetime_complete  \\\n",
       "13      13  0.407611 2024-06-07 13:28:28.321332 2024-06-07 13:31:41.457425   \n",
       "3        3  0.343647 2024-06-07 13:02:54.523147 2024-06-07 13:07:35.532464   \n",
       "87      87  0.333333 2024-06-07 16:57:54.291928 2024-06-07 17:02:37.599671   \n",
       "\n",
       "                 duration  params_batch_size  params_dropout  \\\n",
       "13 0 days 00:03:13.136093                680        0.792274   \n",
       "3  0 days 00:04:41.009317                850        0.598641   \n",
       "87 0 days 00:04:43.307743                850        0.203535   \n",
       "\n",
       "    params_learning_rate params_optimizer     state  \n",
       "13              0.000011          RMSprop  COMPLETE  \n",
       "3               0.002912              SGD  COMPLETE  \n",
       "87              0.086563          RMSprop  COMPLETE  "
      ]
     },
     "execution_count": 25,
     "metadata": {},
     "output_type": "execute_result"
    }
   ],
   "source": [
    "# import best trials from tuning\n",
    "df_trials_wo_edge_attrs = pd.read_pickle('eo_results_stand_GCN_trials.pkl')\n",
    "df_trials_wo_edge_attrs = df_trials_wo_edge_attrs.sort_values('value', ascending=False).head(3)\n",
    "df_trials_wo_edge_attrs"
   ]
  },
  {
   "cell_type": "code",
   "execution_count": 26,
   "metadata": {
    "execution": {
     "iopub.execute_input": "2024-06-19T12:44:38.427067Z",
     "iopub.status.busy": "2024-06-19T12:44:38.426753Z",
     "iopub.status.idle": "2024-06-19T12:53:46.382300Z",
     "shell.execute_reply": "2024-06-19T12:53:46.381712Z"
    }
   },
   "outputs": [
    {
     "name": "stderr",
     "output_type": "stream",
     "text": [
      "/home/tsmolders/.conda/envs/py3117/lib/python3.11/site-packages/lightning/pytorch/loops/fit_loop.py:298: The number of training batches (2) is smaller than the logging interval Trainer(log_every_n_steps=10). Set a lower value for log_every_n_steps if you want to see logs for the training epoch.\n"
     ]
    },
    {
     "name": "stdout",
     "output_type": "stream",
     "text": [
      "\n",
      "Final evaluation #1 trial:\n"
     ]
    },
    {
     "data": {
      "text/html": [
       "<pre style=\"white-space:pre;overflow-x:auto;line-height:normal;font-family:Menlo,'DejaVu Sans Mono',consolas,'Courier New',monospace\">┏━━━━━━━━━━━━━━━━━━━━━━━━━━━┳━━━━━━━━━━━━━━━━━━━━━━━━━━━┓\n",
       "┃<span style=\"font-weight: bold\">      Validate metric      </span>┃<span style=\"font-weight: bold\">       DataLoader 0        </span>┃\n",
       "┡━━━━━━━━━━━━━━━━━━━━━━━━━━━╇━━━━━━━━━━━━━━━━━━━━━━━━━━━┩\n",
       "│<span style=\"color: #008080; text-decoration-color: #008080\">          val_f1           </span>│<span style=\"color: #800080; text-decoration-color: #800080\">    0.2548184096813202     </span>│\n",
       "│<span style=\"color: #008080; text-decoration-color: #008080\">         val_loss          </span>│<span style=\"color: #800080; text-decoration-color: #800080\">    1.5685335397720337     </span>│\n",
       "└───────────────────────────┴───────────────────────────┘\n",
       "</pre>\n"
      ],
      "text/plain": [
       "┏━━━━━━━━━━━━━━━━━━━━━━━━━━━┳━━━━━━━━━━━━━━━━━━━━━━━━━━━┓\n",
       "┃\u001b[1m \u001b[0m\u001b[1m     Validate metric     \u001b[0m\u001b[1m \u001b[0m┃\u001b[1m \u001b[0m\u001b[1m      DataLoader 0       \u001b[0m\u001b[1m \u001b[0m┃\n",
       "┡━━━━━━━━━━━━━━━━━━━━━━━━━━━╇━━━━━━━━━━━━━━━━━━━━━━━━━━━┩\n",
       "│\u001b[36m \u001b[0m\u001b[36m         val_f1          \u001b[0m\u001b[36m \u001b[0m│\u001b[35m \u001b[0m\u001b[35m   0.2548184096813202    \u001b[0m\u001b[35m \u001b[0m│\n",
       "│\u001b[36m \u001b[0m\u001b[36m        val_loss         \u001b[0m\u001b[36m \u001b[0m│\u001b[35m \u001b[0m\u001b[35m   1.5685335397720337    \u001b[0m\u001b[35m \u001b[0m│\n",
       "└───────────────────────────┴───────────────────────────┘\n"
      ]
     },
     "metadata": {},
     "output_type": "display_data"
    },
    {
     "name": "stdout",
     "output_type": "stream",
     "text": [
      "classification report:\n",
      "               precision    recall  f1-score   support\n",
      "\n",
      "        ADHD       0.81      0.19      0.31       108\n",
      "     HEALTHY       0.26      0.94      0.40       108\n",
      "         MDD       0.34      0.22      0.27       108\n",
      "         OCD       0.46      0.11      0.18       108\n",
      "         SMC       0.37      0.06      0.11       108\n",
      "\n",
      "    accuracy                           0.31       540\n",
      "   macro avg       0.45      0.31      0.25       540\n",
      "weighted avg       0.45      0.31      0.25       540\n",
      "\n"
     ]
    },
    {
     "name": "stderr",
     "output_type": "stream",
     "text": [
      "/home/tsmolders/.conda/envs/py3117/lib/python3.11/site-packages/lightning/pytorch/loops/fit_loop.py:298: The number of training batches (2) is smaller than the logging interval Trainer(log_every_n_steps=10). Set a lower value for log_every_n_steps if you want to see logs for the training epoch.\n"
     ]
    },
    {
     "name": "stdout",
     "output_type": "stream",
     "text": [
      "\n",
      "Final evaluation #2 trial:\n"
     ]
    },
    {
     "data": {
      "text/html": [
       "<pre style=\"white-space:pre;overflow-x:auto;line-height:normal;font-family:Menlo,'DejaVu Sans Mono',consolas,'Courier New',monospace\">┏━━━━━━━━━━━━━━━━━━━━━━━━━━━┳━━━━━━━━━━━━━━━━━━━━━━━━━━━┓\n",
       "┃<span style=\"font-weight: bold\">      Validate metric      </span>┃<span style=\"font-weight: bold\">       DataLoader 0        </span>┃\n",
       "┡━━━━━━━━━━━━━━━━━━━━━━━━━━━╇━━━━━━━━━━━━━━━━━━━━━━━━━━━┩\n",
       "│<span style=\"color: #008080; text-decoration-color: #008080\">          val_f1           </span>│<span style=\"color: #800080; text-decoration-color: #800080\">    0.34305524826049805    </span>│\n",
       "│<span style=\"color: #008080; text-decoration-color: #008080\">         val_loss          </span>│<span style=\"color: #800080; text-decoration-color: #800080\">    1.5035349130630493     </span>│\n",
       "└───────────────────────────┴───────────────────────────┘\n",
       "</pre>\n"
      ],
      "text/plain": [
       "┏━━━━━━━━━━━━━━━━━━━━━━━━━━━┳━━━━━━━━━━━━━━━━━━━━━━━━━━━┓\n",
       "┃\u001b[1m \u001b[0m\u001b[1m     Validate metric     \u001b[0m\u001b[1m \u001b[0m┃\u001b[1m \u001b[0m\u001b[1m      DataLoader 0       \u001b[0m\u001b[1m \u001b[0m┃\n",
       "┡━━━━━━━━━━━━━━━━━━━━━━━━━━━╇━━━━━━━━━━━━━━━━━━━━━━━━━━━┩\n",
       "│\u001b[36m \u001b[0m\u001b[36m         val_f1          \u001b[0m\u001b[36m \u001b[0m│\u001b[35m \u001b[0m\u001b[35m   0.34305524826049805   \u001b[0m\u001b[35m \u001b[0m│\n",
       "│\u001b[36m \u001b[0m\u001b[36m        val_loss         \u001b[0m\u001b[36m \u001b[0m│\u001b[35m \u001b[0m\u001b[35m   1.5035349130630493    \u001b[0m\u001b[35m \u001b[0m│\n",
       "└───────────────────────────┴───────────────────────────┘\n"
      ]
     },
     "metadata": {},
     "output_type": "display_data"
    },
    {
     "name": "stdout",
     "output_type": "stream",
     "text": [
      "classification report:\n",
      "               precision    recall  f1-score   support\n",
      "\n",
      "        ADHD       0.56      0.45      0.50       108\n",
      "     HEALTHY       0.39      0.44      0.41       108\n",
      "         MDD       0.24      0.11      0.15       108\n",
      "         OCD       0.31      0.40      0.35       108\n",
      "         SMC       0.26      0.34      0.30       108\n",
      "\n",
      "    accuracy                           0.35       540\n",
      "   macro avg       0.35      0.35      0.34       540\n",
      "weighted avg       0.35      0.35      0.34       540\n",
      "\n"
     ]
    },
    {
     "name": "stderr",
     "output_type": "stream",
     "text": [
      "/home/tsmolders/.conda/envs/py3117/lib/python3.11/site-packages/lightning/pytorch/loops/fit_loop.py:298: The number of training batches (2) is smaller than the logging interval Trainer(log_every_n_steps=10). Set a lower value for log_every_n_steps if you want to see logs for the training epoch.\n"
     ]
    },
    {
     "name": "stdout",
     "output_type": "stream",
     "text": [
      "\n",
      "Final evaluation #3 trial:\n"
     ]
    },
    {
     "data": {
      "text/html": [
       "<pre style=\"white-space:pre;overflow-x:auto;line-height:normal;font-family:Menlo,'DejaVu Sans Mono',consolas,'Courier New',monospace\">┏━━━━━━━━━━━━━━━━━━━━━━━━━━━┳━━━━━━━━━━━━━━━━━━━━━━━━━━━┓\n",
       "┃<span style=\"font-weight: bold\">      Validate metric      </span>┃<span style=\"font-weight: bold\">       DataLoader 0        </span>┃\n",
       "┡━━━━━━━━━━━━━━━━━━━━━━━━━━━╇━━━━━━━━━━━━━━━━━━━━━━━━━━━┩\n",
       "│<span style=\"color: #008080; text-decoration-color: #008080\">          val_f1           </span>│<span style=\"color: #800080; text-decoration-color: #800080\">    0.06676970422267914    </span>│\n",
       "│<span style=\"color: #008080; text-decoration-color: #008080\">         val_loss          </span>│<span style=\"color: #800080; text-decoration-color: #800080\">    1.7059746980667114     </span>│\n",
       "└───────────────────────────┴───────────────────────────┘\n",
       "</pre>\n"
      ],
      "text/plain": [
       "┏━━━━━━━━━━━━━━━━━━━━━━━━━━━┳━━━━━━━━━━━━━━━━━━━━━━━━━━━┓\n",
       "┃\u001b[1m \u001b[0m\u001b[1m     Validate metric     \u001b[0m\u001b[1m \u001b[0m┃\u001b[1m \u001b[0m\u001b[1m      DataLoader 0       \u001b[0m\u001b[1m \u001b[0m┃\n",
       "┡━━━━━━━━━━━━━━━━━━━━━━━━━━━╇━━━━━━━━━━━━━━━━━━━━━━━━━━━┩\n",
       "│\u001b[36m \u001b[0m\u001b[36m         val_f1          \u001b[0m\u001b[36m \u001b[0m│\u001b[35m \u001b[0m\u001b[35m   0.06676970422267914   \u001b[0m\u001b[35m \u001b[0m│\n",
       "│\u001b[36m \u001b[0m\u001b[36m        val_loss         \u001b[0m\u001b[36m \u001b[0m│\u001b[35m \u001b[0m\u001b[35m   1.7059746980667114    \u001b[0m\u001b[35m \u001b[0m│\n",
       "└───────────────────────────┴───────────────────────────┘\n"
      ]
     },
     "metadata": {},
     "output_type": "display_data"
    },
    {
     "name": "stdout",
     "output_type": "stream",
     "text": [
      "classification report:\n",
      "               precision    recall  f1-score   support\n",
      "\n",
      "        ADHD       0.00      0.00      0.00       108\n",
      "     HEALTHY       0.00      0.00      0.00       108\n",
      "         MDD       0.00      0.00      0.00       108\n",
      "         OCD       0.20      1.00      0.33       108\n",
      "         SMC       0.00      0.00      0.00       108\n",
      "\n",
      "    accuracy                           0.20       540\n",
      "   macro avg       0.04      0.20      0.07       540\n",
      "weighted avg       0.04      0.20      0.07       540\n",
      "\n",
      "Mean f1-score 3 best trials: 0.2215\n",
      "STD f1-score 3 best trials: 0.1152\n"
     ]
    },
    {
     "name": "stderr",
     "output_type": "stream",
     "text": [
      "/home/tsmolders/.conda/envs/py3117/lib/python3.11/site-packages/sklearn/metrics/_classification.py:1497: UndefinedMetricWarning: Precision is ill-defined and being set to 0.0 in labels with no predicted samples. Use `zero_division` parameter to control this behavior.\n",
      "  _warn_prf(average, modifier, f\"{metric.capitalize()} is\", len(result))\n",
      "/home/tsmolders/.conda/envs/py3117/lib/python3.11/site-packages/sklearn/metrics/_classification.py:1497: UndefinedMetricWarning: Precision is ill-defined and being set to 0.0 in labels with no predicted samples. Use `zero_division` parameter to control this behavior.\n",
      "  _warn_prf(average, modifier, f\"{metric.capitalize()} is\", len(result))\n",
      "/home/tsmolders/.conda/envs/py3117/lib/python3.11/site-packages/sklearn/metrics/_classification.py:1497: UndefinedMetricWarning: Precision is ill-defined and being set to 0.0 in labels with no predicted samples. Use `zero_division` parameter to control this behavior.\n",
      "  _warn_prf(average, modifier, f\"{metric.capitalize()} is\", len(result))\n"
     ]
    },
    {
     "data": {
      "image/png": "[encoded data removed]",
      "text/plain": [
       "<Figure size 2400x1600 with 3 Axes>"
      ]
     },
     "metadata": {},
     "output_type": "display_data"
    }
   ],
   "source": [
    "from lightning.pytorch.tuner import Tuner\n",
    "from lightning.pytorch import Trainer\n",
    "from lightning.pytorch.callbacks import ModelCheckpoint, TQDMProgressBar, RichProgressBar, ModelSummary\n",
    "from lightning.pytorch.callbacks.early_stopping import EarlyStopping\n",
    "import logging\n",
    "import warnings\n",
    "warnings.filterwarnings(\"ignore\", \".*Consider increasing the value of the `num_workers` argument*\")\n",
    "warnings.filterwarnings(\"ignore\", \"Trying to infer the `batch_size` from an ambiguous collection.*\")\n",
    "torch.set_float32_matmul_precision('high')\n",
    "logging.getLogger(\"lightning.pytorch.utilities.rank_zero\").setLevel(logging.WARNING)\n",
    "logging.getLogger(\"lightning.pytorch.accelerators.cuda\").setLevel(logging.WARNING)\n",
    "\n",
    "# create subplots for confusion matrices\n",
    "fig, ax = plt.subplots(1, 3, figsize=(24, 16))\n",
    "\n",
    "# list for storing f1-scores:\n",
    "f1_scores = []\n",
    "\n",
    "# iterate over the 3 best trials during tuning\n",
    "for num, trial in enumerate(df_trials_wo_edge_attrs.iterrows()):\n",
    "    # retrieve the hyperparameters\n",
    "    learning_rate = trial[1]['params_learning_rate']\n",
    "    optimizer_name = trial[1]['params_optimizer']\n",
    "    dropout = trial[1]['params_dropout']\n",
    "    batch_size = trial[1]['params_batch_size']\n",
    "\n",
    "    # use best parameters from optuna\n",
    "    model = GCN(learning_rate=learning_rate, optimizer_name=optimizer_name, dropout=dropout)\n",
    "    n_epochs = batch_size * 4\n",
    "\n",
    "    # Define the data loaders\n",
    "    train_loader = DataLoader(X_train, batch_size=batch_size, shuffle=True,\n",
    "                                drop_last=True) # , num_workers=0, persistent_workers=True\n",
    "    val_loader = DataLoader(X_val, batch_size=len(X_val), shuffle=False,\n",
    "                                drop_last=True) # , num_workers=0, persistent_workers=True\n",
    "\n",
    "\n",
    "    checkpoint_callback = ModelCheckpoint(monitor='val_f1',\n",
    "                                        mode='max',\n",
    "                                        save_top_k=5,\n",
    "                                        filename='{epoch}-{train_loss:.2f}-{train_f1:.2f}-{val_loss:.2f}-{val_f1:.2f}',\n",
    "                                        )\n",
    "\n",
    "\n",
    "    trainer = Trainer(callbacks=[checkpoint_callback, ModelSummary(max_depth=0)],\n",
    "                    accelerator='gpu',\n",
    "                    max_epochs=n_epochs,\n",
    "                    enable_progress_bar=False,\n",
    "                    check_val_every_n_epoch=10,\n",
    "                    log_every_n_steps=10,\n",
    "                    deterministic=False,\n",
    "                    )\n",
    "\n",
    "    trainer.fit(model, train_loader, val_loader)\n",
    "\n",
    "    print()\n",
    "    print(f'Final evaluation #{num+1} trial:')\n",
    "    # get evaluation of best model checkpoint\n",
    "    trainer.validate(model, val_loader, ckpt_path='best')\n",
    "\n",
    "    # compute confusion matrix and classification report with sklearn of best model checkpoint\n",
    "    from sklearn.metrics import f1_score, classification_report, confusion_matrix, ConfusionMatrixDisplay\n",
    "    y_pred = trainer.predict(model, val_loader, ckpt_path='best')\n",
    "    y_pred = np.concatenate(y_pred).flatten()\n",
    "    y = Y_val\n",
    "\n",
    "    class_labels = le.inverse_transform(sorted(np.unique(y)))\n",
    "    print('classification report:\\n', classification_report(y, y_pred, target_names=class_labels))\n",
    "    f1_scores.append(f1_score(y, y_pred, average=\"macro\"))\n",
    "\n",
    "    # plot confusion matrix\n",
    "    conf_matrix = confusion_matrix(y, y_pred)\n",
    "    ConfusionMatrixDisplay(conf_matrix, display_labels = class_labels).plot(cmap = 'Blues', values_format = 'd', colorbar=False, ax=ax[num])\n",
    "    ax[num].set_title(f'Confusion matrix {num+1}, f1: {f1_score(y, y_pred, average=\"macro\"):.4f}')\n",
    "print(f'Mean f1-score 3 best trials: {np.mean(f1_scores):.4f}')\n",
    "print(f'STD f1-score 3 best trials: {np.std(f1_scores):.4f}')"
   ]
  },
  {
   "cell_type": "markdown",
   "metadata": {},
   "source": [
    "### Model: graphLambda without edge_attr"
   ]
  },
  {
   "cell_type": "code",
   "execution_count": 27,
   "metadata": {
    "execution": {
     "iopub.execute_input": "2024-06-19T12:53:46.385199Z",
     "iopub.status.busy": "2024-06-19T12:53:46.384991Z",
     "iopub.status.idle": "2024-06-19T12:53:46.395943Z",
     "shell.execute_reply": "2024-06-19T12:53:46.395384Z"
    }
   },
   "outputs": [
    {
     "data": {
      "text/html": [
       "<div>\n",
       "<style scoped>\n",
       "    .dataframe tbody tr th:only-of-type {\n",
       "        vertical-align: middle;\n",
       "    }\n",
       "\n",
       "    .dataframe tbody tr th {\n",
       "        vertical-align: top;\n",
       "    }\n",
       "\n",
       "    .dataframe thead th {\n",
       "        text-align: right;\n",
       "    }\n",
       "</style>\n",
       "<table border=\"1\" class=\"dataframe\">\n",
       "  <thead>\n",
       "    <tr style=\"text-align: right;\">\n",
       "      <th></th>\n",
       "      <th>number</th>\n",
       "      <th>value</th>\n",
       "      <th>datetime_start</th>\n",
       "      <th>datetime_complete</th>\n",
       "      <th>duration</th>\n",
       "      <th>params_batch_size</th>\n",
       "      <th>params_dropout</th>\n",
       "      <th>params_fc_layers</th>\n",
       "      <th>params_learning_rate</th>\n",
       "      <th>params_optimizer</th>\n",
       "      <th>state</th>\n",
       "    </tr>\n",
       "  </thead>\n",
       "  <tbody>\n",
       "    <tr>\n",
       "      <th>85</th>\n",
       "      <td>85</td>\n",
       "      <td>0.362506</td>\n",
       "      <td>2024-06-06 06:50:17.219571</td>\n",
       "      <td>2024-06-06 06:54:07.008220</td>\n",
       "      <td>0 days 00:03:49.788649</td>\n",
       "      <td>340</td>\n",
       "      <td>0.131173</td>\n",
       "      <td>6</td>\n",
       "      <td>0.002634</td>\n",
       "      <td>Adam</td>\n",
       "      <td>COMPLETE</td>\n",
       "    </tr>\n",
       "    <tr>\n",
       "      <th>95</th>\n",
       "      <td>95</td>\n",
       "      <td>0.358720</td>\n",
       "      <td>2024-06-06 07:17:48.624777</td>\n",
       "      <td>2024-06-06 07:21:35.749730</td>\n",
       "      <td>0 days 00:03:47.124953</td>\n",
       "      <td>340</td>\n",
       "      <td>0.189928</td>\n",
       "      <td>7</td>\n",
       "      <td>0.001894</td>\n",
       "      <td>Adam</td>\n",
       "      <td>COMPLETE</td>\n",
       "    </tr>\n",
       "    <tr>\n",
       "      <th>42</th>\n",
       "      <td>42</td>\n",
       "      <td>0.357592</td>\n",
       "      <td>2024-06-06 04:57:05.995083</td>\n",
       "      <td>2024-06-06 05:00:48.857044</td>\n",
       "      <td>0 days 00:03:42.861961</td>\n",
       "      <td>340</td>\n",
       "      <td>0.266905</td>\n",
       "      <td>4</td>\n",
       "      <td>0.000823</td>\n",
       "      <td>Adam</td>\n",
       "      <td>COMPLETE</td>\n",
       "    </tr>\n",
       "  </tbody>\n",
       "</table>\n",
       "</div>"
      ],
      "text/plain": [
       "    number     value             datetime_start          datetime_complete  \\\n",
       "85      85  0.362506 2024-06-06 06:50:17.219571 2024-06-06 06:54:07.008220   \n",
       "95      95  0.358720 2024-06-06 07:17:48.624777 2024-06-06 07:21:35.749730   \n",
       "42      42  0.357592 2024-06-06 04:57:05.995083 2024-06-06 05:00:48.857044   \n",
       "\n",
       "                 duration  params_batch_size  params_dropout  \\\n",
       "85 0 days 00:03:49.788649                340        0.131173   \n",
       "95 0 days 00:03:47.124953                340        0.189928   \n",
       "42 0 days 00:03:42.861961                340        0.266905   \n",
       "\n",
       "    params_fc_layers  params_learning_rate params_optimizer     state  \n",
       "85                 6              0.002634             Adam  COMPLETE  \n",
       "95                 7              0.001894             Adam  COMPLETE  \n",
       "42                 4              0.000823             Adam  COMPLETE  "
      ]
     },
     "execution_count": 27,
     "metadata": {},
     "output_type": "execute_result"
    }
   ],
   "source": [
    "# import best trials from tuning\n",
    "df_trials_wo_edge_attrs = pd.read_pickle('eo_results_wo_edge_attrs_trials.pkl')\n",
    "df_trials_wo_edge_attrs = df_trials_wo_edge_attrs.sort_values('value', ascending=False).head(3)\n",
    "df_trials_wo_edge_attrs"
   ]
  },
  {
   "cell_type": "code",
   "execution_count": 28,
   "metadata": {
    "execution": {
     "iopub.execute_input": "2024-06-19T12:53:46.398284Z",
     "iopub.status.busy": "2024-06-19T12:53:46.398066Z",
     "iopub.status.idle": "2024-06-19T13:02:53.588315Z",
     "shell.execute_reply": "2024-06-19T13:02:53.587627Z"
    }
   },
   "outputs": [
    {
     "name": "stderr",
     "output_type": "stream",
     "text": [
      "/home/tsmolders/.conda/envs/py3117/lib/python3.11/site-packages/lightning/pytorch/loops/fit_loop.py:298: The number of training batches (5) is smaller than the logging interval Trainer(log_every_n_steps=10). Set a lower value for log_every_n_steps if you want to see logs for the training epoch.\n"
     ]
    },
    {
     "name": "stdout",
     "output_type": "stream",
     "text": [
      "\n",
      "Final evaluation #1 trial:\n"
     ]
    },
    {
     "data": {
      "text/html": [
       "<pre style=\"white-space:pre;overflow-x:auto;line-height:normal;font-family:Menlo,'DejaVu Sans Mono',consolas,'Courier New',monospace\">┏━━━━━━━━━━━━━━━━━━━━━━━━━━━┳━━━━━━━━━━━━━━━━━━━━━━━━━━━┓\n",
       "┃<span style=\"font-weight: bold\">      Validate metric      </span>┃<span style=\"font-weight: bold\">       DataLoader 0        </span>┃\n",
       "┡━━━━━━━━━━━━━━━━━━━━━━━━━━━╇━━━━━━━━━━━━━━━━━━━━━━━━━━━┩\n",
       "│<span style=\"color: #008080; text-decoration-color: #008080\">          val_f1           </span>│<span style=\"color: #800080; text-decoration-color: #800080\">    0.1632305085659027     </span>│\n",
       "│<span style=\"color: #008080; text-decoration-color: #008080\">         val_loss          </span>│<span style=\"color: #800080; text-decoration-color: #800080\">     1.697524070739746     </span>│\n",
       "└───────────────────────────┴───────────────────────────┘\n",
       "</pre>\n"
      ],
      "text/plain": [
       "┏━━━━━━━━━━━━━━━━━━━━━━━━━━━┳━━━━━━━━━━━━━━━━━━━━━━━━━━━┓\n",
       "┃\u001b[1m \u001b[0m\u001b[1m     Validate metric     \u001b[0m\u001b[1m \u001b[0m┃\u001b[1m \u001b[0m\u001b[1m      DataLoader 0       \u001b[0m\u001b[1m \u001b[0m┃\n",
       "┡━━━━━━━━━━━━━━━━━━━━━━━━━━━╇━━━━━━━━━━━━━━━━━━━━━━━━━━━┩\n",
       "│\u001b[36m \u001b[0m\u001b[36m         val_f1          \u001b[0m\u001b[36m \u001b[0m│\u001b[35m \u001b[0m\u001b[35m   0.1632305085659027    \u001b[0m\u001b[35m \u001b[0m│\n",
       "│\u001b[36m \u001b[0m\u001b[36m        val_loss         \u001b[0m\u001b[36m \u001b[0m│\u001b[35m \u001b[0m\u001b[35m    1.697524070739746    \u001b[0m\u001b[35m \u001b[0m│\n",
       "└───────────────────────────┴───────────────────────────┘\n"
      ]
     },
     "metadata": {},
     "output_type": "display_data"
    },
    {
     "name": "stdout",
     "output_type": "stream",
     "text": [
      "classification report:\n",
      "               precision    recall  f1-score   support\n",
      "\n",
      "        ADHD       0.29      0.90      0.43       108\n",
      "     HEALTHY       0.00      0.00      0.00       108\n",
      "         MDD       0.00      0.00      0.00       108\n",
      "         OCD       0.00      0.00      0.00       108\n",
      "         SMC       0.29      0.55      0.38       108\n",
      "\n",
      "    accuracy                           0.29       540\n",
      "   macro avg       0.12      0.29      0.16       540\n",
      "weighted avg       0.12      0.29      0.16       540\n",
      "\n"
     ]
    },
    {
     "name": "stderr",
     "output_type": "stream",
     "text": [
      "/home/tsmolders/.conda/envs/py3117/lib/python3.11/site-packages/sklearn/metrics/_classification.py:1497: UndefinedMetricWarning: Precision is ill-defined and being set to 0.0 in labels with no predicted samples. Use `zero_division` parameter to control this behavior.\n",
      "  _warn_prf(average, modifier, f\"{metric.capitalize()} is\", len(result))\n",
      "/home/tsmolders/.conda/envs/py3117/lib/python3.11/site-packages/sklearn/metrics/_classification.py:1497: UndefinedMetricWarning: Precision is ill-defined and being set to 0.0 in labels with no predicted samples. Use `zero_division` parameter to control this behavior.\n",
      "  _warn_prf(average, modifier, f\"{metric.capitalize()} is\", len(result))\n",
      "/home/tsmolders/.conda/envs/py3117/lib/python3.11/site-packages/sklearn/metrics/_classification.py:1497: UndefinedMetricWarning: Precision is ill-defined and being set to 0.0 in labels with no predicted samples. Use `zero_division` parameter to control this behavior.\n",
      "  _warn_prf(average, modifier, f\"{metric.capitalize()} is\", len(result))\n",
      "/home/tsmolders/.conda/envs/py3117/lib/python3.11/site-packages/lightning/pytorch/loops/fit_loop.py:298: The number of training batches (5) is smaller than the logging interval Trainer(log_every_n_steps=10). Set a lower value for log_every_n_steps if you want to see logs for the training epoch.\n"
     ]
    },
    {
     "name": "stdout",
     "output_type": "stream",
     "text": [
      "\n",
      "Final evaluation #2 trial:\n"
     ]
    },
    {
     "data": {
      "text/html": [
       "<pre style=\"white-space:pre;overflow-x:auto;line-height:normal;font-family:Menlo,'DejaVu Sans Mono',consolas,'Courier New',monospace\">┏━━━━━━━━━━━━━━━━━━━━━━━━━━━┳━━━━━━━━━━━━━━━━━━━━━━━━━━━┓\n",
       "┃<span style=\"font-weight: bold\">      Validate metric      </span>┃<span style=\"font-weight: bold\">       DataLoader 0        </span>┃\n",
       "┡━━━━━━━━━━━━━━━━━━━━━━━━━━━╇━━━━━━━━━━━━━━━━━━━━━━━━━━━┩\n",
       "│<span style=\"color: #008080; text-decoration-color: #008080\">          val_f1           </span>│<span style=\"color: #800080; text-decoration-color: #800080\">    0.37629514932632446    </span>│\n",
       "│<span style=\"color: #008080; text-decoration-color: #008080\">         val_loss          </span>│<span style=\"color: #800080; text-decoration-color: #800080\">     7.307600498199463     </span>│\n",
       "└───────────────────────────┴───────────────────────────┘\n",
       "</pre>\n"
      ],
      "text/plain": [
       "┏━━━━━━━━━━━━━━━━━━━━━━━━━━━┳━━━━━━━━━━━━━━━━━━━━━━━━━━━┓\n",
       "┃\u001b[1m \u001b[0m\u001b[1m     Validate metric     \u001b[0m\u001b[1m \u001b[0m┃\u001b[1m \u001b[0m\u001b[1m      DataLoader 0       \u001b[0m\u001b[1m \u001b[0m┃\n",
       "┡━━━━━━━━━━━━━━━━━━━━━━━━━━━╇━━━━━━━━━━━━━━━━━━━━━━━━━━━┩\n",
       "│\u001b[36m \u001b[0m\u001b[36m         val_f1          \u001b[0m\u001b[36m \u001b[0m│\u001b[35m \u001b[0m\u001b[35m   0.37629514932632446   \u001b[0m\u001b[35m \u001b[0m│\n",
       "│\u001b[36m \u001b[0m\u001b[36m        val_loss         \u001b[0m\u001b[36m \u001b[0m│\u001b[35m \u001b[0m\u001b[35m    7.307600498199463    \u001b[0m\u001b[35m \u001b[0m│\n",
       "└───────────────────────────┴───────────────────────────┘\n"
      ]
     },
     "metadata": {},
     "output_type": "display_data"
    },
    {
     "name": "stdout",
     "output_type": "stream",
     "text": [
      "classification report:\n",
      "               precision    recall  f1-score   support\n",
      "\n",
      "        ADHD       0.56      0.41      0.47       108\n",
      "     HEALTHY       0.43      0.50      0.46       108\n",
      "         MDD       0.26      0.32      0.29       108\n",
      "         OCD       0.33      0.28      0.30       108\n",
      "         SMC       0.34      0.36      0.35       108\n",
      "\n",
      "    accuracy                           0.37       540\n",
      "   macro avg       0.39      0.37      0.38       540\n",
      "weighted avg       0.39      0.37      0.38       540\n",
      "\n"
     ]
    },
    {
     "name": "stderr",
     "output_type": "stream",
     "text": [
      "/home/tsmolders/.conda/envs/py3117/lib/python3.11/site-packages/lightning/pytorch/loops/fit_loop.py:298: The number of training batches (5) is smaller than the logging interval Trainer(log_every_n_steps=10). Set a lower value for log_every_n_steps if you want to see logs for the training epoch.\n"
     ]
    },
    {
     "name": "stdout",
     "output_type": "stream",
     "text": [
      "\n",
      "Final evaluation #3 trial:\n"
     ]
    },
    {
     "data": {
      "text/html": [
       "<pre style=\"white-space:pre;overflow-x:auto;line-height:normal;font-family:Menlo,'DejaVu Sans Mono',consolas,'Courier New',monospace\">┏━━━━━━━━━━━━━━━━━━━━━━━━━━━┳━━━━━━━━━━━━━━━━━━━━━━━━━━━┓\n",
       "┃<span style=\"font-weight: bold\">      Validate metric      </span>┃<span style=\"font-weight: bold\">       DataLoader 0        </span>┃\n",
       "┡━━━━━━━━━━━━━━━━━━━━━━━━━━━╇━━━━━━━━━━━━━━━━━━━━━━━━━━━┩\n",
       "│<span style=\"color: #008080; text-decoration-color: #008080\">          val_f1           </span>│<span style=\"color: #800080; text-decoration-color: #800080\">    0.15277127921581268    </span>│\n",
       "│<span style=\"color: #008080; text-decoration-color: #008080\">         val_loss          </span>│<span style=\"color: #800080; text-decoration-color: #800080\">    1.9631625413894653     </span>│\n",
       "└───────────────────────────┴───────────────────────────┘\n",
       "</pre>\n"
      ],
      "text/plain": [
       "┏━━━━━━━━━━━━━━━━━━━━━━━━━━━┳━━━━━━━━━━━━━━━━━━━━━━━━━━━┓\n",
       "┃\u001b[1m \u001b[0m\u001b[1m     Validate metric     \u001b[0m\u001b[1m \u001b[0m┃\u001b[1m \u001b[0m\u001b[1m      DataLoader 0       \u001b[0m\u001b[1m \u001b[0m┃\n",
       "┡━━━━━━━━━━━━━━━━━━━━━━━━━━━╇━━━━━━━━━━━━━━━━━━━━━━━━━━━┩\n",
       "│\u001b[36m \u001b[0m\u001b[36m         val_f1          \u001b[0m\u001b[36m \u001b[0m│\u001b[35m \u001b[0m\u001b[35m   0.15277127921581268   \u001b[0m\u001b[35m \u001b[0m│\n",
       "│\u001b[36m \u001b[0m\u001b[36m        val_loss         \u001b[0m\u001b[36m \u001b[0m│\u001b[35m \u001b[0m\u001b[35m   1.9631625413894653    \u001b[0m\u001b[35m \u001b[0m│\n",
       "└───────────────────────────┴───────────────────────────┘\n"
      ]
     },
     "metadata": {},
     "output_type": "display_data"
    },
    {
     "name": "stdout",
     "output_type": "stream",
     "text": [
      "classification report:\n",
      "               precision    recall  f1-score   support\n",
      "\n",
      "        ADHD       0.21      0.89      0.35       108\n",
      "     HEALTHY       0.45      0.39      0.42       108\n",
      "         MDD       0.00      0.00      0.00       108\n",
      "         OCD       0.00      0.00      0.00       108\n",
      "         SMC       0.00      0.00      0.00       108\n",
      "\n",
      "    accuracy                           0.26       540\n",
      "   macro avg       0.13      0.26      0.15       540\n",
      "weighted avg       0.13      0.26      0.15       540\n",
      "\n",
      "Mean f1-score 3 best trials: 0.2308\n",
      "STD f1-score 3 best trials: 0.1030\n"
     ]
    },
    {
     "name": "stderr",
     "output_type": "stream",
     "text": [
      "/home/tsmolders/.conda/envs/py3117/lib/python3.11/site-packages/sklearn/metrics/_classification.py:1497: UndefinedMetricWarning: Precision is ill-defined and being set to 0.0 in labels with no predicted samples. Use `zero_division` parameter to control this behavior.\n",
      "  _warn_prf(average, modifier, f\"{metric.capitalize()} is\", len(result))\n",
      "/home/tsmolders/.conda/envs/py3117/lib/python3.11/site-packages/sklearn/metrics/_classification.py:1497: UndefinedMetricWarning: Precision is ill-defined and being set to 0.0 in labels with no predicted samples. Use `zero_division` parameter to control this behavior.\n",
      "  _warn_prf(average, modifier, f\"{metric.capitalize()} is\", len(result))\n",
      "/home/tsmolders/.conda/envs/py3117/lib/python3.11/site-packages/sklearn/metrics/_classification.py:1497: UndefinedMetricWarning: Precision is ill-defined and being set to 0.0 in labels with no predicted samples. Use `zero_division` parameter to control this behavior.\n",
      "  _warn_prf(average, modifier, f\"{metric.capitalize()} is\", len(result))\n"
     ]
    },
    {
     "data": {
      "image/png": "[encoded data removed]",
      "text/plain": [
       "<Figure size 2400x1600 with 3 Axes>"
      ]
     },
     "metadata": {},
     "output_type": "display_data"
    }
   ],
   "source": [
    "from lightning.pytorch.tuner import Tuner\n",
    "from lightning.pytorch import Trainer, seed_everything\n",
    "from lightning.pytorch.callbacks import ModelCheckpoint, TQDMProgressBar, RichProgressBar, ModelSummary\n",
    "from lightning.pytorch.callbacks.early_stopping import EarlyStopping\n",
    "import logging\n",
    "import warnings\n",
    "warnings.filterwarnings(\"ignore\", \".*Consider increasing the value of the `num_workers` argument*\")\n",
    "warnings.filterwarnings(\"ignore\", \"Trying to infer the `batch_size` from an ambiguous collection.*\")\n",
    "torch.set_float32_matmul_precision('high')\n",
    "logging.getLogger(\"lightning.pytorch.utilities.rank_zero\").setLevel(logging.WARNING)\n",
    "logging.getLogger(\"lightning.pytorch.accelerators.cuda\").setLevel(logging.WARNING)\n",
    "\n",
    "# create subplots for confusion matrices\n",
    "fig, ax = plt.subplots(1, 3, figsize=(24, 16))\n",
    "\n",
    "# list for storing f1-scores:\n",
    "f1_scores = []\n",
    "\n",
    "# iterate over the 3 best trials during tuning\n",
    "for num, trial in enumerate(df_trials_wo_edge_attrs.iterrows()):\n",
    "    # retrieve the hyperparameters\n",
    "    learning_rate = trial[1]['params_learning_rate']\n",
    "    optimizer_name = trial[1]['params_optimizer']\n",
    "    fc_layers = trial[1]['params_fc_layers']\n",
    "    dropout = trial[1]['params_dropout']\n",
    "    batch_size = trial[1]['params_batch_size']\n",
    "    n_epochs = batch_size * 4\n",
    "    # use best parameters from optuna\n",
    "    model = graphLambda_wo_edge_attr(learning_rate=learning_rate, optimizer_name=optimizer_name, fc_layers=fc_layers, dropout=dropout)\n",
    "\n",
    "    # Define the data loaders\n",
    "    train_loader = DataLoader(X_train, batch_size=batch_size, shuffle=True,\n",
    "                                drop_last=True) # , num_workers=0, persistent_workers=True\n",
    "    val_loader = DataLoader(X_val, batch_size=len(X_val), shuffle=False,\n",
    "                                drop_last=True) # , num_workers=0, persistent_workers=True\n",
    "\n",
    "\n",
    "    checkpoint_callback = ModelCheckpoint(monitor='val_f1',\n",
    "                                        mode='max',\n",
    "                                        save_top_k=5,\n",
    "                                        filename='{epoch}-{train_loss:.2f}-{train_f1:.2f}-{val_loss:.2f}-{val_f1:.2f}',\n",
    "                                        )\n",
    "\n",
    "\n",
    "    trainer = Trainer(callbacks=[checkpoint_callback, ModelSummary(max_depth=0)],\n",
    "                    accelerator='gpu',\n",
    "                    max_epochs=n_epochs,\n",
    "                    enable_progress_bar=False,\n",
    "                    check_val_every_n_epoch=10,\n",
    "                    log_every_n_steps=10,\n",
    "                    deterministic=False,\n",
    "                    )\n",
    "\n",
    "    trainer.fit(model, train_loader, val_loader)\n",
    "\n",
    "    print()\n",
    "    print(f'Final evaluation #{num+1} trial:')\n",
    "    # get evaluation of best model checkpoint\n",
    "    trainer.validate(model, val_loader, ckpt_path='best')\n",
    "\n",
    "    # compute confusion matrix and classification report with sklearn of best model checkpoint\n",
    "    from sklearn.metrics import f1_score, classification_report, confusion_matrix, ConfusionMatrixDisplay\n",
    "    y_pred = trainer.predict(model, val_loader, ckpt_path='best')\n",
    "    y_pred = np.concatenate(y_pred).flatten()\n",
    "    y = Y_val\n",
    "\n",
    "    class_labels = le.inverse_transform(sorted(np.unique(y)))\n",
    "    print('classification report:\\n', classification_report(y, y_pred, target_names=class_labels))\n",
    "    f1_scores.append(f1_score(y, y_pred, average=\"macro\"))\n",
    "\n",
    "    # plot confusion matrix\n",
    "    conf_matrix = confusion_matrix(y, y_pred)\n",
    "    ConfusionMatrixDisplay(conf_matrix, display_labels = class_labels).plot(cmap = 'Blues', values_format = 'd', colorbar=False, ax=ax[num])\n",
    "    ax[num].set_title(f'Confusion matrix {num+1}, f1: {f1_score(y, y_pred, average=\"macro\"):.4f}')\n",
    "print(f'Mean f1-score 3 best trials: {np.mean(f1_scores):.4f}')\n",
    "print(f'STD f1-score 3 best trials: {np.std(f1_scores):.4f}')"
   ]
  },
  {
   "cell_type": "markdown",
   "metadata": {},
   "source": [
    "### Model: graphLambda with edge_attr"
   ]
  },
  {
   "cell_type": "code",
   "execution_count": 29,
   "metadata": {
    "execution": {
     "iopub.execute_input": "2024-06-19T13:02:53.591725Z",
     "iopub.status.busy": "2024-06-19T13:02:53.591502Z",
     "iopub.status.idle": "2024-06-19T13:02:53.604295Z",
     "shell.execute_reply": "2024-06-19T13:02:53.603208Z"
    }
   },
   "outputs": [
    {
     "data": {
      "text/html": [
       "<div>\n",
       "<style scoped>\n",
       "    .dataframe tbody tr th:only-of-type {\n",
       "        vertical-align: middle;\n",
       "    }\n",
       "\n",
       "    .dataframe tbody tr th {\n",
       "        vertical-align: top;\n",
       "    }\n",
       "\n",
       "    .dataframe thead th {\n",
       "        text-align: right;\n",
       "    }\n",
       "</style>\n",
       "<table border=\"1\" class=\"dataframe\">\n",
       "  <thead>\n",
       "    <tr style=\"text-align: right;\">\n",
       "      <th></th>\n",
       "      <th>number</th>\n",
       "      <th>value</th>\n",
       "      <th>datetime_start</th>\n",
       "      <th>datetime_complete</th>\n",
       "      <th>duration</th>\n",
       "      <th>params_batch_size</th>\n",
       "      <th>params_dropout</th>\n",
       "      <th>params_fc_layers</th>\n",
       "      <th>params_learning_rate</th>\n",
       "      <th>params_optimizer</th>\n",
       "      <th>state</th>\n",
       "    </tr>\n",
       "  </thead>\n",
       "  <tbody>\n",
       "    <tr>\n",
       "      <th>78</th>\n",
       "      <td>78</td>\n",
       "      <td>0.371653</td>\n",
       "      <td>2024-06-06 11:32:41.687575</td>\n",
       "      <td>2024-06-06 11:37:07.055731</td>\n",
       "      <td>0 days 00:04:25.368156</td>\n",
       "      <td>340</td>\n",
       "      <td>0.368316</td>\n",
       "      <td>7</td>\n",
       "      <td>0.001043</td>\n",
       "      <td>Adam</td>\n",
       "      <td>COMPLETE</td>\n",
       "    </tr>\n",
       "    <tr>\n",
       "      <th>84</th>\n",
       "      <td>84</td>\n",
       "      <td>0.362796</td>\n",
       "      <td>2024-06-06 11:59:53.018399</td>\n",
       "      <td>2024-06-06 12:04:21.263617</td>\n",
       "      <td>0 days 00:04:28.245218</td>\n",
       "      <td>340</td>\n",
       "      <td>0.290625</td>\n",
       "      <td>7</td>\n",
       "      <td>0.001505</td>\n",
       "      <td>Adam</td>\n",
       "      <td>COMPLETE</td>\n",
       "    </tr>\n",
       "    <tr>\n",
       "      <th>70</th>\n",
       "      <td>70</td>\n",
       "      <td>0.362626</td>\n",
       "      <td>2024-06-06 11:05:10.444234</td>\n",
       "      <td>2024-06-06 11:09:37.518968</td>\n",
       "      <td>0 days 00:04:27.074734</td>\n",
       "      <td>340</td>\n",
       "      <td>0.216678</td>\n",
       "      <td>7</td>\n",
       "      <td>0.001041</td>\n",
       "      <td>Adam</td>\n",
       "      <td>COMPLETE</td>\n",
       "    </tr>\n",
       "  </tbody>\n",
       "</table>\n",
       "</div>"
      ],
      "text/plain": [
       "    number     value             datetime_start          datetime_complete  \\\n",
       "78      78  0.371653 2024-06-06 11:32:41.687575 2024-06-06 11:37:07.055731   \n",
       "84      84  0.362796 2024-06-06 11:59:53.018399 2024-06-06 12:04:21.263617   \n",
       "70      70  0.362626 2024-06-06 11:05:10.444234 2024-06-06 11:09:37.518968   \n",
       "\n",
       "                 duration  params_batch_size  params_dropout  \\\n",
       "78 0 days 00:04:25.368156                340        0.368316   \n",
       "84 0 days 00:04:28.245218                340        0.290625   \n",
       "70 0 days 00:04:27.074734                340        0.216678   \n",
       "\n",
       "    params_fc_layers  params_learning_rate params_optimizer     state  \n",
       "78                 7              0.001043             Adam  COMPLETE  \n",
       "84                 7              0.001505             Adam  COMPLETE  \n",
       "70                 7              0.001041             Adam  COMPLETE  "
      ]
     },
     "execution_count": 29,
     "metadata": {},
     "output_type": "execute_result"
    }
   ],
   "source": [
    "# import best trials from tuning\n",
    "eo_df_trials_w_edge_attrs = pd.read_pickle('eo_results_w_edge_attrs_trials.pkl')\n",
    "eo_df_trials_w_edge_attrs = eo_df_trials_w_edge_attrs.sort_values('value', ascending=False).head(3)\n",
    "eo_df_trials_w_edge_attrs"
   ]
  },
  {
   "cell_type": "code",
   "execution_count": 30,
   "metadata": {
    "execution": {
     "iopub.execute_input": "2024-06-19T13:02:53.607269Z",
     "iopub.status.busy": "2024-06-19T13:02:53.607076Z",
     "iopub.status.idle": "2024-06-19T13:12:13.183757Z",
     "shell.execute_reply": "2024-06-19T13:12:13.183140Z"
    }
   },
   "outputs": [
    {
     "name": "stderr",
     "output_type": "stream",
     "text": [
      "/home/tsmolders/.conda/envs/py3117/lib/python3.11/site-packages/lightning/pytorch/loops/fit_loop.py:298: The number of training batches (5) is smaller than the logging interval Trainer(log_every_n_steps=10). Set a lower value for log_every_n_steps if you want to see logs for the training epoch.\n"
     ]
    },
    {
     "name": "stdout",
     "output_type": "stream",
     "text": [
      "\n",
      "Final evaluation #1 trial:\n"
     ]
    },
    {
     "data": {
      "text/html": [
       "<pre style=\"white-space:pre;overflow-x:auto;line-height:normal;font-family:Menlo,'DejaVu Sans Mono',consolas,'Courier New',monospace\">┏━━━━━━━━━━━━━━━━━━━━━━━━━━━┳━━━━━━━━━━━━━━━━━━━━━━━━━━━┓\n",
       "┃<span style=\"font-weight: bold\">      Validate metric      </span>┃<span style=\"font-weight: bold\">       DataLoader 0        </span>┃\n",
       "┡━━━━━━━━━━━━━━━━━━━━━━━━━━━╇━━━━━━━━━━━━━━━━━━━━━━━━━━━┩\n",
       "│<span style=\"color: #008080; text-decoration-color: #008080\">          val_f1           </span>│<span style=\"color: #800080; text-decoration-color: #800080\">    0.3768851161003113     </span>│\n",
       "│<span style=\"color: #008080; text-decoration-color: #008080\">         val_loss          </span>│<span style=\"color: #800080; text-decoration-color: #800080\">     9.68506145477295      </span>│\n",
       "└───────────────────────────┴───────────────────────────┘\n",
       "</pre>\n"
      ],
      "text/plain": [
       "┏━━━━━━━━━━━━━━━━━━━━━━━━━━━┳━━━━━━━━━━━━━━━━━━━━━━━━━━━┓\n",
       "┃\u001b[1m \u001b[0m\u001b[1m     Validate metric     \u001b[0m\u001b[1m \u001b[0m┃\u001b[1m \u001b[0m\u001b[1m      DataLoader 0       \u001b[0m\u001b[1m \u001b[0m┃\n",
       "┡━━━━━━━━━━━━━━━━━━━━━━━━━━━╇━━━━━━━━━━━━━━━━━━━━━━━━━━━┩\n",
       "│\u001b[36m \u001b[0m\u001b[36m         val_f1          \u001b[0m\u001b[36m \u001b[0m│\u001b[35m \u001b[0m\u001b[35m   0.3768851161003113    \u001b[0m\u001b[35m \u001b[0m│\n",
       "│\u001b[36m \u001b[0m\u001b[36m        val_loss         \u001b[0m\u001b[36m \u001b[0m│\u001b[35m \u001b[0m\u001b[35m    9.68506145477295     \u001b[0m\u001b[35m \u001b[0m│\n",
       "└───────────────────────────┴───────────────────────────┘\n"
      ]
     },
     "metadata": {},
     "output_type": "display_data"
    },
    {
     "name": "stdout",
     "output_type": "stream",
     "text": [
      "classification report:\n",
      "               precision    recall  f1-score   support\n",
      "\n",
      "        ADHD       0.60      0.43      0.50       108\n",
      "     HEALTHY       0.50      0.49      0.50       108\n",
      "         MDD       0.24      0.34      0.28       108\n",
      "         OCD       0.35      0.35      0.35       108\n",
      "         SMC       0.28      0.24      0.26       108\n",
      "\n",
      "    accuracy                           0.37       540\n",
      "   macro avg       0.39      0.37      0.38       540\n",
      "weighted avg       0.39      0.37      0.38       540\n",
      "\n"
     ]
    },
    {
     "name": "stderr",
     "output_type": "stream",
     "text": [
      "/home/tsmolders/.conda/envs/py3117/lib/python3.11/site-packages/lightning/pytorch/loops/fit_loop.py:298: The number of training batches (5) is smaller than the logging interval Trainer(log_every_n_steps=10). Set a lower value for log_every_n_steps if you want to see logs for the training epoch.\n"
     ]
    },
    {
     "name": "stdout",
     "output_type": "stream",
     "text": [
      "\n",
      "Final evaluation #2 trial:\n"
     ]
    },
    {
     "data": {
      "text/html": [
       "<pre style=\"white-space:pre;overflow-x:auto;line-height:normal;font-family:Menlo,'DejaVu Sans Mono',consolas,'Courier New',monospace\">┏━━━━━━━━━━━━━━━━━━━━━━━━━━━┳━━━━━━━━━━━━━━━━━━━━━━━━━━━┓\n",
       "┃<span style=\"font-weight: bold\">      Validate metric      </span>┃<span style=\"font-weight: bold\">       DataLoader 0        </span>┃\n",
       "┡━━━━━━━━━━━━━━━━━━━━━━━━━━━╇━━━━━━━━━━━━━━━━━━━━━━━━━━━┩\n",
       "│<span style=\"color: #008080; text-decoration-color: #008080\">          val_f1           </span>│<span style=\"color: #800080; text-decoration-color: #800080\">    0.3769339323043823     </span>│\n",
       "│<span style=\"color: #008080; text-decoration-color: #008080\">         val_loss          </span>│<span style=\"color: #800080; text-decoration-color: #800080\">     5.052704334259033     </span>│\n",
       "└───────────────────────────┴───────────────────────────┘\n",
       "</pre>\n"
      ],
      "text/plain": [
       "┏━━━━━━━━━━━━━━━━━━━━━━━━━━━┳━━━━━━━━━━━━━━━━━━━━━━━━━━━┓\n",
       "┃\u001b[1m \u001b[0m\u001b[1m     Validate metric     \u001b[0m\u001b[1m \u001b[0m┃\u001b[1m \u001b[0m\u001b[1m      DataLoader 0       \u001b[0m\u001b[1m \u001b[0m┃\n",
       "┡━━━━━━━━━━━━━━━━━━━━━━━━━━━╇━━━━━━━━━━━━━━━━━━━━━━━━━━━┩\n",
       "│\u001b[36m \u001b[0m\u001b[36m         val_f1          \u001b[0m\u001b[36m \u001b[0m│\u001b[35m \u001b[0m\u001b[35m   0.3769339323043823    \u001b[0m\u001b[35m \u001b[0m│\n",
       "│\u001b[36m \u001b[0m\u001b[36m        val_loss         \u001b[0m\u001b[36m \u001b[0m│\u001b[35m \u001b[0m\u001b[35m    5.052704334259033    \u001b[0m\u001b[35m \u001b[0m│\n",
       "└───────────────────────────┴───────────────────────────┘\n"
      ]
     },
     "metadata": {},
     "output_type": "display_data"
    },
    {
     "name": "stdout",
     "output_type": "stream",
     "text": [
      "classification report:\n",
      "               precision    recall  f1-score   support\n",
      "\n",
      "        ADHD       0.50      0.47      0.49       108\n",
      "     HEALTHY       0.41      0.42      0.41       108\n",
      "         MDD       0.29      0.35      0.32       108\n",
      "         OCD       0.40      0.37      0.38       108\n",
      "         SMC       0.30      0.27      0.28       108\n",
      "\n",
      "    accuracy                           0.38       540\n",
      "   macro avg       0.38      0.38      0.38       540\n",
      "weighted avg       0.38      0.38      0.38       540\n",
      "\n"
     ]
    },
    {
     "name": "stderr",
     "output_type": "stream",
     "text": [
      "/home/tsmolders/.conda/envs/py3117/lib/python3.11/site-packages/lightning/pytorch/loops/fit_loop.py:298: The number of training batches (5) is smaller than the logging interval Trainer(log_every_n_steps=10). Set a lower value for log_every_n_steps if you want to see logs for the training epoch.\n"
     ]
    },
    {
     "name": "stdout",
     "output_type": "stream",
     "text": [
      "\n",
      "Final evaluation #3 trial:\n"
     ]
    },
    {
     "data": {
      "text/html": [
       "<pre style=\"white-space:pre;overflow-x:auto;line-height:normal;font-family:Menlo,'DejaVu Sans Mono',consolas,'Courier New',monospace\">┏━━━━━━━━━━━━━━━━━━━━━━━━━━━┳━━━━━━━━━━━━━━━━━━━━━━━━━━━┓\n",
       "┃<span style=\"font-weight: bold\">      Validate metric      </span>┃<span style=\"font-weight: bold\">       DataLoader 0        </span>┃\n",
       "┡━━━━━━━━━━━━━━━━━━━━━━━━━━━╇━━━━━━━━━━━━━━━━━━━━━━━━━━━┩\n",
       "│<span style=\"color: #008080; text-decoration-color: #008080\">          val_f1           </span>│<span style=\"color: #800080; text-decoration-color: #800080\">    0.3615260124206543     </span>│\n",
       "│<span style=\"color: #008080; text-decoration-color: #008080\">         val_loss          </span>│<span style=\"color: #800080; text-decoration-color: #800080\">     8.203730583190918     </span>│\n",
       "└───────────────────────────┴───────────────────────────┘\n",
       "</pre>\n"
      ],
      "text/plain": [
       "┏━━━━━━━━━━━━━━━━━━━━━━━━━━━┳━━━━━━━━━━━━━━━━━━━━━━━━━━━┓\n",
       "┃\u001b[1m \u001b[0m\u001b[1m     Validate metric     \u001b[0m\u001b[1m \u001b[0m┃\u001b[1m \u001b[0m\u001b[1m      DataLoader 0       \u001b[0m\u001b[1m \u001b[0m┃\n",
       "┡━━━━━━━━━━━━━━━━━━━━━━━━━━━╇━━━━━━━━━━━━━━━━━━━━━━━━━━━┩\n",
       "│\u001b[36m \u001b[0m\u001b[36m         val_f1          \u001b[0m\u001b[36m \u001b[0m│\u001b[35m \u001b[0m\u001b[35m   0.3615260124206543    \u001b[0m\u001b[35m \u001b[0m│\n",
       "│\u001b[36m \u001b[0m\u001b[36m        val_loss         \u001b[0m\u001b[36m \u001b[0m│\u001b[35m \u001b[0m\u001b[35m    8.203730583190918    \u001b[0m\u001b[35m \u001b[0m│\n",
       "└───────────────────────────┴───────────────────────────┘\n"
      ]
     },
     "metadata": {},
     "output_type": "display_data"
    },
    {
     "name": "stdout",
     "output_type": "stream",
     "text": [
      "classification report:\n",
      "               precision    recall  f1-score   support\n",
      "\n",
      "        ADHD       0.47      0.44      0.45       108\n",
      "     HEALTHY       0.47      0.46      0.47       108\n",
      "         MDD       0.28      0.36      0.32       108\n",
      "         OCD       0.33      0.31      0.32       108\n",
      "         SMC       0.27      0.23      0.25       108\n",
      "\n",
      "    accuracy                           0.36       540\n",
      "   macro avg       0.36      0.36      0.36       540\n",
      "weighted avg       0.36      0.36      0.36       540\n",
      "\n",
      "Mean f1-score 3 best trials: 0.3718\n",
      "STD f1-score 3 best trials: 0.0073\n"
     ]
    },
    {
     "data": {
      "image/png": "[encoded data removed]",
      "text/plain": [
       "<Figure size 2400x1600 with 3 Axes>"
      ]
     },
     "metadata": {},
     "output_type": "display_data"
    }
   ],
   "source": [
    "from lightning.pytorch.tuner import Tuner\n",
    "from lightning.pytorch import Trainer, seed_everything\n",
    "from lightning.pytorch.callbacks import ModelCheckpoint, TQDMProgressBar, RichProgressBar, ModelSummary\n",
    "from lightning.pytorch.callbacks.early_stopping import EarlyStopping\n",
    "import logging\n",
    "import warnings\n",
    "warnings.filterwarnings(\"ignore\", \".*Consider increasing the value of the `num_workers` argument*\")\n",
    "warnings.filterwarnings(\"ignore\", \"Trying to infer the `batch_size` from an ambiguous collection.*\")\n",
    "torch.set_float32_matmul_precision('high')\n",
    "logging.getLogger(\"lightning.pytorch.utilities.rank_zero\").setLevel(logging.WARNING)\n",
    "logging.getLogger(\"lightning.pytorch.accelerators.cuda\").setLevel(logging.WARNING)\n",
    "\n",
    "# create subplots for confusion matrices\n",
    "fig, ax = plt.subplots(1, 3, figsize=(24, 16))\n",
    "\n",
    "# list for storing f1-scores:\n",
    "f1_scores = []\n",
    "\n",
    "# iterate over the 3 best trials during tuning\n",
    "for num, trial in enumerate(eo_df_trials_w_edge_attrs.iterrows()):\n",
    "    # retrieve the hyperparameters\n",
    "    learning_rate = trial[1]['params_learning_rate']\n",
    "    optimizer_name = trial[1]['params_optimizer']\n",
    "    fc_layers = trial[1]['params_fc_layers']\n",
    "    dropout = trial[1]['params_dropout']\n",
    "    batch_size = trial[1]['params_batch_size']\n",
    "    n_epochs = batch_size * 4\n",
    "    # use best parameters from optuna\n",
    "    model = graphLambda_wo_edge_attr(learning_rate=learning_rate, optimizer_name=optimizer_name, fc_layers=fc_layers, dropout=dropout)\n",
    "\n",
    "    # Define the data loaders\n",
    "    train_loader = DataLoader(X_train, batch_size=batch_size, shuffle=True,\n",
    "                                drop_last=True) # , num_workers=0, persistent_workers=True\n",
    "    val_loader = DataLoader(X_val, batch_size=len(X_val), shuffle=False,\n",
    "                                drop_last=True) # , num_workers=0, persistent_workers=True\n",
    "\n",
    "\n",
    "    checkpoint_callback = ModelCheckpoint(monitor='val_f1',\n",
    "                                        mode='max',\n",
    "                                        save_top_k=5,\n",
    "                                        filename='{epoch}-{train_loss:.2f}-{train_f1:.2f}-{val_loss:.2f}-{val_f1:.2f}',\n",
    "                                        )\n",
    "\n",
    "\n",
    "    trainer = Trainer(callbacks=[checkpoint_callback, ModelSummary(max_depth=0)],\n",
    "                    accelerator='gpu',\n",
    "                    max_epochs=n_epochs,\n",
    "                    enable_progress_bar=False,\n",
    "                    check_val_every_n_epoch=10,\n",
    "                    log_every_n_steps=10,\n",
    "                    deterministic=False,\n",
    "                    )\n",
    "\n",
    "    trainer.fit(model, train_loader, val_loader)\n",
    "\n",
    "    print()\n",
    "    print(f'Final evaluation #{num+1} trial:')\n",
    "    # get evaluation of best model checkpoint\n",
    "    trainer.validate(model, val_loader, ckpt_path='best')\n",
    "\n",
    "    # compute confusion matrix and classification report with sklearn of best model checkpoint\n",
    "    from sklearn.metrics import f1_score, classification_report, confusion_matrix, ConfusionMatrixDisplay\n",
    "    y_pred = trainer.predict(model, val_loader, ckpt_path='best')\n",
    "    y_pred = np.concatenate(y_pred).flatten()\n",
    "    y = Y_val\n",
    "\n",
    "    class_labels = le.inverse_transform(sorted(np.unique(y)))\n",
    "    print('classification report:\\n', classification_report(y, y_pred, target_names=class_labels))\n",
    "    f1_scores.append(f1_score(y, y_pred, average=\"macro\"))\n",
    "\n",
    "    # plot confusion matrix\n",
    "    conf_matrix = confusion_matrix(y, y_pred)\n",
    "    ConfusionMatrixDisplay(conf_matrix, display_labels = class_labels).plot(cmap = 'Blues', values_format = 'd', colorbar=False, ax=ax[num])\n",
    "    ax[num].set_title(f'Confusion matrix {num+1}, f1: {f1_score(y, y_pred, average=\"macro\"):.4f}')\n",
    "print(f'Mean f1-score 3 best trials: {np.mean(f1_scores):.4f}')\n",
    "print(f'STD f1-score 3 best trials: {np.std(f1_scores):.4f}')"
   ]
  },
  {
   "cell_type": "markdown",
   "metadata": {},
   "source": [
    "# 3. ratio feature set"
   ]
  },
  {
   "cell_type": "code",
   "execution_count": 31,
   "metadata": {
    "execution": {
     "iopub.execute_input": "2024-06-19T13:12:13.186440Z",
     "iopub.status.busy": "2024-06-19T13:12:13.186238Z",
     "iopub.status.idle": "2024-06-19T13:12:13.243572Z",
     "shell.execute_reply": "2024-06-19T13:12:13.243027Z"
    }
   },
   "outputs": [
    {
     "name": "stdout",
     "output_type": "stream",
     "text": [
      "len(ratio_graph_dataset) = 2688\n",
      "len(baseline_rest_idxs) = 2148, len(baseline_val_idxs) = 540, total: 2688\n",
      "len(X_traintest) = 2148, len(X_val) = 540\n",
      "len(train_idxs) = 1716, len(test_idxs) = 432, total: 2148\n"
     ]
    }
   ],
   "source": [
    "from sklearn.model_selection import StratifiedGroupKFold\n",
    "\n",
    "baseline_rest_idxs = data_split_indices['ratio'][0]\n",
    "baseline_val_idxs = data_split_indices['ratio'][1]\n",
    "\n",
    "# first splitting validation data using the first split from the baseline RF model\n",
    "groups = [elem for elem in subjects_ratio_ids for i in range(12)] # times 12 for each epoch\n",
    "\n",
    "print(f'{len(ratio_graph_dataset) = }')\n",
    "print(f'{len(baseline_rest_idxs) = }, {len(baseline_val_idxs) = }, total: {len(baseline_rest_idxs)+len(baseline_val_idxs)}')\n",
    "\n",
    "X_traintest = [ratio_graph_dataset[i] for i in baseline_rest_idxs] \n",
    "X_val = [ratio_graph_dataset[i] for i in baseline_val_idxs]\n",
    "Y_traintest =[ratio_y_list[i] for i in baseline_rest_idxs]\n",
    "Y_val = [ratio_y_list[i] for i in baseline_val_idxs]\n",
    "groups_traintest = [groups[i] for i in baseline_rest_idxs]\n",
    "groups_val = [groups[i] for i in baseline_val_idxs]\n",
    "\n",
    "# now splitting the test and training data with seperate StratifiedGroupKFold\n",
    "desired_test_ratio = 0.20\n",
    "n_splits = int(1 / desired_test_ratio) # for some reason (?), n_splits also determines the proportion between train & test indices\n",
    "sgkf = StratifiedGroupKFold(n_splits=n_splits, shuffle=False)  # should shuffle be true?\n",
    "\n",
    "train_idxs, test_idxs = sgkf.split(X_traintest, Y_traintest, groups_traintest).__next__() # just take the first split\n",
    "print(f'{len(X_traintest) = }, {len(X_val) = }')\n",
    "print(f'{len(train_idxs) = }, {len(test_idxs) = }, total: {len(train_idxs)+len(test_idxs)}')\n",
    "\n",
    "X_train = [X_traintest[i] for i in train_idxs] # X also includes y values, because they are stored in the Data object\n",
    "X_test = [X_traintest[i] for i in test_idxs]\n",
    "Y_train =[Y_traintest[i] for i in train_idxs]\n",
    "Y_test = [Y_traintest[i] for i in test_idxs]"
   ]
  },
  {
   "cell_type": "code",
   "execution_count": 32,
   "metadata": {
    "execution": {
     "iopub.execute_input": "2024-06-19T13:12:13.245769Z",
     "iopub.status.busy": "2024-06-19T13:12:13.245579Z",
     "iopub.status.idle": "2024-06-19T13:12:13.750439Z",
     "shell.execute_reply": "2024-06-19T13:12:13.749858Z"
    }
   },
   "outputs": [
    {
     "data": {
      "image/png": "[encoded data removed]",
      "text/plain": [
       "<Figure size 1200x600 with 2 Axes>"
      ]
     },
     "metadata": {},
     "output_type": "display_data"
    }
   ],
   "source": [
    "# standardize statistical node features\n",
    "from sklearn.preprocessing import StandardScaler\n",
    "\n",
    "# Concatenate all x values before scaling for the first feature, as a sanity check for standardization\n",
    "x_before = np.concatenate([data.x.numpy()[:, 0] for data in X_train + X_val + X_test])\n",
    "\n",
    "scaler = StandardScaler()\n",
    "scaler.fit(np.vstack([data.x.numpy() for data in X_train + X_val])) # fit on training and validation data\n",
    "\n",
    "\n",
    "# Transform the x values of the data in X_train\n",
    "for data in X_train:\n",
    "    data.x = torch.from_numpy(scaler.transform(data.x.numpy()))\n",
    "\n",
    "# Transform the x values of the data in X_val\n",
    "for data in X_val:\n",
    "    data.x = torch.from_numpy(scaler.transform(data.x.numpy()))\n",
    "\n",
    "# Transform the x values of the data in X_test\n",
    "for data in X_test:\n",
    "    data.x = torch.from_numpy(scaler.transform(data.x.numpy()))\n",
    "\n",
    "# Concatenate all x values after scaling for the first feature, as a sanity check for standardization\n",
    "x_after = np.concatenate([data.x.numpy()[:, 0] for data in X_train + X_val + X_test])\n",
    "\n",
    "# Plot the distribution of the first x feature before and after scaling as a sanity check\n",
    "plt.figure(figsize=(12, 6))\n",
    "\n",
    "plt.subplot(1, 2, 1)\n",
    "plt.hist(x_before, bins=30, color='b', alpha=0.5)\n",
    "plt.title('Before Scaling')\n",
    "\n",
    "plt.subplot(1, 2, 2)\n",
    "plt.hist(x_after, bins=30, color='r', alpha=0.5)\n",
    "plt.title('After Scaling')\n",
    "\n",
    "plt.show()"
   ]
  },
  {
   "cell_type": "markdown",
   "metadata": {},
   "source": [
    "### Model: standard GCN"
   ]
  },
  {
   "cell_type": "code",
   "execution_count": 33,
   "metadata": {
    "execution": {
     "iopub.execute_input": "2024-06-19T13:12:13.752797Z",
     "iopub.status.busy": "2024-06-19T13:12:13.752602Z",
     "iopub.status.idle": "2024-06-19T13:12:13.763746Z",
     "shell.execute_reply": "2024-06-19T13:12:13.763189Z"
    }
   },
   "outputs": [
    {
     "data": {
      "text/html": [
       "<div>\n",
       "<style scoped>\n",
       "    .dataframe tbody tr th:only-of-type {\n",
       "        vertical-align: middle;\n",
       "    }\n",
       "\n",
       "    .dataframe tbody tr th {\n",
       "        vertical-align: top;\n",
       "    }\n",
       "\n",
       "    .dataframe thead th {\n",
       "        text-align: right;\n",
       "    }\n",
       "</style>\n",
       "<table border=\"1\" class=\"dataframe\">\n",
       "  <thead>\n",
       "    <tr style=\"text-align: right;\">\n",
       "      <th></th>\n",
       "      <th>number</th>\n",
       "      <th>value</th>\n",
       "      <th>datetime_start</th>\n",
       "      <th>datetime_complete</th>\n",
       "      <th>duration</th>\n",
       "      <th>params_batch_size</th>\n",
       "      <th>params_dropout</th>\n",
       "      <th>params_learning_rate</th>\n",
       "      <th>params_optimizer</th>\n",
       "      <th>state</th>\n",
       "    </tr>\n",
       "  </thead>\n",
       "  <tbody>\n",
       "    <tr>\n",
       "      <th>86</th>\n",
       "      <td>86</td>\n",
       "      <td>0.346059</td>\n",
       "      <td>2024-06-07 20:38:43.450343</td>\n",
       "      <td>2024-06-07 20:42:01.180606</td>\n",
       "      <td>0 days 00:03:17.730263</td>\n",
       "      <td>680</td>\n",
       "      <td>0.693529</td>\n",
       "      <td>0.000011</td>\n",
       "      <td>RMSprop</td>\n",
       "      <td>COMPLETE</td>\n",
       "    </tr>\n",
       "    <tr>\n",
       "      <th>0</th>\n",
       "      <td>0</td>\n",
       "      <td>0.333333</td>\n",
       "      <td>2024-06-07 17:37:40.477929</td>\n",
       "      <td>2024-06-07 17:39:10.051067</td>\n",
       "      <td>0 days 00:01:29.573138</td>\n",
       "      <td>170</td>\n",
       "      <td>0.413812</td>\n",
       "      <td>0.025869</td>\n",
       "      <td>RMSprop</td>\n",
       "      <td>COMPLETE</td>\n",
       "    </tr>\n",
       "    <tr>\n",
       "      <th>84</th>\n",
       "      <td>84</td>\n",
       "      <td>0.333264</td>\n",
       "      <td>2024-06-07 20:34:48.428870</td>\n",
       "      <td>2024-06-07 20:36:21.507320</td>\n",
       "      <td>0 days 00:01:33.078450</td>\n",
       "      <td>170</td>\n",
       "      <td>0.770372</td>\n",
       "      <td>0.000025</td>\n",
       "      <td>SGD</td>\n",
       "      <td>COMPLETE</td>\n",
       "    </tr>\n",
       "  </tbody>\n",
       "</table>\n",
       "</div>"
      ],
      "text/plain": [
       "    number     value             datetime_start          datetime_complete  \\\n",
       "86      86  0.346059 2024-06-07 20:38:43.450343 2024-06-07 20:42:01.180606   \n",
       "0        0  0.333333 2024-06-07 17:37:40.477929 2024-06-07 17:39:10.051067   \n",
       "84      84  0.333264 2024-06-07 20:34:48.428870 2024-06-07 20:36:21.507320   \n",
       "\n",
       "                 duration  params_batch_size  params_dropout  \\\n",
       "86 0 days 00:03:17.730263                680        0.693529   \n",
       "0  0 days 00:01:29.573138                170        0.413812   \n",
       "84 0 days 00:01:33.078450                170        0.770372   \n",
       "\n",
       "    params_learning_rate params_optimizer     state  \n",
       "86              0.000011          RMSprop  COMPLETE  \n",
       "0               0.025869          RMSprop  COMPLETE  \n",
       "84              0.000025              SGD  COMPLETE  "
      ]
     },
     "execution_count": 33,
     "metadata": {},
     "output_type": "execute_result"
    }
   ],
   "source": [
    "# import best trials from tuning\n",
    "df_trials_wo_edge_attrs = pd.read_pickle('ratio_results_stand_GCN_trials.pkl')\n",
    "df_trials_wo_edge_attrs = df_trials_wo_edge_attrs.sort_values('value', ascending=False).head(3)\n",
    "df_trials_wo_edge_attrs"
   ]
  },
  {
   "cell_type": "code",
   "execution_count": 34,
   "metadata": {
    "execution": {
     "iopub.execute_input": "2024-06-19T13:12:13.765949Z",
     "iopub.status.busy": "2024-06-19T13:12:13.765763Z",
     "iopub.status.idle": "2024-06-19T13:17:09.119805Z",
     "shell.execute_reply": "2024-06-19T13:17:09.118422Z"
    }
   },
   "outputs": [
    {
     "name": "stderr",
     "output_type": "stream",
     "text": [
      "/home/tsmolders/.conda/envs/py3117/lib/python3.11/site-packages/lightning/pytorch/loops/fit_loop.py:298: The number of training batches (2) is smaller than the logging interval Trainer(log_every_n_steps=10). Set a lower value for log_every_n_steps if you want to see logs for the training epoch.\n"
     ]
    },
    {
     "name": "stdout",
     "output_type": "stream",
     "text": [
      "\n",
      "Final evaluation #1 trial:\n"
     ]
    },
    {
     "data": {
      "text/html": [
       "<pre style=\"white-space:pre;overflow-x:auto;line-height:normal;font-family:Menlo,'DejaVu Sans Mono',consolas,'Courier New',monospace\">┏━━━━━━━━━━━━━━━━━━━━━━━━━━━┳━━━━━━━━━━━━━━━━━━━━━━━━━━━┓\n",
       "┃<span style=\"font-weight: bold\">      Validate metric      </span>┃<span style=\"font-weight: bold\">       DataLoader 0        </span>┃\n",
       "┡━━━━━━━━━━━━━━━━━━━━━━━━━━━╇━━━━━━━━━━━━━━━━━━━━━━━━━━━┩\n",
       "│<span style=\"color: #008080; text-decoration-color: #008080\">          val_f1           </span>│<span style=\"color: #800080; text-decoration-color: #800080\">    0.16677874326705933    </span>│\n",
       "│<span style=\"color: #008080; text-decoration-color: #008080\">         val_loss          </span>│<span style=\"color: #800080; text-decoration-color: #800080\">    1.6031709909439087     </span>│\n",
       "└───────────────────────────┴───────────────────────────┘\n",
       "</pre>\n"
      ],
      "text/plain": [
       "┏━━━━━━━━━━━━━━━━━━━━━━━━━━━┳━━━━━━━━━━━━━━━━━━━━━━━━━━━┓\n",
       "┃\u001b[1m \u001b[0m\u001b[1m     Validate metric     \u001b[0m\u001b[1m \u001b[0m┃\u001b[1m \u001b[0m\u001b[1m      DataLoader 0       \u001b[0m\u001b[1m \u001b[0m┃\n",
       "┡━━━━━━━━━━━━━━━━━━━━━━━━━━━╇━━━━━━━━━━━━━━━━━━━━━━━━━━━┩\n",
       "│\u001b[36m \u001b[0m\u001b[36m         val_f1          \u001b[0m\u001b[36m \u001b[0m│\u001b[35m \u001b[0m\u001b[35m   0.16677874326705933   \u001b[0m\u001b[35m \u001b[0m│\n",
       "│\u001b[36m \u001b[0m\u001b[36m        val_loss         \u001b[0m\u001b[36m \u001b[0m│\u001b[35m \u001b[0m\u001b[35m   1.6031709909439087    \u001b[0m\u001b[35m \u001b[0m│\n",
       "└───────────────────────────┴───────────────────────────┘\n"
      ]
     },
     "metadata": {},
     "output_type": "display_data"
    },
    {
     "name": "stdout",
     "output_type": "stream",
     "text": [
      "classification report:\n",
      "               precision    recall  f1-score   support\n",
      "\n",
      "        ADHD       0.17      0.01      0.02       108\n",
      "     HEALTHY       0.22      0.66      0.33       108\n",
      "         MDD       0.28      0.10      0.15       108\n",
      "         OCD       0.16      0.19      0.18       108\n",
      "         SMC       0.31      0.11      0.16       108\n",
      "\n",
      "    accuracy                           0.21       540\n",
      "   macro avg       0.23      0.21      0.17       540\n",
      "weighted avg       0.23      0.21      0.17       540\n",
      "\n",
      "\n",
      "Final evaluation #2 trial:\n"
     ]
    },
    {
     "data": {
      "text/html": [
       "<pre style=\"white-space:pre;overflow-x:auto;line-height:normal;font-family:Menlo,'DejaVu Sans Mono',consolas,'Courier New',monospace\">┏━━━━━━━━━━━━━━━━━━━━━━━━━━━┳━━━━━━━━━━━━━━━━━━━━━━━━━━━┓\n",
       "┃<span style=\"font-weight: bold\">      Validate metric      </span>┃<span style=\"font-weight: bold\">       DataLoader 0        </span>┃\n",
       "┡━━━━━━━━━━━━━━━━━━━━━━━━━━━╇━━━━━━━━━━━━━━━━━━━━━━━━━━━┩\n",
       "│<span style=\"color: #008080; text-decoration-color: #008080\">          val_f1           </span>│<span style=\"color: #800080; text-decoration-color: #800080\">    0.06666667014360428    </span>│\n",
       "│<span style=\"color: #008080; text-decoration-color: #008080\">         val_loss          </span>│<span style=\"color: #800080; text-decoration-color: #800080\">    1.6096402406692505     </span>│\n",
       "└───────────────────────────┴───────────────────────────┘\n",
       "</pre>\n"
      ],
      "text/plain": [
       "┏━━━━━━━━━━━━━━━━━━━━━━━━━━━┳━━━━━━━━━━━━━━━━━━━━━━━━━━━┓\n",
       "┃\u001b[1m \u001b[0m\u001b[1m     Validate metric     \u001b[0m\u001b[1m \u001b[0m┃\u001b[1m \u001b[0m\u001b[1m      DataLoader 0       \u001b[0m\u001b[1m \u001b[0m┃\n",
       "┡━━━━━━━━━━━━━━━━━━━━━━━━━━━╇━━━━━━━━━━━━━━━━━━━━━━━━━━━┩\n",
       "│\u001b[36m \u001b[0m\u001b[36m         val_f1          \u001b[0m\u001b[36m \u001b[0m│\u001b[35m \u001b[0m\u001b[35m   0.06666667014360428   \u001b[0m\u001b[35m \u001b[0m│\n",
       "│\u001b[36m \u001b[0m\u001b[36m        val_loss         \u001b[0m\u001b[36m \u001b[0m│\u001b[35m \u001b[0m\u001b[35m   1.6096402406692505    \u001b[0m\u001b[35m \u001b[0m│\n",
       "└───────────────────────────┴───────────────────────────┘\n"
      ]
     },
     "metadata": {},
     "output_type": "display_data"
    },
    {
     "name": "stdout",
     "output_type": "stream",
     "text": [
      "classification report:\n",
      "               precision    recall  f1-score   support\n",
      "\n",
      "        ADHD       0.00      0.00      0.00       108\n",
      "     HEALTHY       0.20      1.00      0.33       108\n",
      "         MDD       0.00      0.00      0.00       108\n",
      "         OCD       0.00      0.00      0.00       108\n",
      "         SMC       0.00      0.00      0.00       108\n",
      "\n",
      "    accuracy                           0.20       540\n",
      "   macro avg       0.04      0.20      0.07       540\n",
      "weighted avg       0.04      0.20      0.07       540\n",
      "\n"
     ]
    },
    {
     "name": "stderr",
     "output_type": "stream",
     "text": [
      "/home/tsmolders/.conda/envs/py3117/lib/python3.11/site-packages/sklearn/metrics/_classification.py:1497: UndefinedMetricWarning: Precision is ill-defined and being set to 0.0 in labels with no predicted samples. Use `zero_division` parameter to control this behavior.\n",
      "  _warn_prf(average, modifier, f\"{metric.capitalize()} is\", len(result))\n",
      "/home/tsmolders/.conda/envs/py3117/lib/python3.11/site-packages/sklearn/metrics/_classification.py:1497: UndefinedMetricWarning: Precision is ill-defined and being set to 0.0 in labels with no predicted samples. Use `zero_division` parameter to control this behavior.\n",
      "  _warn_prf(average, modifier, f\"{metric.capitalize()} is\", len(result))\n",
      "/home/tsmolders/.conda/envs/py3117/lib/python3.11/site-packages/sklearn/metrics/_classification.py:1497: UndefinedMetricWarning: Precision is ill-defined and being set to 0.0 in labels with no predicted samples. Use `zero_division` parameter to control this behavior.\n",
      "  _warn_prf(average, modifier, f\"{metric.capitalize()} is\", len(result))\n"
     ]
    },
    {
     "name": "stdout",
     "output_type": "stream",
     "text": [
      "\n",
      "Final evaluation #3 trial:\n"
     ]
    },
    {
     "data": {
      "text/html": [
       "<pre style=\"white-space:pre;overflow-x:auto;line-height:normal;font-family:Menlo,'DejaVu Sans Mono',consolas,'Courier New',monospace\">┏━━━━━━━━━━━━━━━━━━━━━━━━━━━┳━━━━━━━━━━━━━━━━━━━━━━━━━━━┓\n",
       "┃<span style=\"font-weight: bold\">      Validate metric      </span>┃<span style=\"font-weight: bold\">       DataLoader 0        </span>┃\n",
       "┡━━━━━━━━━━━━━━━━━━━━━━━━━━━╇━━━━━━━━━━━━━━━━━━━━━━━━━━━┩\n",
       "│<span style=\"color: #008080; text-decoration-color: #008080\">          val_f1           </span>│<span style=\"color: #800080; text-decoration-color: #800080\">    0.09183357656002045    </span>│\n",
       "│<span style=\"color: #008080; text-decoration-color: #008080\">         val_loss          </span>│<span style=\"color: #800080; text-decoration-color: #800080\">    1.6172435283660889     </span>│\n",
       "└───────────────────────────┴───────────────────────────┘\n",
       "</pre>\n"
      ],
      "text/plain": [
       "┏━━━━━━━━━━━━━━━━━━━━━━━━━━━┳━━━━━━━━━━━━━━━━━━━━━━━━━━━┓\n",
       "┃\u001b[1m \u001b[0m\u001b[1m     Validate metric     \u001b[0m\u001b[1m \u001b[0m┃\u001b[1m \u001b[0m\u001b[1m      DataLoader 0       \u001b[0m\u001b[1m \u001b[0m┃\n",
       "┡━━━━━━━━━━━━━━━━━━━━━━━━━━━╇━━━━━━━━━━━━━━━━━━━━━━━━━━━┩\n",
       "│\u001b[36m \u001b[0m\u001b[36m         val_f1          \u001b[0m\u001b[36m \u001b[0m│\u001b[35m \u001b[0m\u001b[35m   0.09183357656002045   \u001b[0m\u001b[35m \u001b[0m│\n",
       "│\u001b[36m \u001b[0m\u001b[36m        val_loss         \u001b[0m\u001b[36m \u001b[0m│\u001b[35m \u001b[0m\u001b[35m   1.6172435283660889    \u001b[0m\u001b[35m \u001b[0m│\n",
       "└───────────────────────────┴───────────────────────────┘\n"
      ]
     },
     "metadata": {},
     "output_type": "display_data"
    },
    {
     "name": "stdout",
     "output_type": "stream",
     "text": [
      "classification report:\n",
      "               precision    recall  f1-score   support\n",
      "\n",
      "        ADHD       0.18      0.07      0.10       108\n",
      "     HEALTHY       0.22      0.02      0.03       108\n",
      "         MDD       0.00      0.00      0.00       108\n",
      "         OCD       0.00      0.00      0.00       108\n",
      "         SMC       0.20      0.88      0.32       108\n",
      "\n",
      "    accuracy                           0.19       540\n",
      "   macro avg       0.12      0.19      0.09       540\n",
      "weighted avg       0.12      0.19      0.09       540\n",
      "\n",
      "Mean f1-score 3 best trials: 0.1084\n",
      "STD f1-score 3 best trials: 0.0425\n"
     ]
    },
    {
     "name": "stderr",
     "output_type": "stream",
     "text": [
      "/home/tsmolders/.conda/envs/py3117/lib/python3.11/site-packages/sklearn/metrics/_classification.py:1497: UndefinedMetricWarning: Precision is ill-defined and being set to 0.0 in labels with no predicted samples. Use `zero_division` parameter to control this behavior.\n",
      "  _warn_prf(average, modifier, f\"{metric.capitalize()} is\", len(result))\n",
      "/home/tsmolders/.conda/envs/py3117/lib/python3.11/site-packages/sklearn/metrics/_classification.py:1497: UndefinedMetricWarning: Precision is ill-defined and being set to 0.0 in labels with no predicted samples. Use `zero_division` parameter to control this behavior.\n",
      "  _warn_prf(average, modifier, f\"{metric.capitalize()} is\", len(result))\n",
      "/home/tsmolders/.conda/envs/py3117/lib/python3.11/site-packages/sklearn/metrics/_classification.py:1497: UndefinedMetricWarning: Precision is ill-defined and being set to 0.0 in labels with no predicted samples. Use `zero_division` parameter to control this behavior.\n",
      "  _warn_prf(average, modifier, f\"{metric.capitalize()} is\", len(result))\n"
     ]
    },
    {
     "data": {
      "image/png": "[encoded data removed]",
      "text/plain": [
       "<Figure size 2400x1600 with 3 Axes>"
      ]
     },
     "metadata": {},
     "output_type": "display_data"
    }
   ],
   "source": [
    "from lightning.pytorch.tuner import Tuner\n",
    "from lightning.pytorch import Trainer\n",
    "from lightning.pytorch.callbacks import ModelCheckpoint, TQDMProgressBar, RichProgressBar, ModelSummary\n",
    "from lightning.pytorch.callbacks.early_stopping import EarlyStopping\n",
    "import logging\n",
    "import warnings\n",
    "warnings.filterwarnings(\"ignore\", \".*Consider increasing the value of the `num_workers` argument*\")\n",
    "warnings.filterwarnings(\"ignore\", \"Trying to infer the `batch_size` from an ambiguous collection.*\")\n",
    "torch.set_float32_matmul_precision('high')\n",
    "logging.getLogger(\"lightning.pytorch.utilities.rank_zero\").setLevel(logging.WARNING)\n",
    "logging.getLogger(\"lightning.pytorch.accelerators.cuda\").setLevel(logging.WARNING)\n",
    "\n",
    "# create subplots for confusion matrices\n",
    "fig, ax = plt.subplots(1, 3, figsize=(24, 16))\n",
    "\n",
    "# list for storing f1-scores:\n",
    "f1_scores = []\n",
    "\n",
    "# iterate over the 3 best trials during tuning\n",
    "for num, trial in enumerate(df_trials_wo_edge_attrs.iterrows()):\n",
    "    # retrieve the hyperparameters\n",
    "    learning_rate = trial[1]['params_learning_rate']\n",
    "    optimizer_name = trial[1]['params_optimizer']\n",
    "    dropout = trial[1]['params_dropout']\n",
    "    batch_size = trial[1]['params_batch_size']\n",
    "\n",
    "    # use best parameters from optuna\n",
    "    model = GCN(learning_rate=learning_rate, optimizer_name=optimizer_name, dropout=dropout)\n",
    "    n_epochs = batch_size * 4\n",
    "\n",
    "    # Define the data loaders\n",
    "    train_loader = DataLoader(X_train, batch_size=batch_size, shuffle=True,\n",
    "                                drop_last=True) # , num_workers=0, persistent_workers=True\n",
    "    val_loader = DataLoader(X_val, batch_size=len(X_val), shuffle=False,\n",
    "                                drop_last=True) # , num_workers=0, persistent_workers=True\n",
    "\n",
    "\n",
    "    checkpoint_callback = ModelCheckpoint(monitor='val_f1',\n",
    "                                        mode='max',\n",
    "                                        save_top_k=5,\n",
    "                                        filename='{epoch}-{train_loss:.2f}-{train_f1:.2f}-{val_loss:.2f}-{val_f1:.2f}',\n",
    "                                        )\n",
    "\n",
    "\n",
    "    trainer = Trainer(callbacks=[checkpoint_callback, ModelSummary(max_depth=0)],\n",
    "                    accelerator='gpu',\n",
    "                    max_epochs=n_epochs,\n",
    "                    enable_progress_bar=False,\n",
    "                    check_val_every_n_epoch=10,\n",
    "                    log_every_n_steps=10,\n",
    "                    deterministic=False,\n",
    "                    )\n",
    "\n",
    "    trainer.fit(model, train_loader, val_loader)\n",
    "\n",
    "    print()\n",
    "    print(f'Final evaluation #{num+1} trial:')\n",
    "    # get evaluation of best model checkpoint\n",
    "    trainer.validate(model, val_loader, ckpt_path='best')\n",
    "\n",
    "    # compute confusion matrix and classification report with sklearn of best model checkpoint\n",
    "    from sklearn.metrics import f1_score, classification_report, confusion_matrix, ConfusionMatrixDisplay\n",
    "    y_pred = trainer.predict(model, val_loader, ckpt_path='best')\n",
    "    y_pred = np.concatenate(y_pred).flatten()\n",
    "    y = Y_val\n",
    "\n",
    "    class_labels = le.inverse_transform(sorted(np.unique(y)))\n",
    "    print('classification report:\\n', classification_report(y, y_pred, target_names=class_labels))\n",
    "    f1_scores.append(f1_score(y, y_pred, average=\"macro\"))\n",
    "\n",
    "    # plot confusion matrix\n",
    "    conf_matrix = confusion_matrix(y, y_pred)\n",
    "    ConfusionMatrixDisplay(conf_matrix, display_labels = class_labels).plot(cmap = 'Blues', values_format = 'd', colorbar=False, ax=ax[num])\n",
    "    ax[num].set_title(f'Confusion matrix {num+1}, f1: {f1_score(y, y_pred, average=\"macro\"):.4f}')\n",
    "print(f'Mean f1-score 3 best trials: {np.mean(f1_scores):.4f}')\n",
    "print(f'STD f1-score 3 best trials: {np.std(f1_scores):.4f}')"
   ]
  },
  {
   "cell_type": "markdown",
   "metadata": {},
   "source": [
    "### Model: graphLambda without edge_attr"
   ]
  },
  {
   "cell_type": "code",
   "execution_count": 35,
   "metadata": {
    "execution": {
     "iopub.execute_input": "2024-06-19T13:17:09.123424Z",
     "iopub.status.busy": "2024-06-19T13:17:09.123185Z",
     "iopub.status.idle": "2024-06-19T13:17:09.135851Z",
     "shell.execute_reply": "2024-06-19T13:17:09.135302Z"
    }
   },
   "outputs": [
    {
     "data": {
      "text/html": [
       "<div>\n",
       "<style scoped>\n",
       "    .dataframe tbody tr th:only-of-type {\n",
       "        vertical-align: middle;\n",
       "    }\n",
       "\n",
       "    .dataframe tbody tr th {\n",
       "        vertical-align: top;\n",
       "    }\n",
       "\n",
       "    .dataframe thead th {\n",
       "        text-align: right;\n",
       "    }\n",
       "</style>\n",
       "<table border=\"1\" class=\"dataframe\">\n",
       "  <thead>\n",
       "    <tr style=\"text-align: right;\">\n",
       "      <th></th>\n",
       "      <th>number</th>\n",
       "      <th>value</th>\n",
       "      <th>datetime_start</th>\n",
       "      <th>datetime_complete</th>\n",
       "      <th>duration</th>\n",
       "      <th>params_batch_size</th>\n",
       "      <th>params_dropout</th>\n",
       "      <th>params_fc_layers</th>\n",
       "      <th>params_learning_rate</th>\n",
       "      <th>params_optimizer</th>\n",
       "      <th>state</th>\n",
       "    </tr>\n",
       "  </thead>\n",
       "  <tbody>\n",
       "    <tr>\n",
       "      <th>76</th>\n",
       "      <td>76</td>\n",
       "      <td>0.281268</td>\n",
       "      <td>2024-06-06 16:12:26.757065</td>\n",
       "      <td>2024-06-06 16:17:01.582288</td>\n",
       "      <td>0 days 00:04:34.825223</td>\n",
       "      <td>510</td>\n",
       "      <td>0.435365</td>\n",
       "      <td>3</td>\n",
       "      <td>0.000049</td>\n",
       "      <td>RMSprop</td>\n",
       "      <td>COMPLETE</td>\n",
       "    </tr>\n",
       "    <tr>\n",
       "      <th>33</th>\n",
       "      <td>33</td>\n",
       "      <td>0.278264</td>\n",
       "      <td>2024-06-06 14:04:22.465705</td>\n",
       "      <td>2024-06-06 14:08:59.892419</td>\n",
       "      <td>0 days 00:04:37.426714</td>\n",
       "      <td>510</td>\n",
       "      <td>0.402286</td>\n",
       "      <td>4</td>\n",
       "      <td>0.000110</td>\n",
       "      <td>RMSprop</td>\n",
       "      <td>COMPLETE</td>\n",
       "    </tr>\n",
       "    <tr>\n",
       "      <th>94</th>\n",
       "      <td>94</td>\n",
       "      <td>0.273395</td>\n",
       "      <td>2024-06-06 17:11:24.504025</td>\n",
       "      <td>2024-06-06 17:15:57.300219</td>\n",
       "      <td>0 days 00:04:32.796194</td>\n",
       "      <td>510</td>\n",
       "      <td>0.422156</td>\n",
       "      <td>4</td>\n",
       "      <td>0.000055</td>\n",
       "      <td>RMSprop</td>\n",
       "      <td>COMPLETE</td>\n",
       "    </tr>\n",
       "  </tbody>\n",
       "</table>\n",
       "</div>"
      ],
      "text/plain": [
       "    number     value             datetime_start          datetime_complete  \\\n",
       "76      76  0.281268 2024-06-06 16:12:26.757065 2024-06-06 16:17:01.582288   \n",
       "33      33  0.278264 2024-06-06 14:04:22.465705 2024-06-06 14:08:59.892419   \n",
       "94      94  0.273395 2024-06-06 17:11:24.504025 2024-06-06 17:15:57.300219   \n",
       "\n",
       "                 duration  params_batch_size  params_dropout  \\\n",
       "76 0 days 00:04:34.825223                510        0.435365   \n",
       "33 0 days 00:04:37.426714                510        0.402286   \n",
       "94 0 days 00:04:32.796194                510        0.422156   \n",
       "\n",
       "    params_fc_layers  params_learning_rate params_optimizer     state  \n",
       "76                 3              0.000049          RMSprop  COMPLETE  \n",
       "33                 4              0.000110          RMSprop  COMPLETE  \n",
       "94                 4              0.000055          RMSprop  COMPLETE  "
      ]
     },
     "execution_count": 35,
     "metadata": {},
     "output_type": "execute_result"
    }
   ],
   "source": [
    "# import best trials from tuning\n",
    "ratio_df_trials_wo_edge_attrs = pd.read_pickle('ratio_results_wo_edge_attrs_trials.pkl')\n",
    "ratio_df_trials_wo_edge_attrs = ratio_df_trials_wo_edge_attrs.sort_values('value', ascending=False).head(3)\n",
    "ratio_df_trials_wo_edge_attrs"
   ]
  },
  {
   "cell_type": "code",
   "execution_count": 36,
   "metadata": {
    "execution": {
     "iopub.execute_input": "2024-06-19T13:17:09.138776Z",
     "iopub.status.busy": "2024-06-19T13:17:09.138589Z",
     "iopub.status.idle": "2024-06-19T13:27:46.518099Z",
     "shell.execute_reply": "2024-06-19T13:27:46.517521Z"
    }
   },
   "outputs": [
    {
     "name": "stderr",
     "output_type": "stream",
     "text": [
      "/home/tsmolders/.conda/envs/py3117/lib/python3.11/site-packages/lightning/pytorch/loops/fit_loop.py:298: The number of training batches (3) is smaller than the logging interval Trainer(log_every_n_steps=10). Set a lower value for log_every_n_steps if you want to see logs for the training epoch.\n"
     ]
    },
    {
     "name": "stdout",
     "output_type": "stream",
     "text": [
      "\n",
      "Final evaluation #1 trial:\n"
     ]
    },
    {
     "data": {
      "text/html": [
       "<pre style=\"white-space:pre;overflow-x:auto;line-height:normal;font-family:Menlo,'DejaVu Sans Mono',consolas,'Courier New',monospace\">┏━━━━━━━━━━━━━━━━━━━━━━━━━━━┳━━━━━━━━━━━━━━━━━━━━━━━━━━━┓\n",
       "┃<span style=\"font-weight: bold\">      Validate metric      </span>┃<span style=\"font-weight: bold\">       DataLoader 0        </span>┃\n",
       "┡━━━━━━━━━━━━━━━━━━━━━━━━━━━╇━━━━━━━━━━━━━━━━━━━━━━━━━━━┩\n",
       "│<span style=\"color: #008080; text-decoration-color: #008080\">          val_f1           </span>│<span style=\"color: #800080; text-decoration-color: #800080\">     0.286572128534317     </span>│\n",
       "│<span style=\"color: #008080; text-decoration-color: #008080\">         val_loss          </span>│<span style=\"color: #800080; text-decoration-color: #800080\">     2.280555248260498     </span>│\n",
       "└───────────────────────────┴───────────────────────────┘\n",
       "</pre>\n"
      ],
      "text/plain": [
       "┏━━━━━━━━━━━━━━━━━━━━━━━━━━━┳━━━━━━━━━━━━━━━━━━━━━━━━━━━┓\n",
       "┃\u001b[1m \u001b[0m\u001b[1m     Validate metric     \u001b[0m\u001b[1m \u001b[0m┃\u001b[1m \u001b[0m\u001b[1m      DataLoader 0       \u001b[0m\u001b[1m \u001b[0m┃\n",
       "┡━━━━━━━━━━━━━━━━━━━━━━━━━━━╇━━━━━━━━━━━━━━━━━━━━━━━━━━━┩\n",
       "│\u001b[36m \u001b[0m\u001b[36m         val_f1          \u001b[0m\u001b[36m \u001b[0m│\u001b[35m \u001b[0m\u001b[35m    0.286572128534317    \u001b[0m\u001b[35m \u001b[0m│\n",
       "│\u001b[36m \u001b[0m\u001b[36m        val_loss         \u001b[0m\u001b[36m \u001b[0m│\u001b[35m \u001b[0m\u001b[35m    2.280555248260498    \u001b[0m\u001b[35m \u001b[0m│\n",
       "└───────────────────────────┴───────────────────────────┘\n"
      ]
     },
     "metadata": {},
     "output_type": "display_data"
    },
    {
     "name": "stdout",
     "output_type": "stream",
     "text": [
      "classification report:\n",
      "               precision    recall  f1-score   support\n",
      "\n",
      "        ADHD       0.35      0.34      0.35       108\n",
      "     HEALTHY       0.25      0.24      0.25       108\n",
      "         MDD       0.27      0.28      0.27       108\n",
      "         OCD       0.28      0.32      0.30       108\n",
      "         SMC       0.28      0.25      0.26       108\n",
      "\n",
      "    accuracy                           0.29       540\n",
      "   macro avg       0.29      0.29      0.29       540\n",
      "weighted avg       0.29      0.29      0.29       540\n",
      "\n"
     ]
    },
    {
     "name": "stderr",
     "output_type": "stream",
     "text": [
      "/home/tsmolders/.conda/envs/py3117/lib/python3.11/site-packages/lightning/pytorch/loops/fit_loop.py:298: The number of training batches (3) is smaller than the logging interval Trainer(log_every_n_steps=10). Set a lower value for log_every_n_steps if you want to see logs for the training epoch.\n"
     ]
    },
    {
     "name": "stdout",
     "output_type": "stream",
     "text": [
      "\n",
      "Final evaluation #2 trial:\n"
     ]
    },
    {
     "data": {
      "text/html": [
       "<pre style=\"white-space:pre;overflow-x:auto;line-height:normal;font-family:Menlo,'DejaVu Sans Mono',consolas,'Courier New',monospace\">┏━━━━━━━━━━━━━━━━━━━━━━━━━━━┳━━━━━━━━━━━━━━━━━━━━━━━━━━━┓\n",
       "┃<span style=\"font-weight: bold\">      Validate metric      </span>┃<span style=\"font-weight: bold\">       DataLoader 0        </span>┃\n",
       "┡━━━━━━━━━━━━━━━━━━━━━━━━━━━╇━━━━━━━━━━━━━━━━━━━━━━━━━━━┩\n",
       "│<span style=\"color: #008080; text-decoration-color: #008080\">          val_f1           </span>│<span style=\"color: #800080; text-decoration-color: #800080\">    0.2748899757862091     </span>│\n",
       "│<span style=\"color: #008080; text-decoration-color: #008080\">         val_loss          </span>│<span style=\"color: #800080; text-decoration-color: #800080\">    1.7389413118362427     </span>│\n",
       "└───────────────────────────┴───────────────────────────┘\n",
       "</pre>\n"
      ],
      "text/plain": [
       "┏━━━━━━━━━━━━━━━━━━━━━━━━━━━┳━━━━━━━━━━━━━━━━━━━━━━━━━━━┓\n",
       "┃\u001b[1m \u001b[0m\u001b[1m     Validate metric     \u001b[0m\u001b[1m \u001b[0m┃\u001b[1m \u001b[0m\u001b[1m      DataLoader 0       \u001b[0m\u001b[1m \u001b[0m┃\n",
       "┡━━━━━━━━━━━━━━━━━━━━━━━━━━━╇━━━━━━━━━━━━━━━━━━━━━━━━━━━┩\n",
       "│\u001b[36m \u001b[0m\u001b[36m         val_f1          \u001b[0m\u001b[36m \u001b[0m│\u001b[35m \u001b[0m\u001b[35m   0.2748899757862091    \u001b[0m\u001b[35m \u001b[0m│\n",
       "│\u001b[36m \u001b[0m\u001b[36m        val_loss         \u001b[0m\u001b[36m \u001b[0m│\u001b[35m \u001b[0m\u001b[35m   1.7389413118362427    \u001b[0m\u001b[35m \u001b[0m│\n",
       "└───────────────────────────┴───────────────────────────┘\n"
      ]
     },
     "metadata": {},
     "output_type": "display_data"
    },
    {
     "name": "stdout",
     "output_type": "stream",
     "text": [
      "classification report:\n",
      "               precision    recall  f1-score   support\n",
      "\n",
      "        ADHD       0.33      0.30      0.31       108\n",
      "     HEALTHY       0.26      0.35      0.30       108\n",
      "         MDD       0.24      0.27      0.25       108\n",
      "         OCD       0.26      0.21      0.24       108\n",
      "         SMC       0.30      0.25      0.27       108\n",
      "\n",
      "    accuracy                           0.28       540\n",
      "   macro avg       0.28      0.28      0.27       540\n",
      "weighted avg       0.28      0.28      0.27       540\n",
      "\n"
     ]
    },
    {
     "name": "stderr",
     "output_type": "stream",
     "text": [
      "/home/tsmolders/.conda/envs/py3117/lib/python3.11/site-packages/lightning/pytorch/loops/fit_loop.py:298: The number of training batches (3) is smaller than the logging interval Trainer(log_every_n_steps=10). Set a lower value for log_every_n_steps if you want to see logs for the training epoch.\n"
     ]
    },
    {
     "name": "stdout",
     "output_type": "stream",
     "text": [
      "\n",
      "Final evaluation #3 trial:\n"
     ]
    },
    {
     "data": {
      "text/html": [
       "<pre style=\"white-space:pre;overflow-x:auto;line-height:normal;font-family:Menlo,'DejaVu Sans Mono',consolas,'Courier New',monospace\">┏━━━━━━━━━━━━━━━━━━━━━━━━━━━┳━━━━━━━━━━━━━━━━━━━━━━━━━━━┓\n",
       "┃<span style=\"font-weight: bold\">      Validate metric      </span>┃<span style=\"font-weight: bold\">       DataLoader 0        </span>┃\n",
       "┡━━━━━━━━━━━━━━━━━━━━━━━━━━━╇━━━━━━━━━━━━━━━━━━━━━━━━━━━┩\n",
       "│<span style=\"color: #008080; text-decoration-color: #008080\">          val_f1           </span>│<span style=\"color: #800080; text-decoration-color: #800080\">    0.3084350824356079     </span>│\n",
       "│<span style=\"color: #008080; text-decoration-color: #008080\">         val_loss          </span>│<span style=\"color: #800080; text-decoration-color: #800080\">    1.6264678239822388     </span>│\n",
       "└───────────────────────────┴───────────────────────────┘\n",
       "</pre>\n"
      ],
      "text/plain": [
       "┏━━━━━━━━━━━━━━━━━━━━━━━━━━━┳━━━━━━━━━━━━━━━━━━━━━━━━━━━┓\n",
       "┃\u001b[1m \u001b[0m\u001b[1m     Validate metric     \u001b[0m\u001b[1m \u001b[0m┃\u001b[1m \u001b[0m\u001b[1m      DataLoader 0       \u001b[0m\u001b[1m \u001b[0m┃\n",
       "┡━━━━━━━━━━━━━━━━━━━━━━━━━━━╇━━━━━━━━━━━━━━━━━━━━━━━━━━━┩\n",
       "│\u001b[36m \u001b[0m\u001b[36m         val_f1          \u001b[0m\u001b[36m \u001b[0m│\u001b[35m \u001b[0m\u001b[35m   0.3084350824356079    \u001b[0m\u001b[35m \u001b[0m│\n",
       "│\u001b[36m \u001b[0m\u001b[36m        val_loss         \u001b[0m\u001b[36m \u001b[0m│\u001b[35m \u001b[0m\u001b[35m   1.6264678239822388    \u001b[0m\u001b[35m \u001b[0m│\n",
       "└───────────────────────────┴───────────────────────────┘\n"
      ]
     },
     "metadata": {},
     "output_type": "display_data"
    },
    {
     "name": "stdout",
     "output_type": "stream",
     "text": [
      "classification report:\n",
      "               precision    recall  f1-score   support\n",
      "\n",
      "        ADHD       0.43      0.40      0.41       108\n",
      "     HEALTHY       0.29      0.28      0.29       108\n",
      "         MDD       0.25      0.30      0.27       108\n",
      "         OCD       0.29      0.31      0.30       108\n",
      "         SMC       0.29      0.26      0.27       108\n",
      "\n",
      "    accuracy                           0.31       540\n",
      "   macro avg       0.31      0.31      0.31       540\n",
      "weighted avg       0.31      0.31      0.31       540\n",
      "\n",
      "Mean f1-score 3 best trials: 0.2900\n",
      "STD f1-score 3 best trials: 0.0139\n"
     ]
    },
    {
     "data": {
      "image/png": "[encoded data removed]",
      "text/plain": [
       "<Figure size 2400x1600 with 3 Axes>"
      ]
     },
     "metadata": {},
     "output_type": "display_data"
    }
   ],
   "source": [
    "from lightning.pytorch.tuner import Tuner\n",
    "from lightning.pytorch import Trainer, seed_everything\n",
    "from lightning.pytorch.callbacks import ModelCheckpoint, TQDMProgressBar, RichProgressBar, ModelSummary\n",
    "from lightning.pytorch.callbacks.early_stopping import EarlyStopping\n",
    "import logging\n",
    "import warnings\n",
    "warnings.filterwarnings(\"ignore\", \".*Consider increasing the value of the `num_workers` argument*\")\n",
    "warnings.filterwarnings(\"ignore\", \"Trying to infer the `batch_size` from an ambiguous collection.*\")\n",
    "torch.set_float32_matmul_precision('high')\n",
    "logging.getLogger(\"lightning.pytorch.utilities.rank_zero\").setLevel(logging.WARNING)\n",
    "logging.getLogger(\"lightning.pytorch.accelerators.cuda\").setLevel(logging.WARNING)\n",
    "\n",
    "# create subplots for confusion matrices\n",
    "fig, ax = plt.subplots(1, 3, figsize=(24, 16))\n",
    "\n",
    "# list for storing f1-scores:\n",
    "f1_scores = []\n",
    "\n",
    "# iterate over the 3 best trials during tuning\n",
    "for num, trial in enumerate(ratio_df_trials_wo_edge_attrs.iterrows()):\n",
    "    # retrieve the hyperparameters\n",
    "    learning_rate = trial[1]['params_learning_rate']\n",
    "    optimizer_name = trial[1]['params_optimizer']\n",
    "    fc_layers = trial[1]['params_fc_layers']\n",
    "    dropout = trial[1]['params_dropout']\n",
    "    batch_size = trial[1]['params_batch_size']\n",
    "    n_epochs = batch_size * 4\n",
    "    # use best parameters from optuna\n",
    "    model = graphLambda_wo_edge_attr(learning_rate=learning_rate, optimizer_name=optimizer_name, fc_layers=fc_layers, dropout=dropout)\n",
    "\n",
    "    # Define the data loaders\n",
    "    train_loader = DataLoader(X_train, batch_size=batch_size, shuffle=True,\n",
    "                                drop_last=True) # , num_workers=0, persistent_workers=True\n",
    "    val_loader = DataLoader(X_val, batch_size=len(X_val), shuffle=False,\n",
    "                                drop_last=True) # , num_workers=0, persistent_workers=True\n",
    "\n",
    "\n",
    "    checkpoint_callback = ModelCheckpoint(monitor='val_f1',\n",
    "                                        mode='max',\n",
    "                                        save_top_k=5,\n",
    "                                        filename='{epoch}-{train_loss:.2f}-{train_f1:.2f}-{val_loss:.2f}-{val_f1:.2f}',\n",
    "                                        )\n",
    "\n",
    "\n",
    "    trainer = Trainer(callbacks=[checkpoint_callback, ModelSummary(max_depth=0)],\n",
    "                    accelerator='gpu',\n",
    "                    max_epochs=n_epochs,\n",
    "                    enable_progress_bar=False,\n",
    "                    check_val_every_n_epoch=10,\n",
    "                    log_every_n_steps=10,\n",
    "                    deterministic=False,\n",
    "                    )\n",
    "\n",
    "    trainer.fit(model, train_loader, val_loader)\n",
    "\n",
    "    print()\n",
    "    print(f'Final evaluation #{num+1} trial:')\n",
    "    # get evaluation of best model checkpoint\n",
    "    trainer.validate(model, val_loader, ckpt_path='best')\n",
    "\n",
    "    # compute confusion matrix and classification report with sklearn of best model checkpoint\n",
    "    from sklearn.metrics import f1_score, classification_report, confusion_matrix, ConfusionMatrixDisplay\n",
    "    y_pred = trainer.predict(model, val_loader, ckpt_path='best')\n",
    "    y_pred = np.concatenate(y_pred).flatten()\n",
    "    y = Y_val\n",
    "\n",
    "    class_labels = le.inverse_transform(sorted(np.unique(y)))\n",
    "    print('classification report:\\n', classification_report(y, y_pred, target_names=class_labels))\n",
    "    f1_scores.append(f1_score(y, y_pred, average=\"macro\"))\n",
    "\n",
    "    # plot confusion matrix\n",
    "    conf_matrix = confusion_matrix(y, y_pred)\n",
    "    ConfusionMatrixDisplay(conf_matrix, display_labels = class_labels).plot(cmap = 'Blues', values_format = 'd', colorbar=False, ax=ax[num])\n",
    "    ax[num].set_title(f'Confusion matrix {num+1}, f1: {f1_score(y, y_pred, average=\"macro\"):.4f}')\n",
    "print(f'Mean f1-score 3 best trials: {np.mean(f1_scores):.4f}')\n",
    "print(f'STD f1-score 3 best trials: {np.std(f1_scores):.4f}')"
   ]
  },
  {
   "cell_type": "markdown",
   "metadata": {},
   "source": [
    "### Model: graphLambda with edge_attr"
   ]
  },
  {
   "cell_type": "code",
   "execution_count": 37,
   "metadata": {
    "execution": {
     "iopub.execute_input": "2024-06-19T13:27:46.522280Z",
     "iopub.status.busy": "2024-06-19T13:27:46.522044Z",
     "iopub.status.idle": "2024-06-19T13:27:46.533669Z",
     "shell.execute_reply": "2024-06-19T13:27:46.533150Z"
    }
   },
   "outputs": [
    {
     "data": {
      "text/html": [
       "<div>\n",
       "<style scoped>\n",
       "    .dataframe tbody tr th:only-of-type {\n",
       "        vertical-align: middle;\n",
       "    }\n",
       "\n",
       "    .dataframe tbody tr th {\n",
       "        vertical-align: top;\n",
       "    }\n",
       "\n",
       "    .dataframe thead th {\n",
       "        text-align: right;\n",
       "    }\n",
       "</style>\n",
       "<table border=\"1\" class=\"dataframe\">\n",
       "  <thead>\n",
       "    <tr style=\"text-align: right;\">\n",
       "      <th></th>\n",
       "      <th>number</th>\n",
       "      <th>value</th>\n",
       "      <th>datetime_start</th>\n",
       "      <th>datetime_complete</th>\n",
       "      <th>duration</th>\n",
       "      <th>params_batch_size</th>\n",
       "      <th>params_dropout</th>\n",
       "      <th>params_fc_layers</th>\n",
       "      <th>params_learning_rate</th>\n",
       "      <th>params_optimizer</th>\n",
       "      <th>state</th>\n",
       "    </tr>\n",
       "  </thead>\n",
       "  <tbody>\n",
       "    <tr>\n",
       "      <th>32</th>\n",
       "      <td>32</td>\n",
       "      <td>0.292708</td>\n",
       "      <td>2024-06-06 18:49:05.129860</td>\n",
       "      <td>2024-06-06 18:58:00.333058</td>\n",
       "      <td>0 days 00:08:55.203198</td>\n",
       "      <td>850</td>\n",
       "      <td>0.430760</td>\n",
       "      <td>6</td>\n",
       "      <td>0.000019</td>\n",
       "      <td>Adam</td>\n",
       "      <td>COMPLETE</td>\n",
       "    </tr>\n",
       "    <tr>\n",
       "      <th>89</th>\n",
       "      <td>89</td>\n",
       "      <td>0.288002</td>\n",
       "      <td>2024-06-06 23:19:19.487520</td>\n",
       "      <td>2024-06-06 23:24:47.941152</td>\n",
       "      <td>0 days 00:05:28.453632</td>\n",
       "      <td>510</td>\n",
       "      <td>0.058513</td>\n",
       "      <td>6</td>\n",
       "      <td>0.000082</td>\n",
       "      <td>Adam</td>\n",
       "      <td>COMPLETE</td>\n",
       "    </tr>\n",
       "    <tr>\n",
       "      <th>25</th>\n",
       "      <td>25</td>\n",
       "      <td>0.276267</td>\n",
       "      <td>2024-06-06 18:33:04.958727</td>\n",
       "      <td>2024-06-06 18:36:08.201207</td>\n",
       "      <td>0 days 00:03:03.242480</td>\n",
       "      <td>170</td>\n",
       "      <td>0.386134</td>\n",
       "      <td>6</td>\n",
       "      <td>0.000331</td>\n",
       "      <td>Adam</td>\n",
       "      <td>COMPLETE</td>\n",
       "    </tr>\n",
       "  </tbody>\n",
       "</table>\n",
       "</div>"
      ],
      "text/plain": [
       "    number     value             datetime_start          datetime_complete  \\\n",
       "32      32  0.292708 2024-06-06 18:49:05.129860 2024-06-06 18:58:00.333058   \n",
       "89      89  0.288002 2024-06-06 23:19:19.487520 2024-06-06 23:24:47.941152   \n",
       "25      25  0.276267 2024-06-06 18:33:04.958727 2024-06-06 18:36:08.201207   \n",
       "\n",
       "                 duration  params_batch_size  params_dropout  \\\n",
       "32 0 days 00:08:55.203198                850        0.430760   \n",
       "89 0 days 00:05:28.453632                510        0.058513   \n",
       "25 0 days 00:03:03.242480                170        0.386134   \n",
       "\n",
       "    params_fc_layers  params_learning_rate params_optimizer     state  \n",
       "32                 6              0.000019             Adam  COMPLETE  \n",
       "89                 6              0.000082             Adam  COMPLETE  \n",
       "25                 6              0.000331             Adam  COMPLETE  "
      ]
     },
     "execution_count": 37,
     "metadata": {},
     "output_type": "execute_result"
    }
   ],
   "source": [
    "# import best trials from tuning\n",
    "ratio_df_trials_w_edge_attrs = pd.read_pickle('ratio_results_w_edge_attrs_trials.pkl')\n",
    "ratio_df_trials_w_edge_attrs = ratio_df_trials_w_edge_attrs.sort_values('value', ascending=False).head(3)\n",
    "ratio_df_trials_w_edge_attrs"
   ]
  },
  {
   "cell_type": "code",
   "execution_count": 38,
   "metadata": {
    "execution": {
     "iopub.execute_input": "2024-06-19T13:27:46.535879Z",
     "iopub.status.busy": "2024-06-19T13:27:46.535676Z",
     "iopub.status.idle": "2024-06-19T13:39:11.344567Z",
     "shell.execute_reply": "2024-06-19T13:39:11.343986Z"
    }
   },
   "outputs": [
    {
     "name": "stderr",
     "output_type": "stream",
     "text": [
      "/home/tsmolders/.conda/envs/py3117/lib/python3.11/site-packages/lightning/pytorch/loops/fit_loop.py:298: The number of training batches (2) is smaller than the logging interval Trainer(log_every_n_steps=10). Set a lower value for log_every_n_steps if you want to see logs for the training epoch.\n"
     ]
    },
    {
     "name": "stdout",
     "output_type": "stream",
     "text": [
      "\n",
      "Final evaluation #1 trial:\n"
     ]
    },
    {
     "data": {
      "text/html": [
       "<pre style=\"white-space:pre;overflow-x:auto;line-height:normal;font-family:Menlo,'DejaVu Sans Mono',consolas,'Courier New',monospace\">┏━━━━━━━━━━━━━━━━━━━━━━━━━━━┳━━━━━━━━━━━━━━━━━━━━━━━━━━━┓\n",
       "┃<span style=\"font-weight: bold\">      Validate metric      </span>┃<span style=\"font-weight: bold\">       DataLoader 0        </span>┃\n",
       "┡━━━━━━━━━━━━━━━━━━━━━━━━━━━╇━━━━━━━━━━━━━━━━━━━━━━━━━━━┩\n",
       "│<span style=\"color: #008080; text-decoration-color: #008080\">          val_f1           </span>│<span style=\"color: #800080; text-decoration-color: #800080\">    0.27061665058135986    </span>│\n",
       "│<span style=\"color: #008080; text-decoration-color: #008080\">         val_loss          </span>│<span style=\"color: #800080; text-decoration-color: #800080\">     3.407076358795166     </span>│\n",
       "└───────────────────────────┴───────────────────────────┘\n",
       "</pre>\n"
      ],
      "text/plain": [
       "┏━━━━━━━━━━━━━━━━━━━━━━━━━━━┳━━━━━━━━━━━━━━━━━━━━━━━━━━━┓\n",
       "┃\u001b[1m \u001b[0m\u001b[1m     Validate metric     \u001b[0m\u001b[1m \u001b[0m┃\u001b[1m \u001b[0m\u001b[1m      DataLoader 0       \u001b[0m\u001b[1m \u001b[0m┃\n",
       "┡━━━━━━━━━━━━━━━━━━━━━━━━━━━╇━━━━━━━━━━━━━━━━━━━━━━━━━━━┩\n",
       "│\u001b[36m \u001b[0m\u001b[36m         val_f1          \u001b[0m\u001b[36m \u001b[0m│\u001b[35m \u001b[0m\u001b[35m   0.27061665058135986   \u001b[0m\u001b[35m \u001b[0m│\n",
       "│\u001b[36m \u001b[0m\u001b[36m        val_loss         \u001b[0m\u001b[36m \u001b[0m│\u001b[35m \u001b[0m\u001b[35m    3.407076358795166    \u001b[0m\u001b[35m \u001b[0m│\n",
       "└───────────────────────────┴───────────────────────────┘\n"
      ]
     },
     "metadata": {},
     "output_type": "display_data"
    },
    {
     "name": "stdout",
     "output_type": "stream",
     "text": [
      "classification report:\n",
      "               precision    recall  f1-score   support\n",
      "\n",
      "        ADHD       0.37      0.31      0.34       108\n",
      "     HEALTHY       0.35      0.26      0.30       108\n",
      "         MDD       0.21      0.26      0.23       108\n",
      "         OCD       0.22      0.31      0.26       108\n",
      "         SMC       0.25      0.20      0.23       108\n",
      "\n",
      "    accuracy                           0.27       540\n",
      "   macro avg       0.28      0.27      0.27       540\n",
      "weighted avg       0.28      0.27      0.27       540\n",
      "\n"
     ]
    },
    {
     "name": "stderr",
     "output_type": "stream",
     "text": [
      "/home/tsmolders/.conda/envs/py3117/lib/python3.11/site-packages/lightning/pytorch/loops/fit_loop.py:298: The number of training batches (3) is smaller than the logging interval Trainer(log_every_n_steps=10). Set a lower value for log_every_n_steps if you want to see logs for the training epoch.\n"
     ]
    },
    {
     "name": "stdout",
     "output_type": "stream",
     "text": [
      "\n",
      "Final evaluation #2 trial:\n"
     ]
    },
    {
     "data": {
      "text/html": [
       "<pre style=\"white-space:pre;overflow-x:auto;line-height:normal;font-family:Menlo,'DejaVu Sans Mono',consolas,'Courier New',monospace\">┏━━━━━━━━━━━━━━━━━━━━━━━━━━━┳━━━━━━━━━━━━━━━━━━━━━━━━━━━┓\n",
       "┃<span style=\"font-weight: bold\">      Validate metric      </span>┃<span style=\"font-weight: bold\">       DataLoader 0        </span>┃\n",
       "┡━━━━━━━━━━━━━━━━━━━━━━━━━━━╇━━━━━━━━━━━━━━━━━━━━━━━━━━━┩\n",
       "│<span style=\"color: #008080; text-decoration-color: #008080\">          val_f1           </span>│<span style=\"color: #800080; text-decoration-color: #800080\">    0.3096972107887268     </span>│\n",
       "│<span style=\"color: #008080; text-decoration-color: #008080\">         val_loss          </span>│<span style=\"color: #800080; text-decoration-color: #800080\">     4.348743438720703     </span>│\n",
       "└───────────────────────────┴───────────────────────────┘\n",
       "</pre>\n"
      ],
      "text/plain": [
       "┏━━━━━━━━━━━━━━━━━━━━━━━━━━━┳━━━━━━━━━━━━━━━━━━━━━━━━━━━┓\n",
       "┃\u001b[1m \u001b[0m\u001b[1m     Validate metric     \u001b[0m\u001b[1m \u001b[0m┃\u001b[1m \u001b[0m\u001b[1m      DataLoader 0       \u001b[0m\u001b[1m \u001b[0m┃\n",
       "┡━━━━━━━━━━━━━━━━━━━━━━━━━━━╇━━━━━━━━━━━━━━━━━━━━━━━━━━━┩\n",
       "│\u001b[36m \u001b[0m\u001b[36m         val_f1          \u001b[0m\u001b[36m \u001b[0m│\u001b[35m \u001b[0m\u001b[35m   0.3096972107887268    \u001b[0m\u001b[35m \u001b[0m│\n",
       "│\u001b[36m \u001b[0m\u001b[36m        val_loss         \u001b[0m\u001b[36m \u001b[0m│\u001b[35m \u001b[0m\u001b[35m    4.348743438720703    \u001b[0m\u001b[35m \u001b[0m│\n",
       "└───────────────────────────┴───────────────────────────┘\n"
      ]
     },
     "metadata": {},
     "output_type": "display_data"
    },
    {
     "name": "stdout",
     "output_type": "stream",
     "text": [
      "classification report:\n",
      "               precision    recall  f1-score   support\n",
      "\n",
      "        ADHD       0.46      0.38      0.41       108\n",
      "     HEALTHY       0.25      0.23      0.24       108\n",
      "         MDD       0.25      0.30      0.27       108\n",
      "         OCD       0.27      0.31      0.29       108\n",
      "         SMC       0.34      0.31      0.33       108\n",
      "\n",
      "    accuracy                           0.31       540\n",
      "   macro avg       0.31      0.31      0.31       540\n",
      "weighted avg       0.31      0.31      0.31       540\n",
      "\n",
      "\n",
      "Final evaluation #3 trial:\n"
     ]
    },
    {
     "data": {
      "text/html": [
       "<pre style=\"white-space:pre;overflow-x:auto;line-height:normal;font-family:Menlo,'DejaVu Sans Mono',consolas,'Courier New',monospace\">┏━━━━━━━━━━━━━━━━━━━━━━━━━━━┳━━━━━━━━━━━━━━━━━━━━━━━━━━━┓\n",
       "┃<span style=\"font-weight: bold\">      Validate metric      </span>┃<span style=\"font-weight: bold\">       DataLoader 0        </span>┃\n",
       "┡━━━━━━━━━━━━━━━━━━━━━━━━━━━╇━━━━━━━━━━━━━━━━━━━━━━━━━━━┩\n",
       "│<span style=\"color: #008080; text-decoration-color: #008080\">          val_f1           </span>│<span style=\"color: #800080; text-decoration-color: #800080\">     0.295771062374115     </span>│\n",
       "│<span style=\"color: #008080; text-decoration-color: #008080\">         val_loss          </span>│<span style=\"color: #800080; text-decoration-color: #800080\">    3.7846217155456543     </span>│\n",
       "└───────────────────────────┴───────────────────────────┘\n",
       "</pre>\n"
      ],
      "text/plain": [
       "┏━━━━━━━━━━━━━━━━━━━━━━━━━━━┳━━━━━━━━━━━━━━━━━━━━━━━━━━━┓\n",
       "┃\u001b[1m \u001b[0m\u001b[1m     Validate metric     \u001b[0m\u001b[1m \u001b[0m┃\u001b[1m \u001b[0m\u001b[1m      DataLoader 0       \u001b[0m\u001b[1m \u001b[0m┃\n",
       "┡━━━━━━━━━━━━━━━━━━━━━━━━━━━╇━━━━━━━━━━━━━━━━━━━━━━━━━━━┩\n",
       "│\u001b[36m \u001b[0m\u001b[36m         val_f1          \u001b[0m\u001b[36m \u001b[0m│\u001b[35m \u001b[0m\u001b[35m    0.295771062374115    \u001b[0m\u001b[35m \u001b[0m│\n",
       "│\u001b[36m \u001b[0m\u001b[36m        val_loss         \u001b[0m\u001b[36m \u001b[0m│\u001b[35m \u001b[0m\u001b[35m   3.7846217155456543    \u001b[0m\u001b[35m \u001b[0m│\n",
       "└───────────────────────────┴───────────────────────────┘\n"
      ]
     },
     "metadata": {},
     "output_type": "display_data"
    },
    {
     "name": "stdout",
     "output_type": "stream",
     "text": [
      "classification report:\n",
      "               precision    recall  f1-score   support\n",
      "\n",
      "        ADHD       0.38      0.32      0.35       108\n",
      "     HEALTHY       0.31      0.31      0.31       108\n",
      "         MDD       0.24      0.31      0.28       108\n",
      "         OCD       0.31      0.29      0.30       108\n",
      "         SMC       0.25      0.24      0.25       108\n",
      "\n",
      "    accuracy                           0.29       540\n",
      "   macro avg       0.30      0.29      0.30       540\n",
      "weighted avg       0.30      0.29      0.30       540\n",
      "\n",
      "Mean f1-score 3 best trials: 0.2920\n",
      "STD f1-score 3 best trials: 0.0162\n"
     ]
    },
    {
     "data": {
      "image/png": "[encoded data removed]",
      "text/plain": [
       "<Figure size 2400x1600 with 3 Axes>"
      ]
     },
     "metadata": {},
     "output_type": "display_data"
    }
   ],
   "source": [
    "from lightning.pytorch.tuner import Tuner\n",
    "from lightning.pytorch import Trainer, seed_everything\n",
    "from lightning.pytorch.callbacks import ModelCheckpoint, TQDMProgressBar, RichProgressBar, ModelSummary\n",
    "from lightning.pytorch.callbacks.early_stopping import EarlyStopping\n",
    "import logging\n",
    "import warnings\n",
    "warnings.filterwarnings(\"ignore\", \".*Consider increasing the value of the `num_workers` argument*\")\n",
    "warnings.filterwarnings(\"ignore\", \"Trying to infer the `batch_size` from an ambiguous collection.*\")\n",
    "torch.set_float32_matmul_precision('high')\n",
    "logging.getLogger(\"lightning.pytorch.utilities.rank_zero\").setLevel(logging.WARNING)\n",
    "logging.getLogger(\"lightning.pytorch.accelerators.cuda\").setLevel(logging.WARNING)\n",
    "\n",
    "# create subplots for confusion matrices\n",
    "fig, ax = plt.subplots(1, 3, figsize=(24, 16))\n",
    "\n",
    "# list for storing f1-scores:\n",
    "f1_scores = []\n",
    "\n",
    "# iterate over the 3 best trials during tuning\n",
    "for num, trial in enumerate(ratio_df_trials_w_edge_attrs.iterrows()):\n",
    "    # retrieve the hyperparameters\n",
    "    learning_rate = trial[1]['params_learning_rate']\n",
    "    optimizer_name = trial[1]['params_optimizer']\n",
    "    fc_layers = trial[1]['params_fc_layers']\n",
    "    dropout = trial[1]['params_dropout']\n",
    "    batch_size = trial[1]['params_batch_size']\n",
    "    n_epochs = batch_size * 4\n",
    "    # use best parameters from optuna\n",
    "    model = graphLambda_wo_edge_attr(learning_rate=learning_rate, optimizer_name=optimizer_name, fc_layers=fc_layers, dropout=dropout)\n",
    "\n",
    "    # Define the data loaders\n",
    "    train_loader = DataLoader(X_train, batch_size=batch_size, shuffle=True,\n",
    "                                drop_last=True) # , num_workers=0, persistent_workers=True\n",
    "    val_loader = DataLoader(X_val, batch_size=len(X_val), shuffle=False,\n",
    "                                drop_last=True) # , num_workers=0, persistent_workers=True\n",
    "\n",
    "\n",
    "    checkpoint_callback = ModelCheckpoint(monitor='val_f1',\n",
    "                                        mode='max',\n",
    "                                        save_top_k=5,\n",
    "                                        filename='{epoch}-{train_loss:.2f}-{train_f1:.2f}-{val_loss:.2f}-{val_f1:.2f}',\n",
    "                                        )\n",
    "\n",
    "\n",
    "    trainer = Trainer(callbacks=[checkpoint_callback, ModelSummary(max_depth=0)],\n",
    "                    accelerator='gpu',\n",
    "                    max_epochs=n_epochs,\n",
    "                    enable_progress_bar=False,\n",
    "                    check_val_every_n_epoch=10,\n",
    "                    log_every_n_steps=10,\n",
    "                    deterministic=False,\n",
    "                    )\n",
    "\n",
    "    trainer.fit(model, train_loader, val_loader)\n",
    "\n",
    "    print()\n",
    "    print(f'Final evaluation #{num+1} trial:')\n",
    "    # get evaluation of best model checkpoint\n",
    "    trainer.validate(model, val_loader, ckpt_path='best')\n",
    "\n",
    "    # compute confusion matrix and classification report with sklearn of best model checkpoint\n",
    "    from sklearn.metrics import f1_score, classification_report, confusion_matrix, ConfusionMatrixDisplay\n",
    "    y_pred = trainer.predict(model, val_loader, ckpt_path='best')\n",
    "    y_pred = np.concatenate(y_pred).flatten()\n",
    "    y = Y_val\n",
    "\n",
    "    class_labels = le.inverse_transform(sorted(np.unique(y)))\n",
    "    print('classification report:\\n', classification_report(y, y_pred, target_names=class_labels))\n",
    "    f1_scores.append(f1_score(y, y_pred, average=\"macro\"))\n",
    "\n",
    "    # plot confusion matrix\n",
    "    conf_matrix = confusion_matrix(y, y_pred)\n",
    "    ConfusionMatrixDisplay(conf_matrix, display_labels = class_labels).plot(cmap = 'Blues', values_format = 'd', colorbar=False, ax=ax[num])\n",
    "    ax[num].set_title(f'Confusion matrix {num+1}, f1: {f1_score(y, y_pred, average=\"macro\"):.4f}')\n",
    "print(f'Mean f1-score 3 best trials: {np.mean(f1_scores):.4f}')\n",
    "print(f'STD f1-score 3 best trials: {np.std(f1_scores):.4f}')"
   ]
  }
 ],
 "metadata": {
  "kernelspec": {
   "display_name": "Python 3 (ipykernel)",
   "language": "python",
   "name": "python3"
  },
  "language_info": {
   "codemirror_mode": {
    "name": "ipython",
    "version": 3
   },
   "file_extension": ".py",
   "mimetype": "text/x-python",
   "name": "python",
   "nbconvert_exporter": "python",
   "pygments_lexer": "ipython3",
   "version": "3.11.7"
  }
 },
 "nbformat": 4,
 "nbformat_minor": 4
}
